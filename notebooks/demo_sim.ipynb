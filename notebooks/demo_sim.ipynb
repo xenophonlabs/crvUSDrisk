{
 "cells": [
  {
   "cell_type": "markdown",
   "metadata": {},
   "source": [
    "# Demo a Single Simulation Run\n",
    "\n",
    "In this notebook, we demonstrate a single run of our risk simulation:\n",
    "- We show the logs of agent actions (e.g. liquidations, arbitrages, peg keeper updates).\n",
    "- We show a timeseries view of the metrics we collect on agents and the crvusd contracts.\n",
    "- We plot and analyze results\n",
    "\n",
    "### Some current limitations\n",
    "- We are only modeling a single LLAMMA. We are working to incorporate all LLAMMAs to consider hollistic systemic risk.\n",
    "- We are not considering some key Curve pools yet. For example, we are not explicitly modeling the TriCrypto-ng pools that feed into LLAMMA's oracle."
   ]
  },
  {
   "cell_type": "code",
   "execution_count": 1,
   "metadata": {},
   "outputs": [],
   "source": [
    "from src.sim.scenario import Scenario\n",
    "from src.metrics import MetricsProcessor"
   ]
  },
  {
   "cell_type": "code",
   "execution_count": 2,
   "metadata": {},
   "outputs": [
    {
     "name": "stderr",
     "output_type": "stream",
     "text": [
      "[DEBUG][21:37:18][root]-772156: Using 622080 1Inch quotes.\n",
      "[INFO][21:37:18][root]-772156: Fetching sim_market from subgraph.\n",
      "[WARNING][21:37:21][crvusdsim.pool_data.metadata.market]-772156: User 0x83786e8634813dbf45e305bb28b7fcf855d314a7 has shares in band -16 but band is empty. Skipping user...\n",
      "[INFO][21:37:21][root]-772156: Found 20 valid cycles of length 3.\n"
     ]
    }
   ],
   "source": [
    "# Generate markets and prices\n",
    "scenario = Scenario(\"baseline\")\n",
    "scenario.prepare_for_run()"
   ]
  },
  {
   "cell_type": "code",
   "execution_count": 3,
   "metadata": {},
   "outputs": [
    {
     "data": {
      "text/plain": [
       "{'timestamp': Timestamp('2023-12-05 21:37:10'),\n",
       " 'arbitrageur_profit': 0,\n",
       " 'arbitrageur_count': 0,\n",
       " 'keeper_profit': 0.0,\n",
       " 'keeper_count': 0,\n",
       " 'liquidator_profit': 0.0,\n",
       " 'liquidator_count': 0,\n",
       " 'llamma_WETH_price': 2135113742272115581450,\n",
       " 'llamma_WETH_oracle_price': 2269444980582681149440,\n",
       " 'llamma_WETH_fees_x': 0,\n",
       " 'llamma_WETH_fees_y': 0,\n",
       " 'llamma_WETH_bal_x': 0,\n",
       " 'llamma_WETH_bal_y': 13619275304032904876032,\n",
       " 'controller_WETH_system_health': 3.302391662393163e+17,\n",
       " 'controller_WETH_bad_debt': 7528162541992187668725760,\n",
       " 'controller_WETH_num_loans': 244,\n",
       " 'controller_WETH_debt': 22090777076271568981392405,\n",
       " 'stableswap_crvUSD_TUSD_price': 997822968046951494,\n",
       " 'stableswap_crvUSD_TUSD_ma_price': 997822968046951494,\n",
       " 'stableswap_crvUSD_TUSD_lp_supply': 4602592077743825122029339,\n",
       " 'stableswap_crvUSD_TUSD_virtual_price': 1000000000000000000,\n",
       " 'stableswap_crvUSD_TUSD_TUSD_bal': 1400015463922842757389928,\n",
       " 'stableswap_crvUSD_TUSD_crvUSD_bal': 3203409055350148298180358,\n",
       " 'stableswap_crvUSD_USDP_price': 995985498554406017,\n",
       " 'stableswap_crvUSD_USDP_ma_price': 995985498554406017,\n",
       " 'stableswap_crvUSD_USDP_lp_supply': 4983830808481894098568215,\n",
       " 'stableswap_crvUSD_USDP_virtual_price': 1000000000000000000,\n",
       " 'stableswap_crvUSD_USDP_USDP_bal': 1178896870480990437545545,\n",
       " 'stableswap_crvUSD_USDP_crvUSD_bal': 3806845972337114946174723,\n",
       " 'stableswap_crvUSD_USDC_price': 995426920138036352,\n",
       " 'stableswap_crvUSD_USDC_ma_price': 995426920138036352,\n",
       " 'stableswap_crvUSD_USDC_lp_supply': 34795409829229334905595765,\n",
       " 'stableswap_crvUSD_USDC_virtual_price': 1000000000000000000,\n",
       " 'stableswap_crvUSD_USDC_USDC_bal': 7766160753812,\n",
       " 'stableswap_crvUSD_USDC_crvUSD_bal': 27044597665740842650424817,\n",
       " 'stableswap_crvUSD_USDT_price': 995222169911519025,\n",
       " 'stableswap_crvUSD_USDT_ma_price': 995222169911519025,\n",
       " 'stableswap_crvUSD_USDT_lp_supply': 31449496295796843741365590,\n",
       " 'stableswap_crvUSD_USDT_virtual_price': 1000000000000000000,\n",
       " 'stableswap_crvUSD_USDT_USDT_bal': 6881774235390,\n",
       " 'stableswap_crvUSD_USDT_crvUSD_bal': 24582240944105229664358909,\n",
       " 'pk_Curve.fi Factory Plain Pool: crvUSD/TUSD_debt': 0,\n",
       " 'pk_Curve.fi Factory Plain Pool: crvUSD/TUSD_profit': 0,\n",
       " 'pk_Curve.fi Factory Plain Pool: crvUSD/USDP_debt': 0,\n",
       " 'pk_Curve.fi Factory Plain Pool: crvUSD/USDP_profit': 0,\n",
       " 'pk_Curve.fi Factory Plain Pool: crvUSD/USDC_debt': 0,\n",
       " 'pk_Curve.fi Factory Plain Pool: crvUSD/USDC_profit': 0,\n",
       " 'pk_Curve.fi Factory Plain Pool: crvUSD/USDT_debt': 0,\n",
       " 'pk_Curve.fi Factory Plain Pool: crvUSD/USDT_profit': 0,\n",
       " 'aggregator_price': 995373787075643172,\n",
       " 'stablecoin_total_supply': 316546316561261766577746402}"
      ]
     },
     "execution_count": 3,
     "metadata": {},
     "output_type": "execute_result"
    }
   ],
   "source": [
    "metricsprocessor = MetricsProcessor(scenario)\n",
    "metricsprocessor.initial_state"
   ]
  },
  {
   "cell_type": "code",
   "execution_count": 4,
   "metadata": {},
   "outputs": [],
   "source": [
    "scenario.prepare_for_trades(scenario.pricepaths[0])"
   ]
  },
  {
   "cell_type": "code",
   "execution_count": 5,
   "metadata": {},
   "outputs": [
    {
     "name": "stderr",
     "output_type": "stream",
     "text": [
      "[INFO][21:37:21][root]-772156: There are 51 users to liquidate.\n",
      "[INFO][21:37:21][root]-772156: Missed liquidation for user 0xf165d7273288ace1e7a317d6d23956e46fe229c5. Health: -737299120550810240.000000. Expected profit: -18083.597870.\n",
      "[INFO][21:37:21][root]-772156: Missed liquidation for user 0xec718904654b29f1f571290259c324fd2e3aa63e. Health: -872699832637962112.000000. Expected profit: -49187.243222.\n",
      "[INFO][21:37:21][root]-772156: Missed liquidation for user 0xec263efe3df2b0a5148df59b2551cf46ce8c763e. Health: -588666667575668096.000000. Expected profit: -58445.139025.\n",
      "[INFO][21:37:21][root]-772156: Missed liquidation for user 0xebdeff4d7053bf84262d2f9fc261a900c4323d83. Health: -661991238939729920.000000. Expected profit: -9067.919961.\n",
      "[INFO][21:37:21][root]-772156: Missed liquidation for user 0xea3f9b017c6b811b0a8ca642346bd805d936fce4. Health: -236449654077939328.000000. Expected profit: -2450.860254.\n",
      "[INFO][21:37:21][root]-772156: Missed liquidation for user 0xdf88f68c58edf72a737e1e6cb2a0722bfed45faa. Health: -877500535154607616.000000. Expected profit: -17121.014494.\n",
      "[INFO][21:37:21][root]-772156: Missed liquidation for user 0xd2ed02b89fe6ccb02d495e14f25a5deef2e5aad7. Health: -878579803474516736.000000. Expected profit: -93119.986217.\n",
      "[INFO][21:37:21][root]-772156: Missed liquidation for user 0xcb0486943b11539df162171f21c7f2c1f1b65e0f. Health: -658610813900426752.000000. Expected profit: -4859.717822.\n",
      "[INFO][21:37:21][root]-772156: Missed liquidation for user 0xc96edcbf13b7ba261c7452e0d6379ddff5040fba. Health: -661967502433043200.000000. Expected profit: -5873.805653.\n",
      "[INFO][21:37:21][root]-772156: Missed liquidation for user 0xc57f69a6f34c5b02e834dbe06a7d25046d89e62e. Health: -661964935732720000.000000. Expected profit: -5025.505423.\n",
      "[INFO][21:37:21][root]-772156: Missed liquidation for user 0xc473bb0a53bc5fcaad7ff2dde540ad406001198b. Health: -126337340581167040.000000. Expected profit: -1666.693312.\n"
     ]
    },
    {
     "name": "stderr",
     "output_type": "stream",
     "text": [
      "[INFO][21:37:21][root]-772156: Missed liquidation for user 0xc30e3ea7a98accd25d0113a5183a42dfe5284adf. Health: -432304162189612544.000000. Expected profit: -19726.261530.\n",
      "[INFO][21:37:21][root]-772156: Missed liquidation for user 0xb221963cad5856c657647d7126a6fe6a47cac773. Health: -393529270142661888.000000. Expected profit: -61388.025389.\n",
      "[INFO][21:37:21][root]-772156: Missed liquidation for user 0xb19029685cf7fe36c72bc7d8ab06dc4c5ca41d1f. Health: -382733995086462016.000000. Expected profit: -4199.558812.\n",
      "[INFO][21:37:21][root]-772156: Missed liquidation for user 0xae00246cfbdbfdd6be613961e956149843af5658. Health: -343504218454944960.000000. Expected profit: -3255.513389.\n",
      "[INFO][21:37:21][root]-772156: Missed liquidation for user 0xad34c2d6d0e979d6452caf890719038ed27aa0f3. Health: -693439394965624064.000000. Expected profit: -1062.141399.\n",
      "[INFO][21:37:21][root]-772156: Missed liquidation for user 0xac01ec664c1062234a73574d44523c906a3a6369. Health: -288986025131396544.000000. Expected profit: -341616.753561.\n",
      "[INFO][21:37:21][root]-772156: Missed liquidation for user 0xa64b39c939be669bae78d6f526971a38c3270bb5. Health: -694606333307862016.000000. Expected profit: -7669.762443.\n",
      "[INFO][21:37:21][root]-772156: Missed liquidation for user 0x9e1232a4e655ecf25b48b628bb625dda6ca6b096. Health: -651087506701397504.000000. Expected profit: -19924.918483.\n",
      "[INFO][21:37:21][root]-772156: Missed liquidation for user 0x9da66dffc76da7fecb8a3e00227d7debcae322cc. Health: -244187363561786208.000000. Expected profit: -4854.633305.\n",
      "[INFO][21:37:21][root]-772156: Missed liquidation for user 0x99418a168b3eafaf03cc1d00f7c3dbc05e892fd5. Health: -662518400017705728.000000. Expected profit: -54128.288791.\n",
      "[INFO][21:37:21][root]-772156: Missed liquidation for user 0x951f55f04530f7cf855a0a355329e0cac4fb9da6. Health: -738128987505800576.000000. Expected profit: -15374.684728.\n",
      "[INFO][21:37:21][root]-772156: Missed liquidation for user 0x8f006b1f00b7a8631e8d48492be94af27f37c538. Health: -458671859732242752.000000. Expected profit: -184369.058409.\n",
      "[INFO][21:37:21][root]-772156: Missed liquidation for user 0x8dbafd8a8e0ef8afdfd6b2b8e2bbfb51da5f7fe8. Health: -782848104493518720.000000. Expected profit: -10776.460237.\n",
      "[INFO][21:37:21][root]-772156: Missed liquidation for user 0x83b759d188e54da18716e4b108b8e580bb9da85b. Health: -738199731786582400.000000. Expected profit: -1991.502591.\n",
      "[INFO][21:37:21][root]-772156: Missed liquidation for user 0x7df7ef88e126a0d4b0d04c9d9639ccba95b9ad65. Health: -707173969586910592.000000. Expected profit: -50823.343177.\n",
      "[INFO][21:37:21][root]-772156: Missed liquidation for user 0x7ceb7848b3ceafc4b46434344c1136f9ac07ed65. Health: -585059746958789632.000000. Expected profit: -5480.579712.\n",
      "[INFO][21:37:21][root]-772156: Missed liquidation for user 0x73dc679801d916c5d9d06e41e9753171da04d018. Health: -585019522091726848.000000. Expected profit: -5080.676848.\n",
      "[INFO][21:37:21][root]-772156: Missed liquidation for user 0x6e3b2eabf254b41e53a327ea6c868d232cfdeeba. Health: -628763122971572864.000000. Expected profit: -1675134.575437.\n",
      "[INFO][21:37:21][root]-772156: Missed liquidation for user 0x68467dc05ccf8328998875c2acc3ac063eeb4b89. Health: -735566077447039616.000000. Expected profit: -39014.288006.\n",
      "[INFO][21:37:21][root]-772156: Missed liquidation for user 0x67b90e295c44ad34cd13f60e7925fd33abe00bdc. Health: -589077003573347712.000000. Expected profit: -2322.338173.\n",
      "[INFO][21:37:21][root]-772156: Missed liquidation for user 0x654adaa768fd13c3904fd64b56e1d2a530447d47. Health: -573982413633480128.000000. Expected profit: -6202.123345.\n",
      "[INFO][21:37:21][root]-772156: Missed liquidation for user 0x64495f323a368b5bb3b3c80053622640299b331d. Health: -632128210805157504.000000. Expected profit: -31136.351890.\n",
      "[INFO][21:37:21][root]-772156: Missed liquidation for user 0x5eebb0fbcbe2c129bbc48dc54bc8dd19fe271f14. Health: -736462114834596480.000000. Expected profit: -18011.381340.\n",
      "[INFO][21:37:21][root]-772156: Missed liquidation for user 0x5c163200f9e41cf07e65d59375d6186d11fc60da. Health: -661668288658810112.000000. Expected profit: -11614.887317.\n",
      "[INFO][21:37:21][root]-772156: Missed liquidation for user 0x562a5b60442c6d526c45a7931d47c9bb6473623a. Health: -857859079784730880.000000. Expected profit: -16111.066744.\n",
      "[INFO][21:37:21][root]-772156: Missed liquidation for user 0x42340dd22083988509e53b000d935ce393d9920b. Health: -738163423545991680.000000. Expected profit: -18089.743256.\n",
      "[INFO][21:37:21][root]-772156: Missed liquidation for user 0x386bc159e4d8a3863ab8bae7d9062f1654088a44. Health: -369108268482747456.000000. Expected profit: -4867.818745.\n",
      "[INFO][21:37:21][root]-772156: Missed liquidation for user 0x315efa46b542f50a45ed0dcb006e9bd5debe376e. Health: -671604235911795968.000000. Expected profit: -23536.975317.\n",
      "[INFO][21:37:21][root]-772156: Missed liquidation for user 0x27be8672f045a2791442806589d4575b0f2fff88. Health: -737780665211728128.000000. Expected profit: -28564.338197.\n",
      "[INFO][21:37:21][root]-772156: Missed liquidation for user 0x26af051a0bc520200f91e29789101b0344e31444. Health: -232485288907954368.000000. Expected profit: -8980.153612.\n",
      "[INFO][21:37:21][root]-772156: Missed liquidation for user 0x24b231bda2780cbf18646a5bd14c85705349e34e. Health: -515372071424256064.000000. Expected profit: -1485.431046.\n",
      "[INFO][21:37:21][root]-772156: Missed liquidation for user 0x2458f76772938366d36a66c79947f14c128ed1f9. Health: -629716298003335680.000000. Expected profit: -22830.982724.\n",
      "[INFO][21:37:21][root]-772156: Missed liquidation for user 0x1abb6b21cb3363327dd914f4ec7a8f53fbd2c0cf. Health: -117779275863434576.000000. Expected profit: -516.759367.\n",
      "[INFO][21:37:21][root]-772156: Missed liquidation for user 0x18c0d980a3d271f97f37af443abd495cc30f6900. Health: -625097742661160960.000000. Expected profit: -30707.429195.\n",
      "[INFO][21:37:21][root]-772156: Missed liquidation for user 0x1584d528381bd7d104c3b0d42031a82cfa8e9bb1. Health: -589078592460893824.000000. Expected profit: -41427.093863.\n",
      "[INFO][21:37:21][root]-772156: Liquidating user 0x154001a2f9f816389b2f6d9e07563ce0359d813d with expected profit: 1185.588499.\n",
      "[INFO][21:37:21][root]-772156: Executing cycle Cycle(Trades: [Swap(pool=Curve.fi Factory Plain Pool: crvUSD/USDT, in=USDT, out=crvUSD, amt=71317540922), Liquidation(controller=<crvusdsim.pool.sim_interface.sim_controller.SimController object at 0x7f972187c320>, position=<crvusdsim.pool.crvusd.controller.Position object at 0x7f972186a090>, amt=71648861964621061060471, frac=1000000000000000000, i=0, j=1), Swap(pool=External Market (WETH, USDT), in=Wrapped Ether, out=Tether USD, amt=31956658766357109408)], Expected Profit: 1185.588499).\n",
      "[INFO][21:37:21][root]-772156: Executing trade Swap(pool=Curve.fi Factory Plain Pool: crvUSD/USDT, in=USDT, out=crvUSD, amt=71317540922).\n",
      "[INFO][21:37:21][root]-772156: Executing trade Liquidation(controller=<crvusdsim.pool.sim_interface.sim_controller.SimController object at 0x7f972187c320>, position=<crvusdsim.pool.crvusd.controller.Position object at 0x7f972186a090>, amt=71648861964621061060471, frac=1000000000000000000, i=0, j=1).\n",
      "[INFO][21:37:21][root]-772156: Executing trade Swap(pool=External Market (WETH, USDT), in=Wrapped Ether, out=Tether USD, amt=31956658766357109408).\n",
      "[INFO][21:37:21][root]-772156: Liquidated user 0x154001a2f9f816389b2f6d9e07563ce0359d813d with profit: 1185.588499.\n",
      "[INFO][21:37:21][root]-772156: Missed liquidation for user 0x0bc5a06ba9949c90acfdd0717ba62fbd8878b1aa. Health: -622266536729774720.000000. Expected profit: -54124.639882.\n",
      "[INFO][21:37:21][root]-772156: Missed liquidation for user 0x07cb1b3a52faf636a52822d918b07d30b0914d76. Health: -875235642070752768.000000. Expected profit: -1255345.277131.\n",
      "[INFO][21:37:21][root]-772156: Missed liquidation for user 0x06ed65d661b7b273bb9807c7ec7565f54595592c. Health: -587936666837659648.000000. Expected profit: -12055.875900.\n",
      "[INFO][21:37:21][root]-772156: Missed liquidation for user 0x0268fadda47595c2992818c441443c5895eb6be4. Health: -737837844122584192.000000. Expected profit: -43081.124254.\n",
      "[INFO][21:37:22][root]-772156: Executing cycle Cycle(Trades: [Swap(pool=Curve.fi Factory Plain Pool: crvUSD/USDT, in=USDT, out=crvUSD, amt=342203146589), Swap(pool=Curve.fi Factory Plain Pool: crvUSD/USDC, in=crvUSD, out=USDC, amt=343690602198256558915114), Swap(pool=External Market (USDC, USDT), in=USD Coin, out=Tether USD, amt=342004439273)], Expected Profit: 163.575194).\n",
      "[INFO][21:37:22][root]-772156: Executing trade Swap(pool=Curve.fi Factory Plain Pool: crvUSD/USDT, in=USDT, out=crvUSD, amt=342203146589).\n",
      "[INFO][21:37:22][root]-772156: Executing trade Swap(pool=Curve.fi Factory Plain Pool: crvUSD/USDC, in=crvUSD, out=USDC, amt=343690602198256558915114).\n",
      "[INFO][21:37:22][root]-772156: Executing trade Swap(pool=External Market (USDC, USDT), in=USD Coin, out=Tether USD, amt=342004439273).\n",
      "[INFO][21:37:23][root]-772156: No more profitable arbitrages.\n",
      "[INFO][21:37:23][root]-772156: Not updating crvUSD/TUSD Peg Keeper.\n",
      "[INFO][21:37:23][root]-772156: Not updating crvUSD/USDP Peg Keeper.\n",
      "[INFO][21:37:23][root]-772156: Not updating crvUSD/USDC Peg Keeper.\n",
      "[INFO][21:37:23][root]-772156: Not updating crvUSD/USDT Peg Keeper.\n"
     ]
    }
   ],
   "source": [
    "# Perform actions\n",
    "scenario.perform_actions(scenario.pricepaths[0])"
   ]
  },
  {
   "cell_type": "code",
   "execution_count": 6,
   "metadata": {},
   "outputs": [],
   "source": [
    "# Post processing?\n",
    "scenario.after_trades()"
   ]
  },
  {
   "cell_type": "code",
   "execution_count": 7,
   "metadata": {},
   "outputs": [
    {
     "data": {
      "text/plain": [
       "{'timestamp': Timestamp('2023-12-05 21:37:10'),\n",
       " 'arbitrageur_profit': 163.575194,\n",
       " 'arbitrageur_count': 1,\n",
       " 'keeper_profit': 0.0,\n",
       " 'keeper_count': 0,\n",
       " 'liquidator_profit': 1185.588499,\n",
       " 'liquidator_count': 1,\n",
       " 'llamma_WETH_price': 2135113742272115581450,\n",
       " 'llamma_WETH_oracle_price': 2269444980582681149440,\n",
       " 'llamma_WETH_fees_x': 1180070,\n",
       " 'llamma_WETH_fees_y': 0,\n",
       " 'llamma_WETH_bal_x': 0,\n",
       " 'llamma_WETH_bal_y': 13587318645266547766624,\n",
       " 'controller_WETH_system_health': 3.314467630650044e+17,\n",
       " 'controller_WETH_bad_debt': 7457815582847956098744320,\n",
       " 'controller_WETH_num_loans': 243,\n",
       " 'controller_WETH_debt': 22019128214306947920331934,\n",
       " 'stableswap_crvUSD_TUSD_price': 997822968046951494,\n",
       " 'stableswap_crvUSD_TUSD_ma_price': 997822968046951494,\n",
       " 'stableswap_crvUSD_TUSD_lp_supply': 4602592077743825122029339,\n",
       " 'stableswap_crvUSD_TUSD_virtual_price': 1000000000000000000,\n",
       " 'stableswap_crvUSD_TUSD_TUSD_bal': 1400015463922842757389928,\n",
       " 'stableswap_crvUSD_TUSD_crvUSD_bal': 3203409055350148298180358,\n",
       " 'stableswap_crvUSD_USDP_price': 995985498554406017,\n",
       " 'stableswap_crvUSD_USDP_ma_price': 995985498554406017,\n",
       " 'stableswap_crvUSD_USDP_lp_supply': 4983830808481894098568215,\n",
       " 'stableswap_crvUSD_USDP_virtual_price': 1000000000000000000,\n",
       " 'stableswap_crvUSD_USDP_USDP_bal': 1178896870480990437545545,\n",
       " 'stableswap_crvUSD_USDP_crvUSD_bal': 3806845972337114946174723,\n",
       " 'stableswap_crvUSD_USDC_price': 994949714715059015,\n",
       " 'stableswap_crvUSD_USDC_ma_price': 995426920138036352,\n",
       " 'stableswap_crvUSD_USDC_lp_supply': 34795409829229334905595765,\n",
       " 'stableswap_crvUSD_USDC_virtual_price': 1000000493219344026,\n",
       " 'stableswap_crvUSD_USDC_USDC_bal': 7424139212607,\n",
       " 'stableswap_crvUSD_USDC_crvUSD_bal': 27388288267939099209339931,\n",
       " 'stableswap_crvUSD_USDT_price': 995804409755290773,\n",
       " 'stableswap_crvUSD_USDT_ma_price': 995222169911519025,\n",
       " 'stableswap_crvUSD_USDT_lp_supply': 31449496295796843741365590,\n",
       " 'stableswap_crvUSD_USDT_virtual_price': 1000000659471423521,\n",
       " 'stableswap_crvUSD_USDT_USDT_bal': 7295294922901,\n",
       " 'stableswap_crvUSD_USDT_crvUSD_bal': 24166880710891816773388857,\n",
       " 'pk_Curve.fi Factory Plain Pool: crvUSD/TUSD_debt': 0,\n",
       " 'pk_Curve.fi Factory Plain Pool: crvUSD/TUSD_profit': 0,\n",
       " 'pk_Curve.fi Factory Plain Pool: crvUSD/USDP_debt': 0,\n",
       " 'pk_Curve.fi Factory Plain Pool: crvUSD/USDP_profit': 0,\n",
       " 'pk_Curve.fi Factory Plain Pool: crvUSD/USDC_debt': 0,\n",
       " 'pk_Curve.fi Factory Plain Pool: crvUSD/USDC_profit': 0,\n",
       " 'pk_Curve.fi Factory Plain Pool: crvUSD/USDT_debt': 0,\n",
       " 'pk_Curve.fi Factory Plain Pool: crvUSD/USDT_profit': 0,\n",
       " 'aggregator_price': 995373787075643172,\n",
       " 'stablecoin_total_supply': 316961656025424644197721987}"
      ]
     },
     "execution_count": 7,
     "metadata": {},
     "output_type": "execute_result"
    }
   ],
   "source": [
    "# Collect metrics\n",
    "metricsprocessor.update()"
   ]
  },
  {
   "cell_type": "code",
   "execution_count": null,
   "metadata": {},
   "outputs": [],
   "source": []
  }
 ],
 "metadata": {
  "kernelspec": {
   "display_name": "venv",
   "language": "python",
   "name": "python3"
  },
  "language_info": {
   "codemirror_mode": {
    "name": "ipython",
    "version": 3
   },
   "file_extension": ".py",
   "mimetype": "text/x-python",
   "name": "python",
   "nbconvert_exporter": "python",
   "pygments_lexer": "ipython3",
   "version": "3.11.3"
  }
 },
 "nbformat": 4,
 "nbformat_minor": 2
}
