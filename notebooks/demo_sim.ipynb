{
 "cells": [
  {
   "cell_type": "code",
   "execution_count": 1,
   "metadata": {},
   "outputs": [],
   "source": [
    "from src.sim.scenario import Scenario\n",
    "\n",
    "%load_ext autoreload\n",
    "%autoreload 2"
   ]
  },
  {
   "cell_type": "code",
   "execution_count": 2,
   "metadata": {},
   "outputs": [
    {
     "name": "stderr",
     "output_type": "stream",
     "text": [
      "[DEBUG][22:53:44][root]-732847: Using 596160 1Inch quotes.\n",
      "[WARNING][22:53:47][crvusdsim.pool_data.metadata.market]-732847: User 0x63fe1742192f07d67739cc0f091645a2a50804e1 has shares in band -14 but band is empty. Skipping user...\n",
      "[INFO][22:53:47][root]-732847: Found 20 valid cycles of length 3.\n"
     ]
    }
   ],
   "source": [
    "# Generate markets and prices\n",
    "scenario = Scenario(\"baseline\")\n",
    "scenario.prepare_for_run()"
   ]
  },
  {
   "cell_type": "code",
   "execution_count": 24,
   "metadata": {},
   "outputs": [
    {
     "name": "stderr",
     "output_type": "stream",
     "text": [
      "[autoreload of src.metrics.metricsprocessor failed: Traceback (most recent call last):\n",
      "  File \"/root/crvUSDrisk/venv/lib/python3.11/site-packages/IPython/extensions/autoreload.py\", line 276, in check\n",
      "    superreload(m, reload, self.old_objects)\n",
      "  File \"/root/crvUSDrisk/venv/lib/python3.11/site-packages/IPython/extensions/autoreload.py\", line 475, in superreload\n",
      "    module = reload(module)\n",
      "             ^^^^^^^^^^^^^^\n",
      "  File \"/usr/local/lib/python3.11/importlib/__init__.py\", line 169, in reload\n",
      "    _bootstrap._exec(spec, module)\n",
      "  File \"<frozen importlib._bootstrap>\", line 621, in _exec\n",
      "  File \"<frozen importlib._bootstrap_external>\", line 936, in exec_module\n",
      "  File \"<frozen importlib._bootstrap_external>\", line 1074, in get_code\n",
      "  File \"<frozen importlib._bootstrap_external>\", line 1004, in source_to_code\n",
      "  File \"<frozen importlib._bootstrap>\", line 241, in _call_with_frames_removed\n",
      "  File \"/root/crvUSDrisk/src/metrics/metricsprocessor.py\", line 34\n",
      "    def price(pool, crvusd_is_quote=True):\n",
      "IndentationError: expected an indented block after 'elif' statement on line 32\n",
      "]\n"
     ]
    },
    {
     "data": {
      "text/plain": [
       "'Curve.fi Factory Plain Pool: crvUSD/TUSD'"
      ]
     },
     "execution_count": 24,
     "metadata": {},
     "output_type": "execute_result"
    }
   ],
   "source": [
    "scenario.stableswap_pools[0].name"
   ]
  },
  {
   "cell_type": "code",
   "execution_count": 3,
   "metadata": {},
   "outputs": [],
   "source": [
    "scenario.prepare_for_trades(scenario.pricepaths[0])"
   ]
  },
  {
   "cell_type": "code",
   "execution_count": 4,
   "metadata": {},
   "outputs": [
    {
     "name": "stderr",
     "output_type": "stream",
     "text": [
      "[INFO][22:53:47][root]-732847: There are 56 users to liquidate.\n",
      "[INFO][22:53:47][root]-732847: Missed liquidation for user 0xf165d7273288ace1e7a317d6d23956e46fe229c5. Health: -678893370633247104.000000. Expected profit: -16598.427348.\n",
      "[INFO][22:53:47][root]-732847: Missed liquidation for user 0xf11f0add0e8e4ee208104d8264fcf1b69c4ceafc. Health: -679657376707299712.000000. Expected profit: -19408.028348.\n",
      "[INFO][22:53:47][root]-732847: Missed liquidation for user 0xec718904654b29f1f571290259c324fd2e3aa63e. Health: -837247247051865984.000000. Expected profit: -47169.319309.\n",
      "[INFO][22:53:47][root]-732847: Missed liquidation for user 0xebdeff4d7053bf84262d2f9fc261a900c4323d83. Health: -577404925786540416.000000. Expected profit: -7869.205872.\n",
      "[INFO][22:53:47][root]-732847: Missed liquidation for user 0xea3f9b017c6b811b0a8ca642346bd805d936fce4. Health: -482368836410529600.000000. Expected profit: -4221.518152.\n",
      "[INFO][22:53:47][root]-732847: Missed liquidation for user 0xdf88f68c58edf72a737e1e6cb2a0722bfed45faa. Health: -843384925947817728.000000. Expected profit: -16449.280393.\n",
      "[INFO][22:53:47][root]-732847: Missed liquidation for user 0xd6af98abce0f9260fcd2c1c49884413fcdc60f6f. Health: -435293008284269632.000000. Expected profit: -4214.315903.\n",
      "[INFO][22:53:47][root]-732847: Missed liquidation for user 0xd2ed02b89fe6ccb02d495e14f25a5deef2e5aad7. Health: -512084311026783360.000000. Expected profit: -33821.512159.\n"
     ]
    },
    {
     "name": "stderr",
     "output_type": "stream",
     "text": [
      "[INFO][22:53:47][root]-732847: Missed liquidation for user 0xcb0486943b11539df162171f21c7f2c1f1b65e0f. Health: -573178553174551744.000000. Expected profit: -4206.380164.\n",
      "[INFO][22:53:47][root]-732847: Missed liquidation for user 0xc96edcbf13b7ba261c7452e0d6379ddff5040fba. Health: -577375249245691648.000000. Expected profit: -5096.081837.\n",
      "[INFO][22:53:47][root]-732847: Missed liquidation for user 0xc57f69a6f34c5b02e834dbe06a7d25046d89e62e. Health: -577372040231492864.000000. Expected profit: -4360.094484.\n",
      "[INFO][22:53:47][root]-732847: Missed liquidation for user 0xc3b876976d58dd9c2e8ab8ce0446c1d5ed8bf55c. Health: -844786190727340672.000000. Expected profit: -26293.935467.\n",
      "[INFO][22:53:47][root]-732847: Missed liquidation for user 0xc30e3ea7a98accd25d0113a5183a42dfe5284adf. Health: -489228842270444800.000000. Expected profit: -22634.034592.\n",
      "[INFO][22:53:47][root]-732847: Missed liquidation for user 0xb221963cad5856c657647d7126a6fe6a47cac773. Health: -279748358118267648.000000. Expected profit: -42613.093948.\n",
      "[INFO][22:53:47][root]-732847: Missed liquidation for user 0xb19029685cf7fe36c72bc7d8ab06dc4c5ca41d1f. Health: -507918343868810560.000000. Expected profit: -5701.229871.\n",
      "[INFO][22:53:47][root]-732847: Missed liquidation for user 0xae00246cfbdbfdd6be613961e956149843af5658. Health: -480810781883736128.000000. Expected profit: -4660.262777.\n",
      "[INFO][22:53:47][root]-732847: Missed liquidation for user 0xad34c2d6d0e979d6452caf890719038ed27aa0f3. Health: -625282401849513472.000000. Expected profit: -953.658150.\n",
      "[INFO][22:53:47][root]-732847: Missed liquidation for user 0xac01ec664c1062234a73574d44523c906a3a6369. Health: -324961119651989376.000000. Expected profit: -394069.175847.\n",
      "[INFO][22:53:47][root]-732847: Missed liquidation for user 0xa64b39c939be669bae78d6f526971a38c3270bb5. Health: -626708783209714816.000000. Expected profit: -6889.024467.\n",
      "[INFO][22:53:47][root]-732847: Missed liquidation for user 0x9e1232a4e655ecf25b48b628bb625dda6ca6b096. Health: -563772546791369472.000000. Expected profit: -17155.135919.\n",
      "[INFO][22:53:47][root]-732847: Missed liquidation for user 0x9da66dffc76da7fecb8a3e00227d7debcae322cc. Health: -169681685111422432.000000. Expected profit: -3268.486096.\n",
      "[INFO][22:53:47][root]-732847: Missed liquidation for user 0x9b431d42411dd6d2ed277134986ef66fbc7beedb. Health: -156714878572238560.000000. Expected profit: -455.826660.\n",
      "[INFO][22:53:47][root]-732847: Missed liquidation for user 0x99418a168b3eafaf03cc1d00f7c3dbc05e892fd5. Health: -611016198259950976.000000. Expected profit: -49865.452421.\n",
      "[INFO][22:53:47][root]-732847: Missed liquidation for user 0x951f55f04530f7cf855a0a355329e0cac4fb9da6. Health: -679907740213198592.000000. Expected profit: -14117.507885.\n",
      "[INFO][22:53:47][root]-732847: Missed liquidation for user 0x9047391ab36600b3d41ccf787328e710b6aa570d. Health: -176616702724470112.000000. Expected profit: -62513.802709.\n",
      "[INFO][22:53:47][root]-732847: Missed liquidation for user 0x8f006b1f00b7a8631e8d48492be94af27f37c538. Health: -401142795163175232.000000. Expected profit: -160140.720642.\n",
      "[INFO][22:53:47][root]-732847: Missed liquidation for user 0x8dbafd8a8e0ef8afdfd6b2b8e2bbfb51da5f7fe8. Health: -729471965114336384.000000. Expected profit: -10007.840412.\n",
      "[INFO][22:53:47][root]-732847: Missed liquidation for user 0x83b759d188e54da18716e4b108b8e580bb9da85b. Health: -679994212925419520.000000. Expected profit: -1828.651774.\n",
      "[INFO][22:53:47][root]-732847: Missed liquidation for user 0x7df7ef88e126a0d4b0d04c9d9639ccba95b9ad65. Health: -644302012967041408.000000. Expected profit: -46093.458477.\n",
      "[INFO][22:53:47][root]-732847: Missed liquidation for user 0x7ceb7848b3ceafc4b46434344c1136f9ac07ed65. Health: -507212164046143872.000000. Expected profit: -4724.556136.\n",
      "[INFO][22:53:47][root]-732847: Missed liquidation for user 0x73dc679801d916c5d9d06e41e9753171da04d018. Health: -507164392529531328.000000. Expected profit: -4379.700249.\n",
      "[INFO][22:53:47][root]-732847: Missed liquidation for user 0x6e3b2eabf254b41e53a327ea6c868d232cfdeeba. Health: -606613155943868160.000000. Expected profit: -1585789.589780.\n",
      "[INFO][22:53:47][root]-732847: Missed liquidation for user 0x68467dc05ccf8328998875c2acc3ac063eeb4b89. Health: -676775023596244608.000000. Expected profit: -35780.621845.\n",
      "[INFO][22:53:47][root]-732847: Missed liquidation for user 0x67b90e295c44ad34cd13f60e7925fd33abe00bdc. Health: -511983104390084928.000000. Expected profit: -2007.360172.\n",
      "[INFO][22:53:47][root]-732847: Missed liquidation for user 0x654adaa768fd13c3904fd64b56e1d2a530447d47. Health: -494056595075647872.000000. Expected profit: -5307.592360.\n",
      "[INFO][22:53:47][root]-732847: Missed liquidation for user 0x64495f323a368b5bb3b3c80053622640299b331d. Health: -575988240184261440.000000. Expected profit: -28329.095438.\n",
      "[INFO][22:53:47][root]-732847: Missed liquidation for user 0x5eebb0fbcbe2c129bbc48dc54bc8dd19fe271f14. Health: -677870275145871104.000000. Expected profit: -16525.622946.\n",
      "[INFO][22:53:47][root]-732847: Missed liquidation for user 0x5c163200f9e41cf07e65d59375d6186d11fc60da. Health: -577001157560224384.000000. Expected profit: -10075.672706.\n",
      "[INFO][22:53:47][root]-732847: Missed liquidation for user 0x562a5b60442c6d526c45a7931d47c9bb6473623a. Health: -818273404104613632.000000. Expected profit: -15358.242503.\n",
      "[INFO][22:53:47][root]-732847: Missed liquidation for user 0x48a1a52b20f84b8ff74d946413a01f3961b3760d. Health: -702985354742437888.000000. Expected profit: -5006.845463.\n",
      "[INFO][22:53:47][root]-732847: Missed liquidation for user 0x42340dd22083988509e53b000d935ce393d9920b. Health: -679949832347863936.000000. Expected profit: -16610.812947.\n",
      "[INFO][22:53:47][root]-732847: Missed liquidation for user 0x408f0c201abf1f0217f16626f963e9a218c9f882. Health: -576035338899797120.000000. Expected profit: -28336.708501.\n",
      "[INFO][22:53:47][root]-732847: Missed liquidation for user 0x386bc159e4d8a3863ab8bae7d9062f1654088a44. Health: -497055976494333376.000000. Expected profit: -6717.437508.\n",
      "[INFO][22:53:47][root]-732847: Missed liquidation for user 0x315efa46b542f50a45ed0dcb006e9bd5debe376e. Health: -621488600276104960.000000. Expected profit: -21759.073883.\n",
      "[INFO][22:53:47][root]-732847: Missed liquidation for user 0x27be8672f045a2791442806589d4575b0f2fff88. Health: -679481976134991360.000000. Expected profit: -26224.259973.\n",
      "[INFO][22:53:47][root]-732847: Missed liquidation for user 0x26af051a0bc520200f91e29789101b0344e31444. Health: -421276025184875648.000000. Expected profit: -13943.821903.\n",
      "[INFO][22:53:47][root]-732847: Missed liquidation for user 0x24b231bda2780cbf18646a5bd14c85705349e34e. Health: -602709847908504704.000000. Expected profit: -1781.505750.\n",
      "[INFO][22:53:47][root]-732847: Missed liquidation for user 0x2458f76772938366d36a66c79947f14c128ed1f9. Health: -537053217098674240.000000. Expected profit: -19342.209841.\n",
      "[INFO][22:53:47][root]-732847: Missed liquidation for user 0x1abb6b21cb3363327dd914f4ec7a8f53fbd2c0cf. Health: -434901285871437312.000000. Expected profit: -2272.397015.\n",
      "[INFO][22:53:47][root]-732847: Missed liquidation for user 0x18c0d980a3d271f97f37af443abd495cc30f6900. Health: -567884870321111552.000000. Expected profit: -27852.801087.\n",
      "[INFO][22:53:47][root]-732847: Missed liquidation for user 0x1584d528381bd7d104c3b0d42031a82cfa8e9bb1. Health: -511984991371282176.000000. Expected profit: -35813.181079.\n",
      "[INFO][22:53:47][root]-732847: Missed liquidation for user 0x154001a2f9f816389b2f6d9e07563ce0359d813d. Health: -93965910969889456.000000. Expected profit: -2610.108995.\n",
      "[INFO][22:53:47][root]-732847: Missed liquidation for user 0x0bc5a06ba9949c90acfdd0717ba62fbd8878b1aa. Health: -564621601311016320.000000. Expected profit: -49024.404343.\n",
      "[INFO][22:53:47][root]-732847: Missed liquidation for user 0x07cb1b3a52faf636a52822d918b07d30b0914d76. Health: -840489269232125952.000000. Expected profit: -1204659.500020.\n",
      "[INFO][22:53:47][root]-732847: Missed liquidation for user 0x06ed65d661b7b273bb9807c7ec7565f54595592c. Health: -510628827314964480.000000. Expected profit: -10411.828107.\n",
      "[INFO][22:53:47][root]-732847: Missed liquidation for user 0x0268fadda47595c2992818c441443c5895eb6be4. Health: -511565937277360384.000000. Expected profit: -18264.210763.\n",
      "[INFO][22:53:47][root]-732847: Executing cycle Cycle(Trades: [Swap(pool=Curve.fi Factory Plain Pool: crvUSD/TUSD, in=TUSD, out=crvUSD, amt=908377209809986945810432), Swap(pool=Curve.fi Factory Plain Pool: crvUSD/USDC, in=crvUSD, out=USDC, amt=909212076908044476580261), Swap(pool=External Market (TUSD, USDC), in=USD Coin, out=TrueUSD, amt=905573836388)], Expected Profit: 2305.1699507015733).\n",
      "[INFO][22:53:47][root]-732847: Executing trade Swap(pool=Curve.fi Factory Plain Pool: crvUSD/TUSD, in=TUSD, out=crvUSD, amt=908377209809986945810432).\n",
      "[INFO][22:53:47][root]-732847: Executing trade Swap(pool=Curve.fi Factory Plain Pool: crvUSD/USDC, in=crvUSD, out=USDC, amt=909212076908044476580261).\n",
      "[INFO][22:53:47][root]-732847: Executing trade Swap(pool=External Market (TUSD, USDC), in=USD Coin, out=TrueUSD, amt=905573836388).\n",
      "[INFO][22:53:48][root]-732847: Executing cycle Cycle(Trades: [Swap(pool=Curve.fi Factory Plain Pool: crvUSD/TUSD, in=TUSD, out=crvUSD, amt=227120880365592899485696), Swap(pool=Curve.fi Factory Plain Pool: crvUSD/USDP, in=crvUSD, out=USDP, amt=227066798402328160593134), Swap(pool=External Market (TUSD, USDP), in=Pax Dollar, out=TrueUSD, amt=226226664280725417118921)], Expected Profit: 235.45385548641624).\n",
      "[INFO][22:53:48][root]-732847: Executing trade Swap(pool=Curve.fi Factory Plain Pool: crvUSD/TUSD, in=TUSD, out=crvUSD, amt=227120880365592899485696).\n",
      "[INFO][22:53:48][root]-732847: Executing trade Swap(pool=Curve.fi Factory Plain Pool: crvUSD/USDP, in=crvUSD, out=USDP, amt=227066798402328160593134).\n",
      "[INFO][22:53:48][root]-732847: Executing trade Swap(pool=External Market (TUSD, USDP), in=Pax Dollar, out=TrueUSD, amt=226226664280725417118921).\n",
      "[INFO][22:53:48][root]-732847: Executing cycle Cycle(Trades: [Swap(pool=Curve.fi Factory Plain Pool: crvUSD/TUSD, in=TUSD, out=crvUSD, amt=206333464400488292155392), Swap(pool=Curve.fi Factory Plain Pool: crvUSD/USDC, in=crvUSD, out=USDC, amt=206202985226145214556277), Swap(pool=External Market (TUSD, USDC), in=USD Coin, out=TrueUSD, amt=205245472046)], Expected Profit: 69.84299130414065).\n",
      "[INFO][22:53:48][root]-732847: Executing trade Swap(pool=Curve.fi Factory Plain Pool: crvUSD/TUSD, in=TUSD, out=crvUSD, amt=206333464400488292155392).\n",
      "[INFO][22:53:48][root]-732847: Executing trade Swap(pool=Curve.fi Factory Plain Pool: crvUSD/USDC, in=crvUSD, out=USDC, amt=206202985226145214556277).\n",
      "[INFO][22:53:48][root]-732847: Executing trade Swap(pool=External Market (TUSD, USDC), in=USD Coin, out=TrueUSD, amt=205245472046).\n",
      "[INFO][22:53:48][root]-732847: Executing cycle Cycle(Trades: [Swap(pool=Curve.fi Factory Plain Pool: crvUSD/TUSD, in=TUSD, out=crvUSD, amt=92913269932523891195904), Swap(pool=Curve.fi Factory Plain Pool: crvUSD/USDC, in=crvUSD, out=USDC, amt=92826506625944872928236), Swap(pool=External Market (TUSD, USDC), in=USD Coin, out=TrueUSD, amt=92377064798)], Expected Profit: 26.46188803729287).\n",
      "[INFO][22:53:48][root]-732847: Executing trade Swap(pool=Curve.fi Factory Plain Pool: crvUSD/TUSD, in=TUSD, out=crvUSD, amt=92913269932523891195904).\n",
      "[INFO][22:53:48][root]-732847: Executing trade Swap(pool=Curve.fi Factory Plain Pool: crvUSD/USDC, in=crvUSD, out=USDC, amt=92826506625944872928236).\n",
      "[INFO][22:53:48][root]-732847: Executing trade Swap(pool=External Market (TUSD, USDC), in=USD Coin, out=TrueUSD, amt=92377064798).\n",
      "[INFO][22:53:49][root]-732847: Executing cycle Cycle(Trades: [Swap(pool=Curve.fi Factory Plain Pool: crvUSD/TUSD, in=TUSD, out=crvUSD, amt=22396885961026939387904), Swap(pool=Curve.fi Stablecoin WETH, in=crvUSD, out=WETH, amt=22373117152551286527744), Swap(pool=External Market (TUSD, WETH), in=Wrapped Ether, out=TrueUSD, amt=9975495504644468437)], Expected Profit: 11.994793608248033).\n",
      "[INFO][22:53:49][root]-732847: Executing trade Swap(pool=Curve.fi Factory Plain Pool: crvUSD/TUSD, in=TUSD, out=crvUSD, amt=22396885961026939387904).\n",
      "[INFO][22:53:49][root]-732847: Executing trade Swap(pool=Curve.fi Stablecoin WETH, in=crvUSD, out=WETH, amt=22373117152551286527744).\n",
      "[INFO][22:53:49][root]-732847: Executing trade Swap(pool=External Market (TUSD, WETH), in=Wrapped Ether, out=TrueUSD, amt=9975495504644468437).\n",
      "[INFO][22:53:49][root]-732847: Executing cycle Cycle(Trades: [Swap(pool=Curve.fi Factory Plain Pool: crvUSD/TUSD, in=TUSD, out=crvUSD, amt=19604148966414708899840), Swap(pool=Curve.fi Factory Plain Pool: crvUSD/USDP, in=crvUSD, out=USDP, amt=19582390133173137431715), Swap(pool=External Market (TUSD, USDP), in=Pax Dollar, out=TrueUSD, amt=19491944321202336708843)], Expected Profit: 2.1921829750204007).\n",
      "[INFO][22:53:49][root]-732847: Executing trade Swap(pool=Curve.fi Factory Plain Pool: crvUSD/TUSD, in=TUSD, out=crvUSD, amt=19604148966414708899840).\n",
      "[INFO][22:53:49][root]-732847: Executing trade Swap(pool=Curve.fi Factory Plain Pool: crvUSD/USDP, in=crvUSD, out=USDP, amt=19582390133173137431715).\n",
      "[INFO][22:53:49][root]-732847: Executing trade Swap(pool=External Market (TUSD, USDP), in=Pax Dollar, out=TrueUSD, amt=19491944321202336708843).\n",
      "[INFO][22:53:50][root]-732847: No more profitable arbitrages.\n"
     ]
    },
    {
     "ename": "TypeError",
     "evalue": "'list' object is not callable",
     "output_type": "error",
     "traceback": [
      "\u001b[0;31m---------------------------------------------------------------------------\u001b[0m",
      "\u001b[0;31mTypeError\u001b[0m                                 Traceback (most recent call last)",
      "\u001b[1;32m/root/crvUSDrisk/notebooks/demo_sim.ipynb Cell 4\u001b[0m line \u001b[0;36m2\n\u001b[1;32m      <a href='vscode-notebook-cell://ssh-remote%2Bcrvusdrisk/root/crvUSDrisk/notebooks/demo_sim.ipynb#W3sdnNjb2RlLXJlbW90ZQ%3D%3D?line=0'>1</a>\u001b[0m \u001b[39m# Perform actions\u001b[39;00m\n\u001b[0;32m----> <a href='vscode-notebook-cell://ssh-remote%2Bcrvusdrisk/root/crvUSDrisk/notebooks/demo_sim.ipynb#W3sdnNjb2RlLXJlbW90ZQ%3D%3D?line=1'>2</a>\u001b[0m scenario\u001b[39m.\u001b[39;49mperform_actions(scenario\u001b[39m.\u001b[39;49mpricepaths[\u001b[39m0\u001b[39;49m])\n",
      "File \u001b[0;32m~/crvUSDrisk/src/sim/scenario.py:161\u001b[0m, in \u001b[0;36mScenario.perform_actions\u001b[0;34m(self, prices)\u001b[0m\n\u001b[1;32m    157\u001b[0m profit_liquidator, underwater_debt \u001b[39m=\u001b[39m \u001b[39mself\u001b[39m\u001b[39m.\u001b[39mliquidator\u001b[39m.\u001b[39mperform_liquidations(\n\u001b[1;32m    158\u001b[0m     \u001b[39mself\u001b[39m\u001b[39m.\u001b[39mcontroller\n\u001b[1;32m    159\u001b[0m )  \u001b[39m# TODO add count to output\u001b[39;00m\n\u001b[1;32m    160\u001b[0m profit_arbitrageur, count_arbitrageur \u001b[39m=\u001b[39m \u001b[39mself\u001b[39m\u001b[39m.\u001b[39marbitrageur\u001b[39m.\u001b[39marbitrage(\u001b[39mself\u001b[39m\u001b[39m.\u001b[39mcycles, prices)\n\u001b[0;32m--> 161\u001b[0m profit_keeper, count_keeper \u001b[39m=\u001b[39m \u001b[39mself\u001b[39;49m\u001b[39m.\u001b[39;49mkeeper\u001b[39m.\u001b[39;49mupdate(\u001b[39mself\u001b[39;49m\u001b[39m.\u001b[39;49mpeg_keepers)\n",
      "File \u001b[0;32m~/crvUSDrisk/src/agents/keeper.py:44\u001b[0m, in \u001b[0;36mKeeper.update\u001b[0;34m(self, pks)\u001b[0m\n\u001b[1;32m     42\u001b[0m count \u001b[39m=\u001b[39m \u001b[39m0\u001b[39m\n\u001b[1;32m     43\u001b[0m \u001b[39mfor\u001b[39;00m pk \u001b[39min\u001b[39;00m pks:\n\u001b[0;32m---> 44\u001b[0m     \u001b[39mif\u001b[39;00m pk\u001b[39m.\u001b[39;49mestimate_caller_profit() \u001b[39m>\u001b[39m \u001b[39mself\u001b[39m\u001b[39m.\u001b[39mtolerance:\n\u001b[1;32m     45\u001b[0m         _profit \u001b[39m=\u001b[39m pk\u001b[39m.\u001b[39mupdate()\n\u001b[1;32m     46\u001b[0m         \u001b[39massert\u001b[39;00m _profit \u001b[39m>\u001b[39m \u001b[39m0\u001b[39m, \u001b[39m\"\u001b[39m\u001b[39mUpdate not profitable.\u001b[39m\u001b[39m\"\u001b[39m\n",
      "File \u001b[0;32m~/crvUSDrisk/venv/lib/python3.11/site-packages/crvusdsim/pool/crvusd/stabilizer/peg_keeper.py:212\u001b[0m, in \u001b[0;36mPegKeeper.estimate_caller_profit\u001b[0;34m(self)\u001b[0m\n\u001b[1;32m    209\u001b[0m \u001b[39mif\u001b[39;00m \u001b[39mself\u001b[39m\u001b[39m.\u001b[39mlast_change \u001b[39m+\u001b[39m ACTION_DELAY \u001b[39m>\u001b[39m \u001b[39mself\u001b[39m\u001b[39m.\u001b[39m_block_timestamp:\n\u001b[1;32m    210\u001b[0m     \u001b[39mreturn\u001b[39;00m \u001b[39m0\u001b[39m\n\u001b[0;32m--> 212\u001b[0m balance_pegged: \u001b[39mint\u001b[39m \u001b[39m=\u001b[39m \u001b[39mself\u001b[39;49m\u001b[39m.\u001b[39;49mPOOL\u001b[39m.\u001b[39;49mbalances(\u001b[39mself\u001b[39;49m\u001b[39m.\u001b[39;49mI)\n\u001b[1;32m    213\u001b[0m balance_peg: \u001b[39mint\u001b[39m \u001b[39m=\u001b[39m \u001b[39mself\u001b[39m\u001b[39m.\u001b[39mPOOL\u001b[39m.\u001b[39mbalances(\u001b[39m1\u001b[39m \u001b[39m-\u001b[39m \u001b[39mself\u001b[39m\u001b[39m.\u001b[39mI) \u001b[39m*\u001b[39m \u001b[39mself\u001b[39m\u001b[39m.\u001b[39mPEG_MUL\n\u001b[1;32m    215\u001b[0m initial_profit: \u001b[39mint\u001b[39m \u001b[39m=\u001b[39m \u001b[39mself\u001b[39m\u001b[39m.\u001b[39m_calc_profit()\n",
      "\u001b[0;31mTypeError\u001b[0m: 'list' object is not callable"
     ]
    }
   ],
   "source": [
    "# Perform actions\n",
    "scenario.perform_actions(scenario.pricepaths[0])"
   ]
  },
  {
   "cell_type": "code",
   "execution_count": null,
   "metadata": {},
   "outputs": [],
   "source": [
    "# Post processing?\n",
    "scenario.after_trades()"
   ]
  },
  {
   "cell_type": "code",
   "execution_count": null,
   "metadata": {},
   "outputs": [],
   "source": [
    "# Collect metrics\n",
    "scenario.update_metrics()"
   ]
  }
 ],
 "metadata": {
  "kernelspec": {
   "display_name": "venv",
   "language": "python",
   "name": "python3"
  },
  "language_info": {
   "codemirror_mode": {
    "name": "ipython",
    "version": 3
   },
   "file_extension": ".py",
   "mimetype": "text/x-python",
   "name": "python",
   "nbconvert_exporter": "python",
   "pygments_lexer": "ipython3",
   "version": "3.11.3"
  }
 },
 "nbformat": 4,
 "nbformat_minor": 2
}
