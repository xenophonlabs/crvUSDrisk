{
 "cells": [
  {
   "cell_type": "code",
   "execution_count": 1,
   "metadata": {},
   "outputs": [],
   "source": [
    "import logging\n",
    "import numpy as np\n",
    "import pandas as pd\n",
    "import matplotlib.pyplot as plt\n",
    "from crvusdsim.pool import get\n",
    "from src.sim.scenario import Scenario\n",
    "from src.utils.poolgraph import PoolGraph\n",
    "from src.configs.tokens import *\n",
    "\n",
    "\n",
    "%load_ext autoreload\n",
    "%autoreload 2"
   ]
  },
  {
   "cell_type": "code",
   "execution_count": 2,
   "metadata": {},
   "outputs": [
    {
     "name": "stderr",
     "output_type": "stream",
     "text": [
      "[DEBUG][23:08:36][root]-685605: Using 567360 1Inch quotes.\n"
     ]
    }
   ],
   "source": [
    "# Generate markets and prices\n",
    "scenario = Scenario(\"baseline\")\n",
    "sample = scenario.pricepaths[0]\n",
    "scenario.update_market_prices(sample)\n",
    "\n",
    "# Unpack\n",
    "markets = scenario.markets\n",
    "arbitrageur = scenario.arbitrageur\n",
    "llamma = scenario.llamma\n",
    "controller = scenario.controller\n",
    "peg_keepers = scenario.peg_keepers"
   ]
  },
  {
   "cell_type": "code",
   "execution_count": 3,
   "metadata": {},
   "outputs": [
    {
     "data": {
      "text/html": [
       "<div>\n",
       "<style scoped>\n",
       "    .dataframe tbody tr th:only-of-type {\n",
       "        vertical-align: middle;\n",
       "    }\n",
       "\n",
       "    .dataframe tbody tr th {\n",
       "        vertical-align: top;\n",
       "    }\n",
       "\n",
       "    .dataframe thead th {\n",
       "        text-align: right;\n",
       "    }\n",
       "</style>\n",
       "<table border=\"1\" class=\"dataframe\">\n",
       "  <thead>\n",
       "    <tr style=\"text-align: right;\">\n",
       "      <th></th>\n",
       "      <th>0xa0b86991c6218b36c1d19d4a2e9eb0ce3606eb48</th>\n",
       "      <th>0xdac17f958d2ee523a2206206994597c13d831ec7</th>\n",
       "      <th>0x8e870d67f660d95d5be530380d0ec0bd388289e1</th>\n",
       "      <th>0x0000000000085d4780b73119b644ae5ecd22b376</th>\n",
       "      <th>0xc02aaa39b223fe8d0a0e5c4f27ead9083c756cc2</th>\n",
       "      <th>0x7f39c581f595b53c5cb19bd0b3f8da6c935e2ca0</th>\n",
       "      <th>0xac3e018457b222d93114458476f3e3416abbe38f</th>\n",
       "      <th>0x2260fac5e5542a773aa44fbcfedf7c193bc2c599</th>\n",
       "      <th>0x18084fba666a33d37592fa2633fd49a74dd93a88</th>\n",
       "    </tr>\n",
       "  </thead>\n",
       "  <tbody>\n",
       "    <tr>\n",
       "      <th>2023-12-03 23:08:28</th>\n",
       "      <td>0.999901</td>\n",
       "      <td>0.999365</td>\n",
       "      <td>1.001000</td>\n",
       "      <td>0.999899</td>\n",
       "      <td>2202.630000</td>\n",
       "      <td>2527.140000</td>\n",
       "      <td>2342.690000</td>\n",
       "      <td>40113.000000</td>\n",
       "      <td>39999.000000</td>\n",
       "    </tr>\n",
       "    <tr>\n",
       "      <th>2023-12-04 00:08:28</th>\n",
       "      <td>1.001346</td>\n",
       "      <td>0.999089</td>\n",
       "      <td>1.000454</td>\n",
       "      <td>0.998865</td>\n",
       "      <td>2199.236391</td>\n",
       "      <td>2521.340457</td>\n",
       "      <td>2340.039421</td>\n",
       "      <td>40043.677333</td>\n",
       "      <td>39918.292809</td>\n",
       "    </tr>\n",
       "    <tr>\n",
       "      <th>2023-12-04 01:08:28</th>\n",
       "      <td>1.000511</td>\n",
       "      <td>1.000338</td>\n",
       "      <td>0.999089</td>\n",
       "      <td>0.997782</td>\n",
       "      <td>2197.805600</td>\n",
       "      <td>2518.584887</td>\n",
       "      <td>2340.021821</td>\n",
       "      <td>40033.950278</td>\n",
       "      <td>39957.802260</td>\n",
       "    </tr>\n",
       "    <tr>\n",
       "      <th>2023-12-04 02:08:28</th>\n",
       "      <td>1.000536</td>\n",
       "      <td>1.000730</td>\n",
       "      <td>0.999323</td>\n",
       "      <td>0.998366</td>\n",
       "      <td>2202.176690</td>\n",
       "      <td>2521.318015</td>\n",
       "      <td>2342.953606</td>\n",
       "      <td>40059.733634</td>\n",
       "      <td>40009.675182</td>\n",
       "    </tr>\n",
       "    <tr>\n",
       "      <th>2023-12-04 03:08:28</th>\n",
       "      <td>1.000977</td>\n",
       "      <td>0.999307</td>\n",
       "      <td>0.999105</td>\n",
       "      <td>0.997853</td>\n",
       "      <td>2203.788141</td>\n",
       "      <td>2524.710264</td>\n",
       "      <td>2346.543222</td>\n",
       "      <td>40051.888044</td>\n",
       "      <td>40033.110445</td>\n",
       "    </tr>\n",
       "  </tbody>\n",
       "</table>\n",
       "</div>"
      ],
      "text/plain": [
       "                     0xa0b86991c6218b36c1d19d4a2e9eb0ce3606eb48  \\\n",
       "2023-12-03 23:08:28                                    0.999901   \n",
       "2023-12-04 00:08:28                                    1.001346   \n",
       "2023-12-04 01:08:28                                    1.000511   \n",
       "2023-12-04 02:08:28                                    1.000536   \n",
       "2023-12-04 03:08:28                                    1.000977   \n",
       "\n",
       "                     0xdac17f958d2ee523a2206206994597c13d831ec7  \\\n",
       "2023-12-03 23:08:28                                    0.999365   \n",
       "2023-12-04 00:08:28                                    0.999089   \n",
       "2023-12-04 01:08:28                                    1.000338   \n",
       "2023-12-04 02:08:28                                    1.000730   \n",
       "2023-12-04 03:08:28                                    0.999307   \n",
       "\n",
       "                     0x8e870d67f660d95d5be530380d0ec0bd388289e1  \\\n",
       "2023-12-03 23:08:28                                    1.001000   \n",
       "2023-12-04 00:08:28                                    1.000454   \n",
       "2023-12-04 01:08:28                                    0.999089   \n",
       "2023-12-04 02:08:28                                    0.999323   \n",
       "2023-12-04 03:08:28                                    0.999105   \n",
       "\n",
       "                     0x0000000000085d4780b73119b644ae5ecd22b376  \\\n",
       "2023-12-03 23:08:28                                    0.999899   \n",
       "2023-12-04 00:08:28                                    0.998865   \n",
       "2023-12-04 01:08:28                                    0.997782   \n",
       "2023-12-04 02:08:28                                    0.998366   \n",
       "2023-12-04 03:08:28                                    0.997853   \n",
       "\n",
       "                     0xc02aaa39b223fe8d0a0e5c4f27ead9083c756cc2  \\\n",
       "2023-12-03 23:08:28                                 2202.630000   \n",
       "2023-12-04 00:08:28                                 2199.236391   \n",
       "2023-12-04 01:08:28                                 2197.805600   \n",
       "2023-12-04 02:08:28                                 2202.176690   \n",
       "2023-12-04 03:08:28                                 2203.788141   \n",
       "\n",
       "                     0x7f39c581f595b53c5cb19bd0b3f8da6c935e2ca0  \\\n",
       "2023-12-03 23:08:28                                 2527.140000   \n",
       "2023-12-04 00:08:28                                 2521.340457   \n",
       "2023-12-04 01:08:28                                 2518.584887   \n",
       "2023-12-04 02:08:28                                 2521.318015   \n",
       "2023-12-04 03:08:28                                 2524.710264   \n",
       "\n",
       "                     0xac3e018457b222d93114458476f3e3416abbe38f  \\\n",
       "2023-12-03 23:08:28                                 2342.690000   \n",
       "2023-12-04 00:08:28                                 2340.039421   \n",
       "2023-12-04 01:08:28                                 2340.021821   \n",
       "2023-12-04 02:08:28                                 2342.953606   \n",
       "2023-12-04 03:08:28                                 2346.543222   \n",
       "\n",
       "                     0x2260fac5e5542a773aa44fbcfedf7c193bc2c599  \\\n",
       "2023-12-03 23:08:28                                40113.000000   \n",
       "2023-12-04 00:08:28                                40043.677333   \n",
       "2023-12-04 01:08:28                                40033.950278   \n",
       "2023-12-04 02:08:28                                40059.733634   \n",
       "2023-12-04 03:08:28                                40051.888044   \n",
       "\n",
       "                     0x18084fba666a33d37592fa2633fd49a74dd93a88  \n",
       "2023-12-03 23:08:28                                39999.000000  \n",
       "2023-12-04 00:08:28                                39918.292809  \n",
       "2023-12-04 01:08:28                                39957.802260  \n",
       "2023-12-04 02:08:28                                40009.675182  \n",
       "2023-12-04 03:08:28                                40033.110445  "
      ]
     },
     "execution_count": 3,
     "metadata": {},
     "output_type": "execute_result"
    }
   ],
   "source": [
    "prices = scenario.pricepaths.prices\n",
    "prices.head()"
   ]
  },
  {
   "cell_type": "code",
   "execution_count": 4,
   "metadata": {},
   "outputs": [
    {
     "data": {
      "text/plain": [
       "1701644908.0"
      ]
     },
     "execution_count": 4,
     "metadata": {},
     "output_type": "execute_result"
    }
   ],
   "source": [
    "prices.index[0].timestamp()"
   ]
  },
  {
   "cell_type": "code",
   "execution_count": 15,
   "metadata": {},
   "outputs": [
    {
     "ename": "KeyError",
     "evalue": "\"['0xf939e0a03fb07f59a73314e73794be0e57ac1b4e'] not in index\"",
     "output_type": "error",
     "traceback": [
      "\u001b[0;31m---------------------------------------------------------------------------\u001b[0m",
      "\u001b[0;31mKeyError\u001b[0m                                  Traceback (most recent call last)",
      "\u001b[1;32m/root/crvUSDrisk/notebooks/demo_sim.ipynb Cell 4\u001b[0m line \u001b[0;36m1\n\u001b[0;32m----> <a href='vscode-notebook-cell://ssh-remote%2Bcrvusdrisk/root/crvUSDrisk/notebooks/demo_sim.ipynb#W6sdnNjb2RlLXJlbW90ZQ%3D%3D?line=0'>1</a>\u001b[0m prices[[a\u001b[39m.\u001b[39;49mlower() \u001b[39mfor\u001b[39;49;00m a \u001b[39min\u001b[39;49;00m llamma\u001b[39m.\u001b[39;49massets\u001b[39m.\u001b[39;49maddresses]]\n",
      "File \u001b[0;32m~/crvUSDrisk/venv/lib/python3.11/site-packages/pandas/core/frame.py:3902\u001b[0m, in \u001b[0;36mDataFrame.__getitem__\u001b[0;34m(self, key)\u001b[0m\n\u001b[1;32m   3900\u001b[0m     \u001b[39mif\u001b[39;00m is_iterator(key):\n\u001b[1;32m   3901\u001b[0m         key \u001b[39m=\u001b[39m \u001b[39mlist\u001b[39m(key)\n\u001b[0;32m-> 3902\u001b[0m     indexer \u001b[39m=\u001b[39m \u001b[39mself\u001b[39;49m\u001b[39m.\u001b[39;49mcolumns\u001b[39m.\u001b[39;49m_get_indexer_strict(key, \u001b[39m\"\u001b[39;49m\u001b[39mcolumns\u001b[39;49m\u001b[39m\"\u001b[39;49m)[\u001b[39m1\u001b[39m]\n\u001b[1;32m   3904\u001b[0m \u001b[39m# take() does not accept boolean indexers\u001b[39;00m\n\u001b[1;32m   3905\u001b[0m \u001b[39mif\u001b[39;00m \u001b[39mgetattr\u001b[39m(indexer, \u001b[39m\"\u001b[39m\u001b[39mdtype\u001b[39m\u001b[39m\"\u001b[39m, \u001b[39mNone\u001b[39;00m) \u001b[39m==\u001b[39m \u001b[39mbool\u001b[39m:\n",
      "File \u001b[0;32m~/crvUSDrisk/venv/lib/python3.11/site-packages/pandas/core/indexes/base.py:6114\u001b[0m, in \u001b[0;36mIndex._get_indexer_strict\u001b[0;34m(self, key, axis_name)\u001b[0m\n\u001b[1;32m   6111\u001b[0m \u001b[39melse\u001b[39;00m:\n\u001b[1;32m   6112\u001b[0m     keyarr, indexer, new_indexer \u001b[39m=\u001b[39m \u001b[39mself\u001b[39m\u001b[39m.\u001b[39m_reindex_non_unique(keyarr)\n\u001b[0;32m-> 6114\u001b[0m \u001b[39mself\u001b[39;49m\u001b[39m.\u001b[39;49m_raise_if_missing(keyarr, indexer, axis_name)\n\u001b[1;32m   6116\u001b[0m keyarr \u001b[39m=\u001b[39m \u001b[39mself\u001b[39m\u001b[39m.\u001b[39mtake(indexer)\n\u001b[1;32m   6117\u001b[0m \u001b[39mif\u001b[39;00m \u001b[39misinstance\u001b[39m(key, Index):\n\u001b[1;32m   6118\u001b[0m     \u001b[39m# GH 42790 - Preserve name from an Index\u001b[39;00m\n",
      "File \u001b[0;32m~/crvUSDrisk/venv/lib/python3.11/site-packages/pandas/core/indexes/base.py:6178\u001b[0m, in \u001b[0;36mIndex._raise_if_missing\u001b[0;34m(self, key, indexer, axis_name)\u001b[0m\n\u001b[1;32m   6175\u001b[0m     \u001b[39mraise\u001b[39;00m \u001b[39mKeyError\u001b[39;00m(\u001b[39mf\u001b[39m\u001b[39m\"\u001b[39m\u001b[39mNone of [\u001b[39m\u001b[39m{\u001b[39;00mkey\u001b[39m}\u001b[39;00m\u001b[39m] are in the [\u001b[39m\u001b[39m{\u001b[39;00maxis_name\u001b[39m}\u001b[39;00m\u001b[39m]\u001b[39m\u001b[39m\"\u001b[39m)\n\u001b[1;32m   6177\u001b[0m not_found \u001b[39m=\u001b[39m \u001b[39mlist\u001b[39m(ensure_index(key)[missing_mask\u001b[39m.\u001b[39mnonzero()[\u001b[39m0\u001b[39m]]\u001b[39m.\u001b[39munique())\n\u001b[0;32m-> 6178\u001b[0m \u001b[39mraise\u001b[39;00m \u001b[39mKeyError\u001b[39;00m(\u001b[39mf\u001b[39m\u001b[39m\"\u001b[39m\u001b[39m{\u001b[39;00mnot_found\u001b[39m}\u001b[39;00m\u001b[39m not in index\u001b[39m\u001b[39m\"\u001b[39m)\n",
      "\u001b[0;31mKeyError\u001b[0m: \"['0xf939e0a03fb07f59a73314e73794be0e57ac1b4e'] not in index\""
     ]
    }
   ],
   "source": [
    "prices[[a.lower() for a in llamma.assets.addresses]]"
   ]
  },
  {
   "cell_type": "code",
   "execution_count": null,
   "metadata": {},
   "outputs": [],
   "source": [
    "# Currently only simulating one LLAMMA. TODO simulate multiple LLAMMAs\n",
    "scenario.prepare_for_run(scenario.pricepaths[0])\n",
    "\n",
    "for ts, sample in scenario.pricepaths:\n",
    "    scenario.update_market_prices(sample)\n",
    "    scenario.prepare_for_trades(ts)\n",
    "    scenario.perform_actions(sample)\n",
    "    scenario.after_trades()\n",
    "    scenario.update_metrics()"
   ]
  },
  {
   "cell_type": "code",
   "execution_count": null,
   "metadata": {},
   "outputs": [],
   "source": []
  }
 ],
 "metadata": {
  "kernelspec": {
   "display_name": "venv",
   "language": "python",
   "name": "python3"
  },
  "language_info": {
   "codemirror_mode": {
    "name": "ipython",
    "version": 3
   },
   "file_extension": ".py",
   "mimetype": "text/x-python",
   "name": "python",
   "nbconvert_exporter": "python",
   "pygments_lexer": "ipython3",
   "version": "3.11.3"
  }
 },
 "nbformat": 4,
 "nbformat_minor": 2
}
