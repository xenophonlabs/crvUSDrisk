{
 "cells": [
  {
   "cell_type": "markdown",
   "metadata": {},
   "source": [
    "# Demo the Arbitrageur Agent Logic\n",
    "\n",
    "This notebook:\n",
    "\n",
    "1. Fetches the latest crvusd contract data into Python objects using `crvusdsim`.\n",
    "2. Fetches prices and `ExternalMarket`s from the `baseline` scenario.\n",
    "3. Instantiates an Arbitrageur agent.\n",
    "4. Checks if there are profitable arbitrages and performs them."
   ]
  },
  {
   "cell_type": "code",
   "execution_count": 1,
   "metadata": {},
   "outputs": [],
   "source": [
    "import logging\n",
    "import numpy as np\n",
    "import pandas as pd\n",
    "import matplotlib.pyplot as plt\n",
    "from crvusdsim.pool import get\n",
    "from src.agents.arbitrageur import Arbitrageur\n",
    "from src.sim.scenario import Scenario\n",
    "from src.utils.poolgraph import PoolGraph\n",
    "from src.configs import SYMBOL_TO_ADDRESS\n",
    "from src.configs.tokens import *\n",
    "from src.modules import ExternalMarket\n",
    "\n",
    "\n",
    "%load_ext autoreload\n",
    "%autoreload 2"
   ]
  },
  {
   "cell_type": "code",
   "execution_count": 2,
   "metadata": {},
   "outputs": [],
   "source": [
    "arbitrageur = Arbitrageur()\n",
    "\n",
    "ETH_POOL = \"weth\"\n",
    "sim_market = get(ETH_POOL, bands_data=\"controller\")\n",
    "pool = sim_market.pool\n",
    "stableswap_pools = sim_market.stableswap_pools"
   ]
  },
  {
   "cell_type": "code",
   "execution_count": 3,
   "metadata": {},
   "outputs": [
    {
     "name": "stderr",
     "output_type": "stream",
     "text": [
      "[INFO][19:33:25][root]-577354: Reading price config from ../src/configs/scenarios/baseline.json.\n",
      "[INFO][19:33:25][root]-577354: Fetching 1inch quotes.\n"
     ]
    },
    {
     "name": "stderr",
     "output_type": "stream",
     "text": [
      "[INFO][19:33:31][root]-577354: We have 465120 quotes.\n",
      "[INFO][19:33:31][root]-577354: Fitting external markets against 1inch quotes.\n",
      "[INFO][19:33:31][root]-577354: Reading price config from ../src/configs/prices/1h_1696108632_1701289032.json.\n"
     ]
    }
   ],
   "source": [
    "# Generate markets and prices\n",
    "config = \"../src/configs/scenarios/baseline.json\"\n",
    "scenario = Scenario(config)\n",
    "markets = scenario.generate_markets()\n",
    "prices = scenario.generate_pricepaths(\"../\" + scenario.price_config)\n",
    "scenario.update_market_prices(prices[-1])"
   ]
  },
  {
   "cell_type": "code",
   "execution_count": 4,
   "metadata": {},
   "outputs": [
    {
     "name": "stdout",
     "output_type": "stream",
     "text": [
      "There are 20 total pools:\n",
      "StableSwap: 4\n",
      "LLAMMA: 1\n",
      "External Markets: 15\n"
     ]
    }
   ],
   "source": [
    "# Create a list of all stableswap pools, LLAMMAs, and External Markets.\n",
    "markets_lst = list(markets.values())\n",
    "pools = stableswap_pools + [pool] + markets_lst\n",
    "print(\n",
    "    f\"There are {len(pools)} total pools:\\nStableSwap: {len(stableswap_pools)}\\nLLAMMA: 1\\nExternal Markets: {len(markets_lst)}\"\n",
    ")"
   ]
  },
  {
   "cell_type": "code",
   "execution_count": 5,
   "metadata": {},
   "outputs": [
    {
     "name": "stderr",
     "output_type": "stream",
     "text": [
      "[INFO][19:33:31][root]-577354: Found 20 valid cycles of length 3.\n"
     ]
    },
    {
     "data": {
      "text/plain": [
       "[Cycle(Trades: [Swap(pool=Curve.fi Factory Plain Pool: crvUSD/TUSD, in=TUSD, out=Curve.Fi USD Stablecoin (crvUSD), amt=None), Swap(pool=Curve.fi Factory Plain Pool: crvUSD/USDP, in=Curve.Fi USD Stablecoin (crvUSD), out=USDP, amt=None), Swap(pool=External Market (TUSD, USDP), in=Pax Dollar, out=TrueUSD, amt=None)], Expected Profit: None),\n",
       " Cycle(Trades: [Swap(pool=Curve.fi Factory Plain Pool: crvUSD/TUSD, in=TUSD, out=Curve.Fi USD Stablecoin (crvUSD), amt=None), Swap(pool=Curve.fi Factory Plain Pool: crvUSD/USDC, in=Curve.Fi USD Stablecoin (crvUSD), out=USDC, amt=None), Swap(pool=External Market (TUSD, USDC), in=USD Coin, out=TrueUSD, amt=None)], Expected Profit: None),\n",
       " Cycle(Trades: [Swap(pool=Curve.fi Factory Plain Pool: crvUSD/TUSD, in=TUSD, out=Curve.Fi USD Stablecoin (crvUSD), amt=None), Swap(pool=Curve.fi Factory Plain Pool: crvUSD/USDT, in=Curve.Fi USD Stablecoin (crvUSD), out=USDT, amt=None), Swap(pool=External Market (TUSD, USDT), in=Tether USD, out=TrueUSD, amt=None)], Expected Profit: None),\n",
       " Cycle(Trades: [Swap(pool=Curve.fi Factory Plain Pool: crvUSD/TUSD, in=TUSD, out=Curve.Fi USD Stablecoin (crvUSD), amt=None), Swap(pool=Curve.fi Stablecoin WETH, in=crvUSD, out=WETH, amt=None), Swap(pool=External Market (TUSD, WETH), in=Wrapped Ether, out=TrueUSD, amt=None)], Expected Profit: None),\n",
       " Cycle(Trades: [Swap(pool=Curve.fi Factory Plain Pool: crvUSD/USDP, in=USDP, out=Curve.Fi USD Stablecoin (crvUSD), amt=None), Swap(pool=Curve.fi Factory Plain Pool: crvUSD/TUSD, in=Curve.Fi USD Stablecoin (crvUSD), out=TUSD, amt=None), Swap(pool=External Market (TUSD, USDP), in=TrueUSD, out=Pax Dollar, amt=None)], Expected Profit: None),\n",
       " Cycle(Trades: [Swap(pool=Curve.fi Factory Plain Pool: crvUSD/USDP, in=USDP, out=Curve.Fi USD Stablecoin (crvUSD), amt=None), Swap(pool=Curve.fi Factory Plain Pool: crvUSD/USDC, in=Curve.Fi USD Stablecoin (crvUSD), out=USDC, amt=None), Swap(pool=External Market (USDP, USDC), in=USD Coin, out=Pax Dollar, amt=None)], Expected Profit: None),\n",
       " Cycle(Trades: [Swap(pool=Curve.fi Factory Plain Pool: crvUSD/USDP, in=USDP, out=Curve.Fi USD Stablecoin (crvUSD), amt=None), Swap(pool=Curve.fi Factory Plain Pool: crvUSD/USDT, in=Curve.Fi USD Stablecoin (crvUSD), out=USDT, amt=None), Swap(pool=External Market (USDP, USDT), in=Tether USD, out=Pax Dollar, amt=None)], Expected Profit: None),\n",
       " Cycle(Trades: [Swap(pool=Curve.fi Factory Plain Pool: crvUSD/USDP, in=USDP, out=Curve.Fi USD Stablecoin (crvUSD), amt=None), Swap(pool=Curve.fi Stablecoin WETH, in=crvUSD, out=WETH, amt=None), Swap(pool=External Market (USDP, WETH), in=Wrapped Ether, out=Pax Dollar, amt=None)], Expected Profit: None),\n",
       " Cycle(Trades: [Swap(pool=Curve.fi Factory Plain Pool: crvUSD/USDC, in=USDC, out=Curve.Fi USD Stablecoin (crvUSD), amt=None), Swap(pool=Curve.fi Factory Plain Pool: crvUSD/TUSD, in=Curve.Fi USD Stablecoin (crvUSD), out=TUSD, amt=None), Swap(pool=External Market (TUSD, USDC), in=TrueUSD, out=USD Coin, amt=None)], Expected Profit: None),\n",
       " Cycle(Trades: [Swap(pool=Curve.fi Factory Plain Pool: crvUSD/USDC, in=USDC, out=Curve.Fi USD Stablecoin (crvUSD), amt=None), Swap(pool=Curve.fi Factory Plain Pool: crvUSD/USDP, in=Curve.Fi USD Stablecoin (crvUSD), out=USDP, amt=None), Swap(pool=External Market (USDP, USDC), in=Pax Dollar, out=USD Coin, amt=None)], Expected Profit: None),\n",
       " Cycle(Trades: [Swap(pool=Curve.fi Factory Plain Pool: crvUSD/USDC, in=USDC, out=Curve.Fi USD Stablecoin (crvUSD), amt=None), Swap(pool=Curve.fi Factory Plain Pool: crvUSD/USDT, in=Curve.Fi USD Stablecoin (crvUSD), out=USDT, amt=None), Swap(pool=External Market (USDC, USDT), in=Tether USD, out=USD Coin, amt=None)], Expected Profit: None),\n",
       " Cycle(Trades: [Swap(pool=Curve.fi Factory Plain Pool: crvUSD/USDC, in=USDC, out=Curve.Fi USD Stablecoin (crvUSD), amt=None), Swap(pool=Curve.fi Stablecoin WETH, in=crvUSD, out=WETH, amt=None), Swap(pool=External Market (USDC, WETH), in=Wrapped Ether, out=USD Coin, amt=None)], Expected Profit: None),\n",
       " Cycle(Trades: [Swap(pool=Curve.fi Factory Plain Pool: crvUSD/USDT, in=USDT, out=Curve.Fi USD Stablecoin (crvUSD), amt=None), Swap(pool=Curve.fi Factory Plain Pool: crvUSD/TUSD, in=Curve.Fi USD Stablecoin (crvUSD), out=TUSD, amt=None), Swap(pool=External Market (TUSD, USDT), in=TrueUSD, out=Tether USD, amt=None)], Expected Profit: None),\n",
       " Cycle(Trades: [Swap(pool=Curve.fi Factory Plain Pool: crvUSD/USDT, in=USDT, out=Curve.Fi USD Stablecoin (crvUSD), amt=None), Swap(pool=Curve.fi Factory Plain Pool: crvUSD/USDP, in=Curve.Fi USD Stablecoin (crvUSD), out=USDP, amt=None), Swap(pool=External Market (USDP, USDT), in=Pax Dollar, out=Tether USD, amt=None)], Expected Profit: None),\n",
       " Cycle(Trades: [Swap(pool=Curve.fi Factory Plain Pool: crvUSD/USDT, in=USDT, out=Curve.Fi USD Stablecoin (crvUSD), amt=None), Swap(pool=Curve.fi Factory Plain Pool: crvUSD/USDC, in=Curve.Fi USD Stablecoin (crvUSD), out=USDC, amt=None), Swap(pool=External Market (USDC, USDT), in=USD Coin, out=Tether USD, amt=None)], Expected Profit: None),\n",
       " Cycle(Trades: [Swap(pool=Curve.fi Factory Plain Pool: crvUSD/USDT, in=USDT, out=Curve.Fi USD Stablecoin (crvUSD), amt=None), Swap(pool=Curve.fi Stablecoin WETH, in=crvUSD, out=WETH, amt=None), Swap(pool=External Market (WETH, USDT), in=Wrapped Ether, out=Tether USD, amt=None)], Expected Profit: None),\n",
       " Cycle(Trades: [Swap(pool=Curve.fi Stablecoin WETH, in=WETH, out=crvUSD, amt=None), Swap(pool=Curve.fi Factory Plain Pool: crvUSD/TUSD, in=Curve.Fi USD Stablecoin (crvUSD), out=TUSD, amt=None), Swap(pool=External Market (TUSD, WETH), in=TrueUSD, out=Wrapped Ether, amt=None)], Expected Profit: None),\n",
       " Cycle(Trades: [Swap(pool=Curve.fi Stablecoin WETH, in=WETH, out=crvUSD, amt=None), Swap(pool=Curve.fi Factory Plain Pool: crvUSD/USDP, in=Curve.Fi USD Stablecoin (crvUSD), out=USDP, amt=None), Swap(pool=External Market (USDP, WETH), in=Pax Dollar, out=Wrapped Ether, amt=None)], Expected Profit: None),\n",
       " Cycle(Trades: [Swap(pool=Curve.fi Stablecoin WETH, in=WETH, out=crvUSD, amt=None), Swap(pool=Curve.fi Factory Plain Pool: crvUSD/USDC, in=Curve.Fi USD Stablecoin (crvUSD), out=USDC, amt=None), Swap(pool=External Market (USDC, WETH), in=USD Coin, out=Wrapped Ether, amt=None)], Expected Profit: None),\n",
       " Cycle(Trades: [Swap(pool=Curve.fi Stablecoin WETH, in=WETH, out=crvUSD, amt=None), Swap(pool=Curve.fi Factory Plain Pool: crvUSD/USDT, in=Curve.Fi USD Stablecoin (crvUSD), out=USDT, amt=None), Swap(pool=External Market (WETH, USDT), in=Tether USD, out=Wrapped Ether, amt=None)], Expected Profit: None)]"
      ]
     },
     "execution_count": 5,
     "metadata": {},
     "output_type": "execute_result"
    }
   ],
   "source": [
    "n = 3\n",
    "graph = PoolGraph(pools)\n",
    "cycles = graph.find_cycles(n=n)\n",
    "cycles"
   ]
  },
  {
   "cell_type": "code",
   "execution_count": 6,
   "metadata": {},
   "outputs": [
    {
     "data": {
      "text/html": [
       "<div>\n",
       "<style scoped>\n",
       "    .dataframe tbody tr th:only-of-type {\n",
       "        vertical-align: middle;\n",
       "    }\n",
       "\n",
       "    .dataframe tbody tr th {\n",
       "        vertical-align: top;\n",
       "    }\n",
       "\n",
       "    .dataframe thead th {\n",
       "        text-align: right;\n",
       "    }\n",
       "</style>\n",
       "<table border=\"1\" class=\"dataframe\">\n",
       "  <thead>\n",
       "    <tr style=\"text-align: right;\">\n",
       "      <th></th>\n",
       "      <th>amt_optimize</th>\n",
       "      <th>amt_linspace</th>\n",
       "      <th>profit_optimize</th>\n",
       "      <th>profit_linspace</th>\n",
       "    </tr>\n",
       "  </thead>\n",
       "  <tbody>\n",
       "    <tr>\n",
       "      <th>0</th>\n",
       "      <td>86.0</td>\n",
       "      <td>0.0</td>\n",
       "      <td>-0.000</td>\n",
       "      <td>0.0</td>\n",
       "    </tr>\n",
       "    <tr>\n",
       "      <th>1</th>\n",
       "      <td>152341805817814.0</td>\n",
       "      <td>0.0</td>\n",
       "      <td>-0.000</td>\n",
       "      <td>0.0</td>\n",
       "    </tr>\n",
       "    <tr>\n",
       "      <th>2</th>\n",
       "      <td>139347137905748.0</td>\n",
       "      <td>0.0</td>\n",
       "      <td>-0.000</td>\n",
       "      <td>0.0</td>\n",
       "    </tr>\n",
       "    <tr>\n",
       "      <th>3</th>\n",
       "      <td>937348941625737657450496</td>\n",
       "      <td>890422835248267723276288</td>\n",
       "      <td>21647.871</td>\n",
       "      <td>21817.0</td>\n",
       "    </tr>\n",
       "    <tr>\n",
       "      <th>4</th>\n",
       "      <td>427974998238280202321920</td>\n",
       "      <td>427484031179380215513088</td>\n",
       "      <td>1527.759</td>\n",
       "      <td>1526.0</td>\n",
       "    </tr>\n",
       "    <tr>\n",
       "      <th>5</th>\n",
       "      <td>144674067649218696183808</td>\n",
       "      <td>143662666216021212266496</td>\n",
       "      <td>50.251</td>\n",
       "      <td>50.0</td>\n",
       "    </tr>\n",
       "    <tr>\n",
       "      <th>6</th>\n",
       "      <td>7352012436093962027008</td>\n",
       "      <td>7007934937366888710144</td>\n",
       "      <td>0.156</td>\n",
       "      <td>0.0</td>\n",
       "    </tr>\n",
       "    <tr>\n",
       "      <th>7</th>\n",
       "      <td>792312764160234068377600</td>\n",
       "      <td>791896647922458445217792</td>\n",
       "      <td>22102.732</td>\n",
       "      <td>22099.0</td>\n",
       "    </tr>\n",
       "    <tr>\n",
       "      <th>8</th>\n",
       "      <td>814728361214.0</td>\n",
       "      <td>804296660986.0</td>\n",
       "      <td>2088.179</td>\n",
       "      <td>2087.0</td>\n",
       "    </tr>\n",
       "    <tr>\n",
       "      <th>9</th>\n",
       "      <td>285.0</td>\n",
       "      <td>0.0</td>\n",
       "      <td>-0.000</td>\n",
       "      <td>0.0</td>\n",
       "    </tr>\n",
       "    <tr>\n",
       "      <th>10</th>\n",
       "      <td>1214.0</td>\n",
       "      <td>0.0</td>\n",
       "      <td>-0.000</td>\n",
       "      <td>0.0</td>\n",
       "    </tr>\n",
       "    <tr>\n",
       "      <th>11</th>\n",
       "      <td>1240914577799.0</td>\n",
       "      <td>1152825214080.0</td>\n",
       "      <td>30936.405</td>\n",
       "      <td>30952.0</td>\n",
       "    </tr>\n",
       "    <tr>\n",
       "      <th>12</th>\n",
       "      <td>870629326673.0</td>\n",
       "      <td>879385346608.0</td>\n",
       "      <td>2683.653</td>\n",
       "      <td>2683.0</td>\n",
       "    </tr>\n",
       "    <tr>\n",
       "      <th>13</th>\n",
       "      <td>441.0</td>\n",
       "      <td>0.0</td>\n",
       "      <td>-0.000</td>\n",
       "      <td>0.0</td>\n",
       "    </tr>\n",
       "    <tr>\n",
       "      <th>14</th>\n",
       "      <td>77476877409.0</td>\n",
       "      <td>71301514589.0</td>\n",
       "      <td>4.570</td>\n",
       "      <td>4.0</td>\n",
       "    </tr>\n",
       "    <tr>\n",
       "      <th>15</th>\n",
       "      <td>1250539706102.0</td>\n",
       "      <td>1259660091088.0</td>\n",
       "      <td>31436.679</td>\n",
       "      <td>31435.0</td>\n",
       "    </tr>\n",
       "    <tr>\n",
       "      <th>16</th>\n",
       "      <td>0.0</td>\n",
       "      <td>0.0</td>\n",
       "      <td>0.000</td>\n",
       "      <td>0.0</td>\n",
       "    </tr>\n",
       "    <tr>\n",
       "      <th>17</th>\n",
       "      <td>0.0</td>\n",
       "      <td>0.0</td>\n",
       "      <td>0.000</td>\n",
       "      <td>0.0</td>\n",
       "    </tr>\n",
       "    <tr>\n",
       "      <th>18</th>\n",
       "      <td>0.0</td>\n",
       "      <td>0.0</td>\n",
       "      <td>0.000</td>\n",
       "      <td>0.0</td>\n",
       "    </tr>\n",
       "    <tr>\n",
       "      <th>19</th>\n",
       "      <td>0.0</td>\n",
       "      <td>0.0</td>\n",
       "      <td>0.000</td>\n",
       "      <td>0.0</td>\n",
       "    </tr>\n",
       "  </tbody>\n",
       "</table>\n",
       "</div>"
      ],
      "text/plain": [
       "                amt_optimize              amt_linspace  profit_optimize  \\\n",
       "0                       86.0                       0.0           -0.000   \n",
       "1          152341805817814.0                       0.0           -0.000   \n",
       "2          139347137905748.0                       0.0           -0.000   \n",
       "3   937348941625737657450496  890422835248267723276288        21647.871   \n",
       "4   427974998238280202321920  427484031179380215513088         1527.759   \n",
       "5   144674067649218696183808  143662666216021212266496           50.251   \n",
       "6     7352012436093962027008    7007934937366888710144            0.156   \n",
       "7   792312764160234068377600  791896647922458445217792        22102.732   \n",
       "8             814728361214.0            804296660986.0         2088.179   \n",
       "9                      285.0                       0.0           -0.000   \n",
       "10                    1214.0                       0.0           -0.000   \n",
       "11           1240914577799.0           1152825214080.0        30936.405   \n",
       "12            870629326673.0            879385346608.0         2683.653   \n",
       "13                     441.0                       0.0           -0.000   \n",
       "14             77476877409.0             71301514589.0            4.570   \n",
       "15           1250539706102.0           1259660091088.0        31436.679   \n",
       "16                       0.0                       0.0            0.000   \n",
       "17                       0.0                       0.0            0.000   \n",
       "18                       0.0                       0.0            0.000   \n",
       "19                       0.0                       0.0            0.000   \n",
       "\n",
       "    profit_linspace  \n",
       "0               0.0  \n",
       "1               0.0  \n",
       "2               0.0  \n",
       "3           21817.0  \n",
       "4            1526.0  \n",
       "5              50.0  \n",
       "6               0.0  \n",
       "7           22099.0  \n",
       "8            2087.0  \n",
       "9               0.0  \n",
       "10              0.0  \n",
       "11          30952.0  \n",
       "12           2683.0  \n",
       "13              0.0  \n",
       "14              4.0  \n",
       "15          31435.0  \n",
       "16              0.0  \n",
       "17              0.0  \n",
       "18              0.0  \n",
       "19              0.0  "
      ]
     },
     "execution_count": 6,
     "metadata": {},
     "output_type": "execute_result"
    }
   ],
   "source": [
    "df = pd.DataFrame(\n",
    "    columns=[\"amt_optimize\", \"amt_linspace\", \"profit_optimize\", \"profit_linspace\"]\n",
    ")\n",
    "\n",
    "for i, cycle in enumerate(cycles):\n",
    "    try:\n",
    "        # This is orders of magnitude slower than `optimize`\n",
    "        trade = cycle.trades[0]\n",
    "        high = trade.pool.get_max_trade_size(trade.i, trade.j)\n",
    "        amts = np.linspace(0, high, 1000)\n",
    "        amts = [int(amt) for amt in amts]\n",
    "        profits = [cycle.populate(amt) for amt in amts]\n",
    "\n",
    "        best_amt_linspace = int(amts[np.argmax(profits)])\n",
    "        best_profit_linspace = int(max(profits))\n",
    "\n",
    "        cycle.optimize()\n",
    "\n",
    "        df.loc[i] = [\n",
    "            cycle.trades[0].amt,\n",
    "            best_amt_linspace,\n",
    "            cycle.expected_profit,\n",
    "            best_profit_linspace,\n",
    "        ]\n",
    "\n",
    "    except Exception as e:\n",
    "        logging.error(f\"Cycle {i} failed to optimize: {e}\")\n",
    "\n",
    "df[\"profit_linspace\"] = df[\"profit_linspace\"].astype(float)\n",
    "df[\"profit_optimize\"] = df[\"profit_optimize\"].astype(float)\n",
    "df = df.round(3)\n",
    "df"
   ]
  },
  {
   "cell_type": "code",
   "execution_count": 7,
   "metadata": {},
   "outputs": [
    {
     "name": "stdout",
     "output_type": "stream",
     "text": [
      "Best amount linspace: 427484031179380215513088\n",
      "Best profit linspace: 1526.6622683156768\n",
      "Best amount optimize: 427974998238280202321920\n",
      "Best profit optimize: 1527.7590489057523\n"
     ]
    },
    {
     "data": {
      "image/png": "[encoded data removed]",
      "text/plain": [
       "<Figure size 1000x500 with 1 Axes>"
      ]
     },
     "metadata": {},
     "output_type": "display_data"
    }
   ],
   "source": [
    "# TODO this curve is probably not smooth because:\n",
    "# 1. The decimals are not being treated correctly between trades <- fixed\n",
    "# 2. The state of each pool is not being snapshot correctly (i.e. it's changing) <- ??\n",
    "# 3. I think it's because External Market slippage is noisy. <- fixed\n",
    "\n",
    "i = 4\n",
    "cycle = cycles[i]\n",
    "\n",
    "trade = cycle.trades[0]\n",
    "high = trade.pool.get_max_trade_size(trade.i, trade.j)\n",
    "amts = np.linspace(1, high, 1000)\n",
    "amts = [int(amt) for amt in amts]\n",
    "profits = [cycle.populate(amt) for amt in amts]\n",
    "\n",
    "best_amt_linspace = amts[np.argmax(profits)]\n",
    "best_profit_linspace = max(profits)\n",
    "\n",
    "# compare\n",
    "cycle.optimize()\n",
    "best_amt_optimize = cycle.trades[0].amt\n",
    "best_profit_optimize = cycle.expected_profit\n",
    "\n",
    "f, ax = plt.subplots(figsize=(10, 5))\n",
    "ax.scatter(amts, profits, color=\"royalblue\", s=2)\n",
    "ax.plot(amts, profits, color=\"royalblue\")\n",
    "ax.axvline(best_amt_linspace, color=\"indianred\", label=\"linspace\")\n",
    "ax.axvline(best_amt_optimize, color=\"darkgreen\", label=\"optimize\")\n",
    "\n",
    "# NOTE Uncomment to zoom into optimal region\n",
    "# diff = abs(best_amt_optimize - best_amt_linspace)\n",
    "# xlims = (float(min(best_amt_optimize, best_amt_linspace) - diff), float(max(best_amt_optimize, best_amt_linspace) + diff))\n",
    "# tmp = [p for p, a in zip(profits, amts) if xlims[0] < a < xlims[1]]\n",
    "# ylims = min(tmp), max(tmp)\n",
    "# ax.set_xlim(*xlims)\n",
    "# ax.set_ylim(*ylims)\n",
    "\n",
    "ax.legend()\n",
    "\n",
    "print(f\"Best amount linspace: {best_amt_linspace}\")\n",
    "print(f\"Best profit linspace: {best_profit_linspace}\")\n",
    "print(f\"Best amount optimize: {best_amt_optimize}\")\n",
    "print(f\"Best profit optimize: {best_profit_optimize}\")"
   ]
  },
  {
   "cell_type": "markdown",
   "metadata": {},
   "source": [
    "# Analyzing arbitrages"
   ]
  },
  {
   "cell_type": "code",
   "execution_count": 8,
   "metadata": {},
   "outputs": [],
   "source": [
    "def test():\n",
    "    best = arbitrageur.find_best_arbitrage(cycles)\n",
    "\n",
    "    # get the trades in the cycle\n",
    "    # the price of pool 1 * price of pool 2 should approach pool 3\n",
    "    def get_prices(cycle):\n",
    "        prices = []\n",
    "        for trade in best.trades:\n",
    "            price = trade.pool.price(trade.i, trade.j)\n",
    "            if not isinstance(trade.pool, ExternalMarket):\n",
    "                price /= 1e18\n",
    "            prices.append(price)\n",
    "        return prices\n",
    "\n",
    "    prices = get_prices(best)\n",
    "\n",
    "    print(f\"Pre Trade prices: {prices}\")\n",
    "    print(f\"External Market price: {prices[2]}\")\n",
    "    print(f\"Curve pool prices: {prices[0] * prices[1]}\")\n",
    "    print()\n",
    "\n",
    "    best.execute()\n",
    "    prices = get_prices(best)\n",
    "\n",
    "    print(f\"Post Trade prices: {prices}\")\n",
    "    print(f\"External Market price: {prices[2]}\")\n",
    "    print(f\"Curve pool prices: {prices[0] * prices[1]}\")\n",
    "\n",
    "\n",
    "# test()"
   ]
  },
  {
   "cell_type": "code",
   "execution_count": 9,
   "metadata": {},
   "outputs": [
    {
     "data": {
      "text/plain": [
       "1.0011044583713429"
      ]
     },
     "execution_count": 9,
     "metadata": {},
     "output_type": "execute_result"
    }
   ],
   "source": [
    "prices[-1]._prices[USDC]"
   ]
  },
  {
   "cell_type": "code",
   "execution_count": 12,
   "metadata": {},
   "outputs": [
    {
     "name": "stderr",
     "output_type": "stream",
     "text": [
      "[INFO][19:34:37][root]-577354: Executing cycle Cycle(Trades: [Swap(pool=Curve.fi Factory Plain Pool: crvUSD/USDT, in=USDT, out=Curve.Fi USD Stablecoin (crvUSD), amt=1250539706102), Swap(pool=Curve.fi Stablecoin WETH, in=crvUSD, out=WETH, amt=1253546408252564597921018), Swap(pool=External Market (WETH, USDT), in=Wrapped Ether, out=Tether USD, amt=617201276136138462181)], Expected Profit: 31436.678638).\n",
      "[INFO][19:34:37][root]-577354: Executing trade Swap(pool=Curve.fi Factory Plain Pool: crvUSD/USDT, in=USDT, out=Curve.Fi USD Stablecoin (crvUSD), amt=1250539706102).\n",
      "[INFO][19:34:37][root]-577354: Executing trade Swap(pool=Curve.fi Stablecoin WETH, in=crvUSD, out=WETH, amt=1253546408252564597921018).\n",
      "[INFO][19:34:37][root]-577354: Executing trade Swap(pool=External Market (WETH, USDT), in=Wrapped Ether, out=Tether USD, amt=617201276136138462181).\n",
      "[INFO][19:34:37][root]-577354: Executing cycle Cycle(Trades: [Swap(pool=Curve.fi Factory Plain Pool: crvUSD/USDC, in=USDC, out=Curve.Fi USD Stablecoin (crvUSD), amt=814728361214), Swap(pool=Curve.fi Factory Plain Pool: crvUSD/TUSD, in=Curve.Fi USD Stablecoin (crvUSD), out=TUSD, amt=816658257470012522875368), Swap(pool=External Market (TUSD, USDC), in=TrueUSD, out=USD Coin, amt=814905375820366872082893)], Expected Profit: 2088.178563).\n",
      "[INFO][19:34:37][root]-577354: Executing trade Swap(pool=Curve.fi Factory Plain Pool: crvUSD/USDC, in=USDC, out=Curve.Fi USD Stablecoin (crvUSD), amt=814728361214).\n",
      "[INFO][19:34:37][root]-577354: Executing trade Swap(pool=Curve.fi Factory Plain Pool: crvUSD/TUSD, in=Curve.Fi USD Stablecoin (crvUSD), out=TUSD, amt=816658257470012522875368).\n",
      "[INFO][19:34:37][root]-577354: Executing trade Swap(pool=External Market (TUSD, USDC), in=TrueUSD, out=USD Coin, amt=814905375820366872082893).\n",
      "[INFO][19:34:38][root]-577354: Executing cycle Cycle(Trades: [Swap(pool=Curve.fi Factory Plain Pool: crvUSD/USDP, in=USDP, out=Curve.Fi USD Stablecoin (crvUSD), amt=132663605623806475894784), Swap(pool=Curve.fi Factory Plain Pool: crvUSD/TUSD, in=Curve.Fi USD Stablecoin (crvUSD), out=TUSD, amt=132959315310366970964959), Swap(pool=External Market (TUSD, USDP), in=TrueUSD, out=Pax Dollar, amt=132264570182391620239290)], Expected Profit: 189.89362914185446).\n",
      "[INFO][19:34:38][root]-577354: Executing trade Swap(pool=Curve.fi Factory Plain Pool: crvUSD/USDP, in=USDP, out=Curve.Fi USD Stablecoin (crvUSD), amt=132663605623806475894784).\n",
      "[INFO][19:34:38][root]-577354: Executing trade Swap(pool=Curve.fi Factory Plain Pool: crvUSD/TUSD, in=Curve.Fi USD Stablecoin (crvUSD), out=TUSD, amt=132959315310366970964959).\n",
      "[INFO][19:34:38][root]-577354: Executing trade Swap(pool=External Market (TUSD, USDP), in=TrueUSD, out=Pax Dollar, amt=132264570182391620239290).\n",
      "[INFO][19:34:38][root]-577354: Executing cycle Cycle(Trades: [Swap(pool=Curve.fi Factory Plain Pool: crvUSD/USDP, in=USDP, out=Curve.Fi USD Stablecoin (crvUSD), amt=163888311490847084380160), Swap(pool=Curve.fi Factory Plain Pool: crvUSD/USDC, in=Curve.Fi USD Stablecoin (crvUSD), out=USDC, amt=164161175600578317303338), Swap(pool=External Market (USDP, USDC), in=USD Coin, out=Pax Dollar, amt=163772136145)], Expected Profit: 50.500588003047504).\n",
      "[INFO][19:34:38][root]-577354: Executing trade Swap(pool=Curve.fi Factory Plain Pool: crvUSD/USDP, in=USDP, out=Curve.Fi USD Stablecoin (crvUSD), amt=163888311490847084380160).\n",
      "[INFO][19:34:38][root]-577354: Executing trade Swap(pool=Curve.fi Factory Plain Pool: crvUSD/USDC, in=Curve.Fi USD Stablecoin (crvUSD), out=USDC, amt=164161175600578317303338).\n",
      "[INFO][19:34:38][root]-577354: Executing trade Swap(pool=External Market (USDP, USDC), in=USD Coin, out=Pax Dollar, amt=163772136145).\n",
      "[INFO][19:34:39][root]-577354: Executing cycle Cycle(Trades: [Swap(pool=Curve.fi Factory Plain Pool: crvUSD/USDP, in=USDP, out=Curve.Fi USD Stablecoin (crvUSD), amt=21279269334065350705152), Swap(pool=Curve.fi Stablecoin WETH, in=crvUSD, out=WETH, amt=21308453446087135701424), Swap(pool=External Market (USDP, WETH), in=Wrapped Ether, out=Pax Dollar, amt=10234713228232745485)], Expected Profit: 9.13975331707578).\n",
      "[INFO][19:34:39][root]-577354: Executing trade Swap(pool=Curve.fi Factory Plain Pool: crvUSD/USDP, in=USDP, out=Curve.Fi USD Stablecoin (crvUSD), amt=21279269334065350705152).\n",
      "[INFO][19:34:39][root]-577354: Executing trade Swap(pool=Curve.fi Stablecoin WETH, in=crvUSD, out=WETH, amt=21308453446087135701424).\n",
      "[INFO][19:34:39][root]-577354: Executing trade Swap(pool=External Market (USDP, WETH), in=Wrapped Ether, out=Pax Dollar, amt=10234713228232745485).\n",
      "[INFO][19:34:39][root]-577354: No more profitable arbitrages.\n"
     ]
    }
   ],
   "source": [
    "profit, count = arbitrageur.arbitrage(cycles, prices[-1])\n",
    "profit, count"
   ]
  },
  {
   "cell_type": "code",
   "execution_count": null,
   "metadata": {},
   "outputs": [],
   "source": []
  }
 ],
 "metadata": {
  "kernelspec": {
   "display_name": "venv",
   "language": "python",
   "name": "python3"
  },
  "language_info": {
   "codemirror_mode": {
    "name": "ipython",
    "version": 3
   },
   "file_extension": ".py",
   "mimetype": "text/x-python",
   "name": "python",
   "nbconvert_exporter": "python",
   "pygments_lexer": "ipython3",
   "version": "3.11.3"
  }
 },
 "nbformat": 4,
 "nbformat_minor": 2
}
