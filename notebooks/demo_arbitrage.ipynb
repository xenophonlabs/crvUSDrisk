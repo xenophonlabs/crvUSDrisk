{
 "cells": [
  {
   "cell_type": "markdown",
   "metadata": {},
   "source": [
    "# Demo the Arbitrageur Agent Logic\n",
    "\n",
    "This notebook:\n",
    "\n",
    "1. Fetches the latest crvusd contract data into Python objects using `crvusdsim`.\n",
    "2. Fetches prices and `ExternalMarket`s from the `baseline` scenario.\n",
    "3. Instantiates an Arbitrageur agent.\n",
    "4. Checks if there are profitable arbitrages and performs them."
   ]
  },
  {
   "cell_type": "code",
   "execution_count": 1,
   "metadata": {},
   "outputs": [],
   "source": [
    "import logging\n",
    "import numpy as np\n",
    "import pandas as pd\n",
    "import matplotlib.pyplot as plt\n",
    "from crvusdsim.pool import get\n",
    "from src.agents.arbitrageur import Arbitrageur\n",
    "from src.sim.scenario import Scenario\n",
    "from src.utils.poolgraph import PoolGraph\n",
    "from src.configs import SYMBOL_TO_ADDRESS\n",
    "from src.configs.tokens import *\n",
    "from src.modules import ExternalMarket\n",
    "\n",
    "\n",
    "%load_ext autoreload\n",
    "%autoreload 2"
   ]
  },
  {
   "cell_type": "code",
   "execution_count": 2,
   "metadata": {},
   "outputs": [],
   "source": [
    "arbitrageur = Arbitrageur()\n",
    "\n",
    "ETH_POOL = \"weth\"\n",
    "sim_market = get(ETH_POOL, bands_data=\"controller\")\n",
    "\n",
    "pool = sim_market.pool\n",
    "stableswap_pools = sim_market.stableswap_pools"
   ]
  },
  {
   "cell_type": "code",
   "execution_count": 3,
   "metadata": {},
   "outputs": [
    {
     "name": "stdout",
     "output_type": "stream",
     "text": [
      "Pre Trade\n",
      "Balances [10008658850325, 25873939907962300163632541]\n",
      "High 12842547157360454826337406\n",
      "Allowance 10008658850325\n",
      "\n",
      "Post Trade\n",
      "Amount out (12842547157360454826337406, 9907581404595, 990857226182175000850)\n",
      "Balances [100582017117, 38716487065322754989969947]\n",
      "Allowance 101077445730\n",
      "\n",
      "After reversing snapshot context\n",
      "Balances [10008658850325, 25873939907962300163632541]\n",
      "Allowance 10008658850325\n"
     ]
    }
   ],
   "source": [
    "# Verify snapshot context works on StableSwap pools from crvusdsim\n",
    "i, j = 1, 0\n",
    "\n",
    "stableswap_pool = stableswap_pools[2]\n",
    "high = stableswap_pool.get_max_trade_size(i, j)\n",
    "prev_bals = stableswap_pool.balances.copy()\n",
    "\n",
    "print(\"Pre Trade\")\n",
    "print(\"Balances\", prev_bals)\n",
    "print(\"High\", high)\n",
    "print(\"Allowance\", stableswap_pool.coins[0].balanceOf[stableswap_pool.address])\n",
    "print()\n",
    "\n",
    "with stableswap_pool.use_snapshot_context():\n",
    "    amt_out = stableswap_pool.trade(i, j, high)\n",
    "    swap_bals = stableswap_pool.balances.copy()\n",
    "    print(\"Post Trade\")\n",
    "    print(\"Amount out\", amt_out)\n",
    "    print(\"Balances\", swap_bals)\n",
    "    print(\"Allowance\", stableswap_pool.coins[0].balanceOf[stableswap_pool.address])\n",
    "    print()\n",
    "\n",
    "new_bals = stableswap_pool.balances.copy()\n",
    "print(\"After reversing snapshot context\")\n",
    "print(\"Balances\", new_bals)\n",
    "print(\"Allowance\", stableswap_pool.coins[0].balanceOf[stableswap_pool.address])\n",
    "\n",
    "assert prev_bals == new_bals, (prev_bals, new_bals)\n",
    "assert swap_bals != new_bals"
   ]
  },
  {
   "cell_type": "code",
   "execution_count": 4,
   "metadata": {},
   "outputs": [
    {
     "name": "stdout",
     "output_type": "stream",
     "text": [
      "Pre Trade\n",
      "Balances (0, 15971445880068407183360)\n",
      "High 40119568578427971526152911\n",
      "Stablecoin 0\n",
      "Collateral 15971445880068407183360\n",
      "\n",
      "Amount in 40119568578427971526152911\n",
      "Amount out 12702926360139514396671\n",
      "\n",
      "Post Trade\n",
      "Balances (40119568578427971525912220, 3268519519928892786689)\n",
      "Stablecoin 40119568578427971526152911\n",
      "Collateral 3268519519928892786689\n",
      "\n",
      "After reversing snapshot context\n",
      "Balances (0, 15971445880068407183360)\n",
      "Stablecoin 0\n",
      "Collateral 15971445880068407183360\n"
     ]
    }
   ],
   "source": [
    "# Verify snapshot context works on LLAMMA pools\n",
    "i, j = 0, 1\n",
    "high = pool.get_max_trade_size(i, j)\n",
    "\n",
    "prev_bals = (sum(pool.bands_x.values()), sum(pool.bands_y.values()))\n",
    "\n",
    "print(\"Pre Trade\")\n",
    "print(\"Balances\", prev_bals)\n",
    "print(\"High\", high)\n",
    "print(\"Stablecoin\", pool.BORROWED_TOKEN.balanceOf[pool.address])\n",
    "print(\"Collateral\", pool.COLLATERAL_TOKEN.balanceOf[pool.address])\n",
    "print()\n",
    "\n",
    "with pool.use_snapshot_context():\n",
    "    amt_in, amt_out, _ = pool.trade(i, j, high)\n",
    "    swap_bals = (sum(pool.bands_x.values()), sum(pool.bands_y.values()))\n",
    "    print(\"Amount in\", high)\n",
    "    print(\"Amount out\", amt_out)\n",
    "    print()\n",
    "    print(\"Post Trade\")\n",
    "    print(\"Balances\", swap_bals)\n",
    "    print(\"Stablecoin\", pool.BORROWED_TOKEN.balanceOf[pool.address])\n",
    "    print(\"Collateral\", pool.COLLATERAL_TOKEN.balanceOf[pool.address])\n",
    "    print()\n",
    "\n",
    "new_bals = (sum(pool.bands_x.values()), sum(pool.bands_y.values()))\n",
    "print(\"After reversing snapshot context\")\n",
    "print(\"Balances\", new_bals)\n",
    "print(\"Stablecoin\", pool.BORROWED_TOKEN.balanceOf[pool.address])\n",
    "print(\"Collateral\", pool.COLLATERAL_TOKEN.balanceOf[pool.address])\n",
    "\n",
    "assert prev_bals == new_bals, (prev_bals, new_bals)\n",
    "assert swap_bals != new_bals"
   ]
  },
  {
   "cell_type": "code",
   "execution_count": 5,
   "metadata": {},
   "outputs": [
    {
     "name": "stderr",
     "output_type": "stream",
     "text": [
      "[INFO][16:50:04][root]-567577: Reading price config from ../src/configs/scenarios/baseline.json.\n",
      "[INFO][16:50:04][root]-567577: Fetching 1inch quotes.\n"
     ]
    },
    {
     "name": "stderr",
     "output_type": "stream",
     "text": [
      "[INFO][16:50:10][root]-567577: We have 462240 quotes.\n",
      "[INFO][16:50:10][root]-567577: Fitting external markets against 1inch quotes.\n",
      "[INFO][16:50:10][root]-567577: Reading price config from ../src/configs/prices/1h_1696108632_1701289032.json.\n"
     ]
    }
   ],
   "source": [
    "# Generate markets and prices\n",
    "config = \"../src/configs/scenarios/baseline.json\"\n",
    "scenario = Scenario(config)\n",
    "markets = scenario.generate_markets()\n",
    "prices = scenario.generate_pricepaths(\"../\" + scenario.price_config)\n",
    "scenario.update_market_prices(prices[-1])"
   ]
  },
  {
   "cell_type": "code",
   "execution_count": 6,
   "metadata": {},
   "outputs": [
    {
     "name": "stdout",
     "output_type": "stream",
     "text": [
      "There are 20 total pools:\n",
      "StableSwap: 4\n",
      "LLAMMA: 1\n",
      "External Markets: 15\n"
     ]
    }
   ],
   "source": [
    "# Create a list of all stableswap pools, LLAMMAs, and External Markets.\n",
    "markets_lst = list(markets.values())\n",
    "pools = stableswap_pools + [pool] + markets_lst\n",
    "print(\n",
    "    f\"There are {len(pools)} total pools:\\nStableSwap: {len(stableswap_pools)}\\nLLAMMA: 1\\nExternal Markets: {len(markets_lst)}\"\n",
    ")"
   ]
  },
  {
   "cell_type": "code",
   "execution_count": 7,
   "metadata": {},
   "outputs": [
    {
     "name": "stderr",
     "output_type": "stream",
     "text": [
      "[INFO][16:50:10][root]-567577: Found 20 valid cycles of length 3.\n"
     ]
    },
    {
     "data": {
      "text/plain": [
       "[Cycle(Trades: [Swap(pool=Curve.fi Factory Plain Pool: crvUSD/TUSD, in=TUSD, out=Curve.Fi USD Stablecoin (crvUSD), amt=None), Swap(pool=Curve.fi Factory Plain Pool: crvUSD/USDP, in=Curve.Fi USD Stablecoin (crvUSD), out=USDP, amt=None), Swap(pool=External Market (TUSD, USDP), in=Pax Dollar, out=TrueUSD, amt=None)], Expected Profit: None),\n",
       " Cycle(Trades: [Swap(pool=Curve.fi Factory Plain Pool: crvUSD/TUSD, in=TUSD, out=Curve.Fi USD Stablecoin (crvUSD), amt=None), Swap(pool=Curve.fi Factory Plain Pool: crvUSD/USDC, in=Curve.Fi USD Stablecoin (crvUSD), out=USDC, amt=None), Swap(pool=External Market (TUSD, USDC), in=USD Coin, out=TrueUSD, amt=None)], Expected Profit: None),\n",
       " Cycle(Trades: [Swap(pool=Curve.fi Factory Plain Pool: crvUSD/TUSD, in=TUSD, out=Curve.Fi USD Stablecoin (crvUSD), amt=None), Swap(pool=Curve.fi Factory Plain Pool: crvUSD/USDT, in=Curve.Fi USD Stablecoin (crvUSD), out=USDT, amt=None), Swap(pool=External Market (TUSD, USDT), in=Tether USD, out=TrueUSD, amt=None)], Expected Profit: None),\n",
       " Cycle(Trades: [Swap(pool=Curve.fi Factory Plain Pool: crvUSD/TUSD, in=TUSD, out=Curve.Fi USD Stablecoin (crvUSD), amt=None), Swap(pool=Curve.fi Stablecoin WETH, in=crvUSD, out=WETH, amt=None), Swap(pool=External Market (TUSD, WETH), in=Wrapped Ether, out=TrueUSD, amt=None)], Expected Profit: None),\n",
       " Cycle(Trades: [Swap(pool=Curve.fi Factory Plain Pool: crvUSD/USDP, in=USDP, out=Curve.Fi USD Stablecoin (crvUSD), amt=None), Swap(pool=Curve.fi Factory Plain Pool: crvUSD/TUSD, in=Curve.Fi USD Stablecoin (crvUSD), out=TUSD, amt=None), Swap(pool=External Market (TUSD, USDP), in=TrueUSD, out=Pax Dollar, amt=None)], Expected Profit: None),\n",
       " Cycle(Trades: [Swap(pool=Curve.fi Factory Plain Pool: crvUSD/USDP, in=USDP, out=Curve.Fi USD Stablecoin (crvUSD), amt=None), Swap(pool=Curve.fi Factory Plain Pool: crvUSD/USDC, in=Curve.Fi USD Stablecoin (crvUSD), out=USDC, amt=None), Swap(pool=External Market (USDP, USDC), in=USD Coin, out=Pax Dollar, amt=None)], Expected Profit: None),\n",
       " Cycle(Trades: [Swap(pool=Curve.fi Factory Plain Pool: crvUSD/USDP, in=USDP, out=Curve.Fi USD Stablecoin (crvUSD), amt=None), Swap(pool=Curve.fi Factory Plain Pool: crvUSD/USDT, in=Curve.Fi USD Stablecoin (crvUSD), out=USDT, amt=None), Swap(pool=External Market (USDP, USDT), in=Tether USD, out=Pax Dollar, amt=None)], Expected Profit: None),\n",
       " Cycle(Trades: [Swap(pool=Curve.fi Factory Plain Pool: crvUSD/USDP, in=USDP, out=Curve.Fi USD Stablecoin (crvUSD), amt=None), Swap(pool=Curve.fi Stablecoin WETH, in=crvUSD, out=WETH, amt=None), Swap(pool=External Market (USDP, WETH), in=Wrapped Ether, out=Pax Dollar, amt=None)], Expected Profit: None),\n",
       " Cycle(Trades: [Swap(pool=Curve.fi Factory Plain Pool: crvUSD/USDC, in=USDC, out=Curve.Fi USD Stablecoin (crvUSD), amt=None), Swap(pool=Curve.fi Factory Plain Pool: crvUSD/TUSD, in=Curve.Fi USD Stablecoin (crvUSD), out=TUSD, amt=None), Swap(pool=External Market (TUSD, USDC), in=TrueUSD, out=USD Coin, amt=None)], Expected Profit: None),\n",
       " Cycle(Trades: [Swap(pool=Curve.fi Factory Plain Pool: crvUSD/USDC, in=USDC, out=Curve.Fi USD Stablecoin (crvUSD), amt=None), Swap(pool=Curve.fi Factory Plain Pool: crvUSD/USDP, in=Curve.Fi USD Stablecoin (crvUSD), out=USDP, amt=None), Swap(pool=External Market (USDP, USDC), in=Pax Dollar, out=USD Coin, amt=None)], Expected Profit: None),\n",
       " Cycle(Trades: [Swap(pool=Curve.fi Factory Plain Pool: crvUSD/USDC, in=USDC, out=Curve.Fi USD Stablecoin (crvUSD), amt=None), Swap(pool=Curve.fi Factory Plain Pool: crvUSD/USDT, in=Curve.Fi USD Stablecoin (crvUSD), out=USDT, amt=None), Swap(pool=External Market (USDC, USDT), in=Tether USD, out=USD Coin, amt=None)], Expected Profit: None),\n",
       " Cycle(Trades: [Swap(pool=Curve.fi Factory Plain Pool: crvUSD/USDC, in=USDC, out=Curve.Fi USD Stablecoin (crvUSD), amt=None), Swap(pool=Curve.fi Stablecoin WETH, in=crvUSD, out=WETH, amt=None), Swap(pool=External Market (USDC, WETH), in=Wrapped Ether, out=USD Coin, amt=None)], Expected Profit: None),\n",
       " Cycle(Trades: [Swap(pool=Curve.fi Factory Plain Pool: crvUSD/USDT, in=USDT, out=Curve.Fi USD Stablecoin (crvUSD), amt=None), Swap(pool=Curve.fi Factory Plain Pool: crvUSD/TUSD, in=Curve.Fi USD Stablecoin (crvUSD), out=TUSD, amt=None), Swap(pool=External Market (TUSD, USDT), in=TrueUSD, out=Tether USD, amt=None)], Expected Profit: None),\n",
       " Cycle(Trades: [Swap(pool=Curve.fi Factory Plain Pool: crvUSD/USDT, in=USDT, out=Curve.Fi USD Stablecoin (crvUSD), amt=None), Swap(pool=Curve.fi Factory Plain Pool: crvUSD/USDP, in=Curve.Fi USD Stablecoin (crvUSD), out=USDP, amt=None), Swap(pool=External Market (USDP, USDT), in=Pax Dollar, out=Tether USD, amt=None)], Expected Profit: None),\n",
       " Cycle(Trades: [Swap(pool=Curve.fi Factory Plain Pool: crvUSD/USDT, in=USDT, out=Curve.Fi USD Stablecoin (crvUSD), amt=None), Swap(pool=Curve.fi Factory Plain Pool: crvUSD/USDC, in=Curve.Fi USD Stablecoin (crvUSD), out=USDC, amt=None), Swap(pool=External Market (USDC, USDT), in=USD Coin, out=Tether USD, amt=None)], Expected Profit: None),\n",
       " Cycle(Trades: [Swap(pool=Curve.fi Factory Plain Pool: crvUSD/USDT, in=USDT, out=Curve.Fi USD Stablecoin (crvUSD), amt=None), Swap(pool=Curve.fi Stablecoin WETH, in=crvUSD, out=WETH, amt=None), Swap(pool=External Market (WETH, USDT), in=Wrapped Ether, out=Tether USD, amt=None)], Expected Profit: None),\n",
       " Cycle(Trades: [Swap(pool=Curve.fi Stablecoin WETH, in=WETH, out=crvUSD, amt=None), Swap(pool=Curve.fi Factory Plain Pool: crvUSD/TUSD, in=Curve.Fi USD Stablecoin (crvUSD), out=TUSD, amt=None), Swap(pool=External Market (TUSD, WETH), in=TrueUSD, out=Wrapped Ether, amt=None)], Expected Profit: None),\n",
       " Cycle(Trades: [Swap(pool=Curve.fi Stablecoin WETH, in=WETH, out=crvUSD, amt=None), Swap(pool=Curve.fi Factory Plain Pool: crvUSD/USDP, in=Curve.Fi USD Stablecoin (crvUSD), out=USDP, amt=None), Swap(pool=External Market (USDP, WETH), in=Pax Dollar, out=Wrapped Ether, amt=None)], Expected Profit: None),\n",
       " Cycle(Trades: [Swap(pool=Curve.fi Stablecoin WETH, in=WETH, out=crvUSD, amt=None), Swap(pool=Curve.fi Factory Plain Pool: crvUSD/USDC, in=Curve.Fi USD Stablecoin (crvUSD), out=USDC, amt=None), Swap(pool=External Market (USDC, WETH), in=USD Coin, out=Wrapped Ether, amt=None)], Expected Profit: None),\n",
       " Cycle(Trades: [Swap(pool=Curve.fi Stablecoin WETH, in=WETH, out=crvUSD, amt=None), Swap(pool=Curve.fi Factory Plain Pool: crvUSD/USDT, in=Curve.Fi USD Stablecoin (crvUSD), out=USDT, amt=None), Swap(pool=External Market (WETH, USDT), in=Tether USD, out=Wrapped Ether, amt=None)], Expected Profit: None)]"
      ]
     },
     "execution_count": 7,
     "metadata": {},
     "output_type": "execute_result"
    }
   ],
   "source": [
    "n = 3\n",
    "graph = PoolGraph(pools)\n",
    "cycles = graph.find_cycles(n=n)\n",
    "cycles"
   ]
  },
  {
   "cell_type": "code",
   "execution_count": 8,
   "metadata": {},
   "outputs": [
    {
     "data": {
      "text/html": [
       "<div>\n",
       "<style scoped>\n",
       "    .dataframe tbody tr th:only-of-type {\n",
       "        vertical-align: middle;\n",
       "    }\n",
       "\n",
       "    .dataframe tbody tr th {\n",
       "        vertical-align: top;\n",
       "    }\n",
       "\n",
       "    .dataframe thead th {\n",
       "        text-align: right;\n",
       "    }\n",
       "</style>\n",
       "<table border=\"1\" class=\"dataframe\">\n",
       "  <thead>\n",
       "    <tr style=\"text-align: right;\">\n",
       "      <th></th>\n",
       "      <th>amt_optimize</th>\n",
       "      <th>amt_linspace</th>\n",
       "      <th>profit_optimize</th>\n",
       "      <th>profit_linspace</th>\n",
       "    </tr>\n",
       "  </thead>\n",
       "  <tbody>\n",
       "    <tr>\n",
       "      <th>0</th>\n",
       "      <td>774.0</td>\n",
       "      <td>0.0</td>\n",
       "      <td>-0.000</td>\n",
       "      <td>0.0</td>\n",
       "    </tr>\n",
       "    <tr>\n",
       "      <th>1</th>\n",
       "      <td>209750873487598770192384</td>\n",
       "      <td>248794615731133624614912</td>\n",
       "      <td>187.439</td>\n",
       "      <td>172.0</td>\n",
       "    </tr>\n",
       "    <tr>\n",
       "      <th>2</th>\n",
       "      <td>1039400679781033324838912</td>\n",
       "      <td>0</td>\n",
       "      <td>-2473.007</td>\n",
       "      <td>0.0</td>\n",
       "    </tr>\n",
       "    <tr>\n",
       "      <th>3</th>\n",
       "      <td>1803309387791062299312128</td>\n",
       "      <td>1851555719178015687573504</td>\n",
       "      <td>84321.576</td>\n",
       "      <td>85204.0</td>\n",
       "    </tr>\n",
       "    <tr>\n",
       "      <th>4</th>\n",
       "      <td>95151927773565097607168</td>\n",
       "      <td>56063479498935109681152</td>\n",
       "      <td>38.555</td>\n",
       "      <td>22.0</td>\n",
       "    </tr>\n",
       "    <tr>\n",
       "      <th>5</th>\n",
       "      <td>655926218805288380661760</td>\n",
       "      <td>634218111831703413587968</td>\n",
       "      <td>692.121</td>\n",
       "      <td>689.0</td>\n",
       "    </tr>\n",
       "    <tr>\n",
       "      <th>6</th>\n",
       "      <td>442207477476863709806592</td>\n",
       "      <td>217245983058373562597376</td>\n",
       "      <td>54.515</td>\n",
       "      <td>133.0</td>\n",
       "    </tr>\n",
       "    <tr>\n",
       "      <th>7</th>\n",
       "      <td>825212518026893305315328</td>\n",
       "      <td>830440290077976347803648</td>\n",
       "      <td>55610.340</td>\n",
       "      <td>56842.0</td>\n",
       "    </tr>\n",
       "    <tr>\n",
       "      <th>8</th>\n",
       "      <td>251.0</td>\n",
       "      <td>0.0</td>\n",
       "      <td>-0.000</td>\n",
       "      <td>0.0</td>\n",
       "    </tr>\n",
       "    <tr>\n",
       "      <th>9</th>\n",
       "      <td>335.0</td>\n",
       "      <td>0.0</td>\n",
       "      <td>-0.000</td>\n",
       "      <td>0.0</td>\n",
       "    </tr>\n",
       "    <tr>\n",
       "      <th>10</th>\n",
       "      <td>456.0</td>\n",
       "      <td>0.0</td>\n",
       "      <td>-0.000</td>\n",
       "      <td>0.0</td>\n",
       "    </tr>\n",
       "    <tr>\n",
       "      <th>11</th>\n",
       "      <td>2170987683691.0</td>\n",
       "      <td>2171600984663.0</td>\n",
       "      <td>96536.283</td>\n",
       "      <td>94028.0</td>\n",
       "    </tr>\n",
       "    <tr>\n",
       "      <th>12</th>\n",
       "      <td>2213231552.0</td>\n",
       "      <td>0.0</td>\n",
       "      <td>-0.991</td>\n",
       "      <td>0.0</td>\n",
       "    </tr>\n",
       "    <tr>\n",
       "      <th>13</th>\n",
       "      <td>268.0</td>\n",
       "      <td>0.0</td>\n",
       "      <td>-0.000</td>\n",
       "      <td>0.0</td>\n",
       "    </tr>\n",
       "    <tr>\n",
       "      <th>14</th>\n",
       "      <td>579036392589.0</td>\n",
       "      <td>594179288249.0</td>\n",
       "      <td>353.783</td>\n",
       "      <td>352.0</td>\n",
       "    </tr>\n",
       "    <tr>\n",
       "      <th>15</th>\n",
       "      <td>2166985140545.0</td>\n",
       "      <td>2257881295347.0</td>\n",
       "      <td>96439.406</td>\n",
       "      <td>96269.0</td>\n",
       "    </tr>\n",
       "    <tr>\n",
       "      <th>16</th>\n",
       "      <td>0.0</td>\n",
       "      <td>0.0</td>\n",
       "      <td>0.000</td>\n",
       "      <td>0.0</td>\n",
       "    </tr>\n",
       "    <tr>\n",
       "      <th>17</th>\n",
       "      <td>0.0</td>\n",
       "      <td>0.0</td>\n",
       "      <td>0.000</td>\n",
       "      <td>0.0</td>\n",
       "    </tr>\n",
       "    <tr>\n",
       "      <th>18</th>\n",
       "      <td>0.0</td>\n",
       "      <td>0.0</td>\n",
       "      <td>0.000</td>\n",
       "      <td>0.0</td>\n",
       "    </tr>\n",
       "    <tr>\n",
       "      <th>19</th>\n",
       "      <td>0.0</td>\n",
       "      <td>0.0</td>\n",
       "      <td>0.000</td>\n",
       "      <td>0.0</td>\n",
       "    </tr>\n",
       "  </tbody>\n",
       "</table>\n",
       "</div>"
      ],
      "text/plain": [
       "                 amt_optimize               amt_linspace  profit_optimize  \\\n",
       "0                       774.0                        0.0           -0.000   \n",
       "1    209750873487598770192384   248794615731133624614912          187.439   \n",
       "2   1039400679781033324838912                          0        -2473.007   \n",
       "3   1803309387791062299312128  1851555719178015687573504        84321.576   \n",
       "4     95151927773565097607168    56063479498935109681152           38.555   \n",
       "5    655926218805288380661760   634218111831703413587968          692.121   \n",
       "6    442207477476863709806592   217245983058373562597376           54.515   \n",
       "7    825212518026893305315328   830440290077976347803648        55610.340   \n",
       "8                       251.0                        0.0           -0.000   \n",
       "9                       335.0                        0.0           -0.000   \n",
       "10                      456.0                        0.0           -0.000   \n",
       "11            2170987683691.0            2171600984663.0        96536.283   \n",
       "12               2213231552.0                        0.0           -0.991   \n",
       "13                      268.0                        0.0           -0.000   \n",
       "14             579036392589.0             594179288249.0          353.783   \n",
       "15            2166985140545.0            2257881295347.0        96439.406   \n",
       "16                        0.0                        0.0            0.000   \n",
       "17                        0.0                        0.0            0.000   \n",
       "18                        0.0                        0.0            0.000   \n",
       "19                        0.0                        0.0            0.000   \n",
       "\n",
       "    profit_linspace  \n",
       "0               0.0  \n",
       "1             172.0  \n",
       "2               0.0  \n",
       "3           85204.0  \n",
       "4              22.0  \n",
       "5             689.0  \n",
       "6             133.0  \n",
       "7           56842.0  \n",
       "8               0.0  \n",
       "9               0.0  \n",
       "10              0.0  \n",
       "11          94028.0  \n",
       "12              0.0  \n",
       "13              0.0  \n",
       "14            352.0  \n",
       "15          96269.0  \n",
       "16              0.0  \n",
       "17              0.0  \n",
       "18              0.0  \n",
       "19              0.0  "
      ]
     },
     "execution_count": 8,
     "metadata": {},
     "output_type": "execute_result"
    }
   ],
   "source": [
    "df = pd.DataFrame(\n",
    "    columns=[\"amt_optimize\", \"amt_linspace\", \"profit_optimize\", \"profit_linspace\"]\n",
    ")\n",
    "\n",
    "for i, cycle in enumerate(cycles):\n",
    "    try:\n",
    "        # This is orders of magnitude slower than `optimize`\n",
    "        trade = cycle.trades[0]\n",
    "        high = trade.pool.get_max_trade_size(trade.i, trade.j)\n",
    "        amts = np.linspace(0, high, 1000)\n",
    "        amts = [int(amt) for amt in amts]\n",
    "        profits = [cycle.populate(amt) for amt in amts]\n",
    "\n",
    "        best_amt_linspace = int(amts[np.argmax(profits)])\n",
    "        best_profit_linspace = int(max(profits))\n",
    "\n",
    "        cycle.optimize()\n",
    "\n",
    "        df.loc[i] = [\n",
    "            cycle.trades[0].amt,\n",
    "            best_amt_linspace,\n",
    "            cycle.expected_profit,\n",
    "            best_profit_linspace,\n",
    "        ]\n",
    "\n",
    "    except Exception as e:\n",
    "        logging.error(f\"Cycle {i} failed to optimize: {e}\")\n",
    "\n",
    "df[\"profit_linspace\"] = df[\"profit_linspace\"].astype(float)\n",
    "df[\"profit_optimize\"] = df[\"profit_optimize\"].astype(float)\n",
    "df = df.round(3)\n",
    "df"
   ]
  },
  {
   "cell_type": "code",
   "execution_count": 9,
   "metadata": {},
   "outputs": [
    {
     "name": "stderr",
     "output_type": "stream",
     "text": [
      "[WARNING][16:50:23][root]-567577: LLAMMA amt_in 1 != in_amount_done 0.\n"
     ]
    },
    {
     "name": "stdout",
     "output_type": "stream",
     "text": [
      "Best amount linspace: 1851555719178015687573504\n",
      "Best profit linspace: 85204.68462782541\n",
      "Best amount optimize: 1803309387791062299312128\n",
      "Best profit optimize: 84321.57593288147\n"
     ]
    },
    {
     "data": {
      "image/png": "[encoded data removed]",
      "text/plain": [
       "<Figure size 1000x500 with 1 Axes>"
      ]
     },
     "metadata": {},
     "output_type": "display_data"
    }
   ],
   "source": [
    "# TODO this curve is probably not smooth because:\n",
    "# 1. The decimals are not being treated correctly between trades\n",
    "# 2. The state of each pool is not being snapshot correctly (i.e. it's changing)\n",
    "\n",
    "i = 3\n",
    "cycle = cycles[i]\n",
    "\n",
    "trade = cycle.trades[0]\n",
    "high = trade.pool.get_max_trade_size(trade.i, trade.j)\n",
    "amts = np.linspace(1, high, 1000)\n",
    "amts = [int(amt) for amt in amts]\n",
    "profits = [cycle.populate(amt) for amt in amts]\n",
    "\n",
    "best_amt_linspace = amts[np.argmax(profits)]\n",
    "best_profit_linspace = max(profits)\n",
    "\n",
    "# compare\n",
    "cycle.optimize()\n",
    "best_amt_optimize = cycle.trades[0].amt\n",
    "best_profit_optimize = cycle.expected_profit\n",
    "\n",
    "f, ax = plt.subplots(figsize=(10, 5))\n",
    "ax.scatter(amts, profits, color=\"royalblue\", s=2)\n",
    "ax.plot(amts, profits, color=\"royalblue\")\n",
    "ax.axvline(best_amt_linspace, color=\"indianred\", label=\"linspace\")\n",
    "ax.axvline(best_amt_optimize, color=\"darkgreen\", label=\"optimize\")\n",
    "\n",
    "ax.legend()\n",
    "\n",
    "print(f\"Best amount linspace: {best_amt_linspace}\")\n",
    "print(f\"Best profit linspace: {best_profit_linspace}\")\n",
    "print(f\"Best amount optimize: {best_amt_optimize}\")\n",
    "print(f\"Best profit optimize: {best_profit_optimize}\")"
   ]
  },
  {
   "cell_type": "markdown",
   "metadata": {},
   "source": [
    "# Analyzing arbitrages"
   ]
  },
  {
   "cell_type": "code",
   "execution_count": 10,
   "metadata": {},
   "outputs": [
    {
     "data": {
      "text/plain": [
       "Cycle(Trades: [Swap(pool=Curve.fi Factory Plain Pool: crvUSD/USDC, in=USDC, out=Curve.Fi USD Stablecoin (crvUSD), amt=2170987683691), Swap(pool=Curve.fi Stablecoin WETH, in=crvUSD, out=WETH, amt=2175352234146137512897804), Swap(pool=External Market (USDC, WETH), in=Wrapped Ether, out=USD Coin, amt=1060567024683191920725)], Expected Profit: 96536.282693)"
      ]
     },
     "execution_count": 10,
     "metadata": {},
     "output_type": "execute_result"
    }
   ],
   "source": [
    "best = arbitrageur.find_best_arbitrage(cycles)\n",
    "best"
   ]
  },
  {
   "cell_type": "code",
   "execution_count": 11,
   "metadata": {},
   "outputs": [
    {
     "name": "stderr",
     "output_type": "stream",
     "text": [
      "[INFO][16:50:25][root]-567577: Executing trade Swap(pool=Curve.fi Factory Plain Pool: crvUSD/USDC, in=USDC, out=Curve.Fi USD Stablecoin (crvUSD), amt=2170987683691).\n",
      "[INFO][16:50:25][root]-567577: Executing trade Swap(pool=Curve.fi Stablecoin WETH, in=crvUSD, out=WETH, amt=2175352234146137512897804).\n",
      "[INFO][16:50:25][root]-567577: Executing trade Swap(pool=External Market (USDC, WETH), in=Wrapped Ether, out=USD Coin, amt=1060567024683191920725).\n"
     ]
    },
    {
     "name": "stdout",
     "output_type": "stream",
     "text": [
      "Pre Trade prices: [0.9972815765260359, 1944.6148765912665, 2138.0677672286333]\n",
      "External Market price: 2138.0677672286333\n",
      "Curve pool prices: 1939.328589862921\n",
      "\n",
      "Post Trade prices: [0.9984094237929201, 2123.3962086507872, 2138.0677672286333]\n",
      "External Market price: 2138.0677672286333\n",
      "Curve pool prices: 2120.0187851631035\n"
     ]
    }
   ],
   "source": [
    "# get the trades in the cycle\n",
    "# the price of pool 1 * price of pool 2 should approach pool 3\n",
    "def get_prices(cycle):\n",
    "    prices = []\n",
    "    for trade in best.trades:\n",
    "        price = trade.pool.price(trade.i, trade.j)\n",
    "        if not isinstance(trade.pool, ExternalMarket):\n",
    "            price /= 1e18\n",
    "        prices.append(price)\n",
    "    return prices\n",
    "\n",
    "prices = get_prices(best)\n",
    "\n",
    "print(f\"Pre Trade prices: {prices}\")\n",
    "print(f\"External Market price: {prices[2]}\")\n",
    "print(f\"Curve pool prices: {prices[0] * prices[1]}\")\n",
    "print()\n",
    "\n",
    "best.execute()\n",
    "prices = get_prices(best)\n",
    "\n",
    "print(f\"Post Trade prices: {prices}\")\n",
    "print(f\"External Market price: {prices[2]}\")\n",
    "print(f\"Curve pool prices: {prices[0] * prices[1]}\")"
   ]
  },
  {
   "cell_type": "code",
   "execution_count": null,
   "metadata": {},
   "outputs": [],
   "source": []
  }
 ],
 "metadata": {
  "kernelspec": {
   "display_name": "venv",
   "language": "python",
   "name": "python3"
  },
  "language_info": {
   "codemirror_mode": {
    "name": "ipython",
    "version": 3
   },
   "file_extension": ".py",
   "mimetype": "text/x-python",
   "name": "python",
   "nbconvert_exporter": "python",
   "pygments_lexer": "ipython3",
   "version": "3.11.3"
  }
 },
 "nbformat": 4,
 "nbformat_minor": 2
}
