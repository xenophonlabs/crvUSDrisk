{
 "cells": [
  {
   "cell_type": "markdown",
   "metadata": {},
   "source": [
    "# Demo the Arbitrageur Agent Logic\n",
    "\n",
    "This notebook:\n",
    "\n",
    "1. Fetches the latest crvusd contract data into Python objects using `crvusdsim`.\n",
    "2. Fetches prices and `ExternalMarket`s from the `baseline` scenario.\n",
    "3. Instantiates an Arbitrageur agent.\n",
    "4. Checks if there are profitable arbitrages and performs them."
   ]
  },
  {
   "cell_type": "code",
   "execution_count": 2,
   "metadata": {},
   "outputs": [],
   "source": [
    "import logging\n",
    "import numpy as np\n",
    "import pandas as pd\n",
    "import matplotlib.pyplot as plt\n",
    "from crvusdsim.pool import get\n",
    "from src.agents.arbitrageur import Arbitrageur\n",
    "from src.sim.scenario import Scenario\n",
    "from src.utils.poolgraph import PoolGraph\n",
    "\n",
    "\n",
    "%load_ext autoreload\n",
    "%autoreload 2"
   ]
  },
  {
   "cell_type": "code",
   "execution_count": 3,
   "metadata": {},
   "outputs": [],
   "source": [
    "arbitrageur = Arbitrageur()\n",
    "\n",
    "ETH_POOL = \"weth\"\n",
    "(\n",
    "    pool,\n",
    "    controller,\n",
    "    collateral_token,\n",
    "    stablecoin,\n",
    "    aggregator,\n",
    "    stableswap_pools,\n",
    "    peg_keepers,\n",
    "    policy,\n",
    "    factory,\n",
    ") = get(ETH_POOL, bands_data=\"controller\")"
   ]
  },
  {
   "cell_type": "code",
   "execution_count": 4,
   "metadata": {},
   "outputs": [
    {
     "name": "stdout",
     "output_type": "stream",
     "text": [
      "Pre Trade\n",
      "Balances [10114723654034, 25767074910220216366569187]\n",
      "High 12918808792401666455492325\n",
      "Allowance 10114723654034\n",
      "\n",
      "Post Trade\n",
      "Amount out 10012575059851\n",
      "Balances [101647915363, 38685883702621882822061512]\n",
      "Allowance 102148594183\n",
      "\n",
      "After reversing snapshot context\n",
      "Balances [10114723654034, 25767074910220216366569187]\n",
      "Allowance 10114723654034\n"
     ]
    }
   ],
   "source": [
    "# Verify snapshot context works on StableSwap pools from crvusdsim\n",
    "i, j = 1, 0\n",
    "\n",
    "stableswap_pool = stableswap_pools[2]\n",
    "high = stableswap_pool.get_max_trade_size(i, j)\n",
    "prev_bals = stableswap_pool.balances.copy()\n",
    "\n",
    "print(\"Pre Trade\")\n",
    "print(\"Balances\", prev_bals)\n",
    "print(\"High\", high)\n",
    "print(\"Allowance\", stableswap_pool.coins[0].balanceOf[stableswap_pool.address])\n",
    "print()\n",
    "\n",
    "with stableswap_pool.use_snapshot_context():\n",
    "    amt_out = stableswap_pool.trade(i, j, high)\n",
    "    swap_bals = stableswap_pool.balances.copy()\n",
    "    print(\"Post Trade\")\n",
    "    print(\"Amount out\", amt_out)\n",
    "    print(\"Balances\", swap_bals)\n",
    "    print(\"Allowance\", stableswap_pool.coins[0].balanceOf[stableswap_pool.address])\n",
    "    print()\n",
    "\n",
    "new_bals = stableswap_pool.balances.copy()\n",
    "print(\"After reversing snapshot context\")\n",
    "print(\"Balances\", new_bals)\n",
    "print(\"Allowance\", stableswap_pool.coins[0].balanceOf[stableswap_pool.address])\n",
    "\n",
    "assert prev_bals == new_bals, (prev_bals, new_bals)\n",
    "assert swap_bals != new_bals"
   ]
  },
  {
   "cell_type": "code",
   "execution_count": 5,
   "metadata": {},
   "outputs": [
    {
     "name": "stderr",
     "output_type": "stream",
     "text": [
      "[INFO][23:18:47][root]-542810: Reading price config from ../src/configs/scenarios/baseline.json.\n",
      "[INFO][23:18:47][root]-542810: Fetching 1inch quotes.\n",
      "[INFO][23:18:52][root]-542810: We have 436320 quotes.\n",
      "[INFO][23:18:52][root]-542810: Fitting external markets against 1inch quotes.\n",
      "[INFO][23:18:52][root]-542810: Reading price config from ../src/configs/prices/1h_1696108632_1701289032.json.\n"
     ]
    }
   ],
   "source": [
    "# Generate markets and prices\n",
    "config = \"../src/configs/scenarios/baseline.json\"\n",
    "scenario = Scenario(config)\n",
    "markets = scenario.generate_markets()\n",
    "prices = scenario.generate_pricepaths(\"../\" + scenario.price_config)\n",
    "scenario.update_market_prices(prices[-1])"
   ]
  },
  {
   "cell_type": "code",
   "execution_count": 12,
   "metadata": {},
   "outputs": [
    {
     "name": "stdout",
     "output_type": "stream",
     "text": [
      "There are 20 total pools:\n",
      "StableSwap: 4\n",
      "LLAMMA: 1\n",
      "External Markets: 15\n"
     ]
    }
   ],
   "source": [
    "# Create a list of all stableswap pools, LLAMMAs, and External Markets.\n",
    "markets_lst = list(markets.values())\n",
    "pools = stableswap_pools + [pool] + markets_lst\n",
    "print(\n",
    "    f\"There are {len(pools)} total pools:\\nStableSwap: {len(stableswap_pools)}\\nLLAMMA: 1\\nExternal Markets: {len(markets_lst)}\"\n",
    ")"
   ]
  },
  {
   "cell_type": "code",
   "execution_count": 13,
   "metadata": {},
   "outputs": [
    {
     "name": "stderr",
     "output_type": "stream",
     "text": [
      "[INFO][23:21:27][root]-542810: Found 20 valid cycles of length 3.\n"
     ]
    },
    {
     "data": {
      "text/plain": [
       "[Cycle(Trades: [Swap(pool=<SimCurveStableSwapPool address=0x34d655069f4cac1547e4c8ca284ffff5ad4a8db0 chain=mainnet>, i=0, j=1, amt=None), Swap(pool=<SimCurveStableSwapPool address=0xca978a0528116dda3cba9acd3e68bc6191ca53d0 chain=mainnet>, i=1, j=0, amt=None), Swap(pool=External Market (TUSD, USDP), i=1, j=0, amt=None)], Expected Profit: None),\n",
       " Cycle(Trades: [Swap(pool=<SimCurveStableSwapPool address=0x34d655069f4cac1547e4c8ca284ffff5ad4a8db0 chain=mainnet>, i=0, j=1, amt=None), Swap(pool=<SimCurveStableSwapPool address=0x4dece678ceceb27446b35c672dc7d61f30bad69e chain=mainnet>, i=1, j=0, amt=None), Swap(pool=External Market (TUSD, USDC), i=1, j=0, amt=None)], Expected Profit: None),\n",
       " Cycle(Trades: [Swap(pool=<SimCurveStableSwapPool address=0x34d655069f4cac1547e4c8ca284ffff5ad4a8db0 chain=mainnet>, i=0, j=1, amt=None), Swap(pool=<SimCurveStableSwapPool address=0x390f3595bca2df7d23783dfd126427cceb997bf4 chain=mainnet>, i=1, j=0, amt=None), Swap(pool=External Market (TUSD, USDT), i=1, j=0, amt=None)], Expected Profit: None),\n",
       " Cycle(Trades: [Swap(pool=<SimCurveStableSwapPool address=0x34d655069f4cac1547e4c8ca284ffff5ad4a8db0 chain=mainnet>, i=0, j=1, amt=None), Swap(pool=<SimLLAMMAPool address=0x1681195c176239ac5e72d9aebacf5b2492e0c4ee chain=mainnet>, i=0, j=1, amt=None), Swap(pool=External Market (TUSD, WETH), i=1, j=0, amt=None)], Expected Profit: None),\n",
       " Cycle(Trades: [Swap(pool=<SimCurveStableSwapPool address=0xca978a0528116dda3cba9acd3e68bc6191ca53d0 chain=mainnet>, i=0, j=1, amt=None), Swap(pool=<SimCurveStableSwapPool address=0x34d655069f4cac1547e4c8ca284ffff5ad4a8db0 chain=mainnet>, i=1, j=0, amt=None), Swap(pool=External Market (TUSD, USDP), i=0, j=1, amt=None)], Expected Profit: None),\n",
       " Cycle(Trades: [Swap(pool=<SimCurveStableSwapPool address=0xca978a0528116dda3cba9acd3e68bc6191ca53d0 chain=mainnet>, i=0, j=1, amt=None), Swap(pool=<SimCurveStableSwapPool address=0x4dece678ceceb27446b35c672dc7d61f30bad69e chain=mainnet>, i=1, j=0, amt=None), Swap(pool=External Market (USDP, USDC), i=1, j=0, amt=None)], Expected Profit: None),\n",
       " Cycle(Trades: [Swap(pool=<SimCurveStableSwapPool address=0xca978a0528116dda3cba9acd3e68bc6191ca53d0 chain=mainnet>, i=0, j=1, amt=None), Swap(pool=<SimCurveStableSwapPool address=0x390f3595bca2df7d23783dfd126427cceb997bf4 chain=mainnet>, i=1, j=0, amt=None), Swap(pool=External Market (USDP, USDT), i=1, j=0, amt=None)], Expected Profit: None),\n",
       " Cycle(Trades: [Swap(pool=<SimCurveStableSwapPool address=0xca978a0528116dda3cba9acd3e68bc6191ca53d0 chain=mainnet>, i=0, j=1, amt=None), Swap(pool=<SimLLAMMAPool address=0x1681195c176239ac5e72d9aebacf5b2492e0c4ee chain=mainnet>, i=0, j=1, amt=None), Swap(pool=External Market (USDP, WETH), i=1, j=0, amt=None)], Expected Profit: None),\n",
       " Cycle(Trades: [Swap(pool=<SimCurveStableSwapPool address=0x4dece678ceceb27446b35c672dc7d61f30bad69e chain=mainnet>, i=0, j=1, amt=None), Swap(pool=<SimCurveStableSwapPool address=0x34d655069f4cac1547e4c8ca284ffff5ad4a8db0 chain=mainnet>, i=1, j=0, amt=None), Swap(pool=External Market (TUSD, USDC), i=0, j=1, amt=None)], Expected Profit: None),\n",
       " Cycle(Trades: [Swap(pool=<SimCurveStableSwapPool address=0x4dece678ceceb27446b35c672dc7d61f30bad69e chain=mainnet>, i=0, j=1, amt=None), Swap(pool=<SimCurveStableSwapPool address=0xca978a0528116dda3cba9acd3e68bc6191ca53d0 chain=mainnet>, i=1, j=0, amt=None), Swap(pool=External Market (USDP, USDC), i=0, j=1, amt=None)], Expected Profit: None),\n",
       " Cycle(Trades: [Swap(pool=<SimCurveStableSwapPool address=0x4dece678ceceb27446b35c672dc7d61f30bad69e chain=mainnet>, i=0, j=1, amt=None), Swap(pool=<SimCurveStableSwapPool address=0x390f3595bca2df7d23783dfd126427cceb997bf4 chain=mainnet>, i=1, j=0, amt=None), Swap(pool=External Market (USDC, USDT), i=1, j=0, amt=None)], Expected Profit: None),\n",
       " Cycle(Trades: [Swap(pool=<SimCurveStableSwapPool address=0x4dece678ceceb27446b35c672dc7d61f30bad69e chain=mainnet>, i=0, j=1, amt=None), Swap(pool=<SimLLAMMAPool address=0x1681195c176239ac5e72d9aebacf5b2492e0c4ee chain=mainnet>, i=0, j=1, amt=None), Swap(pool=External Market (USDC, WETH), i=1, j=0, amt=None)], Expected Profit: None),\n",
       " Cycle(Trades: [Swap(pool=<SimCurveStableSwapPool address=0x390f3595bca2df7d23783dfd126427cceb997bf4 chain=mainnet>, i=0, j=1, amt=None), Swap(pool=<SimCurveStableSwapPool address=0x34d655069f4cac1547e4c8ca284ffff5ad4a8db0 chain=mainnet>, i=1, j=0, amt=None), Swap(pool=External Market (TUSD, USDT), i=0, j=1, amt=None)], Expected Profit: None),\n",
       " Cycle(Trades: [Swap(pool=<SimCurveStableSwapPool address=0x390f3595bca2df7d23783dfd126427cceb997bf4 chain=mainnet>, i=0, j=1, amt=None), Swap(pool=<SimCurveStableSwapPool address=0xca978a0528116dda3cba9acd3e68bc6191ca53d0 chain=mainnet>, i=1, j=0, amt=None), Swap(pool=External Market (USDP, USDT), i=0, j=1, amt=None)], Expected Profit: None),\n",
       " Cycle(Trades: [Swap(pool=<SimCurveStableSwapPool address=0x390f3595bca2df7d23783dfd126427cceb997bf4 chain=mainnet>, i=0, j=1, amt=None), Swap(pool=<SimCurveStableSwapPool address=0x4dece678ceceb27446b35c672dc7d61f30bad69e chain=mainnet>, i=1, j=0, amt=None), Swap(pool=External Market (USDC, USDT), i=0, j=1, amt=None)], Expected Profit: None),\n",
       " Cycle(Trades: [Swap(pool=<SimCurveStableSwapPool address=0x390f3595bca2df7d23783dfd126427cceb997bf4 chain=mainnet>, i=0, j=1, amt=None), Swap(pool=<SimLLAMMAPool address=0x1681195c176239ac5e72d9aebacf5b2492e0c4ee chain=mainnet>, i=0, j=1, amt=None), Swap(pool=External Market (WETH, USDT), i=0, j=1, amt=None)], Expected Profit: None),\n",
       " Cycle(Trades: [Swap(pool=<SimLLAMMAPool address=0x1681195c176239ac5e72d9aebacf5b2492e0c4ee chain=mainnet>, i=1, j=0, amt=None), Swap(pool=<SimCurveStableSwapPool address=0x34d655069f4cac1547e4c8ca284ffff5ad4a8db0 chain=mainnet>, i=1, j=0, amt=None), Swap(pool=External Market (TUSD, WETH), i=0, j=1, amt=None)], Expected Profit: None),\n",
       " Cycle(Trades: [Swap(pool=<SimLLAMMAPool address=0x1681195c176239ac5e72d9aebacf5b2492e0c4ee chain=mainnet>, i=1, j=0, amt=None), Swap(pool=<SimCurveStableSwapPool address=0xca978a0528116dda3cba9acd3e68bc6191ca53d0 chain=mainnet>, i=1, j=0, amt=None), Swap(pool=External Market (USDP, WETH), i=0, j=1, amt=None)], Expected Profit: None),\n",
       " Cycle(Trades: [Swap(pool=<SimLLAMMAPool address=0x1681195c176239ac5e72d9aebacf5b2492e0c4ee chain=mainnet>, i=1, j=0, amt=None), Swap(pool=<SimCurveStableSwapPool address=0x4dece678ceceb27446b35c672dc7d61f30bad69e chain=mainnet>, i=1, j=0, amt=None), Swap(pool=External Market (USDC, WETH), i=0, j=1, amt=None)], Expected Profit: None),\n",
       " Cycle(Trades: [Swap(pool=<SimLLAMMAPool address=0x1681195c176239ac5e72d9aebacf5b2492e0c4ee chain=mainnet>, i=1, j=0, amt=None), Swap(pool=<SimCurveStableSwapPool address=0x390f3595bca2df7d23783dfd126427cceb997bf4 chain=mainnet>, i=1, j=0, amt=None), Swap(pool=External Market (WETH, USDT), i=1, j=0, amt=None)], Expected Profit: None)]"
      ]
     },
     "execution_count": 13,
     "metadata": {},
     "output_type": "execute_result"
    }
   ],
   "source": [
    "n = 3\n",
    "graph = PoolGraph(pools)\n",
    "cycles = graph.find_cycles(n=n)\n",
    "cycles"
   ]
  },
  {
   "cell_type": "code",
   "execution_count": 17,
   "metadata": {},
   "outputs": [
    {
     "name": "stderr",
     "output_type": "stream",
     "text": [
      "[ERROR][23:22:22][root]-542810: Cycle 3 failed to optimize: can't multiply sequence by non-int of type 'float'\n",
      "[ERROR][23:22:24][root]-542810: Cycle 7 failed to optimize: can't multiply sequence by non-int of type 'float'\n",
      "[ERROR][23:22:27][root]-542810: Cycle 11 failed to optimize: can't multiply sequence by non-int of type 'float'\n",
      "[ERROR][23:22:29][root]-542810: Cycle 15 failed to optimize: can't multiply sequence by non-int of type 'float'\n",
      "[ERROR][23:22:29][root]-542810: Cycle 16 failed to optimize: 'SimLLAMMAPool' object has no attribute 'get_max_trade_size'\n",
      "[ERROR][23:22:29][root]-542810: Cycle 17 failed to optimize: 'SimLLAMMAPool' object has no attribute 'get_max_trade_size'\n",
      "[ERROR][23:22:29][root]-542810: Cycle 18 failed to optimize: 'SimLLAMMAPool' object has no attribute 'get_max_trade_size'\n",
      "[ERROR][23:22:29][root]-542810: Cycle 19 failed to optimize: 'SimLLAMMAPool' object has no attribute 'get_max_trade_size'\n"
     ]
    },
    {
     "data": {
      "text/html": [
       "<div>\n",
       "<style scoped>\n",
       "    .dataframe tbody tr th:only-of-type {\n",
       "        vertical-align: middle;\n",
       "    }\n",
       "\n",
       "    .dataframe tbody tr th {\n",
       "        vertical-align: top;\n",
       "    }\n",
       "\n",
       "    .dataframe thead th {\n",
       "        text-align: right;\n",
       "    }\n",
       "</style>\n",
       "<table border=\"1\" class=\"dataframe\">\n",
       "  <thead>\n",
       "    <tr style=\"text-align: right;\">\n",
       "      <th></th>\n",
       "      <th>amt_optimize</th>\n",
       "      <th>amt_linspace</th>\n",
       "      <th>profit_optimize</th>\n",
       "      <th>profit_linspace</th>\n",
       "    </tr>\n",
       "  </thead>\n",
       "  <tbody>\n",
       "    <tr>\n",
       "      <th>0</th>\n",
       "      <td>1696025215737964527616</td>\n",
       "      <td>1</td>\n",
       "      <td>-4.201</td>\n",
       "      <td>0.0</td>\n",
       "    </tr>\n",
       "    <tr>\n",
       "      <th>1</th>\n",
       "      <td>26237383554444650610688</td>\n",
       "      <td>1</td>\n",
       "      <td>-10.312</td>\n",
       "      <td>0.0</td>\n",
       "    </tr>\n",
       "    <tr>\n",
       "      <th>2</th>\n",
       "      <td>143365728069721320849408</td>\n",
       "      <td>1</td>\n",
       "      <td>-140.335</td>\n",
       "      <td>0.0</td>\n",
       "    </tr>\n",
       "    <tr>\n",
       "      <th>4</th>\n",
       "      <td>109530653270562362621952</td>\n",
       "      <td>125998074880190425595904</td>\n",
       "      <td>134.837</td>\n",
       "      <td>139.0</td>\n",
       "    </tr>\n",
       "    <tr>\n",
       "      <th>5</th>\n",
       "      <td>394252920932042228629504</td>\n",
       "      <td>480782127832305573560320</td>\n",
       "      <td>402.776</td>\n",
       "      <td>396.0</td>\n",
       "    </tr>\n",
       "    <tr>\n",
       "      <th>6</th>\n",
       "      <td>275083205386384548298752</td>\n",
       "      <td>427730306830120117075968</td>\n",
       "      <td>261.169</td>\n",
       "      <td>232.0</td>\n",
       "    </tr>\n",
       "    <tr>\n",
       "      <th>8</th>\n",
       "      <td>2601355159.0</td>\n",
       "      <td>1.0</td>\n",
       "      <td>-0.207</td>\n",
       "      <td>0.0</td>\n",
       "    </tr>\n",
       "    <tr>\n",
       "      <th>9</th>\n",
       "      <td>184.0</td>\n",
       "      <td>1.0</td>\n",
       "      <td>-0.000</td>\n",
       "      <td>0.0</td>\n",
       "    </tr>\n",
       "    <tr>\n",
       "      <th>10</th>\n",
       "      <td>2445.0</td>\n",
       "      <td>1.0</td>\n",
       "      <td>-0.000</td>\n",
       "      <td>0.0</td>\n",
       "    </tr>\n",
       "    <tr>\n",
       "      <th>12</th>\n",
       "      <td>47509281421.0</td>\n",
       "      <td>1.0</td>\n",
       "      <td>4.919</td>\n",
       "      <td>0.0</td>\n",
       "    </tr>\n",
       "    <tr>\n",
       "      <th>13</th>\n",
       "      <td>242.0</td>\n",
       "      <td>1.0</td>\n",
       "      <td>-0.000</td>\n",
       "      <td>0.0</td>\n",
       "    </tr>\n",
       "    <tr>\n",
       "      <th>14</th>\n",
       "      <td>102056177486.0</td>\n",
       "      <td>1.0</td>\n",
       "      <td>-0.880</td>\n",
       "      <td>0.0</td>\n",
       "    </tr>\n",
       "  </tbody>\n",
       "</table>\n",
       "</div>"
      ],
      "text/plain": [
       "                amt_optimize              amt_linspace  profit_optimize  \\\n",
       "0     1696025215737964527616                         1           -4.201   \n",
       "1    26237383554444650610688                         1          -10.312   \n",
       "2   143365728069721320849408                         1         -140.335   \n",
       "4   109530653270562362621952  125998074880190425595904          134.837   \n",
       "5   394252920932042228629504  480782127832305573560320          402.776   \n",
       "6   275083205386384548298752  427730306830120117075968          261.169   \n",
       "8               2601355159.0                       1.0           -0.207   \n",
       "9                      184.0                       1.0           -0.000   \n",
       "10                    2445.0                       1.0           -0.000   \n",
       "12             47509281421.0                       1.0            4.919   \n",
       "13                     242.0                       1.0           -0.000   \n",
       "14            102056177486.0                       1.0           -0.880   \n",
       "\n",
       "    profit_linspace  \n",
       "0               0.0  \n",
       "1               0.0  \n",
       "2               0.0  \n",
       "4             139.0  \n",
       "5             396.0  \n",
       "6             232.0  \n",
       "8               0.0  \n",
       "9               0.0  \n",
       "10              0.0  \n",
       "12              0.0  \n",
       "13              0.0  \n",
       "14              0.0  "
      ]
     },
     "execution_count": 17,
     "metadata": {},
     "output_type": "execute_result"
    }
   ],
   "source": [
    "# TODO handle failures:\n",
    "# 1. `trade` method has diff outputs for diff pool types\n",
    "# 2. LLAMMA snapshot context doesn't snapshot ERC20 balances\n",
    "# 3. LLAMMA has no attribute `get_max_trade_size`\n",
    "\n",
    "df = pd.DataFrame(\n",
    "    columns=[\"amt_optimize\", \"amt_linspace\", \"profit_optimize\", \"profit_linspace\"]\n",
    ")\n",
    "\n",
    "for i, cycle in enumerate(cycles):\n",
    "    try:\n",
    "        # This is orders of magnitude slower than `optimize`\n",
    "        trade = cycle.trades[0]\n",
    "        high = trade.pool.get_max_trade_size(trade.i, trade.j)\n",
    "        amts = np.linspace(1, high, 1000)\n",
    "        amts = [int(amt) for amt in amts]\n",
    "        profits = [cycle.populate(amt) for amt in amts]\n",
    "\n",
    "        best_amt_linspace = int(amts[np.argmax(profits)])\n",
    "        best_profit_linspace = int(max(profits))\n",
    "\n",
    "        cycle.optimize()\n",
    "\n",
    "        df.loc[i] = [\n",
    "            cycle.trades[0].amt,\n",
    "            best_amt_linspace,\n",
    "            cycle.expected_profit,\n",
    "            best_profit_linspace,\n",
    "        ]\n",
    "\n",
    "    except Exception as e:\n",
    "        logging.error(f\"Cycle {i} failed to optimize: {e}\")\n",
    "\n",
    "df[\"profit_linspace\"] = df[\"profit_linspace\"].astype(float)\n",
    "df[\"profit_optimize\"] = df[\"profit_optimize\"].astype(float)\n",
    "df = df.round(3)\n",
    "df"
   ]
  },
  {
   "cell_type": "code",
   "execution_count": 16,
   "metadata": {},
   "outputs": [
    {
     "name": "stdout",
     "output_type": "stream",
     "text": [
      "Best amount linspace: 1\n",
      "Best profit linspace: -1e-18\n",
      "Best amount optimize: 1696025215737964527616\n",
      "Best profit optimize: -4.2008824741730715\n"
     ]
    },
    {
     "data": {
      "image/png": "[encoded data removed]",
      "text/plain": [
       "<Figure size 1000x500 with 1 Axes>"
      ]
     },
     "metadata": {},
     "output_type": "display_data"
    }
   ],
   "source": [
    "# TODO this curve is probably not smooth because:\n",
    "# 1. The decimals are not being treated correctly between trades\n",
    "# 2. The state of each pool is not being snapshot correctly (i.e. it's changing)\n",
    "\n",
    "i = 0\n",
    "cycle = cycles[i]\n",
    "\n",
    "trade = cycle.trades[0]\n",
    "high = trade.pool.get_max_trade_size(trade.i, trade.j) / 10\n",
    "amts = np.linspace(1, high, 1000)\n",
    "amts = [int(amt) for amt in amts]\n",
    "profits = [cycle.populate(amt) for amt in amts]\n",
    "\n",
    "best_amt_linspace = amts[np.argmax(profits)]\n",
    "best_profit_linspace = max(profits)\n",
    "\n",
    "# compare\n",
    "cycle.optimize()\n",
    "best_amt_optimize = cycle.trades[0].amt\n",
    "best_profit_optimize = cycle.expected_profit\n",
    "\n",
    "f, ax = plt.subplots(figsize=(10, 5))\n",
    "ax.scatter(amts, profits, color=\"royalblue\")\n",
    "ax.plot(amts, profits, color=\"royalblue\")\n",
    "ax.axvline(best_amt_linspace, color=\"indianred\", label=\"linspace\")\n",
    "ax.axvline(best_amt_optimize, color=\"darkgreen\", label=\"optimize\")\n",
    "\n",
    "# ax.set_xlim(0, 919573381759 * 2)\n",
    "# ax.set_ylim(-1000, 1000)\n",
    "\n",
    "ax.legend()\n",
    "\n",
    "print(f\"Best amount linspace: {best_amt_linspace}\")\n",
    "print(f\"Best profit linspace: {best_profit_linspace}\")\n",
    "print(f\"Best amount optimize: {best_amt_optimize}\")\n",
    "print(f\"Best profit optimize: {best_profit_optimize}\")"
   ]
  },
  {
   "cell_type": "code",
   "execution_count": null,
   "metadata": {},
   "outputs": [],
   "source": []
  }
 ],
 "metadata": {
  "kernelspec": {
   "display_name": "venv",
   "language": "python",
   "name": "python3"
  },
  "language_info": {
   "codemirror_mode": {
    "name": "ipython",
    "version": 3
   },
   "file_extension": ".py",
   "mimetype": "text/x-python",
   "name": "python",
   "nbconvert_exporter": "python",
   "pygments_lexer": "ipython3",
   "version": "3.11.3"
  }
 },
 "nbformat": 4,
 "nbformat_minor": 2
}
