{
 "cells": [
  {
   "cell_type": "markdown",
   "metadata": {},
   "source": [
    "# Demo the Arbitrageur Agent Logic\n",
    "\n",
    "This notebook:\n",
    "\n",
    "1. Fetches the latest crvusd contract data into Python objects using `crvusdsim`.\n",
    "2. Fetches prices and `ExternalMarket`s from the `baseline` scenario.\n",
    "3. Instantiates an Arbitrageur agent.\n",
    "4. Checks if there are profitable arbitrages and performs them."
   ]
  },
  {
   "cell_type": "code",
   "execution_count": null,
   "metadata": {},
   "outputs": [],
   "source": [
    "from crvusdsim.pool import get\n",
    "from src.agents.arbitrageur import Arbitrageur\n",
    "from src.sim.scenario import Scenario\n",
    "\n",
    "%load_ext autoreload\n",
    "%autoreload 2"
   ]
  },
  {
   "cell_type": "code",
   "execution_count": null,
   "metadata": {},
   "outputs": [],
   "source": [
    "liquidator = Liquidator()\n",
    "\n",
    "ETH_POOL = \"weth\"\n",
    "(\n",
    "    pool,\n",
    "    controller,\n",
    "    collateral_token,\n",
    "    stablecoin,\n",
    "    aggregator,\n",
    "    stableswap_pools,\n",
    "    peg_keepers,\n",
    "    policy,\n",
    "    factory,\n",
    ") = get(ETH_POOL, bands_data=\"controller\")"
   ]
  },
  {
   "cell_type": "code",
   "execution_count": null,
   "metadata": {},
   "outputs": [],
   "source": [
    "# Verify snapshot context works on StableSwap pools from crvusdsim\n",
    "i, j = 1, 0\n",
    "\n",
    "stableswap_pool = stableswap_pools[2]\n",
    "high = stableswap_pool.get_max_trade_size(i, j)\n",
    "prev_bals = stableswap_pool.balances\n",
    "print(\"Balances\", [prev_bals])\n",
    "print(\"High\", high)\n",
    "print(\"Allowance\", stableswap_pool.coins[0].balanceOf[stableswap_pool.address])\n",
    "with stableswap_pool.use_snapshot_context():\n",
    "    amt_out = stableswap_pool.trade(i, j, high)\n",
    "    swap_bals = stableswap_pool.balances\n",
    "    print(\"Amount out\", amt_out)\n",
    "    print(\"Balances\", swap_bals)\n",
    "    print(\"Allowance\", stableswap_pool.coins[0].balanceOf[stableswap_pool.address])\n",
    "new_bals = stableswap_pool.balances\n",
    "print(\"Balances\", new_bals)\n",
    "print(\"Allowance\", stableswap_pool.coins[0].balanceOf[stableswap_pool.address])\n",
    "\n",
    "assert prev_bals == new_bals\n",
    "assert swap_bals != new_bals"
   ]
  }
 ],
 "metadata": {
  "kernelspec": {
   "display_name": "venv",
   "language": "python",
   "name": "python3"
  },
  "language_info": {
   "name": "python",
   "version": "3.11.3"
  }
 },
 "nbformat": 4,
 "nbformat_minor": 2
}
