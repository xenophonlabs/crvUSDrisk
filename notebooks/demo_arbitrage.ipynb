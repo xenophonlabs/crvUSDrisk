{
 "cells": [
  {
   "cell_type": "markdown",
   "metadata": {},
   "source": [
    "# Demo the Arbitrageur Agent Logic\n",
    "\n",
    "This notebook:\n",
    "\n",
    "1. Fetches the latest crvusd contract data into Python objects using `crvusdsim`.\n",
    "2. Fetches prices and `ExternalMarket`s from the `baseline` scenario.\n",
    "3. Instantiates an Arbitrageur agent.\n",
    "4. Checks if there are profitable arbitrages and performs them."
   ]
  },
  {
   "cell_type": "code",
   "execution_count": 1,
   "metadata": {},
   "outputs": [],
   "source": [
    "from crvusdsim.pool import get\n",
    "from src.modules import ExternalMarket\n",
    "from src.agents.arbitrageur import Arbitrageur\n",
    "from src.sim.scenario import Scenario\n",
    "\n",
    "%load_ext autoreload\n",
    "%autoreload 2"
   ]
  },
  {
   "cell_type": "code",
   "execution_count": 2,
   "metadata": {},
   "outputs": [
    {
     "data": {
      "text/plain": [
       "'\\nThe way this should work:\\n1. Get all stableswap pools and relevant external markets\\n2. Create a list of all possible cycles of the form:\\n    [Flashswap] -> StableSwap Pool -> StableSwap Pool -> External Market\\n    TODO how to handle flashswap fee/slippage?\\n3. For each cycle: Optimize amount into first trade to maximize profit.\\n    This is done by creating a cycle object and optimizing the amount into\\n    the first trade. Then we can use `minimize_scalar` on the `execute()` method.\\n4. Execute most profitable cycle.\\n5. Repeat steps 3-4 until no profitable cycles remain.\\n\\nTODO maybe there should be a class that holds all the pools. That way I can always just\\npass in a single variable to any agent or function! This could just be a hashmap like:\\n\\npools: defaultdict(list) = {\\n    # <type> : []\\n    \"SimCurveStableSwapPool\": [],\\n    \"SimLLAMMAPool\": [],\\n    \"SimCurvePool\": [],\\n    \"ExternalMarket\": [],\\n}\\n'"
      ]
     },
     "execution_count": 2,
     "metadata": {},
     "output_type": "execute_result"
    }
   ],
   "source": [
    "\"\"\"\n",
    "The way this should work:\n",
    "1. Get all stableswap pools and relevant external markets\n",
    "2. Create a list of all possible cycles of the form:\n",
    "    [Flashswap] -> StableSwap Pool -> StableSwap Pool -> External Market\n",
    "    TODO how to handle flashswap fee/slippage?\n",
    "3. For each cycle: Optimize amount into first trade to maximize profit.\n",
    "    This is done by creating a cycle object and optimizing the amount into\n",
    "    the first trade. Then we can use `minimize_scalar` on the `execute()` method.\n",
    "4. Execute most profitable cycle.\n",
    "5. Repeat steps 3-4 until no profitable cycles remain.\n",
    "\n",
    "TODO maybe there should be a class that holds all the pools. That way I can always just\n",
    "pass in a single variable to any agent or function! This could just be a hashmap like:\n",
    "\n",
    "pools: defaultdict(list) = {\n",
    "    # <type> : []\n",
    "    \"SimCurveStableSwapPool\": [],\n",
    "    \"SimLLAMMAPool\": [],\n",
    "    \"SimCurvePool\": [],\n",
    "    \"ExternalMarket\": [],\n",
    "}\n",
    "\"\"\""
   ]
  },
  {
   "cell_type": "code",
   "execution_count": 3,
   "metadata": {},
   "outputs": [],
   "source": [
    "arbitrageur = Arbitrageur()\n",
    "\n",
    "ETH_POOL = \"weth\"\n",
    "(\n",
    "    pool,\n",
    "    controller,\n",
    "    collateral_token,\n",
    "    stablecoin,\n",
    "    aggregator,\n",
    "    stableswap_pools,\n",
    "    peg_keepers,\n",
    "    policy,\n",
    "    factory,\n",
    ") = get(ETH_POOL, bands_data=\"controller\")"
   ]
  },
  {
   "cell_type": "code",
   "execution_count": 4,
   "metadata": {},
   "outputs": [
    {
     "name": "stdout",
     "output_type": "stream",
     "text": [
      "Pre Trade\n",
      "Balances [9800026537423, 26112365622012323163758861]\n",
      "High 12698760943745326035464421\n",
      "Allowance 9800026537423\n",
      "\n",
      "Post Trade\n",
      "Amount out 9701056069421\n",
      "Balances [98485366689, 38811126565757649199223282]\n",
      "Allowance 98970468002\n",
      "\n",
      "After reversing snapshot context\n",
      "Balances [9800026537423, 26112365622012323163758861]\n",
      "Allowance 9800026537423\n"
     ]
    }
   ],
   "source": [
    "# Verify snapshot context works on StableSwap pools from crvusdsim\n",
    "i, j = 1, 0\n",
    "\n",
    "stableswap_pool = stableswap_pools[2]\n",
    "high = stableswap_pool.get_max_trade_size(i, j)\n",
    "prev_bals = stableswap_pool.balances.copy()\n",
    "\n",
    "print(\"Pre Trade\")\n",
    "print(\"Balances\", prev_bals)\n",
    "print(\"High\", high)\n",
    "print(\"Allowance\", stableswap_pool.coins[0].balanceOf[stableswap_pool.address])\n",
    "print()\n",
    "\n",
    "with stableswap_pool.use_snapshot_context():\n",
    "    amt_out = stableswap_pool.trade(i, j, high)\n",
    "    swap_bals = stableswap_pool.balances.copy()\n",
    "    print(\"Post Trade\")\n",
    "    print(\"Amount out\", amt_out)\n",
    "    print(\"Balances\", swap_bals)\n",
    "    print(\"Allowance\", stableswap_pool.coins[0].balanceOf[stableswap_pool.address])\n",
    "    print()\n",
    "\n",
    "new_bals = stableswap_pool.balances.copy()\n",
    "print(\"After reversing snapshot context\")\n",
    "print(\"Balances\", new_bals)\n",
    "print(\"Allowance\", stableswap_pool.coins[0].balanceOf[stableswap_pool.address])\n",
    "\n",
    "assert prev_bals == new_bals, (prev_bals, new_bals)\n",
    "assert swap_bals != new_bals"
   ]
  },
  {
   "cell_type": "code",
   "execution_count": 5,
   "metadata": {},
   "outputs": [
    {
     "name": "stderr",
     "output_type": "stream",
     "text": [
      "[INFO][02:42:36][root]-444465: Reading price config from ../src/configs/scenarios/baseline.json.\n",
      "[INFO][02:42:36][root]-444465: Fetching 1inch quotes.\n"
     ]
    },
    {
     "name": "stderr",
     "output_type": "stream",
     "text": [
      "[INFO][02:42:41][root]-444465: We have 380160 quotes.\n",
      "[INFO][02:42:41][root]-444465: Fitting external markets against 1inch quotes.\n",
      "[INFO][02:42:41][root]-444465: Reading price config from ../src/configs/prices/1h_1694894242_1700078242.json.\n"
     ]
    }
   ],
   "source": [
    "config = \"../src/configs/scenarios/baseline.json\"\n",
    "scenario = Scenario(config)\n",
    "markets = scenario.generate_markets()\n",
    "prices = scenario.generate_pricepaths(\n",
    "    \"../src/configs/prices/1h_1694894242_1700078242.json\"\n",
    ")\n",
    "\n",
    "# Set External Market Prices\n",
    "sample = prices[-1].prices\n",
    "for in_token in markets:\n",
    "    for out_token in markets[in_token]:\n",
    "        markets[in_token][out_token].update_price(sample[in_token][out_token])"
   ]
  },
  {
   "cell_type": "code",
   "execution_count": 6,
   "metadata": {},
   "outputs": [
    {
     "name": "stdout",
     "output_type": "stream",
     "text": [
      "There are 35 total pools:\n",
      "StableSwap: 4\n",
      "LLAMMA: 1\n",
      "External Markets: 30\n"
     ]
    }
   ],
   "source": [
    "# Create a list of all stableswap pools, LLAMMAs, and External Markets.\n",
    "markets_lst = [item for subdict in markets.values() for item in subdict.values()]\n",
    "pools = stableswap_pools + [pool] + markets_lst\n",
    "print(\n",
    "    f\"There are {len(pools)} total pools:\\nStableSwap: {len(stableswap_pools)}\\nLLAMMA: 1\\nExternal Markets: {len(markets_lst)}\"\n",
    ")"
   ]
  },
  {
   "cell_type": "code",
   "execution_count": 7,
   "metadata": {},
   "outputs": [],
   "source": [
    "import logging\n",
    "from typing import List, Any, Tuple\n",
    "from src.types import Swap, Cycle\n",
    "\n",
    "# TODO add proper pool typing instead of Any\n",
    "\n",
    "\n",
    "def shared_address(p1: Any, p2: Any, used: set = set()) -> set:\n",
    "    \"\"\"Check if two pools share coins by checking their addrs.\"\"\"\n",
    "    assert p1 != p2, ValueError(\"Cannot share coins with self.\")\n",
    "\n",
    "    if isinstance(p1, ExternalMarket) and isinstance(p2, ExternalMarket):\n",
    "        # External markets are \"directional\", so they'll share both coins.\n",
    "        # TODO refactor them to make them undirected\n",
    "        return None, -1, -1\n",
    "\n",
    "    c1 = [c.lower() for c in p1.coin_addresses]\n",
    "    c2 = [c.lower() for c in p2.coin_addresses]\n",
    "\n",
    "    shared = set(c1) & set(c2) - used\n",
    "    assert len(shared) <= 1, NotImplementedError(\n",
    "        f\"We assume at most one shared coin. {type(p1), type(p2)}\"\n",
    "    )\n",
    "    return shared\n",
    "\n",
    "\n",
    "def get_shared_idxs(p1: Any, p2: Any) -> Tuple[int, int]:\n",
    "    \"\"\"Get the index of the shared coin in each pool.\"\"\"\n",
    "    shared = shared_address(p1, p2).pop()\n",
    "\n",
    "    # FIXME inefficient to recreate c1 and c2\n",
    "    c1 = [c.lower() for c in p1.coin_addresses]\n",
    "    c2 = [c.lower() for c in p2.coin_addresses]\n",
    "\n",
    "    return c1.index(shared), c2.index(shared)\n",
    "\n",
    "\n",
    "class PoolGraph:\n",
    "    # TODO move this to its own file\n",
    "\n",
    "    def __init__(self, pools: List[Any]):\n",
    "        self.pools = pools\n",
    "        self.graph = self.create_graph()\n",
    "\n",
    "    def create_graph(self) -> dict[Any, List[Any]]:\n",
    "        graph = {}\n",
    "        for pool in self.pools:\n",
    "            assert len(pool.coin_addresses) == 2, NotImplementedError(\n",
    "                \"Only 2-coin pools\"\n",
    "            )\n",
    "            graph[pool] = []\n",
    "            for other in self.pools:\n",
    "                if other != pool and bool(shared_address(pool, other)):\n",
    "                    graph[pool].append(other)\n",
    "        return graph\n",
    "\n",
    "    def find_cycles(self, n: int = 3) -> List[Cycle]:\n",
    "        # TODO currently assumes only one shared coin between\n",
    "        # any two pools.\n",
    "        assert len(pools) >= n, ValueError(\"Not enough pools to form a cycle.\")\n",
    "        cycles = []\n",
    "        for pool in self.pools:\n",
    "            self.dfs(pool, [pool], set(), cycles, n)\n",
    "        valid = self.validate(cycles)\n",
    "        logging.info(f\"Found {len(valid)} valid cycles of length {n}.\")\n",
    "        return valid\n",
    "\n",
    "    def can_traverse(self, curr: Any, nxt: Any, used: List[Any]) -> bool:\n",
    "        if isinstance(curr, ExternalMarket) and isinstance(nxt, ExternalMarket):\n",
    "            # Don't traverse between external markets\n",
    "            return False\n",
    "        return bool(shared_address(curr, nxt, used))\n",
    "\n",
    "    def update_used_coins(self, used: List[Any], curr: Any, nxt: Any):\n",
    "        used.update(shared_address(curr, nxt))\n",
    "\n",
    "    def revert_used_coins(self, used: List[Any], curr: Any, nxt: Any):\n",
    "        used.difference_update(shared_address(curr, nxt))\n",
    "\n",
    "    def construct_cycle(self, path: List[Any], n: int) -> Cycle:\n",
    "        trades = []\n",
    "        for i, pool in enumerate(path):\n",
    "            nxt = path[(i + 1) % n]\n",
    "            idx, _ = get_shared_idxs(pool, nxt)  # token out\n",
    "            trades.append(Swap(pool, idx ^ 1, idx, None))\n",
    "        return Cycle(trades)\n",
    "\n",
    "    def dfs(\n",
    "        self, curr: Any, path: List[Any], used: List[Any], cycles: List[Cycle], n: int\n",
    "    ):\n",
    "        if len(path) == n:\n",
    "            # Ensure cycle is closed\n",
    "            shared = shared_address(path[0], path[-1], used)\n",
    "            if bool(shared):\n",
    "                cycles.append(self.construct_cycle(path, n))\n",
    "            return\n",
    "\n",
    "        for nxt in self.graph[curr]:\n",
    "            if nxt in path:\n",
    "                # Only visit each pool once per cycle\n",
    "                continue\n",
    "            if self.can_traverse(curr, nxt, used):\n",
    "                path.append(nxt)\n",
    "                self.update_used_coins(used, curr, nxt)\n",
    "                self.dfs(nxt, path, used, cycles, n)\n",
    "                path.pop()\n",
    "                self.revert_used_coins(used, curr, nxt)\n",
    "\n",
    "    def validate(self, cycles: List[Cycle]) -> List[Cycle]:\n",
    "        \"\"\"\n",
    "        Filter for cycles that only has one ExternalMarket,\n",
    "        and it's at the end of the cycle.\n",
    "        \"\"\"\n",
    "        valid = []\n",
    "        for cycle in cycles:\n",
    "            pools = [t.pool for t in cycle.trades]\n",
    "            if not isinstance(pools[-1], ExternalMarket):\n",
    "                continue\n",
    "            for pool in pools[:-1]:\n",
    "                if isinstance(pool, ExternalMarket):\n",
    "                    continue\n",
    "            valid.append(cycle)\n",
    "        return valid"
   ]
  },
  {
   "cell_type": "code",
   "execution_count": 8,
   "metadata": {},
   "outputs": [
    {
     "name": "stderr",
     "output_type": "stream",
     "text": [
      "[INFO][02:42:41][root]-444465: Found 40 valid cycles of length 3.\n"
     ]
    },
    {
     "data": {
      "text/plain": [
       "[Cycle(Trades: [Swap(pool=<SimCurveStableSwapPool address=0x34d655069f4cac1547e4c8ca284ffff5ad4a8db0 chain=mainnet>, i=0, j=1, amt=None), Swap(pool=<SimCurveStableSwapPool address=0xca978a0528116dda3cba9acd3e68bc6191ca53d0 chain=mainnet>, i=1, j=0, amt=None), Swap(pool=External Market: USDP -> TUSD, i=0, j=1, amt=None)], Expected Profit: None),\n",
       " Cycle(Trades: [Swap(pool=<SimCurveStableSwapPool address=0x34d655069f4cac1547e4c8ca284ffff5ad4a8db0 chain=mainnet>, i=0, j=1, amt=None), Swap(pool=<SimCurveStableSwapPool address=0xca978a0528116dda3cba9acd3e68bc6191ca53d0 chain=mainnet>, i=1, j=0, amt=None), Swap(pool=External Market: TUSD -> USDP, i=1, j=0, amt=None)], Expected Profit: None),\n",
       " Cycle(Trades: [Swap(pool=<SimCurveStableSwapPool address=0x34d655069f4cac1547e4c8ca284ffff5ad4a8db0 chain=mainnet>, i=0, j=1, amt=None), Swap(pool=<SimCurveStableSwapPool address=0x4dece678ceceb27446b35c672dc7d61f30bad69e chain=mainnet>, i=1, j=0, amt=None), Swap(pool=External Market: USDC -> TUSD, i=0, j=1, amt=None)], Expected Profit: None),\n",
       " Cycle(Trades: [Swap(pool=<SimCurveStableSwapPool address=0x34d655069f4cac1547e4c8ca284ffff5ad4a8db0 chain=mainnet>, i=0, j=1, amt=None), Swap(pool=<SimCurveStableSwapPool address=0x4dece678ceceb27446b35c672dc7d61f30bad69e chain=mainnet>, i=1, j=0, amt=None), Swap(pool=External Market: TUSD -> USDC, i=1, j=0, amt=None)], Expected Profit: None),\n",
       " Cycle(Trades: [Swap(pool=<SimCurveStableSwapPool address=0x34d655069f4cac1547e4c8ca284ffff5ad4a8db0 chain=mainnet>, i=0, j=1, amt=None), Swap(pool=<SimCurveStableSwapPool address=0x390f3595bca2df7d23783dfd126427cceb997bf4 chain=mainnet>, i=1, j=0, amt=None), Swap(pool=External Market: USDT -> TUSD, i=0, j=1, amt=None)], Expected Profit: None),\n",
       " Cycle(Trades: [Swap(pool=<SimCurveStableSwapPool address=0x34d655069f4cac1547e4c8ca284ffff5ad4a8db0 chain=mainnet>, i=0, j=1, amt=None), Swap(pool=<SimCurveStableSwapPool address=0x390f3595bca2df7d23783dfd126427cceb997bf4 chain=mainnet>, i=1, j=0, amt=None), Swap(pool=External Market: TUSD -> USDT, i=1, j=0, amt=None)], Expected Profit: None),\n",
       " Cycle(Trades: [Swap(pool=<SimCurveStableSwapPool address=0x34d655069f4cac1547e4c8ca284ffff5ad4a8db0 chain=mainnet>, i=0, j=1, amt=None), Swap(pool=<SimLLAMMAPool address=0x1681195c176239ac5e72d9aebacf5b2492e0c4ee chain=mainnet>, i=0, j=1, amt=None), Swap(pool=External Market: TUSD -> WETH, i=1, j=0, amt=None)], Expected Profit: None),\n",
       " Cycle(Trades: [Swap(pool=<SimCurveStableSwapPool address=0x34d655069f4cac1547e4c8ca284ffff5ad4a8db0 chain=mainnet>, i=0, j=1, amt=None), Swap(pool=<SimLLAMMAPool address=0x1681195c176239ac5e72d9aebacf5b2492e0c4ee chain=mainnet>, i=0, j=1, amt=None), Swap(pool=External Market: WETH -> TUSD, i=0, j=1, amt=None)], Expected Profit: None),\n",
       " Cycle(Trades: [Swap(pool=<SimCurveStableSwapPool address=0xca978a0528116dda3cba9acd3e68bc6191ca53d0 chain=mainnet>, i=0, j=1, amt=None), Swap(pool=<SimCurveStableSwapPool address=0x34d655069f4cac1547e4c8ca284ffff5ad4a8db0 chain=mainnet>, i=1, j=0, amt=None), Swap(pool=External Market: USDP -> TUSD, i=1, j=0, amt=None)], Expected Profit: None),\n",
       " Cycle(Trades: [Swap(pool=<SimCurveStableSwapPool address=0xca978a0528116dda3cba9acd3e68bc6191ca53d0 chain=mainnet>, i=0, j=1, amt=None), Swap(pool=<SimCurveStableSwapPool address=0x34d655069f4cac1547e4c8ca284ffff5ad4a8db0 chain=mainnet>, i=1, j=0, amt=None), Swap(pool=External Market: TUSD -> USDP, i=0, j=1, amt=None)], Expected Profit: None),\n",
       " Cycle(Trades: [Swap(pool=<SimCurveStableSwapPool address=0xca978a0528116dda3cba9acd3e68bc6191ca53d0 chain=mainnet>, i=0, j=1, amt=None), Swap(pool=<SimCurveStableSwapPool address=0x4dece678ceceb27446b35c672dc7d61f30bad69e chain=mainnet>, i=1, j=0, amt=None), Swap(pool=External Market: USDC -> USDP, i=0, j=1, amt=None)], Expected Profit: None),\n",
       " Cycle(Trades: [Swap(pool=<SimCurveStableSwapPool address=0xca978a0528116dda3cba9acd3e68bc6191ca53d0 chain=mainnet>, i=0, j=1, amt=None), Swap(pool=<SimCurveStableSwapPool address=0x4dece678ceceb27446b35c672dc7d61f30bad69e chain=mainnet>, i=1, j=0, amt=None), Swap(pool=External Market: USDP -> USDC, i=1, j=0, amt=None)], Expected Profit: None),\n",
       " Cycle(Trades: [Swap(pool=<SimCurveStableSwapPool address=0xca978a0528116dda3cba9acd3e68bc6191ca53d0 chain=mainnet>, i=0, j=1, amt=None), Swap(pool=<SimCurveStableSwapPool address=0x390f3595bca2df7d23783dfd126427cceb997bf4 chain=mainnet>, i=1, j=0, amt=None), Swap(pool=External Market: USDT -> USDP, i=0, j=1, amt=None)], Expected Profit: None),\n",
       " Cycle(Trades: [Swap(pool=<SimCurveStableSwapPool address=0xca978a0528116dda3cba9acd3e68bc6191ca53d0 chain=mainnet>, i=0, j=1, amt=None), Swap(pool=<SimCurveStableSwapPool address=0x390f3595bca2df7d23783dfd126427cceb997bf4 chain=mainnet>, i=1, j=0, amt=None), Swap(pool=External Market: USDP -> USDT, i=1, j=0, amt=None)], Expected Profit: None),\n",
       " Cycle(Trades: [Swap(pool=<SimCurveStableSwapPool address=0xca978a0528116dda3cba9acd3e68bc6191ca53d0 chain=mainnet>, i=0, j=1, amt=None), Swap(pool=<SimLLAMMAPool address=0x1681195c176239ac5e72d9aebacf5b2492e0c4ee chain=mainnet>, i=0, j=1, amt=None), Swap(pool=External Market: USDP -> WETH, i=1, j=0, amt=None)], Expected Profit: None),\n",
       " Cycle(Trades: [Swap(pool=<SimCurveStableSwapPool address=0xca978a0528116dda3cba9acd3e68bc6191ca53d0 chain=mainnet>, i=0, j=1, amt=None), Swap(pool=<SimLLAMMAPool address=0x1681195c176239ac5e72d9aebacf5b2492e0c4ee chain=mainnet>, i=0, j=1, amt=None), Swap(pool=External Market: WETH -> USDP, i=0, j=1, amt=None)], Expected Profit: None),\n",
       " Cycle(Trades: [Swap(pool=<SimCurveStableSwapPool address=0x4dece678ceceb27446b35c672dc7d61f30bad69e chain=mainnet>, i=0, j=1, amt=None), Swap(pool=<SimCurveStableSwapPool address=0x34d655069f4cac1547e4c8ca284ffff5ad4a8db0 chain=mainnet>, i=1, j=0, amt=None), Swap(pool=External Market: USDC -> TUSD, i=1, j=0, amt=None)], Expected Profit: None),\n",
       " Cycle(Trades: [Swap(pool=<SimCurveStableSwapPool address=0x4dece678ceceb27446b35c672dc7d61f30bad69e chain=mainnet>, i=0, j=1, amt=None), Swap(pool=<SimCurveStableSwapPool address=0x34d655069f4cac1547e4c8ca284ffff5ad4a8db0 chain=mainnet>, i=1, j=0, amt=None), Swap(pool=External Market: TUSD -> USDC, i=0, j=1, amt=None)], Expected Profit: None),\n",
       " Cycle(Trades: [Swap(pool=<SimCurveStableSwapPool address=0x4dece678ceceb27446b35c672dc7d61f30bad69e chain=mainnet>, i=0, j=1, amt=None), Swap(pool=<SimCurveStableSwapPool address=0xca978a0528116dda3cba9acd3e68bc6191ca53d0 chain=mainnet>, i=1, j=0, amt=None), Swap(pool=External Market: USDC -> USDP, i=1, j=0, amt=None)], Expected Profit: None),\n",
       " Cycle(Trades: [Swap(pool=<SimCurveStableSwapPool address=0x4dece678ceceb27446b35c672dc7d61f30bad69e chain=mainnet>, i=0, j=1, amt=None), Swap(pool=<SimCurveStableSwapPool address=0xca978a0528116dda3cba9acd3e68bc6191ca53d0 chain=mainnet>, i=1, j=0, amt=None), Swap(pool=External Market: USDP -> USDC, i=0, j=1, amt=None)], Expected Profit: None),\n",
       " Cycle(Trades: [Swap(pool=<SimCurveStableSwapPool address=0x4dece678ceceb27446b35c672dc7d61f30bad69e chain=mainnet>, i=0, j=1, amt=None), Swap(pool=<SimCurveStableSwapPool address=0x390f3595bca2df7d23783dfd126427cceb997bf4 chain=mainnet>, i=1, j=0, amt=None), Swap(pool=External Market: USDC -> USDT, i=1, j=0, amt=None)], Expected Profit: None),\n",
       " Cycle(Trades: [Swap(pool=<SimCurveStableSwapPool address=0x4dece678ceceb27446b35c672dc7d61f30bad69e chain=mainnet>, i=0, j=1, amt=None), Swap(pool=<SimCurveStableSwapPool address=0x390f3595bca2df7d23783dfd126427cceb997bf4 chain=mainnet>, i=1, j=0, amt=None), Swap(pool=External Market: USDT -> USDC, i=0, j=1, amt=None)], Expected Profit: None),\n",
       " Cycle(Trades: [Swap(pool=<SimCurveStableSwapPool address=0x4dece678ceceb27446b35c672dc7d61f30bad69e chain=mainnet>, i=0, j=1, amt=None), Swap(pool=<SimLLAMMAPool address=0x1681195c176239ac5e72d9aebacf5b2492e0c4ee chain=mainnet>, i=0, j=1, amt=None), Swap(pool=External Market: USDC -> WETH, i=1, j=0, amt=None)], Expected Profit: None),\n",
       " Cycle(Trades: [Swap(pool=<SimCurveStableSwapPool address=0x4dece678ceceb27446b35c672dc7d61f30bad69e chain=mainnet>, i=0, j=1, amt=None), Swap(pool=<SimLLAMMAPool address=0x1681195c176239ac5e72d9aebacf5b2492e0c4ee chain=mainnet>, i=0, j=1, amt=None), Swap(pool=External Market: WETH -> USDC, i=0, j=1, amt=None)], Expected Profit: None),\n",
       " Cycle(Trades: [Swap(pool=<SimCurveStableSwapPool address=0x390f3595bca2df7d23783dfd126427cceb997bf4 chain=mainnet>, i=0, j=1, amt=None), Swap(pool=<SimCurveStableSwapPool address=0x34d655069f4cac1547e4c8ca284ffff5ad4a8db0 chain=mainnet>, i=1, j=0, amt=None), Swap(pool=External Market: USDT -> TUSD, i=1, j=0, amt=None)], Expected Profit: None),\n",
       " Cycle(Trades: [Swap(pool=<SimCurveStableSwapPool address=0x390f3595bca2df7d23783dfd126427cceb997bf4 chain=mainnet>, i=0, j=1, amt=None), Swap(pool=<SimCurveStableSwapPool address=0x34d655069f4cac1547e4c8ca284ffff5ad4a8db0 chain=mainnet>, i=1, j=0, amt=None), Swap(pool=External Market: TUSD -> USDT, i=0, j=1, amt=None)], Expected Profit: None),\n",
       " Cycle(Trades: [Swap(pool=<SimCurveStableSwapPool address=0x390f3595bca2df7d23783dfd126427cceb997bf4 chain=mainnet>, i=0, j=1, amt=None), Swap(pool=<SimCurveStableSwapPool address=0xca978a0528116dda3cba9acd3e68bc6191ca53d0 chain=mainnet>, i=1, j=0, amt=None), Swap(pool=External Market: USDT -> USDP, i=1, j=0, amt=None)], Expected Profit: None),\n",
       " Cycle(Trades: [Swap(pool=<SimCurveStableSwapPool address=0x390f3595bca2df7d23783dfd126427cceb997bf4 chain=mainnet>, i=0, j=1, amt=None), Swap(pool=<SimCurveStableSwapPool address=0xca978a0528116dda3cba9acd3e68bc6191ca53d0 chain=mainnet>, i=1, j=0, amt=None), Swap(pool=External Market: USDP -> USDT, i=0, j=1, amt=None)], Expected Profit: None),\n",
       " Cycle(Trades: [Swap(pool=<SimCurveStableSwapPool address=0x390f3595bca2df7d23783dfd126427cceb997bf4 chain=mainnet>, i=0, j=1, amt=None), Swap(pool=<SimCurveStableSwapPool address=0x4dece678ceceb27446b35c672dc7d61f30bad69e chain=mainnet>, i=1, j=0, amt=None), Swap(pool=External Market: USDC -> USDT, i=0, j=1, amt=None)], Expected Profit: None),\n",
       " Cycle(Trades: [Swap(pool=<SimCurveStableSwapPool address=0x390f3595bca2df7d23783dfd126427cceb997bf4 chain=mainnet>, i=0, j=1, amt=None), Swap(pool=<SimCurveStableSwapPool address=0x4dece678ceceb27446b35c672dc7d61f30bad69e chain=mainnet>, i=1, j=0, amt=None), Swap(pool=External Market: USDT -> USDC, i=1, j=0, amt=None)], Expected Profit: None),\n",
       " Cycle(Trades: [Swap(pool=<SimCurveStableSwapPool address=0x390f3595bca2df7d23783dfd126427cceb997bf4 chain=mainnet>, i=0, j=1, amt=None), Swap(pool=<SimLLAMMAPool address=0x1681195c176239ac5e72d9aebacf5b2492e0c4ee chain=mainnet>, i=0, j=1, amt=None), Swap(pool=External Market: USDT -> WETH, i=1, j=0, amt=None)], Expected Profit: None),\n",
       " Cycle(Trades: [Swap(pool=<SimCurveStableSwapPool address=0x390f3595bca2df7d23783dfd126427cceb997bf4 chain=mainnet>, i=0, j=1, amt=None), Swap(pool=<SimLLAMMAPool address=0x1681195c176239ac5e72d9aebacf5b2492e0c4ee chain=mainnet>, i=0, j=1, amt=None), Swap(pool=External Market: WETH -> USDT, i=0, j=1, amt=None)], Expected Profit: None),\n",
       " Cycle(Trades: [Swap(pool=<SimLLAMMAPool address=0x1681195c176239ac5e72d9aebacf5b2492e0c4ee chain=mainnet>, i=1, j=0, amt=None), Swap(pool=<SimCurveStableSwapPool address=0x34d655069f4cac1547e4c8ca284ffff5ad4a8db0 chain=mainnet>, i=1, j=0, amt=None), Swap(pool=External Market: TUSD -> WETH, i=0, j=1, amt=None)], Expected Profit: None),\n",
       " Cycle(Trades: [Swap(pool=<SimLLAMMAPool address=0x1681195c176239ac5e72d9aebacf5b2492e0c4ee chain=mainnet>, i=1, j=0, amt=None), Swap(pool=<SimCurveStableSwapPool address=0x34d655069f4cac1547e4c8ca284ffff5ad4a8db0 chain=mainnet>, i=1, j=0, amt=None), Swap(pool=External Market: WETH -> TUSD, i=1, j=0, amt=None)], Expected Profit: None),\n",
       " Cycle(Trades: [Swap(pool=<SimLLAMMAPool address=0x1681195c176239ac5e72d9aebacf5b2492e0c4ee chain=mainnet>, i=1, j=0, amt=None), Swap(pool=<SimCurveStableSwapPool address=0xca978a0528116dda3cba9acd3e68bc6191ca53d0 chain=mainnet>, i=1, j=0, amt=None), Swap(pool=External Market: USDP -> WETH, i=0, j=1, amt=None)], Expected Profit: None),\n",
       " Cycle(Trades: [Swap(pool=<SimLLAMMAPool address=0x1681195c176239ac5e72d9aebacf5b2492e0c4ee chain=mainnet>, i=1, j=0, amt=None), Swap(pool=<SimCurveStableSwapPool address=0xca978a0528116dda3cba9acd3e68bc6191ca53d0 chain=mainnet>, i=1, j=0, amt=None), Swap(pool=External Market: WETH -> USDP, i=1, j=0, amt=None)], Expected Profit: None),\n",
       " Cycle(Trades: [Swap(pool=<SimLLAMMAPool address=0x1681195c176239ac5e72d9aebacf5b2492e0c4ee chain=mainnet>, i=1, j=0, amt=None), Swap(pool=<SimCurveStableSwapPool address=0x4dece678ceceb27446b35c672dc7d61f30bad69e chain=mainnet>, i=1, j=0, amt=None), Swap(pool=External Market: USDC -> WETH, i=0, j=1, amt=None)], Expected Profit: None),\n",
       " Cycle(Trades: [Swap(pool=<SimLLAMMAPool address=0x1681195c176239ac5e72d9aebacf5b2492e0c4ee chain=mainnet>, i=1, j=0, amt=None), Swap(pool=<SimCurveStableSwapPool address=0x4dece678ceceb27446b35c672dc7d61f30bad69e chain=mainnet>, i=1, j=0, amt=None), Swap(pool=External Market: WETH -> USDC, i=1, j=0, amt=None)], Expected Profit: None),\n",
       " Cycle(Trades: [Swap(pool=<SimLLAMMAPool address=0x1681195c176239ac5e72d9aebacf5b2492e0c4ee chain=mainnet>, i=1, j=0, amt=None), Swap(pool=<SimCurveStableSwapPool address=0x390f3595bca2df7d23783dfd126427cceb997bf4 chain=mainnet>, i=1, j=0, amt=None), Swap(pool=External Market: USDT -> WETH, i=0, j=1, amt=None)], Expected Profit: None),\n",
       " Cycle(Trades: [Swap(pool=<SimLLAMMAPool address=0x1681195c176239ac5e72d9aebacf5b2492e0c4ee chain=mainnet>, i=1, j=0, amt=None), Swap(pool=<SimCurveStableSwapPool address=0x390f3595bca2df7d23783dfd126427cceb997bf4 chain=mainnet>, i=1, j=0, amt=None), Swap(pool=External Market: WETH -> USDT, i=1, j=0, amt=None)], Expected Profit: None)]"
      ]
     },
     "execution_count": 8,
     "metadata": {},
     "output_type": "execute_result"
    }
   ],
   "source": [
    "n = 3\n",
    "graph = PoolGraph(pools)\n",
    "cycles = graph.find_cycles(n=n)\n",
    "cycles"
   ]
  },
  {
   "cell_type": "code",
   "execution_count": 14,
   "metadata": {},
   "outputs": [],
   "source": [
    "# Testing\n",
    "# 1. Cycle correctness (incl. closure)\n",
    "# 2. Cycle length\n",
    "# 3. Unique coin usage\n",
    "# TODO move this to a unit test file\n",
    "\n",
    "c = 0\n",
    "for cycle in cycles:\n",
    "    pools = [t.pool for t in cycle.trades]\n",
    "    assert cycle.n == n, \"Wrong length\"\n",
    "    used = shared_address(pools[0], pools[1])\n",
    "    assert len(used) == 1\n",
    "    used.update(shared_address(pools[1], pools[2]))\n",
    "    assert len(used) == 2\n",
    "    used.update(shared_address(pools[2], pools[0]))\n",
    "    assert len(used) == 3\n",
    "    c += 1"
   ]
  },
  {
   "cell_type": "code",
   "execution_count": null,
   "metadata": {},
   "outputs": [],
   "source": []
  }
 ],
 "metadata": {
  "kernelspec": {
   "display_name": "venv",
   "language": "python",
   "name": "python3"
  },
  "language_info": {
   "codemirror_mode": {
    "name": "ipython",
    "version": 3
   },
   "file_extension": ".py",
   "mimetype": "text/x-python",
   "name": "python",
   "nbconvert_exporter": "python",
   "pygments_lexer": "ipython3",
   "version": "3.11.3"
  }
 },
 "nbformat": 4,
 "nbformat_minor": 2
}
