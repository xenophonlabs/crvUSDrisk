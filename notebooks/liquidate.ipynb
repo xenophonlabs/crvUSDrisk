{
 "cells": [
  {
   "cell_type": "markdown",
   "metadata": {},
   "source": [
    "# Testing the Liquidator Agent using crvUSDsim"
   ]
  },
  {
   "cell_type": "code",
   "execution_count": 6,
   "metadata": {},
   "outputs": [
    {
     "name": "stdout",
     "output_type": "stream",
     "text": [
      "The autoreload extension is already loaded. To reload it, use:\n",
      "  %reload_ext autoreload\n"
     ]
    }
   ],
   "source": [
    "# Load in a LLAMMA and Controller from crvUSDsim\n",
    "# Drop the price:\n",
    "# Update External Market price\n",
    "# Update LLAMMA price oracle\n",
    "# TODO other?\n",
    "# Check if a user can be liquidated\n",
    "# Perform the liquidation\n",
    "from crvusdsim.pool import get, SimLLAMMAPool, SimController\n",
    "from src.agents.liquidator import Liquidator\n",
    "from src.sim.scenario import Scenario\n",
    "\n",
    "%load_ext autoreload\n",
    "%autoreload 2"
   ]
  },
  {
   "cell_type": "code",
   "execution_count": 7,
   "metadata": {},
   "outputs": [],
   "source": [
    "liquidator = Liquidator()\n",
    "\n",
    "ETH_POOL = \"weth\"\n",
    "(\n",
    "    pool,\n",
    "    controller,\n",
    "    collateral_token,\n",
    "    stablecoin,\n",
    "    aggregator,\n",
    "    stableswap_pools,\n",
    "    peg_keepers,\n",
    "    policy,\n",
    "    factory,\n",
    ") = get(ETH_POOL, bands_data=\"controller\")"
   ]
  },
  {
   "cell_type": "code",
   "execution_count": 8,
   "metadata": {},
   "outputs": [
    {
     "name": "stderr",
     "output_type": "stream",
     "text": [
      "[INFO][22:25:44][root]-338219: Reading price config from ../src/configs/scenarios/baseline.json.\n",
      "[INFO][22:25:44][root]-338219: Fetching 1inch quotes.\n"
     ]
    },
    {
     "name": "stderr",
     "output_type": "stream",
     "text": [
      "[INFO][22:25:48][root]-338219: We have 207360 quotes.\n",
      "[INFO][22:25:48][root]-338219: Fitting external markets against 1inch quotes.\n"
     ]
    }
   ],
   "source": [
    "config = \"../src/configs/scenarios/baseline.json\"\n",
    "scenario = Scenario(config)\n",
    "markets = scenario.generate_markets()"
   ]
  },
  {
   "cell_type": "code",
   "execution_count": 9,
   "metadata": {},
   "outputs": [
    {
     "name": "stdout",
     "output_type": "stream",
     "text": [
      "There are 6 users to liquidate.\n",
      "Liquidating user 0xe3cf28f4c11b6ef4313e7c23df526f75bab0bc64.\n"
     ]
    },
    {
     "ename": "AssertionError",
     "evalue": "",
     "output_type": "error",
     "traceback": [
      "\u001b[0;31m---------------------------------------------------------------------------\u001b[0m",
      "\u001b[0;31mAssertionError\u001b[0m                            Traceback (most recent call last)",
      "\u001b[1;32m/root/crvUSDrisk/notebooks/liquidate.ipynb Cell 5\u001b[0m line \u001b[0;36m6\n\u001b[1;32m      <a href='vscode-notebook-cell://ssh-remote%2Bcrvusdrisk/root/crvUSDrisk/notebooks/liquidate.ipynb#W6sdnNjb2RlLXJlbW90ZQ%3D%3D?line=3'>4</a>\u001b[0m position \u001b[39m=\u001b[39m to_liquidate[\u001b[39m0\u001b[39m]\n\u001b[1;32m      <a href='vscode-notebook-cell://ssh-remote%2Bcrvusdrisk/root/crvUSDrisk/notebooks/liquidate.ipynb#W6sdnNjb2RlLXJlbW90ZQ%3D%3D?line=4'>5</a>\u001b[0m \u001b[39mprint\u001b[39m(\u001b[39mf\u001b[39m\u001b[39m\"\u001b[39m\u001b[39mLiquidating user \u001b[39m\u001b[39m{\u001b[39;00mposition\u001b[39m.\u001b[39muser\u001b[39m}\u001b[39;00m\u001b[39m.\u001b[39m\u001b[39m\"\u001b[39m)\n\u001b[0;32m----> <a href='vscode-notebook-cell://ssh-remote%2Bcrvusdrisk/root/crvUSDrisk/notebooks/liquidate.ipynb#W6sdnNjb2RlLXJlbW90ZQ%3D%3D?line=5'>6</a>\u001b[0m liquidator\u001b[39m.\u001b[39;49mmaybe_liquidate(position, controller)\n",
      "File \u001b[0;32m~/crvUSDrisk/src/agents/liquidator.py:157\u001b[0m, in \u001b[0;36mLiquidator.maybe_liquidate\u001b[0;34m(self, position, controller)\u001b[0m\n\u001b[1;32m    155\u001b[0m j \u001b[39m=\u001b[39m get_crvUSD_index(crvusd_pool)\n\u001b[1;32m    156\u001b[0m i \u001b[39m=\u001b[39m j \u001b[39m^\u001b[39m \u001b[39m1\u001b[39m\n\u001b[0;32m--> 157\u001b[0m amt_in \u001b[39m=\u001b[39m \u001b[39mself\u001b[39;49m\u001b[39m.\u001b[39;49msearch(crvusd_pool, i, j, to_repay)\n\u001b[1;32m    158\u001b[0m trade1 \u001b[39m=\u001b[39m Swap(crvusd_pool, i, j, amt_in)\n\u001b[1;32m    160\u001b[0m \u001b[39m# crvUSD -> collateral\u001b[39;00m\n",
      "File \u001b[0;32m~/crvUSDrisk/src/agents/liquidator.py:193\u001b[0m, in \u001b[0;36mLiquidator.search\u001b[0;34m(self, pool, i, j, amt_out)\u001b[0m\n\u001b[1;32m    184\u001b[0m \u001b[39mdef\u001b[39;00m \u001b[39msearch\u001b[39m(\u001b[39mself\u001b[39m, pool: SimCurveStableSwapPool, i: \u001b[39mint\u001b[39m, j: \u001b[39mint\u001b[39m, amt_out: \u001b[39mint\u001b[39m) \u001b[39m-\u001b[39m\u001b[39m>\u001b[39m \u001b[39mint\u001b[39m:\n\u001b[1;32m    185\u001b[0m \u001b[39m    \u001b[39m\u001b[39m\"\"\"\u001b[39;00m\n\u001b[1;32m    186\u001b[0m \u001b[39m    Find the amt_in required to get the desired\u001b[39;00m\n\u001b[1;32m    187\u001b[0m \u001b[39m    amt_out from a swap.\u001b[39;00m\n\u001b[0;32m   (...)\u001b[0m\n\u001b[1;32m    190\u001b[0m \u001b[39m    crvUSD.\u001b[39;00m\n\u001b[1;32m    191\u001b[0m \u001b[39m    \"\"\"\u001b[39;00m\n\u001b[0;32m--> 193\u001b[0m     \u001b[39massert\u001b[39;00m \u001b[39misinstance\u001b[39m(pool, SimCurveStableSwapPool)\n\u001b[1;32m    195\u001b[0m     \u001b[39mdef\u001b[39;00m \u001b[39mloss\u001b[39m(amt_in: \u001b[39mfloat\u001b[39m, pool: SimCurveStableSwapPool, i: \u001b[39mint\u001b[39m, j: \u001b[39mint\u001b[39m):\n\u001b[1;32m    196\u001b[0m \u001b[39m        \u001b[39m\u001b[39m\"\"\"\u001b[39;00m\n\u001b[1;32m    197\u001b[0m \u001b[39m        Loss function for optimization. Very simple:\u001b[39;00m\n\u001b[1;32m    198\u001b[0m \u001b[39m        we just want to minimize the diff between the\u001b[39;00m\n\u001b[1;32m    199\u001b[0m \u001b[39m        desired amt_out, and the actual amt_out.\u001b[39;00m\n\u001b[1;32m    200\u001b[0m \u001b[39m        \"\"\"\u001b[39;00m\n",
      "\u001b[0;31mAssertionError\u001b[0m: "
     ]
    }
   ],
   "source": [
    "liquidator.set_paths(controller, stableswap_pools, markets)\n",
    "to_liquidate = controller.users_to_liquidate()\n",
    "print(f\"There are {len(to_liquidate)} users to liquidate.\")\n",
    "position = to_liquidate[0]\n",
    "print(f\"Liquidating user {position.user}.\")\n",
    "liquidator.maybe_liquidate(position, controller)"
   ]
  },
  {
   "cell_type": "code",
   "execution_count": null,
   "metadata": {},
   "outputs": [
    {
     "name": "stderr",
     "output_type": "stream",
     "text": [
      "[autoreload of crvusdsim.pool.crvusd.stablecoin failed: Traceback (most recent call last):\n",
      "  File \"/root/crvUSDrisk/venv/lib/python3.11/site-packages/IPython/extensions/autoreload.py\", line 276, in check\n",
      "    superreload(m, reload, self.old_objects)\n",
      "  File \"/root/crvUSDrisk/venv/lib/python3.11/site-packages/IPython/extensions/autoreload.py\", line 500, in superreload\n",
      "    update_generic(old_obj, new_obj)\n",
      "  File \"/root/crvUSDrisk/venv/lib/python3.11/site-packages/IPython/extensions/autoreload.py\", line 397, in update_generic\n",
      "    update(a, b)\n",
      "  File \"/root/crvUSDrisk/venv/lib/python3.11/site-packages/IPython/extensions/autoreload.py\", line 365, in update_class\n",
      "    update_instances(old, new)\n",
      "  File \"/root/crvUSDrisk/venv/lib/python3.11/site-packages/IPython/extensions/autoreload.py\", line 323, in update_instances\n",
      "    object.__setattr__(ref, \"__class__\", new)\n",
      "TypeError: __class__ assignment: 'StableCoin' object layout differs from 'StableCoin'\n",
      "]\n"
     ]
    },
    {
     "name": "stdout",
     "output_type": "stream",
     "text": [
      "[9425208579703, 26385755255734375361002511]\n"
     ]
    },
    {
     "ename": "TypeError",
     "evalue": "descriptor 'balanceOf' for 'ERC20' objects doesn't apply to a 'StableCoin' object",
     "output_type": "error",
     "traceback": [
      "\u001b[0;31m---------------------------------------------------------------------------\u001b[0m",
      "\u001b[0;31mTypeError\u001b[0m                                 Traceback (most recent call last)",
      "\u001b[1;32m/root/crvUSDrisk/notebooks/liquidate.ipynb Cell 6\u001b[0m line \u001b[0;36m4\n\u001b[1;32m      <a href='vscode-notebook-cell://ssh-remote%2Bcrvusdrisk/root/crvUSDrisk/notebooks/liquidate.ipynb#X20sdnNjb2RlLXJlbW90ZQ%3D%3D?line=1'>2</a>\u001b[0m high \u001b[39m=\u001b[39m stableswap_pool\u001b[39m.\u001b[39mget_max_trade_size(\u001b[39m0\u001b[39m, \u001b[39m1\u001b[39m) \u001b[39m/\u001b[39m \u001b[39m1e12\u001b[39m\n\u001b[1;32m      <a href='vscode-notebook-cell://ssh-remote%2Bcrvusdrisk/root/crvUSDrisk/notebooks/liquidate.ipynb#X20sdnNjb2RlLXJlbW90ZQ%3D%3D?line=2'>3</a>\u001b[0m \u001b[39mprint\u001b[39m(stableswap_pool\u001b[39m.\u001b[39mbalances)\n\u001b[0;32m----> <a href='vscode-notebook-cell://ssh-remote%2Bcrvusdrisk/root/crvUSDrisk/notebooks/liquidate.ipynb#X20sdnNjb2RlLXJlbW90ZQ%3D%3D?line=3'>4</a>\u001b[0m \u001b[39mprint\u001b[39m(stableswap_pool\u001b[39m.\u001b[39;49mcoins[\u001b[39m0\u001b[39;49m]\u001b[39m.\u001b[39;49mbalanceOf[stableswap_pool\u001b[39m.\u001b[39maddress])\n\u001b[1;32m      <a href='vscode-notebook-cell://ssh-remote%2Bcrvusdrisk/root/crvUSDrisk/notebooks/liquidate.ipynb#X20sdnNjb2RlLXJlbW90ZQ%3D%3D?line=4'>5</a>\u001b[0m \u001b[39mwith\u001b[39;00m stableswap_pool\u001b[39m.\u001b[39muse_snapshot_context():\n\u001b[1;32m      <a href='vscode-notebook-cell://ssh-remote%2Bcrvusdrisk/root/crvUSDrisk/notebooks/liquidate.ipynb#X20sdnNjb2RlLXJlbW90ZQ%3D%3D?line=5'>6</a>\u001b[0m     amt_out \u001b[39m=\u001b[39m stableswap_pool\u001b[39m.\u001b[39mtrade(\u001b[39m0\u001b[39m, \u001b[39m1\u001b[39m, high)\n",
      "\u001b[0;31mTypeError\u001b[0m: descriptor 'balanceOf' for 'ERC20' objects doesn't apply to a 'StableCoin' object"
     ]
    }
   ],
   "source": [
    "stableswap_pool = stableswap_pools[2]\n",
    "high = stableswap_pool.get_max_trade_size(0, 1) / 1e12\n",
    "print(stableswap_pool.balances)\n",
    "print(stableswap_pool.coins[0].balanceOf[stableswap_pool.address])\n",
    "with stableswap_pool.use_snapshot_context():\n",
    "    amt_out = stableswap_pool.trade(0, 1, high)\n",
    "    print(amt_out)\n",
    "    print(stableswap_pool.balances)\n",
    "    print(stableswap_pool.coins[0].balanceOf[stableswap_pool.address])\n",
    "print(stableswap_pool.balances)\n",
    "print(stableswap_pool.coins[0].balanceOf[stableswap_pool.address])"
   ]
  },
  {
   "cell_type": "code",
   "execution_count": null,
   "metadata": {},
   "outputs": [
    {
     "data": {
      "text/plain": [
       "27260835.29761686"
      ]
     },
     "execution_count": 20,
     "metadata": {},
     "output_type": "execute_result"
    }
   ],
   "source": [
    "high = stableswap_pool.get_max_trade_size(0, 1) / 1e12\n",
    "high / 1e6"
   ]
  },
  {
   "cell_type": "code",
   "execution_count": null,
   "metadata": {},
   "outputs": [
    {
     "data": {
      "text/plain": [
       "2.6516364744250172e+23"
      ]
     },
     "execution_count": 16,
     "metadata": {},
     "output_type": "execute_result"
    }
   ],
   "source": [
    "2.6516364744250172e+23"
   ]
  },
  {
   "cell_type": "code",
   "execution_count": null,
   "metadata": {},
   "outputs": [
    {
     "data": {
      "text/plain": [
       "[9425208579703000000000000, 26385755255734375361002511]"
      ]
     },
     "execution_count": 11,
     "metadata": {},
     "output_type": "execute_result"
    }
   ],
   "source": [
    "stableswap_pool._xp()"
   ]
  },
  {
   "cell_type": "code",
   "execution_count": null,
   "metadata": {},
   "outputs": [],
   "source": []
  }
 ],
 "metadata": {
  "kernelspec": {
   "display_name": "venv",
   "language": "python",
   "name": "python3"
  },
  "language_info": {
   "codemirror_mode": {
    "name": "ipython",
    "version": 3
   },
   "file_extension": ".py",
   "mimetype": "text/x-python",
   "name": "python",
   "nbconvert_exporter": "python",
   "pygments_lexer": "ipython3",
   "version": "3.11.3"
  }
 },
 "nbformat": 4,
 "nbformat_minor": 2
}
