{
 "cells": [
  {
   "cell_type": "markdown",
   "metadata": {},
   "source": [
    "# Testing the Liquidator Agent using crvUSDsim"
   ]
  },
  {
   "cell_type": "code",
   "execution_count": 1,
   "metadata": {},
   "outputs": [],
   "source": [
    "# Load in a LLAMMA and Controller from crvUSDsim\n",
    "# Drop the price:\n",
    "# Update External Market price\n",
    "# Update LLAMMA price oracle\n",
    "# TODO other?\n",
    "# Check if a user can be liquidated\n",
    "# Perform the liquidation\n",
    "from crvusdsim.pool import get, SimLLAMMAPool, SimController\n",
    "from crvusdsim.pool.sim_interface.sim_controller import DEFAULT_LIQUIDATOR\n",
    "from src.agents.liquidator import Liquidator\n",
    "from src.sim.scenario import Scenario\n",
    "\n",
    "%load_ext autoreload\n",
    "%autoreload 2"
   ]
  },
  {
   "cell_type": "code",
   "execution_count": 2,
   "metadata": {},
   "outputs": [],
   "source": [
    "liquidator = Liquidator()\n",
    "\n",
    "ETH_POOL = \"weth\"\n",
    "(\n",
    "    pool,\n",
    "    controller,\n",
    "    collateral_token,\n",
    "    stablecoin,\n",
    "    aggregator,\n",
    "    stableswap_pools,\n",
    "    peg_keepers,\n",
    "    policy,\n",
    "    factory,\n",
    ") = get(ETH_POOL, bands_data=\"controller\")"
   ]
  },
  {
   "cell_type": "code",
   "execution_count": 3,
   "metadata": {},
   "outputs": [
    {
     "name": "stdout",
     "output_type": "stream",
     "text": [
      "Balances [6967972351382, 28733626803122982780380462]\n",
      "High 10948641974534121542609549\n",
      "Allowance 6967972351382\n",
      "Amount out 6897602798605\n",
      "Balances [70024638146, 39682268777657104322990011]\n",
      "Allowance 70369552777\n",
      "Balances [6967972351382, 28733626803122982780380462]\n",
      "Allowance 6967972351382\n"
     ]
    }
   ],
   "source": [
    "# Verify snapshot context works\n",
    "i, j = 1, 0\n",
    "\n",
    "stableswap_pool = stableswap_pools[2]\n",
    "high = stableswap_pool.get_max_trade_size(i, j)\n",
    "print(\"Balances\", stableswap_pool.balances)\n",
    "print(\"High\", high)\n",
    "print(\"Allowance\", stableswap_pool.coins[0].balanceOf[stableswap_pool.address])\n",
    "with stableswap_pool.use_snapshot_context():\n",
    "    amt_out = stableswap_pool.trade(i, j, high)\n",
    "    print(\"Amount out\", amt_out)\n",
    "    print(\"Balances\", stableswap_pool.balances)\n",
    "    print(\"Allowance\", stableswap_pool.coins[0].balanceOf[stableswap_pool.address])\n",
    "print(\"Balances\", stableswap_pool.balances)\n",
    "print(\"Allowance\", stableswap_pool.coins[0].balanceOf[stableswap_pool.address])"
   ]
  },
  {
   "cell_type": "code",
   "execution_count": 4,
   "metadata": {},
   "outputs": [
    {
     "name": "stderr",
     "output_type": "stream",
     "text": [
      "[INFO][01:49:54][root]-345299: Reading price config from ../src/configs/scenarios/baseline.json.\n",
      "[INFO][01:49:54][root]-345299: Fetching 1inch quotes.\n"
     ]
    },
    {
     "name": "stderr",
     "output_type": "stream",
     "text": [
      "[INFO][01:49:57][root]-345299: We have 213120 quotes.\n",
      "[INFO][01:49:57][root]-345299: Fitting external markets against 1inch quotes.\n",
      "[INFO][01:49:57][root]-345299: Reading price config from ../src/configs/prices/1h_1694894242_1700078242.json.\n"
     ]
    }
   ],
   "source": [
    "config = \"../src/configs/scenarios/baseline.json\"\n",
    "scenario = Scenario(config)\n",
    "markets = scenario.generate_markets()\n",
    "prices = scenario.generate_pricepaths(\n",
    "    \"../src/configs/prices/1h_1694894242_1700078242.json\"\n",
    ")"
   ]
  },
  {
   "cell_type": "code",
   "execution_count": 5,
   "metadata": {},
   "outputs": [],
   "source": [
    "# Set External Market Prices\n",
    "sample = prices[-1].prices\n",
    "for in_token in markets:\n",
    "    for out_token in markets[in_token]:\n",
    "        markets[in_token][out_token].update_price(sample[in_token][out_token])"
   ]
  },
  {
   "cell_type": "code",
   "execution_count": 8,
   "metadata": {},
   "outputs": [],
   "source": [
    "liquidator.set_paths(controller, stableswap_pools, markets)\n",
    "# Artificially raise price if necessary to make liquidation profitable\n",
    "liquidator.paths[0].collat_pool.update_price(5000)"
   ]
  },
  {
   "cell_type": "code",
   "execution_count": 9,
   "metadata": {},
   "outputs": [
    {
     "name": "stderr",
     "output_type": "stream",
     "text": [
      "[INFO][01:50:09][root]-345299: There are 6 users to liquidate.\n",
      "[INFO][01:50:09][root]-345299: Liquidating user 0xe3cf28f4c11b6ef4313e7c23df526f75bab0bc64 with expected profit: [13588.30392399].\n",
      "[INFO][01:50:09][root]-345299: Executing trade Swap(pool=<SimCurveStableSwapPool address=0x4dece678ceceb27446b35c672dc7d61f30bad69e chain=mainnet>, i=0, j=1, amt=13227205926).\n",
      "[INFO][01:50:09][root]-345299: Executing trade Liquidation(controller=<crvusdsim.pool.sim_interface.sim_controller.SimController object at 0x7ff3d8df1400>, position=<crvusdsim.pool.crvusd.controller.Position object at 0x7ff3d84dc450>, amt=13307109074580921122816, frac=1000000000000000000, i=0, j=1).\n",
      "[INFO][01:50:09][root]-345299: Executing trade Swap(pool=<src.modules.market.ExternalMarket object at 0x7ff3c70b11d0>, i=0, j=1, amt=5364348417970767872).\n",
      "[INFO][01:50:09][root]-345299: Liquidated user 0xe3cf28f4c11b6ef4313e7c23df526f75bab0bc64 with profit: [13588.30392399].\n",
      "[INFO][01:50:09][root]-345299: Liquidating user 0x64495f323a368b5bb3b3c80053622640299b331d with expected profit: [17120.79403287].\n",
      "[INFO][01:50:09][root]-345299: Executing trade Swap(pool=<SimCurveStableSwapPool address=0x4dece678ceceb27446b35c672dc7d61f30bad69e chain=mainnet>, i=0, j=1, amt=49423630910).\n",
      "[INFO][01:50:09][root]-345299: Executing trade Liquidation(controller=<crvusdsim.pool.sim_interface.sim_controller.SimController object at 0x7ff3d8df1400>, position=<crvusdsim.pool.crvusd.controller.Position object at 0x7ff3d8de8a10>, amt=49719277305156188766208, frac=1000000000000000000, i=0, j=1).\n",
      "[INFO][01:50:09][root]-345299: Executing trade Swap(pool=<src.modules.market.ExternalMarket object at 0x7ff3c70b11d0>, i=0, j=1, amt=13310714319446179840).\n",
      "[INFO][01:50:09][root]-345299: Liquidated user 0x64495f323a368b5bb3b3c80053622640299b331d with profit: [17120.79403287].\n",
      "[INFO][01:50:09][root]-345299: Liquidating user 0x562a5b60442c6d526c45a7931d47c9bb6473623a with expected profit: [21131.36566632].\n",
      "[INFO][01:50:09][root]-345299: Executing trade Swap(pool=<SimCurveStableSwapPool address=0x4dece678ceceb27446b35c672dc7d61f30bad69e chain=mainnet>, i=0, j=1, amt=18759426011).\n",
      "[INFO][01:50:09][root]-345299: Executing trade Liquidation(controller=<crvusdsim.pool.sim_interface.sim_controller.SimController object at 0x7ff3d8df1400>, position=<crvusdsim.pool.crvusd.controller.Position object at 0x7ff3c70ae790>, amt=18870453138625212186624, frac=1000000000000000000, i=0, j=1).\n",
      "[INFO][01:50:09][root]-345299: Executing trade Swap(pool=<src.modules.market.ExternalMarket object at 0x7ff3c70b11d0>, i=0, j=1, amt=7979055749327609856).\n",
      "[INFO][01:50:09][root]-345299: Liquidated user 0x562a5b60442c6d526c45a7931d47c9bb6473623a with profit: [21131.36566632].\n",
      "[INFO][01:50:09][root]-345299: Liquidating user 0x408f0c201abf1f0217f16626f963e9a218c9f882 with expected profit: [17110.93619846].\n",
      "[INFO][01:50:09][root]-345299: Executing trade Swap(pool=<SimCurveStableSwapPool address=0x4dece678ceceb27446b35c672dc7d61f30bad69e chain=mainnet>, i=0, j=1, amt=49438950856).\n",
      "[INFO][01:50:09][root]-345299: Executing trade Liquidation(controller=<crvusdsim.pool.sim_interface.sim_controller.SimController object at 0x7ff3d8df1400>, position=<crvusdsim.pool.crvusd.controller.Position object at 0x7ff3d84de850>, amt=49728469076462654193664, frac=1000000000000000000, i=0, j=1).\n",
      "[INFO][01:50:09][root]-345299: Executing trade Swap(pool=<src.modules.market.ExternalMarket object at 0x7ff3c70b11d0>, i=0, j=1, amt=13311696304860258304).\n"
     ]
    },
    {
     "name": "stderr",
     "output_type": "stream",
     "text": [
      "[INFO][01:50:09][root]-345299: Liquidated user 0x408f0c201abf1f0217f16626f963e9a218c9f882 with profit: [17110.93619846].\n",
      "[INFO][01:50:09][root]-345299: Liquidating user 0x18c0d980a3d271f97f37af443abd495cc30f6900 with expected profit: [15833.97011569].\n",
      "[INFO][01:50:09][root]-345299: Executing trade Swap(pool=<SimCurveStableSwapPool address=0x4dece678ceceb27446b35c672dc7d61f30bad69e chain=mainnet>, i=0, j=1, amt=49965012656).\n",
      "[INFO][01:50:09][root]-345299: Executing trade Liquidation(controller=<crvusdsim.pool.sim_interface.sim_controller.SimController object at 0x7ff3d8df1400>, position=<crvusdsim.pool.crvusd.controller.Position object at 0x7ff3d84debd0>, amt=50253141023635575668736, frac=1000000000000000000, i=0, j=1).\n",
      "[INFO][01:50:09][root]-345299: Executing trade Swap(pool=<src.modules.market.ExternalMarket object at 0x7ff3c70b11d0>, i=0, j=1, amt=13163165124249155584).\n",
      "[INFO][01:50:09][root]-345299: Liquidated user 0x18c0d980a3d271f97f37af443abd495cc30f6900 with profit: [15833.97011569].\n",
      "[INFO][01:50:09][root]-345299: Liquidating user 0x0bc5a06ba9949c90acfdd0717ba62fbd8878b1aa with expected profit: [26233.55461106].\n",
      "[INFO][01:50:09][root]-345299: Executing trade Swap(pool=<SimCurveStableSwapPool address=0x4dece678ceceb27446b35c672dc7d61f30bad69e chain=mainnet>, i=0, j=1, amt=90426790303).\n",
      "[INFO][01:50:09][root]-345299: Executing trade Liquidation(controller=<crvusdsim.pool.sim_interface.sim_controller.SimController object at 0x7ff3d8df1400>, position=<crvusdsim.pool.crvusd.controller.Position object at 0x7ff3d84dec50>, amt=90937112371745456652288, frac=1000000000000000000, i=0, j=1).\n",
      "[INFO][01:50:09][root]-345299: Executing trade Swap(pool=<src.modules.market.ExternalMarket object at 0x7ff3c70b11d0>, i=0, j=1, amt=23339149661828820992).\n",
      "[INFO][01:50:09][root]-345299: Liquidated user 0x0bc5a06ba9949c90acfdd0717ba62fbd8878b1aa with profit: [26233.55461106].\n"
     ]
    },
    {
     "data": {
      "text/plain": [
       "(array([111018.92454839]), 0)"
      ]
     },
     "execution_count": 9,
     "metadata": {},
     "output_type": "execute_result"
    }
   ],
   "source": [
    "liquidator.perform_liquidations(controller)"
   ]
  },
  {
   "cell_type": "code",
   "execution_count": null,
   "metadata": {},
   "outputs": [],
   "source": []
  }
 ],
 "metadata": {
  "kernelspec": {
   "display_name": "venv",
   "language": "python",
   "name": "python3"
  },
  "language_info": {
   "codemirror_mode": {
    "name": "ipython",
    "version": 3
   },
   "file_extension": ".py",
   "mimetype": "text/x-python",
   "name": "python",
   "nbconvert_exporter": "python",
   "pygments_lexer": "ipython3",
   "version": "3.11.3"
  }
 },
 "nbformat": 4,
 "nbformat_minor": 2
}
