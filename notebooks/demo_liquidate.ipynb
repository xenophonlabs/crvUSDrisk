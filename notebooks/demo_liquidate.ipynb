{
 "cells": [
  {
   "cell_type": "markdown",
   "metadata": {},
   "source": [
    "# Demo the Liquidator Agent Logic\n",
    "\n",
    "This notebook:\n",
    "\n",
    "1. Fetches the latest crvusd contract data into Python objects using `crvusdsim`.\n",
    "2. Fetches prices and `ExternalMarket`s from the `baseline` scenario.\n",
    "3. Instantiates a liquidator agent.\n",
    "4. Checks if there are users to liquidate in the `Controller` and liquidates them.\n",
    "\n",
    "TODO describe the liquidation logic in detail."
   ]
  },
  {
   "cell_type": "code",
   "execution_count": 1,
   "metadata": {},
   "outputs": [],
   "source": [
    "from src.sim.scenario import Scenario\n",
    "\n",
    "%load_ext autoreload\n",
    "%autoreload 2"
   ]
  },
  {
   "cell_type": "code",
   "execution_count": 2,
   "metadata": {},
   "outputs": [
    {
     "name": "stderr",
     "output_type": "stream",
     "text": [
      "[INFO][19:06:17][src.sim.scenario]-17150: Fetching sim_market from subgraph.\n"
     ]
    },
    {
     "name": "stderr",
     "output_type": "stream",
     "text": [
      "[INFO][19:06:26][src.utils.poolgraph]-17150: Found 20 valid trading cycles of length 3.\n"
     ]
    }
   ],
   "source": [
    "# Generate markets and prices\n",
    "scenario = Scenario(\"baseline\", \"wsteth\")\n",
    "sample = scenario.pricepaths[0]\n",
    "scenario.prepare_for_run()  # Set block timestamps\n",
    "scenario.prepare_for_trades(sample)  # Set External Market Price\n",
    "\n",
    "# Unpack\n",
    "markets = scenario.markets\n",
    "liquidator = scenario.liquidator\n",
    "controller = scenario.controller"
   ]
  },
  {
   "cell_type": "code",
   "execution_count": 3,
   "metadata": {},
   "outputs": [],
   "source": [
    "# Artificially inflate collateral price\n",
    "collateral = scenario.controller.COLLATERAL_TOKEN.address\n",
    "sample = scenario.pricepaths[0]\n",
    "prices_usd = sample.prices_usd\n",
    "assert collateral in prices_usd.keys()\n",
    "prices_usd[collateral] *= 2\n",
    "sample.update(prices_usd)\n",
    "scenario.update_market_prices(sample)"
   ]
  },
  {
   "cell_type": "code",
   "execution_count": 4,
   "metadata": {},
   "outputs": [
    {
     "name": "stdout",
     "output_type": "stream",
     "text": [
      "Liquidated 25 positions for a profit of 3782287.5075479997 USD.\n"
     ]
    }
   ],
   "source": [
    "profit, count = liquidator.perform_liquidations(controller)\n",
    "print(f\"Liquidated {count} positions for a profit of {profit} USD.\")"
   ]
  },
  {
   "cell_type": "code",
   "execution_count": 5,
   "metadata": {},
   "outputs": [
    {
     "data": {
      "text/plain": [
       "[<crvusdsim.pool.crvusd.controller.Position at 0x2b77d70d0>,\n",
       " <crvusdsim.pool.crvusd.controller.Position at 0x2b77d44d0>,\n",
       " <crvusdsim.pool.crvusd.controller.Position at 0x2b77d4850>]"
      ]
     },
     "execution_count": 5,
     "metadata": {},
     "output_type": "execute_result"
    }
   ],
   "source": [
    "controller.users_to_liquidate()"
   ]
  },
  {
   "cell_type": "code",
   "execution_count": 12,
   "metadata": {},
   "outputs": [
    {
     "name": "stdout",
     "output_type": "stream",
     "text": [
      "{'user': '0xfa4fc4ec2f81a4897743c5b4f45907c02ce06199', 'x': 0, 'y': 206336926670773, 'debt': 542236491615260053, 'health': -87155436831522523}\n",
      "{'user': '0x36f19ac3719e29dffbd285d61e08ea00781b9789', 'x': 67676550063052644783815, 'y': 0, 'debt': 71324582120585382441215, 'health': -51146911051861024}\n",
      "{'user': '0x101627601427770aed741f90dc160689d583f8fa', 'x': 0, 'y': 1786251842541253162, 'debt': 9796294144910721702528, 'health': -548021241217127902}\n"
     ]
    }
   ],
   "source": [
    "for position in controller.users_to_liquidate():\n",
    "    print(position.__dict__)"
   ]
  },
  {
   "cell_type": "markdown",
   "metadata": {},
   "source": [
    "### A Quant Might Ask\n",
    "\n",
    "Why are so many users eligible for liquidation? Wouldn't they already have been liquidated?\n",
    "\n",
    "Yes. This is a known issue that is rooted in the crvusd subgraph. User positions are loaded in via two pathways:\n",
    "1. We get `userState` snapshots from the subgraph, which snapshots a user's `depositedCollateral`, and `debt`. We use these values to load in their positions. Particularly the debt.\n",
    "2. We get `bands` snapshots from the subgraph (a separate process at a different time). We use the relative `depositedCollateral` of each user to distribute the `stablecoin` and `collateral` from the `bandsSnapshot` to each user.\n",
    "\n",
    "In theory, step (2) would correctly load in each user's share of `x,y` in LLAMMA so that we may correctly calculate their health and simulate their position. **HOWEVER** this is not the case, because of a bug in the subgraph. The bug is described in detail in this issue: https://github.com/curvefi/volume-subgraphs/issues/47.\n",
    "\n",
    "At a high-level, bands with negative indices are being snapshot incorrectly due to the way negative integers are handled by the `graph-protocol` hexadecimal string class. When converting negative ints to hexadecimal strings, we are accidentally converting them into the positive representation. This means that if band `1` has 0 collateral and 0 stablecoin, and band `-1` has 1M collateral and 0 stablecoin, the snapshot will incorrectly tell us that band `-1` has 0, 0 instead of 1M, 0. \n",
    "\n",
    "This is what makes so many users *seem* like they are underwater."
   ]
  }
 ],
 "metadata": {
  "kernelspec": {
   "display_name": "venv",
   "language": "python",
   "name": "python3"
  },
  "language_info": {
   "codemirror_mode": {
    "name": "ipython",
    "version": 3
   },
   "file_extension": ".py",
   "mimetype": "text/x-python",
   "name": "python",
   "nbconvert_exporter": "python",
   "pygments_lexer": "ipython3",
   "version": "3.11.6"
  }
 },
 "nbformat": 4,
 "nbformat_minor": 2
}
