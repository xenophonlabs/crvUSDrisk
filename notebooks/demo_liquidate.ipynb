{
 "cells": [
  {
   "cell_type": "markdown",
   "metadata": {},
   "source": [
    "# Demo the Liquidator Agent Logic\n",
    "\n",
    "This notebook:\n",
    "\n",
    "1. Fetches the latest crvusd contract data into Python objects using `crvusdsim`.\n",
    "2. Fetches prices and `ExternalMarket`s from the `baseline` scenario.\n",
    "3. Instantiates a liquidator agent.\n",
    "4. Checks if there are users to liquidate in the `Controller` and liquidates them.\n",
    "\n",
    "TODO describe the liquidation logic in detail."
   ]
  },
  {
   "cell_type": "code",
   "execution_count": 1,
   "metadata": {},
   "outputs": [],
   "source": [
    "from src.sim.scenario import Scenario"
   ]
  },
  {
   "cell_type": "code",
   "execution_count": 2,
   "metadata": {},
   "outputs": [
    {
     "name": "stderr",
     "output_type": "stream",
     "text": [
      "[DEBUG][16:56:48][root]-762369: Using 614880 1Inch quotes.\n",
      "[INFO][16:56:48][root]-762369: Fetching sim_market from subgraph.\n",
      "[INFO][16:56:51][root]-762369: Found 20 valid cycles of length 3.\n"
     ]
    }
   ],
   "source": [
    "# Generate markets and prices\n",
    "scenario = Scenario(\"baseline\")\n",
    "sample = scenario.pricepaths[0]\n",
    "scenario.prepare_for_run()  # Set block timestamps\n",
    "scenario.prepare_for_trades(sample)  # Set External Market Price\n",
    "\n",
    "# Unpack\n",
    "markets = scenario.markets\n",
    "liquidator = scenario.liquidator\n",
    "controller = scenario.controller"
   ]
  },
  {
   "cell_type": "code",
   "execution_count": 3,
   "metadata": {},
   "outputs": [],
   "source": [
    "# Artificially inflate collateral price\n",
    "collateral = scenario.controller.COLLATERAL_TOKEN.address\n",
    "sample = scenario.pricepaths[0]\n",
    "prices_usd = sample.prices_usd\n",
    "assert collateral in prices_usd.keys()\n",
    "prices_usd[collateral] *= 2\n",
    "sample.update(prices_usd)\n",
    "scenario.update_market_prices(sample)"
   ]
  },
  {
   "cell_type": "code",
   "execution_count": 4,
   "metadata": {},
   "outputs": [
    {
     "name": "stderr",
     "output_type": "stream",
     "text": [
      "[INFO][16:56:51][root]-762369: There are 54 users to liquidate.\n",
      "[INFO][16:56:51][root]-762369: Missed liquidation for user 0xf165d7273288ace1e7a317d6d23956e46fe229c5. Health: -739277275637517056.000000. Expected profit: -11400.016216.\n",
      "[INFO][16:56:51][root]-762369: Missed liquidation for user 0xf11f0add0e8e4ee208104d8264fcf1b69c4ceafc. Health: -739897610837227392.000000. Expected profit: -13351.255919.\n",
      "[INFO][16:56:51][root]-762369: Missed liquidation for user 0xec718904654b29f1f571290259c324fd2e3aa63e. Health: -880329190498585472.000000. Expected profit: -42612.278274.\n",
      "[INFO][16:56:51][root]-762369: Missed liquidation for user 0xebdeff4d7053bf84262d2f9fc261a900c4323d83. Health: -661471498696840064.000000. Expected profit: -4173.710057.\n",
      "[INFO][16:56:51][root]-762369: Liquidating user 0xea3f9b017c6b811b0a8ca642346bd805d936fce4 with expected profit: 2899.485315.\n",
      "[INFO][16:56:51][root]-762369: Executing cycle Cycle(Trades: [Swap(pool=Curve.fi Factory Plain Pool: crvUSD/USDC, in=USDC, out=crvUSD, amt=8977748352), Liquidation(controller=<crvusdsim.pool.sim_interface.sim_controller.SimController object at 0x7f8ade55c410>, position=<crvusdsim.pool.crvusd.controller.Position object at 0x7f8af737b910>, amt=9018037934913824545548, frac=1000000000000000000, i=0, j=1), Swap(pool=External Market (USDC, WETH), in=Wrapped Ether, out=USD Coin, amt=2664719510808957958)], Expected Profit: 2899.485315).\n",
      "[INFO][16:56:51][root]-762369: Executing trade Swap(pool=Curve.fi Factory Plain Pool: crvUSD/USDC, in=USDC, out=crvUSD, amt=8977748352).\n",
      "[INFO][16:56:51][root]-762369: Executing trade Liquidation(controller=<crvusdsim.pool.sim_interface.sim_controller.SimController object at 0x7f8ade55c410>, position=<crvusdsim.pool.crvusd.controller.Position object at 0x7f8af737b910>, amt=9018037934913824545548, frac=1000000000000000000, i=0, j=1).\n",
      "[INFO][16:56:51][root]-762369: Executing trade Swap(pool=External Market (USDC, WETH), in=Wrapped Ether, out=USD Coin, amt=2664719510808957958).\n",
      "[INFO][16:56:51][root]-762369: Liquidated user 0xea3f9b017c6b811b0a8ca642346bd805d936fce4 with profit: 2899.485315.\n",
      "[INFO][16:56:51][root]-762369: Missed liquidation for user 0xdf88f68c58edf72a737e1e6cb2a0722bfed45faa. Health: -884842177152472448.000000. Expected profit: -14932.044767.\n",
      "[INFO][16:56:51][root]-762369: Liquidating user 0xd6af98abce0f9260fcd2c1c49884413fcdc60f6f with expected profit: 7631.031466.\n",
      "[INFO][16:56:51][root]-762369: Executing cycle Cycle(Trades: [Swap(pool=Curve.fi Factory Plain Pool: crvUSD/USDC, in=USDC, out=crvUSD, amt=9990659854), Liquidation(controller=<crvusdsim.pool.sim_interface.sim_controller.SimController object at 0x7f8ade55c410>, position=<crvusdsim.pool.crvusd.controller.Position object at 0x7f8ade548350>, amt=10035370561564537912157, frac=1000000000000000000, i=0, j=1), Swap(pool=External Market (USDC, WETH), in=Wrapped Ether, out=USD Coin, amt=3953518638432523160)], Expected Profit: 7631.031466).\n",
      "[INFO][16:56:51][root]-762369: Executing trade Swap(pool=Curve.fi Factory Plain Pool: crvUSD/USDC, in=USDC, out=crvUSD, amt=9990659854).\n",
      "[INFO][16:56:51][root]-762369: Executing trade Liquidation(controller=<crvusdsim.pool.sim_interface.sim_controller.SimController object at 0x7f8ade55c410>, position=<crvusdsim.pool.crvusd.controller.Position object at 0x7f8ade548350>, amt=10035370561564537912157, frac=1000000000000000000, i=0, j=1).\n",
      "[INFO][16:56:51][root]-762369: Executing trade Swap(pool=External Market (USDC, WETH), in=Wrapped Ether, out=USD Coin, amt=3953518638432523160).\n",
      "[INFO][16:56:51][root]-762369: Liquidated user 0xd6af98abce0f9260fcd2c1c49884413fcdc60f6f with profit: 7631.031466.\n",
      "[INFO][16:56:51][root]-762369: Missed liquidation for user 0xd2ed02b89fe6ccb02d495e14f25a5deef2e5aad7. Health: -885856762727567744.000000. Expected profit: -81332.149113.\n",
      "[INFO][16:56:51][root]-762369: Missed liquidation for user 0xcb0486943b11539df162171f21c7f2c1f1b65e0f. Health: -658085875736259584.000000. Expected profit: -2196.580194.\n",
      "[INFO][16:56:51][root]-762369: Missed liquidation for user 0xc96edcbf13b7ba261c7452e0d6379ddff5040fba. Health: -661447725691638528.000000. Expected profit: -2703.417171.\n",
      "[INFO][16:56:51][root]-762369: Missed liquidation for user 0xc57f69a6f34c5b02e834dbe06a7d25046d89e62e. Health: -661445155044620416.000000. Expected profit: -2312.952748.\n",
      "[INFO][16:56:51][root]-762369: Liquidating user 0xc473bb0a53bc5fcaad7ff2dde540ad406001198b with expected profit: 12660.481873.\n",
      "[INFO][16:56:51][root]-762369: Executing cycle Cycle(Trades: [Swap(pool=Curve.fi Factory Plain Pool: crvUSD/USDC, in=USDC, out=crvUSD, amt=15604139717), Liquidation(controller=<crvusdsim.pool.sim_interface.sim_controller.SimController object at 0x7f8ade55c410>, position=<crvusdsim.pool.crvusd.controller.Position object at 0x7f8ade548650>, amt=15673710823467901364068, frac=1000000000000000000, i=0, j=1), Swap(pool=External Market (USDC, WETH), in=Wrapped Ether, out=USD Coin, amt=6341315724688986714)], Expected Profit: 12660.481873).\n",
      "[INFO][16:56:51][root]-762369: Executing trade Swap(pool=Curve.fi Factory Plain Pool: crvUSD/USDC, in=USDC, out=crvUSD, amt=15604139717).\n",
      "[INFO][16:56:51][root]-762369: Executing trade Liquidation(controller=<crvusdsim.pool.sim_interface.sim_controller.SimController object at 0x7f8ade55c410>, position=<crvusdsim.pool.crvusd.controller.Position object at 0x7f8ade548650>, amt=15673710823467901364068, frac=1000000000000000000, i=0, j=1).\n",
      "[INFO][16:56:51][root]-762369: Executing trade Swap(pool=External Market (USDC, WETH), in=Wrapped Ether, out=USD Coin, amt=6341315724688986714).\n",
      "[INFO][16:56:51][root]-762369: Liquidated user 0xc473bb0a53bc5fcaad7ff2dde540ad406001198b with profit: 12660.481873.\n",
      "[INFO][16:56:51][root]-762369: Missed liquidation for user 0xc3b876976d58dd9c2e8ab8ce0446c1d5ed8bf55c. Health: -885872516040471296.000000. Expected profit: -23895.390596.\n",
      "[INFO][16:56:51][root]-762369: Liquidating user 0xc30e3ea7a98accd25d0113a5183a42dfe5284adf with expected profit: 7983.589922.\n",
      "[INFO][16:56:51][root]-762369: Executing cycle Cycle(Trades: [Swap(pool=Curve.fi Factory Plain Pool: crvUSD/USDC, in=USDC, out=crvUSD, amt=47889330486), Liquidation(controller=<crvusdsim.pool.sim_interface.sim_controller.SimController object at 0x7f8ade55c410>, position=<crvusdsim.pool.crvusd.controller.Position object at 0x7f8ade548390>, amt=48100873652806362887033, frac=1000000000000000000, i=0, j=1), Swap(pool=External Market (USDC, WETH), in=Wrapped Ether, out=USD Coin, amt=12535382001489525377)], Expected Profit: 7983.589922).\n",
      "[INFO][16:56:51][root]-762369: Executing trade Swap(pool=Curve.fi Factory Plain Pool: crvUSD/USDC, in=USDC, out=crvUSD, amt=47889330486).\n",
      "[INFO][16:56:51][root]-762369: Executing trade Liquidation(controller=<crvusdsim.pool.sim_interface.sim_controller.SimController object at 0x7f8ade55c410>, position=<crvusdsim.pool.crvusd.controller.Position object at 0x7f8ade548390>, amt=48100873652806362887033, frac=1000000000000000000, i=0, j=1).\n",
      "[INFO][16:56:51][root]-762369: Executing trade Swap(pool=External Market (USDC, WETH), in=Wrapped Ether, out=USD Coin, amt=12535382001489525377).\n",
      "[INFO][16:56:51][root]-762369: Liquidated user 0xc30e3ea7a98accd25d0113a5183a42dfe5284adf with profit: 7983.589922.\n",
      "[INFO][16:56:51][root]-762369: Liquidating user 0xb221963cad5856c657647d7126a6fe6a47cac773 with expected profit: 41544.273406.\n",
      "[INFO][16:56:51][root]-762369: Executing cycle Cycle(Trades: [Swap(pool=Curve.fi Factory Plain Pool: crvUSD/USDC, in=USDC, out=crvUSD, amt=161543131435), Liquidation(controller=<crvusdsim.pool.sim_interface.sim_controller.SimController object at 0x7f8ade55c410>, position=<crvusdsim.pool.crvusd.controller.Position object at 0x7f8ade548490>, amt=162235381101834318208652, frac=1000000000000000000, i=0, j=1), Swap(pool=External Market (USDC, WETH), in=Wrapped Ether, out=USD Coin, amt=45563721759783504303)], Expected Profit: 41544.273406).\n",
      "[INFO][16:56:51][root]-762369: Executing trade Swap(pool=Curve.fi Factory Plain Pool: crvUSD/USDC, in=USDC, out=crvUSD, amt=161543131435).\n",
      "[INFO][16:56:51][root]-762369: Executing trade Liquidation(controller=<crvusdsim.pool.sim_interface.sim_controller.SimController object at 0x7f8ade55c410>, position=<crvusdsim.pool.crvusd.controller.Position object at 0x7f8ade548490>, amt=162235381101834318208652, frac=1000000000000000000, i=0, j=1).\n",
      "[INFO][16:56:51][root]-762369: Executing trade Swap(pool=External Market (USDC, WETH), in=Wrapped Ether, out=USD Coin, amt=45563721759783504303).\n",
      "[INFO][16:56:51][root]-762369: Liquidated user 0xb221963cad5856c657647d7126a6fe6a47cac773 with profit: 41544.273406.\n",
      "[INFO][16:56:51][root]-762369: Liquidating user 0xb19029685cf7fe36c72bc7d8ab06dc4c5ca41d1f with expected profit: 2978.398610.\n",
      "[INFO][16:56:51][root]-762369: Executing cycle Cycle(Trades: [Swap(pool=Curve.fi Factory Plain Pool: crvUSD/USDC, in=USDC, out=crvUSD, amt=11486058737), Liquidation(controller=<crvusdsim.pool.sim_interface.sim_controller.SimController object at 0x7f8ade55c410>, position=<crvusdsim.pool.crvusd.controller.Position object at 0x7f8ade548550>, amt=11534058959185320203475, frac=1000000000000000000, i=0, j=1), Swap(pool=External Market (USDC, WETH), in=Wrapped Ether, out=USD Coin, amt=3245176678929516213)], Expected Profit: 2978.39861).\n",
      "[INFO][16:56:51][root]-762369: Executing trade Swap(pool=Curve.fi Factory Plain Pool: crvUSD/USDC, in=USDC, out=crvUSD, amt=11486058737).\n",
      "[INFO][16:56:51][root]-762369: Executing trade Liquidation(controller=<crvusdsim.pool.sim_interface.sim_controller.SimController object at 0x7f8ade55c410>, position=<crvusdsim.pool.crvusd.controller.Position object at 0x7f8ade548550>, amt=11534058959185320203475, frac=1000000000000000000, i=0, j=1).\n",
      "[INFO][16:56:51][root]-762369: Executing trade Swap(pool=External Market (USDC, WETH), in=Wrapped Ether, out=USD Coin, amt=3245176678929516213).\n",
      "[INFO][16:56:51][root]-762369: Liquidated user 0xb19029685cf7fe36c72bc7d8ab06dc4c5ca41d1f with profit: 2978.398610.\n",
      "[INFO][16:56:51][root]-762369: Liquidating user 0xae00246cfbdbfdd6be613961e956149843af5658 with expected profit: 3247.040466.\n",
      "[INFO][16:56:51][root]-762369: Executing cycle Cycle(Trades: [Swap(pool=Curve.fi Factory Plain Pool: crvUSD/USDC, in=USDC, out=crvUSD, amt=9944360461), Liquidation(controller=<crvusdsim.pool.sim_interface.sim_controller.SimController object at 0x7f8ade55c410>, position=<crvusdsim.pool.crvusd.controller.Position object at 0x7f8b3b66c210>, amt=9985789964720752392056, frac=1000000000000000000, i=0, j=1), Swap(pool=External Market (USDC, WETH), in=Wrapped Ether, out=USD Coin, amt=2959559810963714113)], Expected Profit: 3247.040466).\n",
      "[INFO][16:56:51][root]-762369: Executing trade Swap(pool=Curve.fi Factory Plain Pool: crvUSD/USDC, in=USDC, out=crvUSD, amt=9944360461).\n",
      "[INFO][16:56:51][root]-762369: Executing trade Liquidation(controller=<crvusdsim.pool.sim_interface.sim_controller.SimController object at 0x7f8ade55c410>, position=<crvusdsim.pool.crvusd.controller.Position object at 0x7f8b3b66c210>, amt=9985789964720752392056, frac=1000000000000000000, i=0, j=1).\n",
      "[INFO][16:56:51][root]-762369: Executing trade Swap(pool=External Market (USDC, WETH), in=Wrapped Ether, out=USD Coin, amt=2959559810963714113).\n",
      "[INFO][16:56:51][root]-762369: Liquidated user 0xae00246cfbdbfdd6be613961e956149843af5658 with profit: 3247.040466.\n",
      "[INFO][16:56:51][root]-762369: Missed liquidation for user 0xad34c2d6d0e979d6452caf890719038ed27aa0f3. Health: -695747816701798528.000000. Expected profit: -574.118067.\n",
      "[INFO][16:56:51][root]-762369: Liquidating user 0xac01ec664c1062234a73574d44523c906a3a6369 with expected profit: 683624.032119.\n",
      "[INFO][16:56:51][root]-762369: Executing cycle Cycle(Trades: [Swap(pool=Curve.fi Factory Plain Pool: crvUSD/USDC, in=USDC, out=crvUSD, amt=1399363546452), Liquidation(controller=<crvusdsim.pool.sim_interface.sim_controller.SimController object at 0x7f8ade55c410>, position=<crvusdsim.pool.crvusd.controller.Position object at 0x7f8af8341590>, amt=1404181104132626553309567, frac=1000000000000000000, i=0, j=1), Swap(pool=External Market (USDC, WETH), in=Wrapped Ether, out=USD Coin, amt=467565618899595456514)], Expected Profit: 683624.032119).\n",
      "[INFO][16:56:51][root]-762369: Executing trade Swap(pool=Curve.fi Factory Plain Pool: crvUSD/USDC, in=USDC, out=crvUSD, amt=1399363546452).\n",
      "[INFO][16:56:51][root]-762369: Executing trade Liquidation(controller=<crvusdsim.pool.sim_interface.sim_controller.SimController object at 0x7f8ade55c410>, position=<crvusdsim.pool.crvusd.controller.Position object at 0x7f8af8341590>, amt=1404181104132626553309567, frac=1000000000000000000, i=0, j=1).\n",
      "[INFO][16:56:51][root]-762369: Executing trade Swap(pool=External Market (USDC, WETH), in=Wrapped Ether, out=USD Coin, amt=467565618899595456514).\n",
      "[INFO][16:56:51][root]-762369: Liquidated user 0xac01ec664c1062234a73574d44523c906a3a6369 with profit: 683624.032119.\n",
      "[INFO][16:56:51][root]-762369: Missed liquidation for user 0xa64b39c939be669bae78d6f526971a38c3270bb5. Health: -696905967920740992.000000. Expected profit: -4176.181410.\n",
      "[INFO][16:56:51][root]-762369: Missed liquidation for user 0x9e1232a4e655ecf25b48b628bb625dda6ca6b096. Health: -650551000300067840.000000. Expected profit: -8676.073845.\n",
      "[INFO][16:56:51][root]-762369: Liquidating user 0x9da66dffc76da7fecb8a3e00227d7debcae322cc with expected profit: 7568.064117.\n",
      "[INFO][16:56:51][root]-762369: Executing cycle Cycle(Trades: [Swap(pool=Curve.fi Factory Plain Pool: crvUSD/USDC, in=USDC, out=crvUSD, amt=20839419915), Liquidation(controller=<crvusdsim.pool.sim_interface.sim_controller.SimController object at 0x7f8ade55c410>, position=<crvusdsim.pool.crvusd.controller.Position object at 0x7f8ade59fb50>, amt=20898165213218098797413, frac=1000000000000000000, i=0, j=1), Swap(pool=External Market (USDC, WETH), in=Wrapped Ether, out=USD Coin, amt=6373367660856722678)], Expected Profit: 7568.064117).\n",
      "[INFO][16:56:51][root]-762369: Executing trade Swap(pool=Curve.fi Factory Plain Pool: crvUSD/USDC, in=USDC, out=crvUSD, amt=20839419915).\n",
      "[INFO][16:56:51][root]-762369: Executing trade Liquidation(controller=<crvusdsim.pool.sim_interface.sim_controller.SimController object at 0x7f8ade55c410>, position=<crvusdsim.pool.crvusd.controller.Position object at 0x7f8ade59fb50>, amt=20898165213218098797413, frac=1000000000000000000, i=0, j=1).\n",
      "[INFO][16:56:51][root]-762369: Executing trade Swap(pool=External Market (USDC, WETH), in=Wrapped Ether, out=USD Coin, amt=6373367660856722678).\n",
      "[INFO][16:56:51][root]-762369: Liquidated user 0x9da66dffc76da7fecb8a3e00227d7debcae322cc with profit: 7568.064117.\n",
      "[INFO][16:56:51][root]-762369: Missed liquidation for user 0x99418a168b3eafaf03cc1d00f7c3dbc05e892fd5. Health: -667810365294783360.000000. Expected profit: -26590.483293.\n",
      "[INFO][16:56:51][root]-762369: Missed liquidation for user 0x951f55f04530f7cf855a0a355329e0cac4fb9da6. Health: -740100893639166464.000000. Expected profit: -9739.447042.\n",
      "[INFO][16:56:51][root]-762369: Liquidating user 0x9047391ab36600b3d41ccf787328e710b6aa570d with expected profit: 133748.292424.\n",
      "[INFO][16:56:51][root]-762369: Executing cycle Cycle(Trades: [Swap(pool=Curve.fi Factory Plain Pool: crvUSD/USDC, in=USDC, out=crvUSD, amt=380666795040), Liquidation(controller=<crvusdsim.pool.sim_interface.sim_controller.SimController object at 0x7f8ade55c410>, position=<crvusdsim.pool.crvusd.controller.Position object at 0x7f8ade548890>, amt=381684348032213201708043, frac=1000000000000000000, i=0, j=1), Swap(pool=External Market (USDC, WETH), in=Wrapped Ether, out=USD Coin, amt=115431037836347303680)], Expected Profit: 133748.292424).\n",
      "[INFO][16:56:51][root]-762369: Executing trade Swap(pool=Curve.fi Factory Plain Pool: crvUSD/USDC, in=USDC, out=crvUSD, amt=380666795040).\n",
      "[INFO][16:56:51][root]-762369: Executing trade Liquidation(controller=<crvusdsim.pool.sim_interface.sim_controller.SimController object at 0x7f8ade55c410>, position=<crvusdsim.pool.crvusd.controller.Position object at 0x7f8ade548890>, amt=381684348032213201708043, frac=1000000000000000000, i=0, j=1).\n",
      "[INFO][16:56:51][root]-762369: Executing trade Swap(pool=External Market (USDC, WETH), in=Wrapped Ether, out=USD Coin, amt=115431037836347303680).\n",
      "[INFO][16:56:51][root]-762369: Liquidated user 0x9047391ab36600b3d41ccf787328e710b6aa570d with profit: 133748.292424.\n",
      "[INFO][16:56:51][root]-762369: Missed liquidation for user 0x8f006b1f00b7a8631e8d48492be94af27f37c538. Health: -518564791856123328.000000. Expected profit: -6396.824274.\n",
      "[INFO][16:56:51][root]-762369: Missed liquidation for user 0x8dbafd8a8e0ef8afdfd6b2b8e2bbfb51da5f7fe8. Health: -787673611495383040.000000. Expected profit: -7731.641120.\n",
      "[INFO][16:56:51][root]-762369: Missed liquidation for user 0x83b759d188e54da18716e4b108b8e580bb9da85b. Health: -740171105210810880.000000. Expected profit: -1261.527748.\n",
      "[INFO][16:56:51][root]-762369: Missed liquidation for user 0x7df7ef88e126a0d4b0d04c9d9639ccba95b9ad65. Health: -707785014291278720.000000. Expected profit: -28638.784522.\n",
      "[INFO][16:56:51][root]-762369: Missed liquidation for user 0x7ceb7848b3ceafc4b46434344c1136f9ac07ed65. Health: -582170079952196608.000000. Expected profit: -1345.153598.\n",
      "[INFO][16:56:51][root]-762369: Missed liquidation for user 0x73dc679801d916c5d9d06e41e9753171da04d018. Health: -582129574956921984.000000. Expected profit: -1246.352309.\n",
      "[INFO][16:56:51][root]-762369: Missed liquidation for user 0x6e3b2eabf254b41e53a327ea6c868d232cfdeeba. Health: -636850313139341056.000000. Expected profit: -609126.773663.\n",
      "[INFO][16:56:51][root]-762369: Missed liquidation for user 0x68467dc05ccf8328998875c2acc3ac063eeb4b89. Health: -737557282463531136.000000. Expected profit: -24522.827677.\n",
      "[INFO][16:56:51][root]-762369: Missed liquidation for user 0x67b90e295c44ad34cd13f60e7925fd33abe00bdc. Health: -586215312965310976.000000. Expected profit: -599.241653.\n",
      "[INFO][16:56:51][root]-762369: Missed liquidation for user 0x654adaa768fd13c3904fd64b56e1d2a530447d47. Health: -571015603461343424.000000. Expected profit: -1300.895044.\n",
      "[INFO][16:56:51][root]-762369: Missed liquidation for user 0x64495f323a368b5bb3b3c80053622640299b331d. Health: -637896717102797696.000000. Expected profit: -13019.465282.\n",
      "[INFO][16:56:51][root]-762369: Missed liquidation for user 0x5eebb0fbcbe2c129bbc48dc54bc8dd19fe271f14. Health: -738446572629990784.000000. Expected profit: -11352.123742.\n",
      "[INFO][16:56:51][root]-762369: Missed liquidation for user 0x5c163200f9e41cf07e65d59375d6186d11fc60da. Health: -661148051830396928.000000. Expected profit: -5361.958690.\n",
      "[INFO][16:56:51][root]-762369: Missed liquidation for user 0x562a5b60442c6d526c45a7931d47c9bb6473623a. Health: -866377874138523648.000000. Expected profit: -13671.006272.\n",
      "[INFO][16:56:51][root]-762369: Missed liquidation for user 0x42340dd22083988509e53b000d935ce393d9920b. Health: -740135070373685504.000000. Expected profit: -11460.581739.\n",
      "[INFO][16:56:51][root]-762369: Liquidating user 0x386bc159e4d8a3863ab8bae7d9062f1654088a44 with expected profit: 3951.842949.\n",
      "[INFO][16:56:51][root]-762369: Executing cycle Cycle(Trades: [Swap(pool=Curve.fi Factory Plain Pool: crvUSD/USDC, in=USDC, out=crvUSD, amt=13866256372), Liquidation(controller=<crvusdsim.pool.sim_interface.sim_controller.SimController object at 0x7f8ade55c410>, position=<crvusdsim.pool.crvusd.controller.Position object at 0x7f8adc7becd0>, amt=13901412204686175940792, frac=1000000000000000000, i=0, j=1), Swap(pool=External Market (USDC, WETH), in=Wrapped Ether, out=USD Coin, amt=3997583800888741873)], Expected Profit: 3951.842949).\n",
      "[INFO][16:56:51][root]-762369: Executing trade Swap(pool=Curve.fi Factory Plain Pool: crvUSD/USDC, in=USDC, out=crvUSD, amt=13866256372).\n",
      "[INFO][16:56:51][root]-762369: Executing trade Liquidation(controller=<crvusdsim.pool.sim_interface.sim_controller.SimController object at 0x7f8ade55c410>, position=<crvusdsim.pool.crvusd.controller.Position object at 0x7f8adc7becd0>, amt=13901412204686175940792, frac=1000000000000000000, i=0, j=1).\n",
      "[INFO][16:56:51][root]-762369: Executing trade Swap(pool=External Market (USDC, WETH), in=Wrapped Ether, out=USD Coin, amt=3997583800888741873).\n",
      "[INFO][16:56:51][root]-762369: Liquidated user 0x386bc159e4d8a3863ab8bae7d9062f1654088a44 with profit: 3951.842949.\n",
      "[INFO][16:56:51][root]-762369: Missed liquidation for user 0x315efa46b542f50a45ed0dcb006e9bd5debe376e. Health: -676753728449419776.000000. Expected profit: -12045.300662.\n",
      "[INFO][16:56:51][root]-762369: Missed liquidation for user 0x27be8672f045a2791442806589d4575b0f2fff88. Health: -739755194235124864.000000. Expected profit: -18075.872080.\n",
      "[INFO][16:56:51][root]-762369: Liquidating user 0x26af051a0bc520200f91e29789101b0344e31444 with expected profit: 15593.567091.\n",
      "[INFO][16:56:51][root]-762369: Executing cycle Cycle(Trades: [Swap(pool=Curve.fi Factory Plain Pool: crvUSD/USDC, in=USDC, out=crvUSD, amt=40624135192), Liquidation(controller=<crvusdsim.pool.sim_interface.sim_controller.SimController object at 0x7f8ade55c410>, position=<crvusdsim.pool.crvusd.controller.Position object at 0x7f8ade549350>, amt=40726390247698273011577, frac=1000000000000000000, i=0, j=1), Swap(pool=External Market (USDC, WETH), in=Wrapped Ether, out=USD Coin, amt=12612735619082429750)], Expected Profit: 15593.567091).\n",
      "[INFO][16:56:51][root]-762369: Executing trade Swap(pool=Curve.fi Factory Plain Pool: crvUSD/USDC, in=USDC, out=crvUSD, amt=40624135192).\n",
      "[INFO][16:56:51][root]-762369: Executing trade Liquidation(controller=<crvusdsim.pool.sim_interface.sim_controller.SimController object at 0x7f8ade55c410>, position=<crvusdsim.pool.crvusd.controller.Position object at 0x7f8ade549350>, amt=40726390247698273011577, frac=1000000000000000000, i=0, j=1).\n",
      "[INFO][16:56:51][root]-762369: Executing trade Swap(pool=External Market (USDC, WETH), in=Wrapped Ether, out=USD Coin, amt=12612735619082429750).\n",
      "[INFO][16:56:51][root]-762369: Liquidated user 0x26af051a0bc520200f91e29789101b0344e31444 with profit: 15593.567091.\n",
      "[INFO][16:56:51][root]-762369: Liquidating user 0x24b231bda2780cbf18646a5bd14c85705349e34e with expected profit: 52.424619.\n",
      "[INFO][16:56:51][root]-762369: Executing cycle Cycle(Trades: [Swap(pool=Curve.fi Factory Plain Pool: crvUSD/USDT, in=USDT, out=crvUSD, amt=3085915928), Liquidation(controller=<crvusdsim.pool.sim_interface.sim_controller.SimController object at 0x7f8ade55c410>, position=<crvusdsim.pool.crvusd.controller.Position object at 0x7f8ade549510>, amt=3100413262095291353931, frac=1000000000000000000, i=0, j=1), Swap(pool=External Market (WETH, USDT), in=Wrapped Ether, out=Tether USD, amt=705572679962996073)], Expected Profit: 52.424619).\n",
      "[INFO][16:56:51][root]-762369: Executing trade Swap(pool=Curve.fi Factory Plain Pool: crvUSD/USDT, in=USDT, out=crvUSD, amt=3085915928).\n",
      "[INFO][16:56:51][root]-762369: Executing trade Liquidation(controller=<crvusdsim.pool.sim_interface.sim_controller.SimController object at 0x7f8ade55c410>, position=<crvusdsim.pool.crvusd.controller.Position object at 0x7f8ade549510>, amt=3100413262095291353931, frac=1000000000000000000, i=0, j=1).\n",
      "[INFO][16:56:51][root]-762369: Executing trade Swap(pool=External Market (WETH, USDT), in=Wrapped Ether, out=Tether USD, amt=705572679962996073).\n",
      "[INFO][16:56:51][root]-762369: Liquidated user 0x24b231bda2780cbf18646a5bd14c85705349e34e with profit: 52.424619.\n",
      "[INFO][16:56:51][root]-762369: Missed liquidation for user 0x2458f76772938366d36a66c79947f14c128ed1f9. Health: -629146930095207296.000000. Expected profit: -8668.982722.\n",
      "[INFO][16:56:51][root]-762369: Liquidating user 0x1abb6b21cb3363327dd914f4ec7a8f53fbd2c0cf with expected profit: 4116.343820.\n",
      "[INFO][16:56:51][root]-762369: Executing cycle Cycle(Trades: [Swap(pool=Curve.fi Factory Plain Pool: crvUSD/USDC, in=USDC, out=crvUSD, amt=5405059629), Liquidation(controller=<crvusdsim.pool.sim_interface.sim_controller.SimController object at 0x7f8ade55c410>, position=<crvusdsim.pool.crvusd.controller.Position object at 0x7f8ade549610>, amt=5418581848757396815983, frac=1000000000000000000, i=0, j=1), Swap(pool=External Market (USDC, WETH), in=Wrapped Ether, out=USD Coin, amt=2136176676530990120)], Expected Profit: 4116.34382).\n",
      "[INFO][16:56:51][root]-762369: Executing trade Swap(pool=Curve.fi Factory Plain Pool: crvUSD/USDC, in=USDC, out=crvUSD, amt=5405059629).\n",
      "[INFO][16:56:51][root]-762369: Executing trade Liquidation(controller=<crvusdsim.pool.sim_interface.sim_controller.SimController object at 0x7f8ade55c410>, position=<crvusdsim.pool.crvusd.controller.Position object at 0x7f8ade549610>, amt=5418581848757396815983, frac=1000000000000000000, i=0, j=1).\n",
      "[INFO][16:56:51][root]-762369: Executing trade Swap(pool=External Market (USDC, WETH), in=Wrapped Ether, out=USD Coin, amt=2136176676530990120).\n",
      "[INFO][16:56:51][root]-762369: Liquidated user 0x1abb6b21cb3363327dd914f4ec7a8f53fbd2c0cf with profit: 4116.343820.\n",
      "[INFO][16:56:51][root]-762369: Missed liquidation for user 0x18c0d980a3d271f97f37af443abd495cc30f6900. Health: -630976491986277376.000000. Expected profit: -12289.336536.\n",
      "[INFO][16:56:51][root]-762369: Missed liquidation for user 0x1584d528381bd7d104c3b0d42031a82cfa8e9bb1. Health: -586216912917958400.000000. Expected profit: -10708.254501.\n",
      "[INFO][16:56:51][root]-762369: Liquidating user 0x154001a2f9f816389b2f6d9e07563ce0359d813d with expected profit: 64967.598133.\n",
      "[INFO][16:56:51][root]-762369: Executing cycle Cycle(Trades: [Swap(pool=Curve.fi Factory Plain Pool: crvUSD/USDC, in=USDC, out=crvUSD, amt=71467611535), Liquidation(controller=<crvusdsim.pool.sim_interface.sim_controller.SimController object at 0x7f8ade55c410>, position=<crvusdsim.pool.crvusd.controller.Position object at 0x7f8ade5496d0>, amt=71644597057517333376986, frac=1000000000000000000, i=0, j=1), Swap(pool=External Market (USDC, WETH), in=Wrapped Ether, out=USD Coin, amt=30609953071341649966)], Expected Profit: 64967.598133).\n",
      "[INFO][16:56:51][root]-762369: Executing trade Swap(pool=Curve.fi Factory Plain Pool: crvUSD/USDC, in=USDC, out=crvUSD, amt=71467611535).\n",
      "[INFO][16:56:51][root]-762369: Executing trade Liquidation(controller=<crvusdsim.pool.sim_interface.sim_controller.SimController object at 0x7f8ade55c410>, position=<crvusdsim.pool.crvusd.controller.Position object at 0x7f8ade5496d0>, amt=71644597057517333376986, frac=1000000000000000000, i=0, j=1).\n",
      "[INFO][16:56:51][root]-762369: Executing trade Swap(pool=External Market (USDC, WETH), in=Wrapped Ether, out=USD Coin, amt=30609953071341649966).\n",
      "[INFO][16:56:51][root]-762369: Liquidated user 0x154001a2f9f816389b2f6d9e07563ce0359d813d with profit: 64967.598133.\n",
      "[INFO][16:56:51][root]-762369: Missed liquidation for user 0x0bc5a06ba9949c90acfdd0717ba62fbd8878b1aa. Health: -628189681492988928.000000. Expected profit: -21265.948858.\n",
      "[INFO][16:56:51][root]-762369: Missed liquidation for user 0x07cb1b3a52faf636a52822d918b07d30b0914d76. Health: -882713023716183296.000000. Expected profit: -1092021.651061.\n",
      "[INFO][16:56:51][root]-762369: Missed liquidation for user 0x06ed65d661b7b273bb9807c7ec7565f54595592c. Health: -585067034861155072.000000. Expected profit: -3072.166981.\n",
      "[INFO][16:56:51][root]-762369: Missed liquidation for user 0x0268fadda47595c2992818c441443c5895eb6be4. Health: -739811942584980992.000000. Expected profit: -27263.614995.\n"
     ]
    },
    {
     "name": "stdout",
     "output_type": "stream",
     "text": [
      "Liquidated 15 positions for a profit of 992566.46633 USD.\n"
     ]
    }
   ],
   "source": [
    "profit, count = liquidator.perform_liquidations(controller)\n",
    "print(f\"Liquidated {count} positions for a profit of {profit} USD.\")"
   ]
  }
 ],
 "metadata": {
  "kernelspec": {
   "display_name": "venv",
   "language": "python",
   "name": "python3"
  },
  "language_info": {
   "codemirror_mode": {
    "name": "ipython",
    "version": 3
   },
   "file_extension": ".py",
   "mimetype": "text/x-python",
   "name": "python",
   "nbconvert_exporter": "python",
   "pygments_lexer": "ipython3",
   "version": "3.11.3"
  }
 },
 "nbformat": 4,
 "nbformat_minor": 2
}
