{
 "cells": [
  {
   "cell_type": "markdown",
   "metadata": {},
   "source": [
    "# Demo the Liquidator Agent Logic\n",
    "\n",
    "This notebook:\n",
    "\n",
    "1. Fetches the latest crvusd contract data into Python objects using `crvusdsim`.\n",
    "2. Fetches prices and `ExternalMarket`s from the `baseline` scenario.\n",
    "3. Instantiates a liquidator agent.\n",
    "4. Checks if there are users to liquidate in the `Controller` and liquidates them."
   ]
  },
  {
   "cell_type": "code",
   "execution_count": 1,
   "metadata": {},
   "outputs": [],
   "source": [
    "from crvusdsim.pool import get\n",
    "from src.agents.liquidator import Liquidator\n",
    "from src.sim.scenario import Scenario\n",
    "\n",
    "%load_ext autoreload\n",
    "%autoreload 2"
   ]
  },
  {
   "cell_type": "code",
   "execution_count": 2,
   "metadata": {},
   "outputs": [],
   "source": [
    "liquidator = Liquidator()\n",
    "\n",
    "ETH_POOL = \"weth\"\n",
    "(\n",
    "    pool,\n",
    "    controller,\n",
    "    collateral_token,\n",
    "    stablecoin,\n",
    "    aggregator,\n",
    "    stableswap_pools,\n",
    "    peg_keepers,\n",
    "    policy,\n",
    "    factory,\n",
    ") = get(ETH_POOL, bands_data=\"controller\")"
   ]
  },
  {
   "cell_type": "code",
   "execution_count": 18,
   "metadata": {},
   "outputs": [
    {
     "name": "stderr",
     "output_type": "stream",
     "text": [
      "[INFO][23:16:20][root]-545001: Reading price config from ../src/configs/scenarios/baseline.json.\n",
      "[INFO][23:16:20][root]-545001: Fetching 1inch quotes.\n",
      "[INFO][23:16:26][root]-545001: We have 436320 quotes.\n",
      "[INFO][23:16:26][root]-545001: Fitting external markets against 1inch quotes.\n",
      "[INFO][23:16:26][root]-545001: Reading price config from ../src/configs/prices/1h_1696108632_1701289032.json.\n"
     ]
    }
   ],
   "source": [
    "# Generate markets and prices\n",
    "config = \"../src/configs/scenarios/baseline.json\"\n",
    "scenario = Scenario(config)\n",
    "markets = scenario.generate_markets()\n",
    "prices = scenario.generate_pricepaths(\"../\" + scenario.price_config)\n",
    "scenario.update_market_prices(prices[-1])\n",
    "\n",
    "# Set liquidation paths\n",
    "liquidator.set_paths(controller, stableswap_pools, markets)"
   ]
  },
  {
   "cell_type": "code",
   "execution_count": 19,
   "metadata": {},
   "outputs": [],
   "source": [
    "# Artificially inflate collateral price\n",
    "collateral = controller.COLLATERAL_TOKEN.address\n",
    "sample = prices[-1]\n",
    "_prices = sample._prices\n",
    "assert collateral in _prices.keys()\n",
    "_prices[collateral] *= 2\n",
    "sample.update(_prices)\n",
    "scenario.update_market_prices(sample)"
   ]
  },
  {
   "cell_type": "code",
   "execution_count": 20,
   "metadata": {},
   "outputs": [
    {
     "name": "stderr",
     "output_type": "stream",
     "text": [
      "[INFO][23:16:26][root]-545001: There are 15 users to liquidate.\n",
      "[INFO][23:16:26][root]-545001: Liquidating user 0xf11f0add0e8e4ee208104d8264fcf1b69c4ceafc with expected profit: 27066.520916.\n",
      "[INFO][23:16:26][root]-545001: Executing trade Swap(pool=<SimCurveStableSwapPool address=0x4dece678ceceb27446b35c672dc7d61f30bad69e chain=mainnet>, i=0, j=1, amt=28931244833).\n",
      "[INFO][23:16:26][root]-545001: Executing trade Liquidation(controller=<crvusdsim.pool.sim_interface.sim_controller.SimController object at 0x7fa6bcbd18b0>, position=<crvusdsim.pool.crvusd.controller.Position object at 0x7fa6b700f210>, amt=29004879805159848280064, frac=1000000000000000000, i=0, j=1).\n",
      "[INFO][23:16:26][root]-545001: Executing trade Swap(pool=External Market (USDC, WETH), i=1, j=0, amt=13519858676061470720).\n",
      "[INFO][23:16:26][root]-545001: Liquidated user 0xf11f0add0e8e4ee208104d8264fcf1b69c4ceafc with profit: 27066.520916.\n",
      "[INFO][23:16:26][root]-545001: Liquidating user 0xad34c2d6d0e979d6452caf890719038ed27aa0f3 with expected profit: 1663.065502.\n",
      "[INFO][23:16:26][root]-545001: Executing trade Swap(pool=<SimCurveStableSwapPool address=0x4dece678ceceb27446b35c672dc7d61f30bad69e chain=mainnet>, i=0, j=1, amt=1551430617).\n",
      "[INFO][23:16:26][root]-545001: Executing trade Liquidation(controller=<crvusdsim.pool.sim_interface.sim_controller.SimController object at 0x7fa6bcbd18b0>, position=<crvusdsim.pool.crvusd.controller.Position object at 0x7fa69fc97950>, amt=1555363801643124260864, frac=1000000000000000000, i=0, j=1).\n",
      "[INFO][23:16:26][root]-545001: Executing trade Swap(pool=External Market (USDC, WETH), i=1, j=0, amt=776197180944372224).\n",
      "[INFO][23:16:26][root]-545001: Liquidated user 0xad34c2d6d0e979d6452caf890719038ed27aa0f3 with profit: 1663.065502.\n",
      "[INFO][23:16:26][root]-545001: Liquidating user 0xa64b39c939be669bae78d6f526971a38c3270bb5 with expected profit: 11904.261484.\n",
      "[INFO][23:16:26][root]-545001: Executing trade Swap(pool=<SimCurveStableSwapPool address=0x4dece678ceceb27446b35c672dc7d61f30bad69e chain=mainnet>, i=0, j=1, amt=11180428163).\n",
      "[INFO][23:16:26][root]-545001: Executing trade Liquidation(controller=<crvusdsim.pool.sim_interface.sim_controller.SimController object at 0x7fa6bcbd18b0>, position=<crvusdsim.pool.crvusd.controller.Position object at 0x7fa6b700c4d0>, amt=11208726373233110024192, frac=1000000000000000000, i=0, j=1).\n",
      "[INFO][23:16:26][root]-545001: Executing trade Swap(pool=External Market (USDC, WETH), i=1, j=0, amt=5572193447293894656).\n",
      "[INFO][23:16:26][root]-545001: Liquidated user 0xa64b39c939be669bae78d6f526971a38c3270bb5 with profit: 11904.261484.\n",
      "[INFO][23:16:26][root]-545001: Missed liquidation for user 0x99418a168b3eafaf03cc1d00f7c3dbc05e892fd5. Health: -8.096549790446968e+17. Expected profit: -15442.976885.\n",
      "[INFO][23:16:26][root]-545001: Liquidating user 0x8dbafd8a8e0ef8afdfd6b2b8e2bbfb51da5f7fe8 with expected profit: 4249.425251.\n",
      "[INFO][23:16:26][root]-545001: Executing trade Swap(pool=<SimCurveStableSwapPool address=0x4dece678ceceb27446b35c672dc7d61f30bad69e chain=mainnet>, i=0, j=1, amt=11674216664).\n",
      "[INFO][23:16:26][root]-545001: Executing trade Liquidation(controller=<crvusdsim.pool.sim_interface.sim_controller.SimController object at 0x7fa6bcbd18b0>, position=<crvusdsim.pool.crvusd.controller.Position object at 0x7fa6b7001a90>, amt=11703677907134912135168, frac=1000000000000000000, i=0, j=1).\n",
      "[INFO][23:16:26][root]-545001: Executing trade Swap(pool=External Market (USDC, WETH), i=1, j=0, amt=3843925434002500608).\n",
      "[INFO][23:16:26][root]-545001: Liquidated user 0x8dbafd8a8e0ef8afdfd6b2b8e2bbfb51da5f7fe8 with profit: 4249.425251.\n",
      "[INFO][23:16:26][root]-545001: Liquidating user 0x86db4860da8e0ff4c51da617a0a1308c3344a9eb with expected profit: 123412.06362.\n",
      "[INFO][23:16:26][root]-545001: Executing trade Swap(pool=<SimCurveStableSwapPool address=0x4dece678ceceb27446b35c672dc7d61f30bad69e chain=mainnet>, i=0, j=1, amt=132235866791).\n",
      "[INFO][23:16:26][root]-545001: Executing trade Liquidation(controller=<crvusdsim.pool.sim_interface.sim_controller.SimController object at 0x7fa6bcbd18b0>, position=<crvusdsim.pool.crvusd.controller.Position object at 0x7fa6b7000210>, amt=132563476041619768082432, frac=1000000000000000000, i=0, j=1).\n",
      "[INFO][23:16:26][root]-545001: Executing trade Swap(pool=External Market (USDC, WETH), i=1, j=0, amt=61729697742267736064).\n",
      "[INFO][23:16:26][root]-545001: Liquidated user 0x86db4860da8e0ff4c51da617a0a1308c3344a9eb with profit: 123412.06362.\n",
      "[INFO][23:16:26][root]-545001: Missed liquidation for user 0x64495f323a368b5bb3b3c80053622640299b331d. Health: -9.738422992730355e+17. Expected profit: -38651.579966.\n",
      "[INFO][23:16:26][root]-545001: Liquidating user 0x63fe1742192f07d67739cc0f091645a2a50804e1 with expected profit: 13494.949778.\n",
      "[INFO][23:16:26][root]-545001: Executing trade Swap(pool=<SimCurveStableSwapPool address=0x4dece678ceceb27446b35c672dc7d61f30bad69e chain=mainnet>, i=0, j=1, amt=13238838034).\n",
      "[INFO][23:16:26][root]-545001: Executing trade Liquidation(controller=<crvusdsim.pool.sim_interface.sim_controller.SimController object at 0x7fa6bcbd18b0>, position=<crvusdsim.pool.crvusd.controller.Position object at 0x7fa6b7000750>, amt=13271027698550435741696, frac=1000000000000000000, i=0, j=1).\n",
      "[INFO][23:16:26][root]-545001: Executing trade Swap(pool=External Market (USDC, WETH), i=1, j=0, amt=6453551126239066112).\n",
      "[INFO][23:16:26][root]-545001: Liquidated user 0x63fe1742192f07d67739cc0f091645a2a50804e1 with profit: 13494.949778.\n",
      "[INFO][23:16:26][root]-545001: Missed liquidation for user 0x562a5b60442c6d526c45a7931d47c9bb6473623a. Health: -8.027185907921806e+17. Expected profit: -3237.242746.\n",
      "[INFO][23:16:26][root]-545001: Liquidating user 0x48a1a52b20f84b8ff74d946413a01f3961b3760d with expected profit: 3298.686072.\n",
      "[INFO][23:16:26][root]-545001: Executing trade Swap(pool=<SimCurveStableSwapPool address=0x4dece678ceceb27446b35c672dc7d61f30bad69e chain=mainnet>, i=0, j=1, amt=7214525052).\n",
      "[INFO][23:16:26][root]-545001: Executing trade Liquidation(controller=<crvusdsim.pool.sim_interface.sim_controller.SimController object at 0x7fa6bcbd18b0>, position=<crvusdsim.pool.crvusd.controller.Position object at 0x7fa6b7003290>, amt=7232020824794807140352, frac=1000000000000000000, i=0, j=1).\n",
      "[INFO][23:16:26][root]-545001: Executing trade Swap(pool=External Market (USDC, WETH), i=1, j=0, amt=2538473692381663232).\n",
      "[INFO][23:16:26][root]-545001: Liquidated user 0x48a1a52b20f84b8ff74d946413a01f3961b3760d with profit: 3298.686072.\n",
      "[INFO][23:16:26][root]-545001: Missed liquidation for user 0x408f0c201abf1f0217f16626f963e9a218c9f882. Health: -9.738452048389239e+17. Expected profit: -38659.939243.\n",
      "[INFO][23:16:26][root]-545001: Liquidating user 0x24b231bda2780cbf18646a5bd14c85705349e34e with expected profit: 2974.000817.\n",
      "[INFO][23:16:26][root]-545001: Executing trade Swap(pool=<SimCurveStableSwapPool address=0x4dece678ceceb27446b35c672dc7d61f30bad69e chain=mainnet>, i=0, j=1, amt=3086381539).\n",
      "[INFO][23:16:26][root]-545001: Executing trade Liquidation(controller=<crvusdsim.pool.sim_interface.sim_controller.SimController object at 0x7fa6bcbd18b0>, position=<crvusdsim.pool.crvusd.controller.Position object at 0x7fa6b7000790>, amt=3093856352142307622912, frac=1000000000000000000, i=0, j=1).\n",
      "[INFO][23:16:26][root]-545001: Executing trade Swap(pool=External Market (USDC, WETH), i=1, j=0, amt=1463230325837099264).\n",
      "[INFO][23:16:26][root]-545001: Liquidated user 0x24b231bda2780cbf18646a5bd14c85705349e34e with profit: 2974.000817.\n",
      "[INFO][23:16:26][root]-545001: Missed liquidation for user 0x18c0d980a3d271f97f37af443abd495cc30f6900. Health: -9.73667969248958e+17. Expected profit: -38484.267497.\n",
      "[INFO][23:16:26][root]-545001: Missed liquidation for user 0x0bc5a06ba9949c90acfdd0717ba62fbd8878b1aa. Health: -9.736285093857908e+17. Expected profit: -68111.328772.\n",
      "[INFO][23:16:26][root]-545001: Liquidating user 0x07cb1b3a52faf636a52822d918b07d30b0914d76 with expected profit: 554813.110463.\n",
      "[INFO][23:16:26][root]-545001: Executing trade Swap(pool=<SimCurveStableSwapPool address=0x4dece678ceceb27446b35c672dc7d61f30bad69e chain=mainnet>, i=0, j=1, amt=911807462718).\n",
      "[INFO][23:16:26][root]-545001: Executing trade Liquidation(controller=<crvusdsim.pool.sim_interface.sim_controller.SimController object at 0x7fa6bcbd18b0>, position=<crvusdsim.pool.crvusd.controller.Position object at 0x7fa6b7000110>, amt=913775415579308306989056, frac=1000000000000000000, i=0, j=1).\n",
      "[INFO][23:16:26][root]-545001: Executing trade Swap(pool=External Market (USDC, WETH), i=1, j=0, amt=354200020774505480192).\n",
      "[INFO][23:16:26][root]-545001: Liquidated user 0x07cb1b3a52faf636a52822d918b07d30b0914d76 with profit: 554813.110463.\n"
     ]
    }
   ],
   "source": [
    "profits, underwater_debt = liquidator.perform_liquidations(controller)"
   ]
  },
  {
   "cell_type": "code",
   "execution_count": null,
   "metadata": {},
   "outputs": [],
   "source": []
  }
 ],
 "metadata": {
  "kernelspec": {
   "display_name": "venv",
   "language": "python",
   "name": "python3"
  },
  "language_info": {
   "codemirror_mode": {
    "name": "ipython",
    "version": 3
   },
   "file_extension": ".py",
   "mimetype": "text/x-python",
   "name": "python",
   "nbconvert_exporter": "python",
   "pygments_lexer": "ipython3",
   "version": "3.11.3"
  }
 },
 "nbformat": 4,
 "nbformat_minor": 2
}
