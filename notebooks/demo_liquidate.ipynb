{
 "cells": [
  {
   "cell_type": "markdown",
   "metadata": {},
   "source": [
    "# Demo the Liquidator Agent Logic\n",
    "\n",
    "This notebook:\n",
    "\n",
    "1. Fetches the latest crvusd contract data into Python objects using `crvusdsim`.\n",
    "2. Fetches prices and `ExternalMarket`s from the `baseline` scenario.\n",
    "3. Instantiates a liquidator agent.\n",
    "4. Checks if there are users to liquidate in the `Controller` and liquidates them."
   ]
  },
  {
   "cell_type": "code",
   "execution_count": 1,
   "metadata": {},
   "outputs": [],
   "source": [
    "from crvusdsim.pool import get\n",
    "from src.sim.scenario import Scenario\n",
    "\n",
    "%load_ext autoreload\n",
    "%autoreload 2"
   ]
  },
  {
   "cell_type": "code",
   "execution_count": 2,
   "metadata": {},
   "outputs": [],
   "source": [
    "ETH_POOL = \"weth\"\n",
    "sim_market = get(ETH_POOL, bands_data=\"controller\")\n",
    "controller = sim_market.controller\n",
    "stableswap_pools = sim_market.stableswap_pools"
   ]
  },
  {
   "cell_type": "code",
   "execution_count": 3,
   "metadata": {},
   "outputs": [
    {
     "name": "stderr",
     "output_type": "stream",
     "text": [
      "[DEBUG][23:25:24][root]-640975: Using 502560 1Inch quotes.\n"
     ]
    }
   ],
   "source": [
    "# Generate markets and prices\n",
    "scenario = Scenario(\"baseline\")\n",
    "sample = scenario.pricepaths[0]\n",
    "scenario.update_market_prices(sample)\n",
    "\n",
    "markets = scenario.markets\n",
    "liquidator = scenario.liquidator\n",
    "\n",
    "liquidator.set_paths(controller, stableswap_pools, markets)"
   ]
  },
  {
   "cell_type": "code",
   "execution_count": 4,
   "metadata": {},
   "outputs": [],
   "source": [
    "# Artificially inflate collateral price\n",
    "collateral = controller.COLLATERAL_TOKEN.address\n",
    "sample = scenario.pricepaths[0]\n",
    "prices_usd = sample.prices_usd\n",
    "assert collateral in prices_usd.keys()\n",
    "prices_usd[collateral] *= 2\n",
    "sample.update(prices_usd)\n",
    "scenario.update_market_prices(sample)"
   ]
  },
  {
   "cell_type": "code",
   "execution_count": 5,
   "metadata": {},
   "outputs": [
    {
     "name": "stderr",
     "output_type": "stream",
     "text": [
      "[INFO][23:25:26][root]-640975: There are 4 users to liquidate.\n",
      "[INFO][23:25:26][root]-640975: Liquidating user 0x64495f323a368b5bb3b3c80053622640299b331d with expected profit: 34245.461988.\n",
      "[INFO][23:25:26][root]-640975: Executing cycle Cycle(Trades: [Swap(pool=Curve.fi Factory Plain Pool: crvUSD/USDC, in=USDC, out=Curve.Fi USD Stablecoin (crvUSD), amt=49709425614), Liquidation(controller=<crvusdsim.pool.sim_interface.sim_controller.SimController object at 0x7fe455f6da90>, position=<crvusdsim.pool.crvusd.controller.Position object at 0x7fe437141010>, amt=49831440353605447581696, frac=1000000000000000000, i=0, j=1), Swap(pool=External Market (USDC, WETH), in=Wrapped Ether, out=USD Coin, amt=20131821106939953152)], Expected Profit: 34245.461988).\n",
      "[INFO][23:25:26][root]-640975: Executing trade Swap(pool=Curve.fi Factory Plain Pool: crvUSD/USDC, in=USDC, out=Curve.Fi USD Stablecoin (crvUSD), amt=49709425614).\n",
      "[INFO][23:25:26][root]-640975: Executing trade Liquidation(controller=<crvusdsim.pool.sim_interface.sim_controller.SimController object at 0x7fe455f6da90>, position=<crvusdsim.pool.crvusd.controller.Position object at 0x7fe437141010>, amt=49831440353605447581696, frac=1000000000000000000, i=0, j=1).\n",
      "[INFO][23:25:26][root]-640975: Executing trade Swap(pool=External Market (USDC, WETH), in=Wrapped Ether, out=USD Coin, amt=20131821106939953152).\n",
      "[INFO][23:25:26][root]-640975: Liquidated user 0x64495f323a368b5bb3b3c80053622640299b331d with profit: 34245.461988.\n",
      "[INFO][23:25:26][root]-640975: Liquidating user 0x408f0c201abf1f0217f16626f963e9a218c9f882 with expected profit: 34240.920515.\n",
      "[INFO][23:25:26][root]-640975: Executing cycle Cycle(Trades: [Swap(pool=Curve.fi Factory Plain Pool: crvUSD/USDC, in=USDC, out=Curve.Fi USD Stablecoin (crvUSD), amt=49720160780), Liquidation(controller=<crvusdsim.pool.sim_interface.sim_controller.SimController object at 0x7fe455f6da90>, position=<crvusdsim.pool.crvusd.controller.Position object at 0x7fe462166410>, amt=49840652860874834313216, frac=1000000000000000000, i=0, j=1), Swap(pool=External Market (USDC, WETH), in=Wrapped Ether, out=USD Coin, amt=20133306313083777024)], Expected Profit: 34240.920515).\n",
      "[INFO][23:25:26][root]-640975: Executing trade Swap(pool=Curve.fi Factory Plain Pool: crvUSD/USDC, in=USDC, out=Curve.Fi USD Stablecoin (crvUSD), amt=49720160780).\n",
      "[INFO][23:25:26][root]-640975: Executing trade Liquidation(controller=<crvusdsim.pool.sim_interface.sim_controller.SimController object at 0x7fe455f6da90>, position=<crvusdsim.pool.crvusd.controller.Position object at 0x7fe462166410>, amt=49840652860874834313216, frac=1000000000000000000, i=0, j=1).\n",
      "[INFO][23:25:26][root]-640975: Executing trade Swap(pool=External Market (USDC, WETH), in=Wrapped Ether, out=USD Coin, amt=20133306313083777024).\n",
      "[INFO][23:25:26][root]-640975: Liquidated user 0x408f0c201abf1f0217f16626f963e9a218c9f882 with profit: 34240.920515.\n",
      "[INFO][23:25:26][root]-640975: Liquidating user 0x18c0d980a3d271f97f37af443abd495cc30f6900 with expected profit: 32729.790806.\n",
      "[INFO][23:25:26][root]-640975: Executing cycle Cycle(Trades: [Swap(pool=Curve.fi Factory Plain Pool: crvUSD/USDC, in=USDC, out=Curve.Fi USD Stablecoin (crvUSD), amt=49592029349), Liquidation(controller=<crvusdsim.pool.sim_interface.sim_controller.SimController object at 0x7fe455f6da90>, position=<crvusdsim.pool.crvusd.controller.Position object at 0x7fe437140c90>, amt=49710687919149338853376, frac=1000000000000000000, i=0, j=1), Swap(pool=External Market (USDC, WETH), in=Wrapped Ether, out=USD Coin, amt=19740222444444057600)], Expected Profit: 32729.790806).\n",
      "[INFO][23:25:26][root]-640975: Executing trade Swap(pool=Curve.fi Factory Plain Pool: crvUSD/USDC, in=USDC, out=Curve.Fi USD Stablecoin (crvUSD), amt=49592029349).\n",
      "[INFO][23:25:26][root]-640975: Executing trade Liquidation(controller=<crvusdsim.pool.sim_interface.sim_controller.SimController object at 0x7fe455f6da90>, position=<crvusdsim.pool.crvusd.controller.Position object at 0x7fe437140c90>, amt=49710687919149338853376, frac=1000000000000000000, i=0, j=1).\n",
      "[INFO][23:25:26][root]-640975: Executing trade Swap(pool=External Market (USDC, WETH), in=Wrapped Ether, out=USD Coin, amt=19740222444444057600).\n",
      "[INFO][23:25:26][root]-640975: Liquidated user 0x18c0d980a3d271f97f37af443abd495cc30f6900 with profit: 32729.790806.\n",
      "[INFO][23:25:26][root]-640975: Liquidating user 0x0bc5a06ba9949c90acfdd0717ba62fbd8878b1aa with expected profit: 58159.961410.\n",
      "[INFO][23:25:26][root]-640975: Executing cycle Cycle(Trades: [Swap(pool=Curve.fi Factory Plain Pool: crvUSD/USDC, in=USDC, out=Curve.Fi USD Stablecoin (crvUSD), amt=87801990971), Liquidation(controller=<crvusdsim.pool.sim_interface.sim_controller.SimController object at 0x7fe455f6da90>, position=<crvusdsim.pool.crvusd.controller.Position object at 0x7fe437141790>, amt=88008404537023460802560, frac=1000000000000000000, i=0, j=1), Swap(pool=External Market (USDC, WETH), in=Wrapped Ether, out=USD Coin, amt=35000700943873650688)], Expected Profit: 58159.96141).\n",
      "[INFO][23:25:26][root]-640975: Executing trade Swap(pool=Curve.fi Factory Plain Pool: crvUSD/USDC, in=USDC, out=Curve.Fi USD Stablecoin (crvUSD), amt=87801990971).\n",
      "[INFO][23:25:26][root]-640975: Executing trade Liquidation(controller=<crvusdsim.pool.sim_interface.sim_controller.SimController object at 0x7fe455f6da90>, position=<crvusdsim.pool.crvusd.controller.Position object at 0x7fe437141790>, amt=88008404537023460802560, frac=1000000000000000000, i=0, j=1).\n",
      "[INFO][23:25:26][root]-640975: Executing trade Swap(pool=External Market (USDC, WETH), in=Wrapped Ether, out=USD Coin, amt=35000700943873650688).\n",
      "[INFO][23:25:26][root]-640975: Liquidated user 0x0bc5a06ba9949c90acfdd0717ba62fbd8878b1aa with profit: 58159.961410.\n"
     ]
    }
   ],
   "source": [
    "profits, underwater_debt = liquidator.perform_liquidations(controller)"
   ]
  },
  {
   "cell_type": "code",
   "execution_count": null,
   "metadata": {},
   "outputs": [],
   "source": []
  }
 ],
 "metadata": {
  "kernelspec": {
   "display_name": "venv",
   "language": "python",
   "name": "python3"
  },
  "language_info": {
   "codemirror_mode": {
    "name": "ipython",
    "version": 3
   },
   "file_extension": ".py",
   "mimetype": "text/x-python",
   "name": "python",
   "nbconvert_exporter": "python",
   "pygments_lexer": "ipython3",
   "version": "3.11.3"
  }
 },
 "nbformat": 4,
 "nbformat_minor": 2
}
