{
 "cells": [
  {
   "cell_type": "markdown",
   "metadata": {},
   "source": [
    "# Demo the Liquidator Agent Logic\n",
    "\n",
    "This notebook:\n",
    "\n",
    "1. Fetches the latest crvusd contract data into Python objects using `crvusdsim`.\n",
    "2. Fetches prices and `ExternalMarket`s from the `baseline` scenario.\n",
    "3. Instantiates a liquidator agent.\n",
    "4. Checks if there are users to liquidate in the `Controller` and liquidates them."
   ]
  },
  {
   "cell_type": "code",
   "execution_count": 1,
   "metadata": {},
   "outputs": [],
   "source": [
    "from crvusdsim.pool import get\n",
    "from src.agents.liquidator import Liquidator\n",
    "from src.sim.scenario import Scenario\n",
    "\n",
    "%load_ext autoreload\n",
    "%autoreload 2"
   ]
  },
  {
   "cell_type": "code",
   "execution_count": 2,
   "metadata": {},
   "outputs": [],
   "source": [
    "liquidator = Liquidator()\n",
    "\n",
    "ETH_POOL = \"weth\"\n",
    "(\n",
    "    pool,\n",
    "    controller,\n",
    "    collateral_token,\n",
    "    stablecoin,\n",
    "    aggregator,\n",
    "    stableswap_pools,\n",
    "    peg_keepers,\n",
    "    policy,\n",
    "    factory,\n",
    ") = get(ETH_POOL, bands_data=\"controller\")"
   ]
  },
  {
   "cell_type": "code",
   "execution_count": 3,
   "metadata": {},
   "outputs": [
    {
     "name": "stderr",
     "output_type": "stream",
     "text": [
      "[INFO][22:08:16][root]-433001: Reading price config from ../src/configs/scenarios/baseline.json.\n"
     ]
    },
    {
     "name": "stderr",
     "output_type": "stream",
     "text": [
      "[INFO][22:08:16][root]-433001: Fetching 1inch quotes.\n",
      "[INFO][22:08:23][root]-433001: We have 372960 quotes.\n",
      "[INFO][22:08:23][root]-433001: Fitting external markets against 1inch quotes.\n",
      "[INFO][22:08:23][root]-433001: Reading price config from ../src/configs/prices/1h_1694894242_1700078242.json.\n"
     ]
    }
   ],
   "source": [
    "config = \"../src/configs/scenarios/baseline.json\"\n",
    "scenario = Scenario(config)\n",
    "markets = scenario.generate_markets()\n",
    "prices = scenario.generate_pricepaths(\n",
    "    \"../src/configs/prices/1h_1694894242_1700078242.json\"\n",
    ")"
   ]
  },
  {
   "cell_type": "code",
   "execution_count": 4,
   "metadata": {},
   "outputs": [],
   "source": [
    "# Set External Market Prices\n",
    "sample = prices[-1].prices\n",
    "for in_token in markets:\n",
    "    for out_token in markets[in_token]:\n",
    "        markets[in_token][out_token].update_price(sample[in_token][out_token])"
   ]
  },
  {
   "cell_type": "code",
   "execution_count": 5,
   "metadata": {},
   "outputs": [],
   "source": [
    "liquidator.set_paths(controller, stableswap_pools, markets)\n",
    "# Artificially raise price if necessary to make liquidation profitable\n",
    "liquidator.paths[0].collat_pool.update_price(5000)"
   ]
  },
  {
   "cell_type": "code",
   "execution_count": 10,
   "metadata": {},
   "outputs": [
    {
     "name": "stderr",
     "output_type": "stream",
     "text": [
      "[INFO][22:07:23][root]-432808: There are 19 users to liquidate.\n",
      "[INFO][22:07:23][root]-432808: Liquidating user 0xec718904654b29f1f571290259c324fd2e3aa63e with expected profit: [77025.85129377].\n",
      "[INFO][22:07:23][root]-432808: Executing trade Swap(pool=<SimCurveStableSwapPool address=0x4dece678ceceb27446b35c672dc7d61f30bad69e chain=mainnet>, i=0, j=1, amt=53153255322).\n",
      "[INFO][22:07:23][root]-432808: Executing trade Liquidation(controller=<crvusdsim.pool.sim_interface.sim_controller.SimController object at 0x7f5cd7c818b0>, position=<crvusdsim.pool.crvusd.controller.Position object at 0x7f5cd89518d0>, amt=53362138823577594494976, frac=1000000000000000000, i=0, j=1).\n",
      "[INFO][22:07:23][root]-432808: Executing trade Swap(pool=<src.modules.market.ExternalMarket object at 0x7f5cd52d2a90>, i=0, j=1, amt=26049758367989198848).\n",
      "[INFO][22:07:23][root]-432808: Liquidated user 0xec718904654b29f1f571290259c324fd2e3aa63e with profit: [77025.85129377].\n",
      "[INFO][22:07:23][root]-432808: Liquidating user 0xbf103883e185dde123c5c9ae73720636de01ac40 with expected profit: [22810.353883].\n",
      "[INFO][22:07:23][root]-432808: Executing trade Swap(pool=<SimCurveStableSwapPool address=0x4dece678ceceb27446b35c672dc7d61f30bad69e chain=mainnet>, i=0, j=1, amt=27444456944).\n",
      "[INFO][22:07:23][root]-432808: Executing trade Liquidation(controller=<crvusdsim.pool.sim_interface.sim_controller.SimController object at 0x7f5cd7c818b0>, position=<crvusdsim.pool.crvusd.controller.Position object at 0x7f5cbfcfd610>, amt=27551121721242513571840, frac=1000000000000000000, i=0, j=1).\n",
      "[INFO][22:07:23][root]-432808: Executing trade Swap(pool=<src.modules.market.ExternalMarket object at 0x7f5cd52d2a90>, i=0, j=1, amt=10054232278463166464).\n",
      "[INFO][22:07:23][root]-432808: Liquidated user 0xbf103883e185dde123c5c9ae73720636de01ac40 with profit: [22810.353883].\n"
     ]
    },
    {
     "name": "stderr",
     "output_type": "stream",
     "text": [
      "[INFO][22:07:23][root]-432808: Liquidating user 0xad34c2d6d0e979d6452caf890719038ed27aa0f3 with expected profit: [1178.62667493].\n",
      "[INFO][22:07:23][root]-432808: Executing trade Swap(pool=<SimCurveStableSwapPool address=0x4dece678ceceb27446b35c672dc7d61f30bad69e chain=mainnet>, i=0, j=1, amt=1548380185).\n",
      "[INFO][22:07:23][root]-432808: Executing trade Liquidation(controller=<crvusdsim.pool.sim_interface.sim_controller.SimController object at 0x7f5cd7c818b0>, position=<crvusdsim.pool.crvusd.controller.Position object at 0x7f5cd605a0d0>, amt=1554374195494622330880, frac=1000000000000000000, i=0, j=1).\n",
      "[INFO][22:07:23][root]-432808: Executing trade Swap(pool=<src.modules.market.ExternalMarket object at 0x7f5cd52d2a90>, i=0, j=1, amt=545693666154797952).\n",
      "[INFO][22:07:23][root]-432808: Liquidated user 0xad34c2d6d0e979d6452caf890719038ed27aa0f3 with profit: [1178.62667493].\n",
      "[INFO][22:07:23][root]-432808: Liquidating user 0xac01ec664c1062234a73574d44523c906a3a6369 with expected profit: [2352717.82254128].\n",
      "[INFO][22:07:23][root]-432808: Executing trade Swap(pool=<SimCurveStableSwapPool address=0x4dece678ceceb27446b35c672dc7d61f30bad69e chain=mainnet>, i=0, j=1, amt=1395811490481).\n",
      "[INFO][22:07:23][root]-432808: Executing trade Liquidation(controller=<crvusdsim.pool.sim_interface.sim_controller.SimController object at 0x7f5cd7c818b0>, position=<crvusdsim.pool.crvusd.controller.Position object at 0x7f5cd6059e10>, amt=1400319945146592311377920, frac=1000000000000000000, i=0, j=1).\n",
      "[INFO][22:07:23][root]-432808: Executing trade Swap(pool=<src.modules.market.ExternalMarket object at 0x7f5cd52d2a90>, i=0, j=1, amt=750529224246621241344).\n",
      "[INFO][22:07:23][root]-432808: Liquidated user 0xac01ec664c1062234a73574d44523c906a3a6369 with profit: [2352717.82254128].\n",
      "[INFO][22:07:23][root]-432808: Liquidating user 0xa64b39c939be669bae78d6f526971a38c3270bb5 with expected profit: [8406.42537081].\n",
      "[INFO][22:07:23][root]-432808: Executing trade Swap(pool=<SimCurveStableSwapPool address=0x4dece678ceceb27446b35c672dc7d61f30bad69e chain=mainnet>, i=0, j=1, amt=11171753700).\n",
      "[INFO][22:07:23][root]-432808: Executing trade Liquidation(controller=<crvusdsim.pool.sim_interface.sim_controller.SimController object at 0x7f5cd7c818b0>, position=<crvusdsim.pool.crvusd.controller.Position object at 0x7f5cd6a49f50>, amt=11201594778345724182528, frac=1000000000000000000, i=0, j=1).\n",
      "[INFO][22:07:23][root]-432808: Executing trade Swap(pool=<src.modules.market.ExternalMarket object at 0x7f5cd52d2a90>, i=0, j=1, amt=3917570987989054464).\n",
      "[INFO][22:07:23][root]-432808: Liquidated user 0xa64b39c939be669bae78d6f526971a38c3270bb5 with profit: [8406.42537081].\n",
      "[INFO][22:07:23][root]-432808: Liquidating user 0x9e1232a4e655ecf25b48b628bb625dda6ca6b096 with expected profit: [43962.99558676].\n",
      "[INFO][22:07:23][root]-432808: Executing trade Swap(pool=<SimCurveStableSwapPool address=0x4dece678ceceb27446b35c672dc7d61f30bad69e chain=mainnet>, i=0, j=1, amt=31003826477).\n",
      "[INFO][22:07:23][root]-432808: Executing trade Liquidation(controller=<crvusdsim.pool.sim_interface.sim_controller.SimController object at 0x7f5cd7c818b0>, position=<crvusdsim.pool.crvusd.controller.Position object at 0x7f5cbfc9dd90>, amt=31086192136248730058752, frac=1000000000000000000, i=0, j=1).\n",
      "[INFO][22:07:23][root]-432808: Executing trade Swap(pool=<src.modules.market.ExternalMarket object at 0x7f5cd52d2a90>, i=0, j=1, amt=14998194856947378176).\n",
      "[INFO][22:07:23][root]-432808: Liquidated user 0x9e1232a4e655ecf25b48b628bb625dda6ca6b096 with profit: [43962.99558676].\n",
      "[INFO][22:07:23][root]-432808: Missed liquidation for user 0x99418a168b3eafaf03cc1d00f7c3dbc05e892fd5. Health: -1000000000000000000. Expected profit: [-56761.78332697].\n",
      "[INFO][22:07:23][root]-432808: Liquidating user 0x8dbafd8a8e0ef8afdfd6b2b8e2bbfb51da5f7fe8 with expected profit: [1875.73739782].\n",
      "[INFO][22:07:23][root]-432808: Executing trade Swap(pool=<SimCurveStableSwapPool address=0x4dece678ceceb27446b35c672dc7d61f30bad69e chain=mainnet>, i=0, j=1, amt=11665410884).\n",
      "[INFO][22:07:23][root]-432808: Executing trade Liquidation(controller=<crvusdsim.pool.sim_interface.sim_controller.SimController object at 0x7f5cd7c818b0>, position=<crvusdsim.pool.crvusd.controller.Position object at 0x7f5cd5ec1210>, amt=11696231397447115472896, frac=1000000000000000000, i=0, j=1).\n",
      "[INFO][22:07:23][root]-432808: Executing trade Swap(pool=<src.modules.market.ExternalMarket object at 0x7f5cd52d2a90>, i=0, j=1, amt=2709032710570982400).\n",
      "[INFO][22:07:23][root]-432808: Liquidated user 0x8dbafd8a8e0ef8afdfd6b2b8e2bbfb51da5f7fe8 with profit: [1875.73739782].\n",
      "[INFO][22:07:23][root]-432808: Liquidating user 0x653aed4503e3a3f060c744fe85dc780ce549d3c3 with expected profit: [134466.77067127].\n",
      "[INFO][22:07:23][root]-432808: Executing trade Swap(pool=<SimCurveStableSwapPool address=0x4dece678ceceb27446b35c672dc7d61f30bad69e chain=mainnet>, i=0, j=1, amt=98437658270).\n",
      "[INFO][22:07:23][root]-432808: Executing trade Liquidation(controller=<crvusdsim.pool.sim_interface.sim_controller.SimController object at 0x7f5cd7c818b0>, position=<crvusdsim.pool.crvusd.controller.Position object at 0x7f5cd5ec0f10>, amt=98694077566603627593728, frac=1000000000000000000, i=0, j=1).\n",
      "[INFO][22:07:23][root]-432808: Executing trade Swap(pool=<src.modules.market.ExternalMarket object at 0x7f5cd52d2a90>, i=0, j=1, amt=46592154493817970688).\n",
      "[INFO][22:07:23][root]-432808: Liquidated user 0x653aed4503e3a3f060c744fe85dc780ce549d3c3 with profit: [134466.77067127].\n",
      "[INFO][22:07:23][root]-432808: Missed liquidation for user 0x64495f323a368b5bb3b3c80053622640299b331d. Health: -1000000000000000000. Expected profit: [-49550.926443].\n",
      "[INFO][22:07:23][root]-432808: Liquidating user 0x63fe1742192f07d67739cc0f091645a2a50804e1 with expected profit: [9456.55347972].\n",
      "[INFO][22:07:23][root]-432808: Executing trade Swap(pool=<SimCurveStableSwapPool address=0x4dece678ceceb27446b35c672dc7d61f30bad69e chain=mainnet>, i=0, j=1, amt=13228617692).\n",
      "[INFO][22:07:23][root]-432808: Executing trade Liquidation(controller=<crvusdsim.pool.sim_interface.sim_controller.SimController object at 0x7f5cd7c818b0>, position=<crvusdsim.pool.crvusd.controller.Position object at 0x7f5cd5ec2d90>, amt=13262583956582445350912, frac=1000000000000000000, i=0, j=1).\n",
      "[INFO][22:07:23][root]-432808: Executing trade Swap(pool=<src.modules.market.ExternalMarket object at 0x7f5cd52d2a90>, i=0, j=1, amt=4537071327043649024).\n",
      "[INFO][22:07:23][root]-432808: Liquidated user 0x63fe1742192f07d67739cc0f091645a2a50804e1 with profit: [9456.55347972].\n",
      "[INFO][22:07:23][root]-432808: Missed liquidation for user 0x562a5b60442c6d526c45a7931d47c9bb6473623a. Health: -1000000000000000000. Expected profit: [-13720.83137754].\n",
      "[INFO][22:07:23][root]-432808: Liquidating user 0x48a1a52b20f84b8ff74d946413a01f3961b3760d with expected profit: [146.45725556].\n",
      "[INFO][22:07:23][root]-432808: Executing trade Swap(pool=<SimCurveStableSwapPool address=0x4dece678ceceb27446b35c672dc7d61f30bad69e chain=mainnet>, i=0, j=1, amt=7208958073).\n",
      "[INFO][22:07:23][root]-432808: Executing trade Liquidation(controller=<crvusdsim.pool.sim_interface.sim_controller.SimController object at 0x7f5cd7c818b0>, position=<crvusdsim.pool.crvusd.controller.Position object at 0x7f5cd5ec0290>, amt=7227419423973501304832, frac=1000000000000000000, i=0, j=1).\n",
      "[INFO][22:07:23][root]-432808: Executing trade Swap(pool=<src.modules.market.ExternalMarket object at 0x7f5cd52d2a90>, i=0, j=1, amt=1471612915093699584).\n",
      "[INFO][22:07:23][root]-432808: Liquidated user 0x48a1a52b20f84b8ff74d946413a01f3961b3760d with profit: [146.45725556].\n",
      "[INFO][22:07:23][root]-432808: Missed liquidation for user 0x408f0c201abf1f0217f16626f963e9a218c9f882. Health: -1000000000000000000. Expected profit: [-49560.087411].\n",
      "[INFO][22:07:23][root]-432808: Liquidating user 0x24b231bda2780cbf18646a5bd14c85705349e34e with expected profit: [3361.13052253].\n",
      "[INFO][22:07:23][root]-432808: Executing trade Swap(pool=<SimCurveStableSwapPool address=0x4dece678ceceb27446b35c672dc7d61f30bad69e chain=mainnet>, i=0, j=1, amt=3084000540).\n",
      "[INFO][22:07:23][root]-432808: Executing trade Liquidation(controller=<crvusdsim.pool.sim_interface.sim_controller.SimController object at 0x7f5cd7c818b0>, position=<crvusdsim.pool.crvusd.controller.Position object at 0x7f5cd5ec0510>, amt=3091887874243164110848, frac=1000000000000000000, i=0, j=1).\n",
      "[INFO][22:07:23][root]-432808: Executing trade Swap(pool=<src.modules.market.ExternalMarket object at 0x7f5cd52d2a90>, i=0, j=1, amt=1289559340809911552).\n",
      "[INFO][22:07:23][root]-432808: Liquidated user 0x24b231bda2780cbf18646a5bd14c85705349e34e with profit: [3361.13052253].\n",
      "[INFO][22:07:23][root]-432808: Liquidating user 0x2458f76772938366d36a66c79947f14c128ed1f9 with expected profit: [51050.60709416].\n",
      "[INFO][22:07:23][root]-432808: Executing trade Swap(pool=<SimCurveStableSwapPool address=0x4dece678ceceb27446b35c672dc7d61f30bad69e chain=mainnet>, i=0, j=1, amt=36785098572).\n",
      "[INFO][22:07:23][root]-432808: Executing trade Liquidation(controller=<crvusdsim.pool.sim_interface.sim_controller.SimController object at 0x7f5cd7c818b0>, position=<crvusdsim.pool.crvusd.controller.Position object at 0x7f5cd5ec0310>, amt=36878695572768141869056, frac=1000000000000000000, i=0, j=1).\n",
      "[INFO][22:07:23][root]-432808: Executing trade Swap(pool=<src.modules.market.ExternalMarket object at 0x7f5cd52d2a90>, i=0, j=1, amt=17569307116686766080).\n",
      "[INFO][22:07:23][root]-432808: Liquidated user 0x2458f76772938366d36a66c79947f14c128ed1f9 with profit: [51050.60709416].\n",
      "[INFO][22:07:23][root]-432808: Missed liquidation for user 0x18c0d980a3d271f97f37af443abd495cc30f6900. Health: -1000000000000000000. Expected profit: [-50083.001287].\n",
      "[INFO][22:07:23][root]-432808: Missed liquidation for user 0x0bc5a06ba9949c90acfdd0717ba62fbd8878b1aa. Health: -1000000000000000000. Expected profit: [-87515.315214].\n",
      "[INFO][22:07:23][root]-432808: Liquidating user 0x07cb1b3a52faf636a52822d918b07d30b0914d76 with expected profit: [75187.178057].\n",
      "[INFO][22:07:23][root]-432808: Executing trade Swap(pool=<SimCurveStableSwapPool address=0x4dece678ceceb27446b35c672dc7d61f30bad69e chain=mainnet>, i=0, j=1, amt=951050045228).\n",
      "[INFO][22:07:23][root]-432808: Executing trade Liquidation(controller=<crvusdsim.pool.sim_interface.sim_controller.SimController object at 0x7f5cd7c818b0>, position=<crvusdsim.pool.crvusd.controller.Position object at 0x7f5cd5ec1550>, amt=953187031519626958733312, frac=1000000000000000000, i=0, j=1).\n",
      "[INFO][22:07:23][root]-432808: Executing trade Swap(pool=<src.modules.market.ExternalMarket object at 0x7f5cd52d2a90>, i=0, j=1, amt=205338084323092889600).\n",
      "[INFO][22:07:23][root]-432808: Liquidated user 0x07cb1b3a52faf636a52822d918b07d30b0914d76 with profit: [75187.178057].\n"
     ]
    }
   ],
   "source": [
    "profits, underwater_debt = liquidator.perform_liquidations(controller)"
   ]
  },
  {
   "cell_type": "code",
   "execution_count": null,
   "metadata": {},
   "outputs": [],
   "source": []
  }
 ],
 "metadata": {
  "kernelspec": {
   "display_name": "venv",
   "language": "python",
   "name": "python3"
  },
  "language_info": {
   "codemirror_mode": {
    "name": "ipython",
    "version": 3
   },
   "file_extension": ".py",
   "mimetype": "text/x-python",
   "name": "python",
   "nbconvert_exporter": "python",
   "pygments_lexer": "ipython3",
   "version": "3.11.3"
  }
 },
 "nbformat": 4,
 "nbformat_minor": 2
}
