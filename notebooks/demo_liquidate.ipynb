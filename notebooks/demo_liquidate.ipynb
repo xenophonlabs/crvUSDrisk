{
 "cells": [
  {
   "cell_type": "markdown",
   "metadata": {},
   "source": [
    "# Demo the Liquidator Agent Logic\n",
    "\n",
    "This notebook:\n",
    "\n",
    "1. Fetches the latest crvusd contract data into Python objects using `crvusdsim`.\n",
    "2. Fetches prices and `ExternalMarket`s from the `baseline` scenario.\n",
    "3. Instantiates a liquidator agent.\n",
    "4. Checks if there are users to liquidate in the `Controller` and liquidates them.\n",
    "\n",
    "TODO describe the liquidation logic in detail."
   ]
  },
  {
   "cell_type": "code",
   "execution_count": 1,
   "metadata": {},
   "outputs": [],
   "source": [
    "from src.sim.scenario import Scenario\n",
    "\n",
    "%load_ext autoreload\n",
    "%autoreload 2"
   ]
  },
  {
   "cell_type": "code",
   "execution_count": 2,
   "metadata": {},
   "outputs": [
    {
     "name": "stderr",
     "output_type": "stream",
     "text": [
      "[INFO][03:21:28][src.sim.scenario]-962383: Using 711360 1Inch quotes.\n",
      "[INFO][03:21:28][src.sim.scenario]-962383: Fetching sim_market from subgraph.\n",
      "[INFO][03:21:31][src.utils.poolgraph]-962383: Found 20 valid cycles of length 3.\n"
     ]
    }
   ],
   "source": [
    "# Generate markets and prices\n",
    "scenario = Scenario(\"baseline\")\n",
    "sample = scenario.pricepaths[0]\n",
    "scenario.prepare_for_run()  # Set block timestamps\n",
    "scenario.prepare_for_trades(sample)  # Set External Market Price\n",
    "\n",
    "# Unpack\n",
    "markets = scenario.markets\n",
    "liquidator = scenario.liquidator\n",
    "controller = scenario.controller"
   ]
  },
  {
   "cell_type": "code",
   "execution_count": 3,
   "metadata": {},
   "outputs": [],
   "source": [
    "# Artificially inflate collateral price\n",
    "collateral = scenario.controller.COLLATERAL_TOKEN.address\n",
    "sample = scenario.pricepaths[0]\n",
    "prices_usd = sample.prices_usd\n",
    "assert collateral in prices_usd.keys()\n",
    "prices_usd[collateral] *= 2\n",
    "sample.update(prices_usd)\n",
    "scenario.update_market_prices(sample)"
   ]
  },
  {
   "cell_type": "code",
   "execution_count": 4,
   "metadata": {},
   "outputs": [
    {
     "name": "stderr",
     "output_type": "stream",
     "text": [
      "[INFO][03:21:31][src.agents.liquidator]-962383: There are 24 users to liquidate.\n",
      "[INFO][03:21:31][src.agents.liquidator]-962383: Liquidating user 0xec718904654b29f1f571290259c324fd2e3aa63e with expected profit: 89054.440852.\n",
      "[INFO][03:21:31][src.trades.cycle]-962383: Executing cycle Cycle(Trades: [Swap(pool=Curve.fi Factory Plain Pool: crvUSD/USDC, in=USDC, out=crvUSD, amt=77904451713), Liquidation(controller=<crvusdsim.pool.sim_interface.sim_controller.SimController object at 0x7f11cd1e85f0>, position=<crvusdsim.pool.crvusd.controller.Position object at 0x7f11b348add0>, amt=77961893995141982544573, frac=1000000000000000000, i=0, j=1), Swap(pool=External Market (USDC, WETH), in=Wrapped Ether, out=USD Coin, amt=37460935130686713385)], Expected Profit: 89054.440852).\n",
      "[INFO][03:21:31][src.trades.cycle]-962383: Executing trade Swap(pool=Curve.fi Factory Plain Pool: crvUSD/USDC, in=USDC, out=crvUSD, amt=77904451713).\n",
      "[INFO][03:21:31][src.trades.cycle]-962383: Executing trade Liquidation(controller=<crvusdsim.pool.sim_interface.sim_controller.SimController object at 0x7f11cd1e85f0>, position=<crvusdsim.pool.crvusd.controller.Position object at 0x7f11b348add0>, amt=77961893995141982544573, frac=1000000000000000000, i=0, j=1).\n",
      "[INFO][03:21:31][src.trades.cycle]-962383: Executing trade Swap(pool=External Market (USDC, WETH), in=Wrapped Ether, out=USD Coin, amt=37460935130686713385).\n",
      "[INFO][03:21:31][src.agents.liquidator]-962383: Liquidated user 0xec718904654b29f1f571290259c324fd2e3aa63e with profit: 89054.440852.\n",
      "[INFO][03:21:31][src.agents.liquidator]-962383: Liquidating user 0xdf88f68c58edf72a737e1e6cb2a0722bfed45faa with expected profit: 19746.880393.\n",
      "[INFO][03:21:31][src.trades.cycle]-962383: Executing cycle Cycle(Trades: [Swap(pool=Curve.fi Factory Plain Pool: crvUSD/USDC, in=USDC, out=crvUSD, amt=17968379603), Liquidation(controller=<crvusdsim.pool.sim_interface.sim_controller.SimController object at 0x7f11cd1e85f0>, position=<crvusdsim.pool.crvusd.controller.Position object at 0x7f11b348b0d0>, amt=17981381197935151380804, frac=1000000000000000000, i=0, j=1), Swap(pool=External Market (USDC, WETH), in=Wrapped Ether, out=USD Coin, amt=8462256106613366491)], Expected Profit: 19746.880393).\n",
      "[INFO][03:21:31][src.trades.cycle]-962383: Executing trade Swap(pool=Curve.fi Factory Plain Pool: crvUSD/USDC, in=USDC, out=crvUSD, amt=17968379603).\n",
      "[INFO][03:21:31][src.trades.cycle]-962383: Executing trade Liquidation(controller=<crvusdsim.pool.sim_interface.sim_controller.SimController object at 0x7f11cd1e85f0>, position=<crvusdsim.pool.crvusd.controller.Position object at 0x7f11b348b0d0>, amt=17981381197935151380804, frac=1000000000000000000, i=0, j=1).\n",
      "[INFO][03:21:31][src.trades.cycle]-962383: Executing trade Swap(pool=External Market (USDC, WETH), in=Wrapped Ether, out=USD Coin, amt=8462256106613366491).\n",
      "[INFO][03:21:31][src.agents.liquidator]-962383: Liquidated user 0xdf88f68c58edf72a737e1e6cb2a0722bfed45faa with profit: 19746.880393.\n",
      "[INFO][03:21:31][src.agents.liquidator]-962383: Liquidating user 0xc3b876976d58dd9c2e8ab8ce0446c1d5ed8bf55c with expected profit: 64947.767884.\n",
      "[INFO][03:21:31][src.trades.cycle]-962383: Executing cycle Cycle(Trades: [Swap(pool=Curve.fi Factory Plain Pool: crvUSD/USDC, in=USDC, out=crvUSD, amt=59995604143), Liquidation(controller=<crvusdsim.pool.sim_interface.sim_controller.SimController object at 0x7f11cd1e85f0>, position=<crvusdsim.pool.crvusd.controller.Position object at 0x7f11b348ae10>, amt=60038348964034001474387, frac=1000000000000000000, i=0, j=1), Swap(pool=External Market (USDC, WETH), in=Wrapped Ether, out=USD Coin, amt=28033820077621311458)], Expected Profit: 64947.767884).\n",
      "[INFO][03:21:31][src.trades.cycle]-962383: Executing trade Swap(pool=Curve.fi Factory Plain Pool: crvUSD/USDC, in=USDC, out=crvUSD, amt=59995604143).\n",
      "[INFO][03:21:31][src.trades.cycle]-962383: Executing trade Liquidation(controller=<crvusdsim.pool.sim_interface.sim_controller.SimController object at 0x7f11cd1e85f0>, position=<crvusdsim.pool.crvusd.controller.Position object at 0x7f11b348ae10>, amt=60038348964034001474387, frac=1000000000000000000, i=0, j=1).\n",
      "[INFO][03:21:31][src.trades.cycle]-962383: Executing trade Swap(pool=External Market (USDC, WETH), in=Wrapped Ether, out=USD Coin, amt=28033820077621311458).\n",
      "[INFO][03:21:31][src.agents.liquidator]-962383: Liquidated user 0xc3b876976d58dd9c2e8ab8ce0446c1d5ed8bf55c with profit: 64947.767884.\n",
      "[INFO][03:21:31][src.agents.liquidator]-962383: Liquidating user 0xbf103883e185dde123c5c9ae73720636de01ac40 with expected profit: 38497.792909.\n",
      "[INFO][03:21:31][src.trades.cycle]-962383: Executing cycle Cycle(Trades: [Swap(pool=Curve.fi Factory Plain Pool: crvUSD/USDC, in=USDC, out=crvUSD, amt=34179045841), Liquidation(controller=<crvusdsim.pool.sim_interface.sim_controller.SimController object at 0x7f11cd1e85f0>, position=<crvusdsim.pool.crvusd.controller.Position object at 0x7f11b348af10>, amt=34202940488662652362943, frac=1000000000000000000, i=0, j=1), Swap(pool=External Market (USDC, WETH), in=Wrapped Ether, out=USD Coin, amt=16306662676641508657)], Expected Profit: 38497.792909).\n",
      "[INFO][03:21:31][src.trades.cycle]-962383: Executing trade Swap(pool=Curve.fi Factory Plain Pool: crvUSD/USDC, in=USDC, out=crvUSD, amt=34179045841).\n",
      "[INFO][03:21:31][src.trades.cycle]-962383: Executing trade Liquidation(controller=<crvusdsim.pool.sim_interface.sim_controller.SimController object at 0x7f11cd1e85f0>, position=<crvusdsim.pool.crvusd.controller.Position object at 0x7f11b348af10>, amt=34202940488662652362943, frac=1000000000000000000, i=0, j=1).\n",
      "[INFO][03:21:31][src.trades.cycle]-962383: Executing trade Swap(pool=External Market (USDC, WETH), in=Wrapped Ether, out=USD Coin, amt=16306662676641508657).\n",
      "[INFO][03:21:31][src.agents.liquidator]-962383: Liquidated user 0xbf103883e185dde123c5c9ae73720636de01ac40 with profit: 38497.792909.\n",
      "[INFO][03:21:31][src.agents.liquidator]-962383: Liquidating user 0xbb482f13749eccabdaa3f923e133c9abcbbdfab3 with expected profit: 22340.996296.\n",
      "[INFO][03:21:31][src.trades.cycle]-962383: Executing cycle Cycle(Trades: [Swap(pool=Curve.fi Factory Plain Pool: crvUSD/USDC, in=USDC, out=crvUSD, amt=20410085321), Liquidation(controller=<crvusdsim.pool.sim_interface.sim_controller.SimController object at 0x7f11cd1e85f0>, position=<crvusdsim.pool.crvusd.controller.Position object at 0x7f11b348aed0>, amt=20424196711757586403730, frac=1000000000000000000, i=0, j=1), Swap(pool=External Market (USDC, WETH), in=Wrapped Ether, out=USD Coin, amt=9592154515671475680)], Expected Profit: 22340.996296).\n",
      "[INFO][03:21:31][src.trades.cycle]-962383: Executing trade Swap(pool=Curve.fi Factory Plain Pool: crvUSD/USDC, in=USDC, out=crvUSD, amt=20410085321).\n",
      "[INFO][03:21:31][src.trades.cycle]-962383: Executing trade Liquidation(controller=<crvusdsim.pool.sim_interface.sim_controller.SimController object at 0x7f11cd1e85f0>, position=<crvusdsim.pool.crvusd.controller.Position object at 0x7f11b348aed0>, amt=20424196711757586403730, frac=1000000000000000000, i=0, j=1).\n",
      "[INFO][03:21:31][src.trades.cycle]-962383: Executing trade Swap(pool=External Market (USDC, WETH), in=Wrapped Ether, out=USD Coin, amt=9592154515671475680).\n",
      "[INFO][03:21:31][src.agents.liquidator]-962383: Liquidated user 0xbb482f13749eccabdaa3f923e133c9abcbbdfab3 with profit: 22340.996296.\n",
      "[INFO][03:21:31][src.agents.liquidator]-962383: Liquidating user 0xb19029685cf7fe36c72bc7d8ab06dc4c5ca41d1f with expected profit: 14585.322918.\n",
      "[INFO][03:21:31][src.trades.cycle]-962383: Executing cycle Cycle(Trades: [Swap(pool=Curve.fi Factory Plain Pool: crvUSD/USDC, in=USDC, out=crvUSD, amt=13568290716), Liquidation(controller=<crvusdsim.pool.sim_interface.sim_controller.SimController object at 0x7f11cd1e85f0>, position=<crvusdsim.pool.crvusd.controller.Position object at 0x7f11b348ad10>, amt=13577606813627186148859, frac=1000000000000000000, i=0, j=1), Swap(pool=External Market (USDC, WETH), in=Wrapped Ether, out=USD Coin, amt=6316888414087243553)], Expected Profit: 14585.322918).\n",
      "[INFO][03:21:31][src.trades.cycle]-962383: Executing trade Swap(pool=Curve.fi Factory Plain Pool: crvUSD/USDC, in=USDC, out=crvUSD, amt=13568290716).\n",
      "[INFO][03:21:31][src.trades.cycle]-962383: Executing trade Liquidation(controller=<crvusdsim.pool.sim_interface.sim_controller.SimController object at 0x7f11cd1e85f0>, position=<crvusdsim.pool.crvusd.controller.Position object at 0x7f11b348ad10>, amt=13577606813627186148859, frac=1000000000000000000, i=0, j=1).\n",
      "[INFO][03:21:31][src.trades.cycle]-962383: Executing trade Swap(pool=External Market (USDC, WETH), in=Wrapped Ether, out=USD Coin, amt=6316888414087243553).\n",
      "[INFO][03:21:31][src.agents.liquidator]-962383: Liquidated user 0xb19029685cf7fe36c72bc7d8ab06dc4c5ca41d1f with profit: 14585.322918.\n",
      "[INFO][03:21:31][src.agents.liquidator]-962383: Liquidating user 0xae00246cfbdbfdd6be613961e956149843af5658 with expected profit: 12846.808758.\n",
      "[INFO][03:21:31][src.trades.cycle]-962383: Executing cycle Cycle(Trades: [Swap(pool=Curve.fi Factory Plain Pool: crvUSD/USDC, in=USDC, out=crvUSD, amt=11669596124), Liquidation(controller=<crvusdsim.pool.sim_interface.sim_controller.SimController object at 0x7f11cd1e85f0>, position=<crvusdsim.pool.crvusd.controller.Position object at 0x7f11b348acd0>, amt=11677567164974997829548, frac=1000000000000000000, i=0, j=1), Swap(pool=External Market (USDC, WETH), in=Wrapped Ether, out=USD Coin, amt=5500799860485517599)], Expected Profit: 12846.808758).\n",
      "[INFO][03:21:31][src.trades.cycle]-962383: Executing trade Swap(pool=Curve.fi Factory Plain Pool: crvUSD/USDC, in=USDC, out=crvUSD, amt=11669596124).\n",
      "[INFO][03:21:31][src.trades.cycle]-962383: Executing trade Liquidation(controller=<crvusdsim.pool.sim_interface.sim_controller.SimController object at 0x7f11cd1e85f0>, position=<crvusdsim.pool.crvusd.controller.Position object at 0x7f11b348acd0>, amt=11677567164974997829548, frac=1000000000000000000, i=0, j=1).\n",
      "[INFO][03:21:31][src.trades.cycle]-962383: Executing trade Swap(pool=External Market (USDC, WETH), in=Wrapped Ether, out=USD Coin, amt=5500799860485517599).\n",
      "[INFO][03:21:31][src.agents.liquidator]-962383: Liquidated user 0xae00246cfbdbfdd6be613961e956149843af5658 with profit: 12846.808758.\n",
      "[INFO][03:21:31][src.agents.liquidator]-962383: Liquidating user 0xabb9009b80ed8741fb83b4355426e5090295e75f with expected profit: 22209.636344.\n",
      "[INFO][03:21:31][src.trades.cycle]-962383: Executing cycle Cycle(Trades: [Swap(pool=Curve.fi Factory Plain Pool: crvUSD/USDC, in=USDC, out=crvUSD, amt=20628129092), Liquidation(controller=<crvusdsim.pool.sim_interface.sim_controller.SimController object at 0x7f11cd1e85f0>, position=<crvusdsim.pool.crvusd.controller.Position object at 0x7f11b348ac90>, amt=20642125882906538151865, frac=1000000000000000000, i=0, j=1), Swap(pool=External Market (USDC, WETH), in=Wrapped Ether, out=USD Coin, amt=9611603955421861149)], Expected Profit: 22209.636344).\n",
      "[INFO][03:21:31][src.trades.cycle]-962383: Executing trade Swap(pool=Curve.fi Factory Plain Pool: crvUSD/USDC, in=USDC, out=crvUSD, amt=20628129092).\n",
      "[INFO][03:21:31][src.trades.cycle]-962383: Executing trade Liquidation(controller=<crvusdsim.pool.sim_interface.sim_controller.SimController object at 0x7f11cd1e85f0>, position=<crvusdsim.pool.crvusd.controller.Position object at 0x7f11b348ac90>, amt=20642125882906538151865, frac=1000000000000000000, i=0, j=1).\n",
      "[INFO][03:21:31][src.trades.cycle]-962383: Executing trade Swap(pool=External Market (USDC, WETH), in=Wrapped Ether, out=USD Coin, amt=9611603955421861149).\n",
      "[INFO][03:21:31][src.agents.liquidator]-962383: Liquidated user 0xabb9009b80ed8741fb83b4355426e5090295e75f with profit: 22209.636344.\n",
      "[INFO][03:21:31][src.agents.liquidator]-962383: Liquidating user 0xa4593d1177fc68cac7b0a9c9ce1785342eeb1cfb with expected profit: 12098.168888.\n",
      "[INFO][03:21:31][src.trades.cycle]-962383: Executing cycle Cycle(Trades: [Swap(pool=Curve.fi Factory Plain Pool: crvUSD/USDC, in=USDC, out=crvUSD, amt=9308679970), Liquidation(controller=<crvusdsim.pool.sim_interface.sim_controller.SimController object at 0x7f11cd1e85f0>, position=<crvusdsim.pool.crvusd.controller.Position object at 0x7f11b348aa90>, amt=9314957153150138121199, frac=1000000000000000000, i=0, j=1), Swap(pool=External Market (USDC, WETH), in=Wrapped Ether, out=USD Coin, amt=4803101913964673650)], Expected Profit: 12098.168888).\n",
      "[INFO][03:21:31][src.trades.cycle]-962383: Executing trade Swap(pool=Curve.fi Factory Plain Pool: crvUSD/USDC, in=USDC, out=crvUSD, amt=9308679970).\n",
      "[INFO][03:21:31][src.trades.cycle]-962383: Executing trade Liquidation(controller=<crvusdsim.pool.sim_interface.sim_controller.SimController object at 0x7f11cd1e85f0>, position=<crvusdsim.pool.crvusd.controller.Position object at 0x7f11b348aa90>, amt=9314957153150138121199, frac=1000000000000000000, i=0, j=1).\n",
      "[INFO][03:21:31][src.trades.cycle]-962383: Executing trade Swap(pool=External Market (USDC, WETH), in=Wrapped Ether, out=USD Coin, amt=4803101913964673650).\n",
      "[INFO][03:21:31][src.agents.liquidator]-962383: Liquidated user 0xa4593d1177fc68cac7b0a9c9ce1785342eeb1cfb with profit: 12098.168888.\n",
      "[INFO][03:21:31][src.agents.liquidator]-962383: Liquidating user 0xa3e7369b43d8e8d7e2d6462532d664820424eb24 with expected profit: 10754.767776.\n",
      "[INFO][03:21:31][src.trades.cycle]-962383: Executing cycle Cycle(Trades: [Swap(pool=Curve.fi Factory Plain Pool: crvUSD/USDC, in=USDC, out=crvUSD, amt=9828599732), Liquidation(controller=<crvusdsim.pool.sim_interface.sim_controller.SimController object at 0x7f11cd1e85f0>, position=<crvusdsim.pool.crvusd.controller.Position object at 0x7f11b348ae90>, amt=9835201214531556402343, frac=1000000000000000000, i=0, j=1), Swap(pool=External Market (USDC, WETH), in=Wrapped Ether, out=USD Coin, amt=4618335586391692165)], Expected Profit: 10754.767776).\n",
      "[INFO][03:21:31][src.trades.cycle]-962383: Executing trade Swap(pool=Curve.fi Factory Plain Pool: crvUSD/USDC, in=USDC, out=crvUSD, amt=9828599732).\n",
      "[INFO][03:21:31][src.trades.cycle]-962383: Executing trade Liquidation(controller=<crvusdsim.pool.sim_interface.sim_controller.SimController object at 0x7f11cd1e85f0>, position=<crvusdsim.pool.crvusd.controller.Position object at 0x7f11b348ae90>, amt=9835201214531556402343, frac=1000000000000000000, i=0, j=1).\n",
      "[INFO][03:21:31][src.trades.cycle]-962383: Executing trade Swap(pool=External Market (USDC, WETH), in=Wrapped Ether, out=USD Coin, amt=4618335586391692165).\n",
      "[INFO][03:21:31][src.agents.liquidator]-962383: Liquidated user 0xa3e7369b43d8e8d7e2d6462532d664820424eb24 with profit: 10754.767776.\n",
      "[INFO][03:21:31][src.agents.liquidator]-962383: Liquidating user 0x9c471a942a75c6677318c1be98fee5647b5173ac with expected profit: 98397.042603.\n",
      "[INFO][03:21:31][src.trades.cycle]-962383: Executing cycle Cycle(Trades: [Swap(pool=Curve.fi Factory Plain Pool: crvUSD/USDC, in=USDC, out=crvUSD, amt=67527941937), Liquidation(controller=<crvusdsim.pool.sim_interface.sim_controller.SimController object at 0x7f11cd1e85f0>, position=<crvusdsim.pool.crvusd.controller.Position object at 0x7f11b33f1ad0>, amt=67572569891452167211490, frac=1000000000000000000, i=0, j=1), Swap(pool=External Market (USDC, WETH), in=Wrapped Ether, out=USD Coin, amt=37228954905790067176)], Expected Profit: 98397.042603).\n",
      "[INFO][03:21:31][src.trades.cycle]-962383: Executing trade Swap(pool=Curve.fi Factory Plain Pool: crvUSD/USDC, in=USDC, out=crvUSD, amt=67527941937).\n",
      "[INFO][03:21:31][src.trades.cycle]-962383: Executing trade Liquidation(controller=<crvusdsim.pool.sim_interface.sim_controller.SimController object at 0x7f11cd1e85f0>, position=<crvusdsim.pool.crvusd.controller.Position object at 0x7f11b33f1ad0>, amt=67572569891452167211490, frac=1000000000000000000, i=0, j=1).\n",
      "[INFO][03:21:31][src.trades.cycle]-962383: Executing trade Swap(pool=External Market (USDC, WETH), in=Wrapped Ether, out=USD Coin, amt=37228954905790067176).\n",
      "[INFO][03:21:31][src.agents.liquidator]-962383: Liquidated user 0x9c471a942a75c6677318c1be98fee5647b5173ac with profit: 98397.042603.\n",
      "[INFO][03:21:31][src.agents.liquidator]-962383: Liquidating user 0x8ebed85c2969f37d0c2f102fa5f54e9408bef894 with expected profit: 44392.430389.\n",
      "[INFO][03:21:31][src.trades.cycle]-962383: Executing cycle Cycle(Trades: [Swap(pool=Curve.fi Factory Plain Pool: crvUSD/USDC, in=USDC, out=crvUSD, amt=41234971129), Liquidation(controller=<crvusdsim.pool.sim_interface.sim_controller.SimController object at 0x7f11cd1e85f0>, position=<crvusdsim.pool.crvusd.controller.Position object at 0x7f11cf319ed0>, amt=41261600581163479952841, frac=1000000000000000000, i=0, j=1), Swap(pool=External Market (USDC, WETH), in=Wrapped Ether, out=USD Coin, amt=19212409021157784247)], Expected Profit: 44392.430389).\n",
      "[INFO][03:21:31][src.trades.cycle]-962383: Executing trade Swap(pool=Curve.fi Factory Plain Pool: crvUSD/USDC, in=USDC, out=crvUSD, amt=41234971129).\n",
      "[INFO][03:21:31][src.trades.cycle]-962383: Executing trade Liquidation(controller=<crvusdsim.pool.sim_interface.sim_controller.SimController object at 0x7f11cd1e85f0>, position=<crvusdsim.pool.crvusd.controller.Position object at 0x7f11cf319ed0>, amt=41261600581163479952841, frac=1000000000000000000, i=0, j=1).\n",
      "[INFO][03:21:31][src.trades.cycle]-962383: Executing trade Swap(pool=External Market (USDC, WETH), in=Wrapped Ether, out=USD Coin, amt=19212409021157784247).\n",
      "[INFO][03:21:31][src.agents.liquidator]-962383: Liquidated user 0x8ebed85c2969f37d0c2f102fa5f54e9408bef894 with profit: 44392.430389.\n",
      "[INFO][03:21:31][src.agents.liquidator]-962383: Liquidating user 0x84f8f8dcdcd68afc6659b54454b428721e95df2e with expected profit: 111853.763619.\n",
      "[INFO][03:21:31][src.trades.cycle]-962383: Executing cycle Cycle(Trades: [Swap(pool=Curve.fi Factory Plain Pool: crvUSD/USDC, in=USDC, out=crvUSD, amt=76914465081), Liquidation(controller=<crvusdsim.pool.sim_interface.sim_controller.SimController object at 0x7f11cd1e85f0>, position=<crvusdsim.pool.crvusd.controller.Position object at 0x7f11b348aa50>, amt=76962885171111780028504, frac=1000000000000000000, i=0, j=1), Swap(pool=External Market (USDC, WETH), in=Wrapped Ether, out=USD Coin, amt=42354344003059317925)], Expected Profit: 111853.763619).\n",
      "[INFO][03:21:31][src.trades.cycle]-962383: Executing trade Swap(pool=Curve.fi Factory Plain Pool: crvUSD/USDC, in=USDC, out=crvUSD, amt=76914465081).\n",
      "[INFO][03:21:31][src.trades.cycle]-962383: Executing trade Liquidation(controller=<crvusdsim.pool.sim_interface.sim_controller.SimController object at 0x7f11cd1e85f0>, position=<crvusdsim.pool.crvusd.controller.Position object at 0x7f11b348aa50>, amt=76962885171111780028504, frac=1000000000000000000, i=0, j=1).\n",
      "[INFO][03:21:31][src.trades.cycle]-962383: Executing trade Swap(pool=External Market (USDC, WETH), in=Wrapped Ether, out=USD Coin, amt=42354344003059317925).\n",
      "[INFO][03:21:31][src.agents.liquidator]-962383: Liquidated user 0x84f8f8dcdcd68afc6659b54454b428721e95df2e with profit: 111853.763619.\n",
      "[INFO][03:21:31][src.agents.liquidator]-962383: Liquidating user 0x83786e8634813dbf45e305bb28b7fcf855d314a7 with expected profit: 10628.315981.\n",
      "[INFO][03:21:31][src.trades.cycle]-962383: Executing cycle Cycle(Trades: [Swap(pool=Curve.fi Factory Plain Pool: crvUSD/USDC, in=USDC, out=crvUSD, amt=9592108723), Liquidation(controller=<crvusdsim.pool.sim_interface.sim_controller.SimController object at 0x7f11cd1e85f0>, position=<crvusdsim.pool.crvusd.controller.Position object at 0x7f11b348ac10>, amt=9598033586911585340873, frac=1000000000000000000, i=0, j=1), Swap(pool=External Market (USDC, WETH), in=Wrapped Ether, out=USD Coin, amt=4536901308707952971)], Expected Profit: 10628.315981).\n",
      "[INFO][03:21:31][src.trades.cycle]-962383: Executing trade Swap(pool=Curve.fi Factory Plain Pool: crvUSD/USDC, in=USDC, out=crvUSD, amt=9592108723).\n",
      "[INFO][03:21:31][src.trades.cycle]-962383: Executing trade Liquidation(controller=<crvusdsim.pool.sim_interface.sim_controller.SimController object at 0x7f11cd1e85f0>, position=<crvusdsim.pool.crvusd.controller.Position object at 0x7f11b348ac10>, amt=9598033586911585340873, frac=1000000000000000000, i=0, j=1).\n",
      "[INFO][03:21:31][src.trades.cycle]-962383: Executing trade Swap(pool=External Market (USDC, WETH), in=Wrapped Ether, out=USD Coin, amt=4536901308707952971).\n",
      "[INFO][03:21:31][src.agents.liquidator]-962383: Liquidated user 0x83786e8634813dbf45e305bb28b7fcf855d314a7 with profit: 10628.315981.\n",
      "[INFO][03:21:31][src.agents.liquidator]-962383: Liquidating user 0x653aed4503e3a3f060c744fe85dc780ce549d3c3 with expected profit: 157441.026108.\n",
      "[INFO][03:21:31][src.trades.cycle]-962383: Executing cycle Cycle(Trades: [Swap(pool=Curve.fi Factory Plain Pool: crvUSD/USDC, in=USDC, out=crvUSD, amt=118402330367), Liquidation(controller=<crvusdsim.pool.sim_interface.sim_controller.SimController object at 0x7f11cd1e85f0>, position=<crvusdsim.pool.crvusd.controller.Position object at 0x7f11b348ab50>, amt=118473405216190689272242, frac=1000000000000000000, i=0, j=1), Swap(pool=External Market (USDC, WETH), in=Wrapped Ether, out=USD Coin, amt=61891582559091585552)], Expected Profit: 157441.026108).\n",
      "[INFO][03:21:31][src.trades.cycle]-962383: Executing trade Swap(pool=Curve.fi Factory Plain Pool: crvUSD/USDC, in=USDC, out=crvUSD, amt=118402330367).\n",
      "[INFO][03:21:31][src.trades.cycle]-962383: Executing trade Liquidation(controller=<crvusdsim.pool.sim_interface.sim_controller.SimController object at 0x7f11cd1e85f0>, position=<crvusdsim.pool.crvusd.controller.Position object at 0x7f11b348ab50>, amt=118473405216190689272242, frac=1000000000000000000, i=0, j=1).\n",
      "[INFO][03:21:31][src.trades.cycle]-962383: Executing trade Swap(pool=External Market (USDC, WETH), in=Wrapped Ether, out=USD Coin, amt=61891582559091585552).\n",
      "[INFO][03:21:31][src.agents.liquidator]-962383: Liquidated user 0x653aed4503e3a3f060c744fe85dc780ce549d3c3 with profit: 157441.026108.\n",
      "[INFO][03:21:31][src.agents.liquidator]-962383: Liquidating user 0x64495f323a368b5bb3b3c80053622640299b331d with expected profit: 76413.103726.\n",
      "[INFO][03:21:31][src.trades.cycle]-962383: Executing cycle Cycle(Trades: [Swap(pool=Curve.fi Factory Plain Pool: crvUSD/USDC, in=USDC, out=crvUSD, amt=59525874754), Liquidation(controller=<crvusdsim.pool.sim_interface.sim_controller.SimController object at 0x7f11cd1e85f0>, position=<crvusdsim.pool.crvusd.controller.Position object at 0x7f11b348ab10>, amt=59560177431343763202497, frac=1000000000000000000, i=0, j=1), Swap(pool=External Market (USDC, WETH), in=Wrapped Ether, out=USD Coin, amt=30500928559943763402)], Expected Profit: 76413.103726).\n",
      "[INFO][03:21:31][src.trades.cycle]-962383: Executing trade Swap(pool=Curve.fi Factory Plain Pool: crvUSD/USDC, in=USDC, out=crvUSD, amt=59525874754).\n",
      "[INFO][03:21:31][src.trades.cycle]-962383: Executing trade Liquidation(controller=<crvusdsim.pool.sim_interface.sim_controller.SimController object at 0x7f11cd1e85f0>, position=<crvusdsim.pool.crvusd.controller.Position object at 0x7f11b348ab10>, amt=59560177431343763202497, frac=1000000000000000000, i=0, j=1).\n",
      "[INFO][03:21:31][src.trades.cycle]-962383: Executing trade Swap(pool=External Market (USDC, WETH), in=Wrapped Ether, out=USD Coin, amt=30500928559943763402).\n",
      "[INFO][03:21:31][src.agents.liquidator]-962383: Liquidated user 0x64495f323a368b5bb3b3c80053622640299b331d with profit: 76413.103726.\n",
      "[INFO][03:21:31][src.agents.liquidator]-962383: Liquidating user 0x63fe1742192f07d67739cc0f091645a2a50804e1 with expected profit: 72781.716880.\n",
      "[INFO][03:21:31][src.trades.cycle]-962383: Executing cycle Cycle(Trades: [Swap(pool=Curve.fi Factory Plain Pool: crvUSD/USDC, in=USDC, out=crvUSD, amt=58556434794), Liquidation(controller=<crvusdsim.pool.sim_interface.sim_controller.SimController object at 0x7f11cd1e85f0>, position=<crvusdsim.pool.crvusd.controller.Position object at 0x7f11b348aad0>, amt=58589253476026570535935, frac=1000000000000000000, i=0, j=1), Swap(pool=External Market (USDC, WETH), in=Wrapped Ether, out=USD Coin, amt=29468630897506300829)], Expected Profit: 72781.71688).\n",
      "[INFO][03:21:31][src.trades.cycle]-962383: Executing trade Swap(pool=Curve.fi Factory Plain Pool: crvUSD/USDC, in=USDC, out=crvUSD, amt=58556434794).\n",
      "[INFO][03:21:31][src.trades.cycle]-962383: Executing trade Liquidation(controller=<crvusdsim.pool.sim_interface.sim_controller.SimController object at 0x7f11cd1e85f0>, position=<crvusdsim.pool.crvusd.controller.Position object at 0x7f11b348aad0>, amt=58589253476026570535935, frac=1000000000000000000, i=0, j=1).\n",
      "[INFO][03:21:31][src.trades.cycle]-962383: Executing trade Swap(pool=External Market (USDC, WETH), in=Wrapped Ether, out=USD Coin, amt=29468630897506300829).\n",
      "[INFO][03:21:31][src.agents.liquidator]-962383: Liquidated user 0x63fe1742192f07d67739cc0f091645a2a50804e1 with profit: 72781.716880.\n",
      "[INFO][03:21:31][src.agents.liquidator]-962383: Liquidating user 0x612ce5c2ea090d4d945c54e13908870d47b26a56 with expected profit: 109944.660739.\n",
      "[INFO][03:21:31][src.trades.cycle]-962383: Executing cycle Cycle(Trades: [Swap(pool=Curve.fi Factory Plain Pool: crvUSD/USDC, in=USDC, out=crvUSD, amt=102154397749), Liquidation(controller=<crvusdsim.pool.sim_interface.sim_controller.SimController object at 0x7f11cd1e85f0>, position=<crvusdsim.pool.crvusd.controller.Position object at 0x7f11b348aa10>, amt=102209471413887573459822, frac=1000000000000000000, i=0, j=1), Swap(pool=External Market (USDC, WETH), in=Wrapped Ether, out=USD Coin, amt=47589133763561986538)], Expected Profit: 109944.660739).\n",
      "[INFO][03:21:31][src.trades.cycle]-962383: Executing trade Swap(pool=Curve.fi Factory Plain Pool: crvUSD/USDC, in=USDC, out=crvUSD, amt=102154397749).\n",
      "[INFO][03:21:31][src.trades.cycle]-962383: Executing trade Liquidation(controller=<crvusdsim.pool.sim_interface.sim_controller.SimController object at 0x7f11cd1e85f0>, position=<crvusdsim.pool.crvusd.controller.Position object at 0x7f11b348aa10>, amt=102209471413887573459822, frac=1000000000000000000, i=0, j=1).\n",
      "[INFO][03:21:31][src.trades.cycle]-962383: Executing trade Swap(pool=External Market (USDC, WETH), in=Wrapped Ether, out=USD Coin, amt=47589133763561986538).\n",
      "[INFO][03:21:31][src.agents.liquidator]-962383: Liquidated user 0x612ce5c2ea090d4d945c54e13908870d47b26a56 with profit: 109944.660739.\n",
      "[INFO][03:21:31][src.agents.liquidator]-962383: Liquidating user 0x48a1a52b20f84b8ff74d946413a01f3961b3760d with expected profit: 12887.425976.\n",
      "[INFO][03:21:31][src.trades.cycle]-962383: Executing cycle Cycle(Trades: [Swap(pool=Curve.fi Factory Plain Pool: crvUSD/USDC, in=USDC, out=crvUSD, amt=8628243326), Liquidation(controller=<crvusdsim.pool.sim_interface.sim_controller.SimController object at 0x7f11cd1e85f0>, position=<crvusdsim.pool.crvusd.controller.Position object at 0x7f11b348abd0>, amt=8632768818605109264410, frac=1000000000000000000, i=0, j=1), Swap(pool=External Market (USDC, WETH), in=Wrapped Ether, out=USD Coin, amt=4827518197035515418)], Expected Profit: 12887.425976).\n",
      "[INFO][03:21:31][src.trades.cycle]-962383: Executing trade Swap(pool=Curve.fi Factory Plain Pool: crvUSD/USDC, in=USDC, out=crvUSD, amt=8628243326).\n",
      "[INFO][03:21:31][src.trades.cycle]-962383: Executing trade Liquidation(controller=<crvusdsim.pool.sim_interface.sim_controller.SimController object at 0x7f11cd1e85f0>, position=<crvusdsim.pool.crvusd.controller.Position object at 0x7f11b348abd0>, amt=8632768818605109264410, frac=1000000000000000000, i=0, j=1).\n",
      "[INFO][03:21:31][src.trades.cycle]-962383: Executing trade Swap(pool=External Market (USDC, WETH), in=Wrapped Ether, out=USD Coin, amt=4827518197035515418).\n",
      "[INFO][03:21:31][src.agents.liquidator]-962383: Liquidated user 0x48a1a52b20f84b8ff74d946413a01f3961b3760d with profit: 12887.425976.\n",
      "[INFO][03:21:31][src.agents.liquidator]-962383: Liquidating user 0x408f0c201abf1f0217f16626f963e9a218c9f882 with expected profit: 77836.240981.\n",
      "[INFO][03:21:31][src.trades.cycle]-962383: Executing cycle Cycle(Trades: [Swap(pool=Curve.fi Factory Plain Pool: crvUSD/USDC, in=USDC, out=crvUSD, amt=60848267787), Liquidation(controller=<crvusdsim.pool.sim_interface.sim_controller.SimController object at 0x7f11cd1e85f0>, position=<crvusdsim.pool.crvusd.controller.Position object at 0x7f11b348ab90>, amt=60879627712200061593406, frac=1000000000000000000, i=0, j=1), Swap(pool=External Market (USDC, WETH), in=Wrapped Ether, out=USD Coin, amt=31116949248838263182)], Expected Profit: 77836.240981).\n",
      "[INFO][03:21:31][src.trades.cycle]-962383: Executing trade Swap(pool=Curve.fi Factory Plain Pool: crvUSD/USDC, in=USDC, out=crvUSD, amt=60848267787).\n",
      "[INFO][03:21:31][src.trades.cycle]-962383: Executing trade Liquidation(controller=<crvusdsim.pool.sim_interface.sim_controller.SimController object at 0x7f11cd1e85f0>, position=<crvusdsim.pool.crvusd.controller.Position object at 0x7f11b348ab90>, amt=60879627712200061593406, frac=1000000000000000000, i=0, j=1).\n",
      "[INFO][03:21:31][src.trades.cycle]-962383: Executing trade Swap(pool=External Market (USDC, WETH), in=Wrapped Ether, out=USD Coin, amt=31116949248838263182).\n",
      "[INFO][03:21:31][src.agents.liquidator]-962383: Liquidated user 0x408f0c201abf1f0217f16626f963e9a218c9f882 with profit: 77836.240981.\n",
      "[INFO][03:21:31][src.agents.liquidator]-962383: Liquidating user 0x18c0d980a3d271f97f37af443abd495cc30f6900 with expected profit: 80715.775455.\n",
      "[INFO][03:21:31][src.trades.cycle]-962383: Executing cycle Cycle(Trades: [Swap(pool=Curve.fi Factory Plain Pool: crvUSD/USDC, in=USDC, out=crvUSD, amt=49853158471), Liquidation(controller=<crvusdsim.pool.sim_interface.sim_controller.SimController object at 0x7f11cd1e85f0>, position=<crvusdsim.pool.crvusd.controller.Position object at 0x7f11b348a8d0>, amt=49878130307187696965104, frac=1000000000000000000, i=0, j=1), Swap(pool=External Market (USDC, WETH), in=Wrapped Ether, out=USD Coin, amt=29296039814036130470)], Expected Profit: 80715.775455).\n",
      "[INFO][03:21:31][src.trades.cycle]-962383: Executing trade Swap(pool=Curve.fi Factory Plain Pool: crvUSD/USDC, in=USDC, out=crvUSD, amt=49853158471).\n",
      "[INFO][03:21:31][src.trades.cycle]-962383: Executing trade Liquidation(controller=<crvusdsim.pool.sim_interface.sim_controller.SimController object at 0x7f11cd1e85f0>, position=<crvusdsim.pool.crvusd.controller.Position object at 0x7f11b348a8d0>, amt=49878130307187696965104, frac=1000000000000000000, i=0, j=1).\n",
      "[INFO][03:21:31][src.trades.cycle]-962383: Executing trade Swap(pool=External Market (USDC, WETH), in=Wrapped Ether, out=USD Coin, amt=29296039814036130470).\n",
      "[INFO][03:21:31][src.agents.liquidator]-962383: Liquidated user 0x18c0d980a3d271f97f37af443abd495cc30f6900 with profit: 80715.775455.\n"
     ]
    },
    {
     "name": "stderr",
     "output_type": "stream",
     "text": [
      "[INFO][03:21:31][src.agents.liquidator]-962383: Liquidating user 0x167fc157aee30332f8a23b183c7c42a9c1d0854d with expected profit: 13315.609247.\n",
      "[INFO][03:21:31][src.trades.cycle]-962383: Executing cycle Cycle(Trades: [Swap(pool=Curve.fi Factory Plain Pool: crvUSD/USDC, in=USDC, out=crvUSD, amt=12372609382), Liquidation(controller=<crvusdsim.pool.sim_interface.sim_controller.SimController object at 0x7f11cd1e85f0>, position=<crvusdsim.pool.crvusd.controller.Position object at 0x7f11b348a9d0>, amt=12378706682519017023967, frac=1000000000000000000, i=0, j=1), Swap(pool=External Market (USDC, WETH), in=Wrapped Ether, out=USD Coin, amt=5763722296757608380)], Expected Profit: 13315.609247).\n",
      "[INFO][03:21:31][src.trades.cycle]-962383: Executing trade Swap(pool=Curve.fi Factory Plain Pool: crvUSD/USDC, in=USDC, out=crvUSD, amt=12372609382).\n",
      "[INFO][03:21:31][src.trades.cycle]-962383: Executing trade Liquidation(controller=<crvusdsim.pool.sim_interface.sim_controller.SimController object at 0x7f11cd1e85f0>, position=<crvusdsim.pool.crvusd.controller.Position object at 0x7f11b348a9d0>, amt=12378706682519017023967, frac=1000000000000000000, i=0, j=1).\n",
      "[INFO][03:21:31][src.trades.cycle]-962383: Executing trade Swap(pool=External Market (USDC, WETH), in=Wrapped Ether, out=USD Coin, amt=5763722296757608380).\n",
      "[INFO][03:21:31][src.agents.liquidator]-962383: Liquidated user 0x167fc157aee30332f8a23b183c7c42a9c1d0854d with profit: 13315.609247.\n",
      "[INFO][03:21:31][src.agents.liquidator]-962383: Liquidating user 0x0a4a86553ef216e36bc39dcce0790ddee3d83d31 with expected profit: 88.514645.\n",
      "[INFO][03:21:31][src.trades.cycle]-962383: Executing cycle Cycle(Trades: [Swap(pool=Curve.fi Factory Plain Pool: crvUSD/USDC, in=USDC, out=crvUSD, amt=65042218), Liquidation(controller=<crvusdsim.pool.sim_interface.sim_controller.SimController object at 0x7f11cd1e85f0>, position=<crvusdsim.pool.crvusd.controller.Position object at 0x7f11b348a990>, amt=65074166554994347922, frac=1000000000000000000, i=0, j=1), Swap(pool=External Market (USDC, WETH), in=Wrapped Ether, out=USD Coin, amt=34453892373294232)], Expected Profit: 88.514645).\n",
      "[INFO][03:21:31][src.trades.cycle]-962383: Executing trade Swap(pool=Curve.fi Factory Plain Pool: crvUSD/USDC, in=USDC, out=crvUSD, amt=65042218).\n",
      "[INFO][03:21:31][src.trades.cycle]-962383: Executing trade Liquidation(controller=<crvusdsim.pool.sim_interface.sim_controller.SimController object at 0x7f11cd1e85f0>, position=<crvusdsim.pool.crvusd.controller.Position object at 0x7f11b348a990>, amt=65074166554994347922, frac=1000000000000000000, i=0, j=1).\n",
      "[INFO][03:21:31][src.trades.cycle]-962383: Executing trade Swap(pool=External Market (USDC, WETH), in=Wrapped Ether, out=USD Coin, amt=34453892373294232).\n",
      "[INFO][03:21:31][src.agents.liquidator]-962383: Liquidated user 0x0a4a86553ef216e36bc39dcce0790ddee3d83d31 with profit: 88.514645.\n",
      "[INFO][03:21:31][src.agents.liquidator]-962383: Liquidating user 0x07cb1b3a52faf636a52822d918b07d30b0914d76 with expected profit: 1062895.023787.\n",
      "[INFO][03:21:31][src.trades.cycle]-962383: Executing cycle Cycle(Trades: [Swap(pool=Curve.fi Factory Plain Pool: crvUSD/USDC, in=USDC, out=crvUSD, amt=913702400468), Liquidation(controller=<crvusdsim.pool.sim_interface.sim_controller.SimController object at 0x7f11cd1e85f0>, position=<crvusdsim.pool.crvusd.controller.Position object at 0x7f11b348a710>, amt=914045609760494443310347, frac=1000000000000000000, i=0, j=1), Swap(pool=External Market (USDC, WETH), in=Wrapped Ether, out=USD Coin, amt=443493525572865900284)], Expected Profit: 1062895.023787).\n",
      "[INFO][03:21:31][src.trades.cycle]-962383: Executing trade Swap(pool=Curve.fi Factory Plain Pool: crvUSD/USDC, in=USDC, out=crvUSD, amt=913702400468).\n",
      "[INFO][03:21:31][src.trades.cycle]-962383: Executing trade Liquidation(controller=<crvusdsim.pool.sim_interface.sim_controller.SimController object at 0x7f11cd1e85f0>, position=<crvusdsim.pool.crvusd.controller.Position object at 0x7f11b348a710>, amt=914045609760494443310347, frac=1000000000000000000, i=0, j=1).\n",
      "[INFO][03:21:31][src.trades.cycle]-962383: Executing trade Swap(pool=External Market (USDC, WETH), in=Wrapped Ether, out=USD Coin, amt=443493525572865900284).\n",
      "[INFO][03:21:31][src.agents.liquidator]-962383: Liquidated user 0x07cb1b3a52faf636a52822d918b07d30b0914d76 with profit: 1062895.023787.\n"
     ]
    },
    {
     "name": "stdout",
     "output_type": "stream",
     "text": [
      "Liquidated 24 positions for a profit of 2236673.233154 USD.\n"
     ]
    }
   ],
   "source": [
    "profit, count = liquidator.perform_liquidations(controller)\n",
    "print(f\"Liquidated {count} positions for a profit of {profit} USD.\")"
   ]
  },
  {
   "cell_type": "code",
   "execution_count": 5,
   "metadata": {},
   "outputs": [
    {
     "data": {
      "text/plain": [
       "[]"
      ]
     },
     "execution_count": 5,
     "metadata": {},
     "output_type": "execute_result"
    }
   ],
   "source": [
    "controller.users_to_liquidate()"
   ]
  },
  {
   "cell_type": "markdown",
   "metadata": {},
   "source": [
    "### A Quant Might Ask\n",
    "\n",
    "Why are so many users eligible for liquidation? Wouldn't they already have been liquidated?\n",
    "\n",
    "Yes. This is a known issue that is rooted in the crvusd subgraph. User positions are loaded in via two pathways:\n",
    "1. We get `userState` snapshots from the subgraph, which snapshots a user's `depositedCollateral`, and `debt`. We use these values to load in their positions. Particularly the debt.\n",
    "2. We get `bands` snapshots from the subgraph (a separate process at a different time). We use the relative `depositedCollateral` of each user to distribute the `stablecoin` and `collateral` from the `bandsSnapshot` to each user.\n",
    "\n",
    "In theory, step (2) would correctly load in each user's share of `x,y` in LLAMMA so that we may correctly calculate their health and simulate their position. **HOWEVER** this is not the case, because of a bug in the subgraph. The bug is described in detail in this issue: https://github.com/curvefi/volume-subgraphs/issues/47.\n",
    "\n",
    "At a high-level, bands with negative indices are being snapshot incorrectly due to the way negative integers are handled by the `graph-protocol` hexadecimal string class. When converting negative ints to hexadecimal strings, we are accidentally converting them into the positive representation. This means that if band `1` has 0 collateral and 0 stablecoin, and band `-1` has 1M collateral and 0 stablecoin, the snapshot will incorrectly tell us that band `-1` has 0, 0 instead of 1M, 0. \n",
    "\n",
    "This is what makes so many users *seem* like they are underwater."
   ]
  }
 ],
 "metadata": {
  "kernelspec": {
   "display_name": "venv",
   "language": "python",
   "name": "python3"
  },
  "language_info": {
   "codemirror_mode": {
    "name": "ipython",
    "version": 3
   },
   "file_extension": ".py",
   "mimetype": "text/x-python",
   "name": "python",
   "nbconvert_exporter": "python",
   "pygments_lexer": "ipython3",
   "version": "3.11.3"
  }
 },
 "nbformat": 4,
 "nbformat_minor": 2
}
