{
 "cells": [
  {
   "cell_type": "markdown",
   "metadata": {},
   "source": [
    "# Demo the Liquidator Agent Logic\n",
    "\n",
    "This notebook:\n",
    "\n",
    "1. Fetches the latest crvusd contract data into Python objects using `crvusdsim`.\n",
    "2. Fetches prices and `ExternalMarket`s from the `baseline` scenario.\n",
    "3. Instantiates a liquidator agent.\n",
    "4. Checks if there are users to liquidate in the `Controller` and liquidates them."
   ]
  },
  {
   "cell_type": "code",
   "execution_count": 7,
   "metadata": {},
   "outputs": [
    {
     "name": "stdout",
     "output_type": "stream",
     "text": [
      "The autoreload extension is already loaded. To reload it, use:\n",
      "  %reload_ext autoreload\n"
     ]
    }
   ],
   "source": [
    "from crvusdsim.pool import get\n",
    "from src.agents.liquidator import Liquidator\n",
    "from src.sim.scenario import Scenario\n",
    "\n",
    "%load_ext autoreload\n",
    "%autoreload 2"
   ]
  },
  {
   "cell_type": "code",
   "execution_count": 8,
   "metadata": {},
   "outputs": [],
   "source": [
    "liquidator = Liquidator()\n",
    "\n",
    "ETH_POOL = \"weth\"\n",
    "(\n",
    "    pool,\n",
    "    controller,\n",
    "    collateral_token,\n",
    "    stablecoin,\n",
    "    aggregator,\n",
    "    stableswap_pools,\n",
    "    peg_keepers,\n",
    "    policy,\n",
    "    factory,\n",
    ") = get(ETH_POOL, bands_data=\"controller\")"
   ]
  },
  {
   "cell_type": "code",
   "execution_count": 9,
   "metadata": {},
   "outputs": [
    {
     "name": "stderr",
     "output_type": "stream",
     "text": [
      "[INFO][23:30:07][root]-478786: Reading price config from ../src/configs/scenarios/baseline.json.\n",
      "[INFO][23:30:07][root]-478786: Fetching 1inch quotes.\n",
      "[INFO][23:30:13][root]-478786: We have 408960 quotes.\n",
      "[INFO][23:30:13][root]-478786: Fitting external markets against 1inch quotes.\n",
      "[INFO][23:30:13][root]-478786: Reading price config from ../src/configs/prices/1h_1694894242_1700078242.json.\n"
     ]
    }
   ],
   "source": [
    "config = \"../src/configs/scenarios/baseline.json\"\n",
    "scenario = Scenario(config)\n",
    "markets = scenario.generate_markets()\n",
    "prices = scenario.generate_pricepaths(\n",
    "    \"../src/configs/prices/1h_1694894242_1700078242.json\"\n",
    ")"
   ]
  },
  {
   "cell_type": "code",
   "execution_count": 10,
   "metadata": {},
   "outputs": [],
   "source": [
    "# Set External Market Prices\n",
    "sample = prices[-1].prices\n",
    "for in_token in markets:\n",
    "    for out_token in markets[in_token]:\n",
    "        markets[in_token][out_token].update_price(sample[in_token][out_token])"
   ]
  },
  {
   "cell_type": "code",
   "execution_count": 11,
   "metadata": {},
   "outputs": [],
   "source": [
    "liquidator.set_paths(controller, stableswap_pools, markets)\n",
    "# Artificially raise price if necessary to make liquidation profitable\n",
    "liquidator.paths[0].collat_pool.update_price(5000)"
   ]
  },
  {
   "cell_type": "code",
   "execution_count": 12,
   "metadata": {},
   "outputs": [
    {
     "name": "stderr",
     "output_type": "stream",
     "text": [
      "[INFO][23:30:13][root]-478786: There are 7 users to liquidate.\n",
      "[INFO][23:30:13][root]-478786: Liquidating user 0x99418a168b3eafaf03cc1d00f7c3dbc05e892fd5 with expected profit: [64804.96948549].\n",
      "[INFO][23:30:13][root]-478786: Executing trade Swap(pool=<SimCurveStableSwapPool address=0x4dece678ceceb27446b35c672dc7d61f30bad69e chain=mainnet>, i=0, j=1, amt=76872321881).\n",
      "[INFO][23:30:13][root]-478786: Executing trade Liquidation(controller=<crvusdsim.pool.sim_interface.sim_controller.SimController object at 0x7efdb709ea80>, position=<crvusdsim.pool.crvusd.controller.Position object at 0x7efdb94f9410>, amt=77083671298305832255488, frac=1000000000000000000, i=0, j=1).\n",
      "[INFO][23:30:13][root]-478786: Executing trade Swap(pool=External Market: WETH -> USDC, i=0, j=1, amt=28344604467166208000).\n",
      "[INFO][23:30:13][root]-478786: Liquidated user 0x99418a168b3eafaf03cc1d00f7c3dbc05e892fd5 with profit: [64804.96948549].\n",
      "[INFO][23:30:13][root]-478786: Liquidating user 0x8dbafd8a8e0ef8afdfd6b2b8e2bbfb51da5f7fe8 with expected profit: [14631.88599856].\n",
      "[INFO][23:30:13][root]-478786: Executing trade Swap(pool=<SimCurveStableSwapPool address=0x4dece678ceceb27446b35c672dc7d61f30bad69e chain=mainnet>, i=0, j=1, amt=11667707719).\n",
      "[INFO][23:30:13][root]-478786: Executing trade Liquidation(controller=<crvusdsim.pool.sim_interface.sim_controller.SimController object at 0x7efdb709ea80>, position=<crvusdsim.pool.crvusd.controller.Position object at 0x7efdb4d9fb50>, amt=11699420671444374257664, frac=1000000000000000000, i=0, j=1).\n",
      "[INFO][23:30:13][root]-478786: Executing trade Swap(pool=External Market: WETH -> USDC, i=0, j=1, amt=5260643216607577088).\n",
      "[INFO][23:30:13][root]-478786: Liquidated user 0x8dbafd8a8e0ef8afdfd6b2b8e2bbfb51da5f7fe8 with profit: [14631.88599856].\n",
      "[INFO][23:30:13][root]-478786: Liquidating user 0x64495f323a368b5bb3b3c80053622640299b331d with expected profit: [6548.91310094].\n",
      "[INFO][23:30:13][root]-478786: Executing trade Swap(pool=<SimCurveStableSwapPool address=0x4dece678ceceb27446b35c672dc7d61f30bad69e chain=mainnet>, i=0, j=1, amt=49647713777).\n",
      "[INFO][23:30:13][root]-478786: Executing trade Liquidation(controller=<crvusdsim.pool.sim_interface.sim_controller.SimController object at 0x7efdb709ea80>, position=<crvusdsim.pool.crvusd.controller.Position object at 0x7efdb4d9e310>, amt=49781592940239027961856, frac=1000000000000000000, i=0, j=1).\n",
      "[INFO][23:30:13][root]-478786: Executing trade Swap(pool=External Market: WETH -> USDC, i=0, j=1, amt=11241341765149286400).\n",
      "[INFO][23:30:13][root]-478786: Liquidated user 0x64495f323a368b5bb3b3c80053622640299b331d with profit: [6548.91310094].\n",
      "[INFO][23:30:13][root]-478786: Liquidating user 0x562a5b60442c6d526c45a7931d47c9bb6473623a with expected profit: [16753.60010253].\n",
      "[INFO][23:30:13][root]-478786: Executing trade Swap(pool=<SimCurveStableSwapPool address=0x4dece678ceceb27446b35c672dc7d61f30bad69e chain=mainnet>, i=0, j=1, amt=18843738382).\n",
      "[INFO][23:30:13][root]-478786: Executing trade Liquidation(controller=<crvusdsim.pool.sim_interface.sim_controller.SimController object at 0x7efdb709ea80>, position=<crvusdsim.pool.crvusd.controller.Position object at 0x7efdb4d9d590>, amt=18894104413047749607424, frac=1000000000000000000, i=0, j=1).\n",
      "[INFO][23:30:13][root]-478786: Executing trade Swap(pool=External Market: WETH -> USDC, i=0, j=1, amt=7120255736108982272).\n",
      "[INFO][23:30:13][root]-478786: Liquidated user 0x562a5b60442c6d526c45a7931d47c9bb6473623a with profit: [16753.60010253].\n",
      "[INFO][23:30:14][root]-478786: Liquidating user 0x408f0c201abf1f0217f16626f963e9a218c9f882 with expected profit: [6541.93789278].\n",
      "[INFO][23:30:14][root]-478786: Executing trade Swap(pool=<SimCurveStableSwapPool address=0x4dece678ceceb27446b35c672dc7d61f30bad69e chain=mainnet>, i=0, j=1, amt=49659232811).\n",
      "[INFO][23:30:14][root]-478786: Executing trade Liquidation(controller=<crvusdsim.pool.sim_interface.sim_controller.SimController object at 0x7efdb709ea80>, position=<crvusdsim.pool.crvusd.controller.Position object at 0x7efdb4d9fdd0>, amt=49790796232048158703616, frac=1000000000000000000, i=0, j=1).\n",
      "[INFO][23:30:14][root]-478786: Executing trade Swap(pool=External Market: WETH -> USDC, i=0, j=1, amt=11242171084551925760).\n",
      "[INFO][23:30:14][root]-478786: Liquidated user 0x408f0c201abf1f0217f16626f963e9a218c9f882 with profit: [6541.93789278].\n",
      "[INFO][23:30:14][root]-478786: Liquidating user 0x18c0d980a3d271f97f37af443abd495cc30f6900 with expected profit: [5534.86187074].\n",
      "[INFO][23:30:14][root]-478786: Executing trade Swap(pool=<SimCurveStableSwapPool address=0x4dece678ceceb27446b35c672dc7d61f30bad69e chain=mainnet>, i=0, j=1, amt=50184870019).\n",
      "[INFO][23:30:14][root]-478786: Executing trade Liquidation(controller=<crvusdsim.pool.sim_interface.sim_controller.SimController object at 0x7efdb709ea80>, position=<crvusdsim.pool.crvusd.controller.Position object at 0x7efdb4d9e250>, amt=50316125776583109640192, frac=1000000000000000000, i=0, j=1).\n",
      "[INFO][23:30:14][root]-478786: Executing trade Swap(pool=External Market: WETH -> USDC, i=0, j=1, amt=11146517334386636800).\n",
      "[INFO][23:30:14][root]-478786: Liquidated user 0x18c0d980a3d271f97f37af443abd495cc30f6900 with profit: [5534.86187074].\n",
      "[INFO][23:30:14][root]-478786: Liquidating user 0x0bc5a06ba9949c90acfdd0717ba62fbd8878b1aa with expected profit: [11089.45706846].\n",
      "[INFO][23:30:14][root]-478786: Executing trade Swap(pool=<SimCurveStableSwapPool address=0x4dece678ceceb27446b35c672dc7d61f30bad69e chain=mainnet>, i=0, j=1, amt=87695039311).\n",
      "[INFO][23:30:14][root]-478786: Executing trade Liquidation(controller=<crvusdsim.pool.sim_interface.sim_controller.SimController object at 0x7efdb709ea80>, position=<crvusdsim.pool.crvusd.controller.Position object at 0x7efdb4d9eb10>, amt=87920367922196649082880, frac=1000000000000000000, i=0, j=1).\n",
      "[INFO][23:30:14][root]-478786: Executing trade Swap(pool=External Market: WETH -> USDC, i=0, j=1, amt=19763501697336504320).\n",
      "[INFO][23:30:14][root]-478786: Liquidated user 0x0bc5a06ba9949c90acfdd0717ba62fbd8878b1aa with profit: [11089.45706846].\n"
     ]
    }
   ],
   "source": [
    "profits, underwater_debt = liquidator.perform_liquidations(controller)"
   ]
  },
  {
   "cell_type": "code",
   "execution_count": null,
   "metadata": {},
   "outputs": [],
   "source": []
  }
 ],
 "metadata": {
  "kernelspec": {
   "display_name": "venv",
   "language": "python",
   "name": "python3"
  },
  "language_info": {
   "codemirror_mode": {
    "name": "ipython",
    "version": 3
   },
   "file_extension": ".py",
   "mimetype": "text/x-python",
   "name": "python",
   "nbconvert_exporter": "python",
   "pygments_lexer": "ipython3",
   "version": "3.11.3"
  }
 },
 "nbformat": 4,
 "nbformat_minor": 2
}
