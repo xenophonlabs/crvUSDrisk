{
 "cells": [
  {
   "cell_type": "markdown",
   "metadata": {},
   "source": [
    "# Creating Price Impact Curves\n",
    "\n",
    "Here we create price impact curves and store them in our custom `ExternalMarket` object. At a high level, the external market is a statiscal model trained on quotes from the 1inch API. \n",
    "\n",
    "Every hour, we query and store quotes from swapping all permutations of tokens over various randomly distributed trade sizes. We do this using `np.geomspace` for a hard-coded min and max trade size for each token (stored in `config`, and somewhat arbitrary, but reasonable). We randomize the geomspace by scaling each point by a noise component. Let's call each set of API calls a <b>round</b>.\n",
    "\n",
    "In this script, we pull these quotes from our Postgres database, group them by pair, and then perform a simple KNN regression to create our external market. This external market can then \"predict\" the price impact of trading a particular pair. These predictions are very good for most trade sizes, but become pretty noisy at the extremes (e.g. swapping 10M USDP in one go). We are working on it.\n",
    "\n",
    "We could do simpler things like a linear or polynomial regression on our data. This works when the market is liquid enough to handle a given trade (i.e., price impact is roughly linear), but performs really poorly for large trade sizes as price impact quickly (and non-linearly) balloons to 100%. \n",
    "\n",
    "### Isotonic Regression\n",
    "\n",
    "The basic intuition for fitting price impact curves is that price impact should increase monotonically with trade size. Given a set of quotes, we want to fit a regression that: (1) minimizes the error between the actual price impacts and the predicted price impacts, and (2) is monotonically increasing, (3) is bounded within [0, 1]. An Isotonic Regression conforms with all three requirements. \n",
    "\n",
    "An Isotonic regression minimizes the errors between training data and predictions, while enforcing (2) and (3). We implement it using scikit learn.\n",
    "\n",
    "A KNN regression (described below) does not satisfy (2) or (3), and evidently overfits the data (meaning predictions become very noisy and unstable). A linear regression performs extremely poorly on non-linear data, over-indexing on the residuals of large trades, meaning it overestimates the price impact on smaller trades. A polynomial regression shares the problems of a KNN regression (overfitting) and of a linear regression (performs poorly on small trades).\n",
    "\n",
    "### KNN Regression [Deprecated]\n",
    "\n",
    "To address the non-linearity of price impact, we instead interpolate the price impact based on the k nearest trade sizes to the trade size we are trying to test. We specify `k` as `n * k_scale`. Here `n` is the number of rounds contained in the dataset, and `k_scale` is a float, like 3/2. Since in expectation each round of API calls will always hit the same points from the `np.geomspace`, this `k` ensures that we look at neighbors outside the expected points along the `np.geomspace` line.\n",
    "\n",
    "Really, a KNN regression just allows us to fit the data more precisely than a linear regression by considering clusters of trade sizes. Otherwise, our regression would over-index on the residuals of the really large trades (e.g. swapping 100M USDP)."
   ]
  },
  {
   "cell_type": "code",
   "execution_count": 4,
   "metadata": {},
   "outputs": [],
   "source": [
    "from src.sim import Scenario\n",
    "from src.configs import TOKEN_DTOs, SYMBOL_TO_ADDRESS\n",
    "from src.plotting import plot_quotes, plot_regression, plot_predictions"
   ]
  },
  {
   "cell_type": "code",
   "execution_count": 8,
   "metadata": {},
   "outputs": [
    {
     "name": "stderr",
     "output_type": "stream",
     "text": [
      "[INFO][16:41:03][src.sim.scenario]-980012: Using 731520 1Inch quotes.\n",
      "[INFO][16:41:03][src.sim.scenario]-980012: Fetching sim_market from subgraph.\n",
      "[INFO][16:41:06][src.utils.poolgraph]-980012: Found 20 valid cycles of length 3.\n"
     ]
    },
    {
     "data": {
      "text/html": [
       "<div>\n",
       "<style scoped>\n",
       "    .dataframe tbody tr th:only-of-type {\n",
       "        vertical-align: middle;\n",
       "    }\n",
       "\n",
       "    .dataframe tbody tr th {\n",
       "        vertical-align: top;\n",
       "    }\n",
       "\n",
       "    .dataframe thead th {\n",
       "        text-align: right;\n",
       "    }\n",
       "</style>\n",
       "<table border=\"1\" class=\"dataframe\">\n",
       "  <thead>\n",
       "    <tr style=\"text-align: right;\">\n",
       "      <th></th>\n",
       "      <th></th>\n",
       "      <th>in_amount</th>\n",
       "      <th>out_amount</th>\n",
       "      <th>price</th>\n",
       "      <th>timestamp</th>\n",
       "      <th>hour</th>\n",
       "      <th>reference_price</th>\n",
       "      <th>price_impact</th>\n",
       "    </tr>\n",
       "    <tr>\n",
       "      <th>src</th>\n",
       "      <th>dst</th>\n",
       "      <th></th>\n",
       "      <th></th>\n",
       "      <th></th>\n",
       "      <th></th>\n",
       "      <th></th>\n",
       "      <th></th>\n",
       "      <th></th>\n",
       "    </tr>\n",
       "  </thead>\n",
       "  <tbody>\n",
       "    <tr>\n",
       "      <th rowspan=\"5\" valign=\"top\">0x0000000000085d4780b73119b644ae5ecd22b376</th>\n",
       "      <th>0x18084fba666a33d37592fa2633fd49a74dd93a88</th>\n",
       "      <td>6.951928e+22</td>\n",
       "      <td>1.910806e+18</td>\n",
       "      <td>0.000027</td>\n",
       "      <td>1700158548</td>\n",
       "      <td>2023-11-16 18:00:00</td>\n",
       "      <td>0.000028</td>\n",
       "      <td>0.001374</td>\n",
       "    </tr>\n",
       "    <tr>\n",
       "      <th>0x18084fba666a33d37592fa2633fd49a74dd93a88</th>\n",
       "      <td>1.000000e+21</td>\n",
       "      <td>2.717648e+16</td>\n",
       "      <td>0.000027</td>\n",
       "      <td>1700158538</td>\n",
       "      <td>2023-11-16 18:00:00</td>\n",
       "      <td>0.000028</td>\n",
       "      <td>0.012619</td>\n",
       "    </tr>\n",
       "    <tr>\n",
       "      <th>0x18084fba666a33d37592fa2633fd49a74dd93a88</th>\n",
       "      <td>1.832981e+21</td>\n",
       "      <td>5.037405e+16</td>\n",
       "      <td>0.000027</td>\n",
       "      <td>1700158539</td>\n",
       "      <td>2023-11-16 18:00:00</td>\n",
       "      <td>0.000028</td>\n",
       "      <td>0.001518</td>\n",
       "    </tr>\n",
       "    <tr>\n",
       "      <th>0x18084fba666a33d37592fa2633fd49a74dd93a88</th>\n",
       "      <td>3.359818e+21</td>\n",
       "      <td>9.233241e+16</td>\n",
       "      <td>0.000027</td>\n",
       "      <td>1700158541</td>\n",
       "      <td>2023-11-16 18:00:00</td>\n",
       "      <td>0.000028</td>\n",
       "      <td>0.001542</td>\n",
       "    </tr>\n",
       "    <tr>\n",
       "      <th>0x18084fba666a33d37592fa2633fd49a74dd93a88</th>\n",
       "      <td>6.158482e+21</td>\n",
       "      <td>1.692359e+17</td>\n",
       "      <td>0.000027</td>\n",
       "      <td>1700158543</td>\n",
       "      <td>2023-11-16 18:00:00</td>\n",
       "      <td>0.000028</td>\n",
       "      <td>0.001587</td>\n",
       "    </tr>\n",
       "  </tbody>\n",
       "</table>\n",
       "</div>"
      ],
      "text/plain": [
       "                                                                                          in_amount  \\\n",
       "src                                        dst                                                        \n",
       "0x0000000000085d4780b73119b644ae5ecd22b376 0x18084fba666a33d37592fa2633fd49a74dd93a88  6.951928e+22   \n",
       "                                           0x18084fba666a33d37592fa2633fd49a74dd93a88  1.000000e+21   \n",
       "                                           0x18084fba666a33d37592fa2633fd49a74dd93a88  1.832981e+21   \n",
       "                                           0x18084fba666a33d37592fa2633fd49a74dd93a88  3.359818e+21   \n",
       "                                           0x18084fba666a33d37592fa2633fd49a74dd93a88  6.158482e+21   \n",
       "\n",
       "                                                                                         out_amount  \\\n",
       "src                                        dst                                                        \n",
       "0x0000000000085d4780b73119b644ae5ecd22b376 0x18084fba666a33d37592fa2633fd49a74dd93a88  1.910806e+18   \n",
       "                                           0x18084fba666a33d37592fa2633fd49a74dd93a88  2.717648e+16   \n",
       "                                           0x18084fba666a33d37592fa2633fd49a74dd93a88  5.037405e+16   \n",
       "                                           0x18084fba666a33d37592fa2633fd49a74dd93a88  9.233241e+16   \n",
       "                                           0x18084fba666a33d37592fa2633fd49a74dd93a88  1.692359e+17   \n",
       "\n",
       "                                                                                          price  \\\n",
       "src                                        dst                                                    \n",
       "0x0000000000085d4780b73119b644ae5ecd22b376 0x18084fba666a33d37592fa2633fd49a74dd93a88  0.000027   \n",
       "                                           0x18084fba666a33d37592fa2633fd49a74dd93a88  0.000027   \n",
       "                                           0x18084fba666a33d37592fa2633fd49a74dd93a88  0.000027   \n",
       "                                           0x18084fba666a33d37592fa2633fd49a74dd93a88  0.000027   \n",
       "                                           0x18084fba666a33d37592fa2633fd49a74dd93a88  0.000027   \n",
       "\n",
       "                                                                                        timestamp  \\\n",
       "src                                        dst                                                      \n",
       "0x0000000000085d4780b73119b644ae5ecd22b376 0x18084fba666a33d37592fa2633fd49a74dd93a88  1700158548   \n",
       "                                           0x18084fba666a33d37592fa2633fd49a74dd93a88  1700158538   \n",
       "                                           0x18084fba666a33d37592fa2633fd49a74dd93a88  1700158539   \n",
       "                                           0x18084fba666a33d37592fa2633fd49a74dd93a88  1700158541   \n",
       "                                           0x18084fba666a33d37592fa2633fd49a74dd93a88  1700158543   \n",
       "\n",
       "                                                                                                     hour  \\\n",
       "src                                        dst                                                              \n",
       "0x0000000000085d4780b73119b644ae5ecd22b376 0x18084fba666a33d37592fa2633fd49a74dd93a88 2023-11-16 18:00:00   \n",
       "                                           0x18084fba666a33d37592fa2633fd49a74dd93a88 2023-11-16 18:00:00   \n",
       "                                           0x18084fba666a33d37592fa2633fd49a74dd93a88 2023-11-16 18:00:00   \n",
       "                                           0x18084fba666a33d37592fa2633fd49a74dd93a88 2023-11-16 18:00:00   \n",
       "                                           0x18084fba666a33d37592fa2633fd49a74dd93a88 2023-11-16 18:00:00   \n",
       "\n",
       "                                                                                       reference_price  \\\n",
       "src                                        dst                                                           \n",
       "0x0000000000085d4780b73119b644ae5ecd22b376 0x18084fba666a33d37592fa2633fd49a74dd93a88         0.000028   \n",
       "                                           0x18084fba666a33d37592fa2633fd49a74dd93a88         0.000028   \n",
       "                                           0x18084fba666a33d37592fa2633fd49a74dd93a88         0.000028   \n",
       "                                           0x18084fba666a33d37592fa2633fd49a74dd93a88         0.000028   \n",
       "                                           0x18084fba666a33d37592fa2633fd49a74dd93a88         0.000028   \n",
       "\n",
       "                                                                                       price_impact  \n",
       "src                                        dst                                                       \n",
       "0x0000000000085d4780b73119b644ae5ecd22b376 0x18084fba666a33d37592fa2633fd49a74dd93a88      0.001374  \n",
       "                                           0x18084fba666a33d37592fa2633fd49a74dd93a88      0.012619  \n",
       "                                           0x18084fba666a33d37592fa2633fd49a74dd93a88      0.001518  \n",
       "                                           0x18084fba666a33d37592fa2633fd49a74dd93a88      0.001542  \n",
       "                                           0x18084fba666a33d37592fa2633fd49a74dd93a88      0.001587  "
      ]
     },
     "execution_count": 8,
     "metadata": {},
     "output_type": "execute_result"
    }
   ],
   "source": [
    "# TODO allow us to change the start and end time of quote fetching\n",
    "scenario = Scenario(\"baseline\", \"weth\")\n",
    "scenario.update_market_prices(scenario.pricepaths[0])\n",
    "quotes = scenario.quotes\n",
    "quotes.head()"
   ]
  },
  {
   "cell_type": "markdown",
   "metadata": {},
   "source": [
    "## Fitting Price Impact Curves to Data\n",
    "\n",
    "Using an illiquid pair as an example. Here we show the expected price impact of swapping WBTC into TUSD using the 1inch router."
   ]
  },
  {
   "cell_type": "code",
   "execution_count": 9,
   "metadata": {},
   "outputs": [],
   "source": [
    "def plot(\n",
    "    quotes, market, i, j, scale=\"log\", fn_regr=None, fn_pred=None, plot_prices=True\n",
    "):\n",
    "    in_token = market.coins[i]\n",
    "    out_token = market.coins[j]\n",
    "\n",
    "    quotes_ = quotes.loc[in_token.address, out_token.address]\n",
    "    if plot_prices:\n",
    "        _ = plot_quotes(quotes_, in_token.symbol, out_token.symbol)\n",
    "    _ = plot_regression(quotes_, i, j, market, scale=scale, fn=fn_regr)\n",
    "    _ = plot_predictions(quotes_, i, j, market, scale=scale, fn=fn_pred)"
   ]
  },
  {
   "cell_type": "code",
   "execution_count": 11,
   "metadata": {},
   "outputs": [
    {
     "ename": "KeyError",
     "evalue": "(TokenDTO(address='0xa0b86991c6218b36c1d19d4a2e9eb0ce3606eb48', name='USD Coin', symbol='USDC', decimals=6, min_trade_size=1000.0, max_trade_size=100000000.0), TokenDTO(address='0x8e870d67f660d95d5be530380d0ec0bd388289e1', name='Pax Dollar', symbol='USDP', decimals=18, min_trade_size=1000.0, max_trade_size=100000000.0))",
     "output_type": "error",
     "traceback": [
      "\u001b[0;31m---------------------------------------------------------------------------\u001b[0m",
      "\u001b[0;31mKeyError\u001b[0m                                  Traceback (most recent call last)",
      "\u001b[1;32m/root/crvUSDrisk/notebooks/demo_slippage_curves.ipynb Cell 6\u001b[0m line \u001b[0;36m5\n\u001b[1;32m      <a href='vscode-notebook-cell://ssh-remote%2Bcrvusdrisk/root/crvUSDrisk/notebooks/demo_slippage_curves.ipynb#W5sdnNjb2RlLXJlbW90ZQ%3D%3D?line=1'>2</a>\u001b[0m token2 \u001b[39m=\u001b[39m TOKEN_DTOs[SYMBOL_TO_ADDRESS[\u001b[39m\"\u001b[39m\u001b[39mUSDP\u001b[39m\u001b[39m\"\u001b[39m]]\n\u001b[1;32m      <a href='vscode-notebook-cell://ssh-remote%2Bcrvusdrisk/root/crvUSDrisk/notebooks/demo_slippage_curves.ipynb#W5sdnNjb2RlLXJlbW90ZQ%3D%3D?line=2'>3</a>\u001b[0m pair \u001b[39m=\u001b[39m (token1, token2)\n\u001b[0;32m----> <a href='vscode-notebook-cell://ssh-remote%2Bcrvusdrisk/root/crvUSDrisk/notebooks/demo_slippage_curves.ipynb#W5sdnNjb2RlLXJlbW90ZQ%3D%3D?line=4'>5</a>\u001b[0m market \u001b[39m=\u001b[39m scenario\u001b[39m.\u001b[39;49mmarkets[pair]\n",
      "\u001b[0;31mKeyError\u001b[0m: (TokenDTO(address='0xa0b86991c6218b36c1d19d4a2e9eb0ce3606eb48', name='USD Coin', symbol='USDC', decimals=6, min_trade_size=1000.0, max_trade_size=100000000.0), TokenDTO(address='0x8e870d67f660d95d5be530380d0ec0bd388289e1', name='Pax Dollar', symbol='USDP', decimals=18, min_trade_size=1000.0, max_trade_size=100000000.0))"
     ]
    }
   ],
   "source": [
    "token1 = TOKEN_DTOs[SYMBOL_TO_ADDRESS[\"USDC\"]]\n",
    "token2 = TOKEN_DTOs[SYMBOL_TO_ADDRESS[\"USDP\"]]\n",
    "pair = (token1, token2)\n",
    "\n",
    "market = scenario.markets[pair]"
   ]
  },
  {
   "cell_type": "code",
   "execution_count": null,
   "metadata": {},
   "outputs": [
    {
     "ename": "NameError",
     "evalue": "name 'plot' is not defined",
     "output_type": "error",
     "traceback": [
      "\u001b[0;31m---------------------------------------------------------------------------\u001b[0m",
      "\u001b[0;31mNameError\u001b[0m                                 Traceback (most recent call last)",
      "\u001b[1;32m/root/crvUSDrisk/notebooks/demo_slippage_curves.ipynb Cell 7\u001b[0m line \u001b[0;36m2\n\u001b[1;32m      <a href='vscode-notebook-cell://ssh-remote%2Bcrvusdrisk/root/crvUSDrisk/notebooks/demo_slippage_curves.ipynb#W6sdnNjb2RlLXJlbW90ZQ%3D%3D?line=0'>1</a>\u001b[0m \u001b[39m# token1 -> token2\u001b[39;00m\n\u001b[0;32m----> <a href='vscode-notebook-cell://ssh-remote%2Bcrvusdrisk/root/crvUSDrisk/notebooks/demo_slippage_curves.ipynb#W6sdnNjb2RlLXJlbW90ZQ%3D%3D?line=1'>2</a>\u001b[0m plot(quotes, market, \u001b[39m0\u001b[39m, \u001b[39m1\u001b[39m)\n",
      "\u001b[0;31mNameError\u001b[0m: name 'plot' is not defined"
     ]
    }
   ],
   "source": [
    "# token1 -> token2\n",
    "plot(quotes, market, 0, 1)"
   ]
  },
  {
   "cell_type": "code",
   "execution_count": null,
   "metadata": {},
   "outputs": [
    {
     "ename": "NameError",
     "evalue": "name 'plot' is not defined",
     "output_type": "error",
     "traceback": [
      "\u001b[0;31m---------------------------------------------------------------------------\u001b[0m",
      "\u001b[0;31mNameError\u001b[0m                                 Traceback (most recent call last)",
      "\u001b[1;32m/root/crvUSDrisk/notebooks/demo_slippage_curves.ipynb Cell 8\u001b[0m line \u001b[0;36m2\n\u001b[1;32m      <a href='vscode-notebook-cell://ssh-remote%2Bcrvusdrisk/root/crvUSDrisk/notebooks/demo_slippage_curves.ipynb#X10sdnNjb2RlLXJlbW90ZQ%3D%3D?line=0'>1</a>\u001b[0m \u001b[39m# token2 -> token1\u001b[39;00m\n\u001b[0;32m----> <a href='vscode-notebook-cell://ssh-remote%2Bcrvusdrisk/root/crvUSDrisk/notebooks/demo_slippage_curves.ipynb#X10sdnNjb2RlLXJlbW90ZQ%3D%3D?line=1'>2</a>\u001b[0m plot(quotes, market, \u001b[39m1\u001b[39m, \u001b[39m0\u001b[39m)\n",
      "\u001b[0;31mNameError\u001b[0m: name 'plot' is not defined"
     ]
    }
   ],
   "source": [
    "# token2 -> token1\n",
    "plot(quotes, market, 1, 0)"
   ]
  },
  {
   "cell_type": "markdown",
   "metadata": {},
   "source": [
    "## Fitting all Markets\n",
    "\n",
    "The logic for fitting the price impact curves for all the markets is in `scripts/gen_slippage_plots.py`. The plots can be found in `figs/price_impacts`."
   ]
  }
 ],
 "metadata": {
  "kernelspec": {
   "display_name": "venv",
   "language": "python",
   "name": "python3"
  },
  "language_info": {
   "codemirror_mode": {
    "name": "ipython",
    "version": 3
   },
   "file_extension": ".py",
   "mimetype": "text/x-python",
   "name": "python",
   "nbconvert_exporter": "python",
   "pygments_lexer": "ipython3",
   "version": "3.11.3"
  }
 },
 "nbformat": 4,
 "nbformat_minor": 2
}
