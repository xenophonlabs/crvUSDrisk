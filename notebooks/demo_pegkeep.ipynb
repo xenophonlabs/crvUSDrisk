{
 "cells": [
  {
   "cell_type": "markdown",
   "metadata": {},
   "source": [
    "# Demo Peg Keeping Logic\n",
    "\n",
    "One of the agents in our simulation is the `Keeper`. The `Keeper` calls the `update` function on all Peg Keepers if doing so exceeds their profitability threshold (default 0). This notebook demos the `Keeper`'s `update` method."
   ]
  },
  {
   "cell_type": "code",
   "execution_count": 1,
   "metadata": {},
   "outputs": [],
   "source": [
    "from src.sim.scenario import Scenario"
   ]
  },
  {
   "cell_type": "code",
   "execution_count": 2,
   "metadata": {},
   "outputs": [],
   "source": [
    "def increment_timestamps(aggregator, pks):\n",
    "    ts = aggregator._block_timestamp + 60 * 60  # one hour\n",
    "    for pk in pks:\n",
    "        pk._increment_timestamp(ts)\n",
    "        pk.POOL._increment_timestamp(ts)\n",
    "        assert pk.last_change != pk._block_timestamp\n",
    "    aggregator._increment_timestamp(ts)\n",
    "    print(f\"New Aggregator Price: {aggregator.price() / 1e18}\")"
   ]
  },
  {
   "cell_type": "code",
   "execution_count": 3,
   "metadata": {},
   "outputs": [
    {
     "name": "stderr",
     "output_type": "stream",
     "text": [
      "[INFO][03:30:15][src.sim.scenario]-963133: Using 711360 1Inch quotes.\n",
      "[INFO][03:30:15][src.sim.scenario]-963133: Fetching sim_market from subgraph.\n",
      "[INFO][03:30:18][src.utils.poolgraph]-963133: Found 20 valid cycles of length 3.\n"
     ]
    }
   ],
   "source": [
    "# Generate markets and prices\n",
    "scenario = Scenario(\"baseline\")\n",
    "scenario.prepare_for_run()"
   ]
  },
  {
   "cell_type": "code",
   "execution_count": 4,
   "metadata": {},
   "outputs": [
    {
     "data": {
      "text/plain": [
       "0.9991866780961878"
      ]
     },
     "execution_count": 4,
     "metadata": {},
     "output_type": "execute_result"
    }
   ],
   "source": [
    "aggregator = scenario.aggregator\n",
    "aggregator.price() / 1e18"
   ]
  },
  {
   "cell_type": "code",
   "execution_count": 5,
   "metadata": {},
   "outputs": [
    {
     "name": "stderr",
     "output_type": "stream",
     "text": [
      "[INFO][03:30:18][src.agents.keeper]-963133: Not updating crvUSD/TUSD Peg Keeper.\n",
      "[INFO][03:30:18][src.agents.keeper]-963133: Not updating crvUSD/USDP Peg Keeper.\n",
      "[INFO][03:30:18][src.agents.keeper]-963133: Not updating crvUSD/USDC Peg Keeper.\n",
      "[INFO][03:30:18][src.agents.keeper]-963133: Not updating crvUSD/USDT Peg Keeper.\n"
     ]
    },
    {
     "name": "stdout",
     "output_type": "stream",
     "text": [
      "Profit: 0.0, Count: 0\n"
     ]
    }
   ],
   "source": [
    "pks = scenario.peg_keepers\n",
    "keeper = scenario.keeper\n",
    "profit, count = keeper.update(pks)\n",
    "print(f\"Profit: {profit}, Count: {count}\")"
   ]
  },
  {
   "cell_type": "markdown",
   "metadata": {},
   "source": [
    "In all likelihood, no updates occured even though the pools are not balanced. This is because the balance of crvUSD exceeds the balance of the peg stablecoin (e.g. USDC), but the `PegKeeper` doesn't have any debt to withdraw. To test the `update` functionality, we trade against the stableswap pools such that the crvUSD balance is less than the peg stablecoin balance."
   ]
  },
  {
   "cell_type": "code",
   "execution_count": 10,
   "metadata": {},
   "outputs": [
    {
     "name": "stdout",
     "output_type": "stream",
     "text": [
      "Curve.fi Factory Plain Pool: crvUSD/TUSD\n",
      "Normalized balances before trade: [2.487111603121784e+24, 1.9150059024137788e+24]\n",
      "Curve.fi Factory Plain Pool: crvUSD/USDP\n",
      "Normalized balances before trade: [1.6294304079144517e+24, 2.243271069396673e+24]\n",
      "Swapping in 613840661482221315555328 USDP for crvUSD\n",
      "Received: 613779277416073093484167, Fees: 61384066148222131561\n",
      "Normalized balances after trade: [2.243271069396673e+24, 1.629461099947526e+24]\n",
      "\n",
      "Curve.fi Factory Plain Pool: crvUSD/USDC\n",
      "Normalized balances before trade: [1.3929085025007998e+25, 2.074047893642343e+25]\n",
      "Swapping in 6811393911415 USDC for crvUSD\n",
      "Received: 6810712772023858866331488, Fees: 681139391141500036636\n",
      "Normalized balances after trade: [2.0740478936423002e+25, 1.3929425594704002e+25]\n",
      "\n",
      "Curve.fi Factory Plain Pool: crvUSD/USDT\n",
      "Normalized balances before trade: [1.3716983508907999e+25, 2.0259484621668413e+25]\n",
      "Swapping in 6542501112760 USDT for crvUSD\n",
      "Received: 6541846862648724343633905, Fees: 654250111276000034366\n",
      "Normalized balances after trade: [2.0259484621668e+25, 1.3717310633964051e+25]\n",
      "\n"
     ]
    }
   ],
   "source": [
    "for pk in pks:\n",
    "    spool = pk.POOL\n",
    "    print(spool.name)\n",
    "\n",
    "    normalized_balances = [b * r / 1e18 for b, r in zip(spool.balances, spool.rates)]\n",
    "    print(f\"Normalized balances before trade: {normalized_balances}\")\n",
    "\n",
    "    diff = normalized_balances[pk.I] - normalized_balances[pk.I ^ 1]\n",
    "    if diff < 1:\n",
    "        continue\n",
    "\n",
    "    diff = int(diff * 1e18 / spool.rates[pk.I ^ 1])  # convert to peg coin units\n",
    "    print(\n",
    "        f\"Swapping in {diff} {spool.coins[pk.I^1].symbol} for {spool.coins[pk.I].symbol}\"\n",
    "    )\n",
    "\n",
    "    amt_in, amt_out, fees = spool.trade(pk.I ^ 1, pk.I, diff)\n",
    "    assert amt_in == diff\n",
    "    print(f\"Received: {amt_out}, Fees: {fees}\")\n",
    "    normalized_balances = [b * r / 1e18 for b, r in zip(spool.balances, spool.rates)]\n",
    "    print(f\"Normalized balances after trade: {normalized_balances}\")\n",
    "\n",
    "    print()"
   ]
  },
  {
   "cell_type": "code",
   "execution_count": 11,
   "metadata": {},
   "outputs": [
    {
     "name": "stdout",
     "output_type": "stream",
     "text": [
      "New Aggregator Price: 1.0007895361659047\n"
     ]
    }
   ],
   "source": [
    "# Increment timestamps to update aggregator price\n",
    "# AND pk timestamps\n",
    "increment_timestamps(aggregator, pks)"
   ]
  },
  {
   "cell_type": "code",
   "execution_count": 12,
   "metadata": {},
   "outputs": [
    {
     "name": "stderr",
     "output_type": "stream",
     "text": [
      "[INFO][03:32:50][src.agents.keeper]-963133: Updating crvUSD/TUSD Peg Keeper with profit 4.\n",
      "[INFO][03:32:50][src.agents.keeper]-963133: Updating crvUSD/USDP Peg Keeper with profit 10.\n",
      "[INFO][03:32:50][src.agents.keeper]-963133: Updating crvUSD/USDC Peg Keeper with profit 104.\n",
      "[INFO][03:32:50][src.agents.keeper]-963133: Updating crvUSD/USDT Peg Keeper with profit 191.\n"
     ]
    },
    {
     "name": "stdout",
     "output_type": "stream",
     "text": [
      "Profit: 190.7624801107767, Count: 4\n"
     ]
    }
   ],
   "source": [
    "profit, count = keeper.update(pks)\n",
    "print(f\"Profit: {profit / 1e18}, Count: {count}\")"
   ]
  },
  {
   "cell_type": "code",
   "execution_count": 13,
   "metadata": {},
   "outputs": [
    {
     "name": "stdout",
     "output_type": "stream",
     "text": [
      "Curve.fi Factory Plain Pool: crvUSD/TUSD\n",
      "Normalized balances before trade: [2.487109986545066e+24, 2.0294254267454297e+24]\n",
      "\n",
      "Curve.fi Factory Plain Pool: crvUSD/USDP\n",
      "Normalized balances before trade: [2.24326929105439e+24, 1.7522213165349084e+24]\n",
      "\n",
      "Curve.fi Factory Plain Pool: crvUSD/USDC\n",
      "Normalized balances before trade: [2.0740458554636e+25, 1.5291615896307565e+25]\n",
      "\n",
      "Curve.fi Factory Plain Pool: crvUSD/USDT\n",
      "Normalized balances before trade: [2.0259465108621e+25, 1.5025725932547138e+25]\n",
      "\n"
     ]
    }
   ],
   "source": [
    "for pk in pks:\n",
    "    spool = pk.POOL\n",
    "    print(spool.name)\n",
    "\n",
    "    normalized_balances = [b * r / 1e18 for b, r in zip(spool.balances, spool.rates)]\n",
    "    print(f\"Normalized balances before trade: {normalized_balances}\")\n",
    "    print()"
   ]
  },
  {
   "cell_type": "code",
   "execution_count": 15,
   "metadata": {},
   "outputs": [
    {
     "name": "stdout",
     "output_type": "stream",
     "text": [
      "New Aggregator Price: 1.0006077585398148\n"
     ]
    }
   ],
   "source": [
    "# Increment timestamps to update aggregator price\n",
    "# AND pk timestamps\n",
    "increment_timestamps(aggregator, pks)"
   ]
  },
  {
   "cell_type": "code",
   "execution_count": 16,
   "metadata": {},
   "outputs": [
    {
     "name": "stderr",
     "output_type": "stream",
     "text": [
      "[INFO][03:33:09][src.agents.keeper]-963133: Updating crvUSD/TUSD Peg Keeper with profit 3.\n",
      "[INFO][03:33:09][src.agents.keeper]-963133: Updating crvUSD/USDP Peg Keeper with profit 6.\n",
      "[INFO][03:33:09][src.agents.keeper]-963133: Updating crvUSD/USDC Peg Keeper with profit 59.\n",
      "[INFO][03:33:09][src.agents.keeper]-963133: Updating crvUSD/USDT Peg Keeper with profit 108.\n"
     ]
    },
    {
     "name": "stdout",
     "output_type": "stream",
     "text": [
      "Profit: 107.8561267863586, Count: 4\n"
     ]
    }
   ],
   "source": [
    "# We can update again! Recall that the PK can only\n",
    "# deposit/withdraw 20% of the pool's imbalance at a time.\n",
    "profit, count = keeper.update(pks)\n",
    "print(f\"Profit: {profit / 1e18}, Count: {count}\")"
   ]
  },
  {
   "cell_type": "code",
   "execution_count": 17,
   "metadata": {},
   "outputs": [
    {
     "name": "stdout",
     "output_type": "stream",
     "text": [
      "New Aggregator Price: 1.0004643008580523\n"
     ]
    }
   ],
   "source": [
    "# Increment timestamps to update aggregator price\n",
    "# AND pk timestamps\n",
    "increment_timestamps(aggregator, pks)"
   ]
  }
 ],
 "metadata": {
  "kernelspec": {
   "display_name": "venv",
   "language": "python",
   "name": "python3"
  },
  "language_info": {
   "codemirror_mode": {
    "name": "ipython",
    "version": 3
   },
   "file_extension": ".py",
   "mimetype": "text/x-python",
   "name": "python",
   "nbconvert_exporter": "python",
   "pygments_lexer": "ipython3",
   "version": "3.11.3"
  }
 },
 "nbformat": 4,
 "nbformat_minor": 2
}
