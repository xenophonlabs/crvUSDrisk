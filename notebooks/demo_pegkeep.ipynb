{
 "cells": [
  {
   "cell_type": "markdown",
   "metadata": {},
   "source": [
    "# Demo Peg Keeping Logic\n",
    "\n",
    "One of the agents in our simulation is the `Keeper`. The `Keeper` calls the `update` function on all Peg Keepers if doing so exceeds their profitability threshold (default 0). This notebook demos the `Keeper`'s `update` method."
   ]
  },
  {
   "cell_type": "code",
   "execution_count": 1,
   "metadata": {},
   "outputs": [],
   "source": [
    "from src.sim.scenario import Scenario"
   ]
  },
  {
   "cell_type": "code",
   "execution_count": 2,
   "metadata": {},
   "outputs": [],
   "source": [
    "def increment_timestamps(aggregator, pks):\n",
    "    ts = aggregator._block_timestamp + 60 * 60  # one hour\n",
    "    for pk in pks:\n",
    "        pk._increment_timestamp(ts)\n",
    "        pk.POOL._increment_timestamp(ts)\n",
    "        assert pk.last_change != pk._block_timestamp\n",
    "    aggregator._increment_timestamp(ts)\n",
    "    print(f\"New Aggregator Price: {aggregator.price() / 1e18}\")"
   ]
  },
  {
   "cell_type": "code",
   "execution_count": 3,
   "metadata": {},
   "outputs": [
    {
     "name": "stderr",
     "output_type": "stream",
     "text": [
      "[INFO][19:09:32][src.sim.scenario]-17281: Fetching sim_market from subgraph.\n",
      "[INFO][19:09:41][src.utils.poolgraph]-17281: Found 20 valid trading cycles of length 3.\n"
     ]
    }
   ],
   "source": [
    "# Generate markets and prices\n",
    "scenario = Scenario(\"baseline\", \"wsteth\")\n",
    "scenario.prepare_for_run()"
   ]
  },
  {
   "cell_type": "code",
   "execution_count": 4,
   "metadata": {},
   "outputs": [
    {
     "data": {
      "text/plain": [
       "0.9999613106149258"
      ]
     },
     "execution_count": 4,
     "metadata": {},
     "output_type": "execute_result"
    }
   ],
   "source": [
    "aggregator = scenario.aggregator\n",
    "aggregator.price() / 1e18"
   ]
  },
  {
   "cell_type": "code",
   "execution_count": 5,
   "metadata": {},
   "outputs": [
    {
     "name": "stdout",
     "output_type": "stream",
     "text": [
      "Profit: 0.0, Count: 0\n"
     ]
    }
   ],
   "source": [
    "pks = scenario.peg_keepers\n",
    "keeper = scenario.keeper\n",
    "profit, count = keeper.update(pks)\n",
    "print(f\"Profit: {profit}, Count: {count}\")"
   ]
  },
  {
   "cell_type": "markdown",
   "metadata": {},
   "source": [
    "In all likelihood, no updates occured even though the pools are not balanced. This is because the balance of crvUSD exceeds the balance of the peg stablecoin (e.g. USDC), but the `PegKeeper` doesn't have any debt to withdraw. To test the `update` functionality, we trade against the stableswap pools such that the crvUSD balance is less than the peg stablecoin balance."
   ]
  },
  {
   "cell_type": "code",
   "execution_count": 6,
   "metadata": {},
   "outputs": [
    {
     "name": "stdout",
     "output_type": "stream",
     "text": [
      "Curve.fi Factory Plain Pool: crvUSD/TUSD\n",
      "Normalized balances before trade: [1.717754483507028e+24, 2.762115253867853e+24]\n",
      "Swapping in 1044360770360825199198208 TUSD for crvUSD\n",
      "Received: 1044256334283789116299323, Fees: 104436077036082519881\n",
      "Normalized balances after trade: [2.762115253867853e+24, 1.7178067015455457e+24]\n",
      "\n",
      "Curve.fi Factory Plain Pool: crvUSD/USDP\n",
      "Normalized balances before trade: [1.842022411531397e+24, 2.3000336919881115e+24]\n",
      "Swapping in 458011280456714396106752 USDP for crvUSD\n",
      "Received: 457965479328668724605693, Fees: 45801128045671439604\n",
      "Normalized balances after trade: [2.3000336919881118e+24, 1.8420453120954198e+24]\n",
      "\n",
      "Curve.fi Factory Plain Pool: crvUSD/USDC\n",
      "Normalized balances before trade: [1.7626578665113e+25, 1.9319573233956232e+25]\n",
      "Swapping in 1692994568843 USDC for crvUSD\n",
      "Received: 1692825269386115742757538, Fees: 169299456884300004276\n",
      "Normalized balances after trade: [1.9319573233956e+25, 1.7626663314841675e+25]\n",
      "\n",
      "Curve.fi Factory Plain Pool: crvUSD/USDT\n",
      "Normalized balances before trade: [1.5021145364448999e+25, 1.2873925066796794e+25]\n"
     ]
    }
   ],
   "source": [
    "for pk in pks:\n",
    "    spool = pk.POOL\n",
    "    print(spool.name)\n",
    "\n",
    "    normalized_balances = [b * r / 1e18 for b, r in zip(spool.balances, spool.rates)]\n",
    "    print(f\"Normalized balances before trade: {normalized_balances}\")\n",
    "\n",
    "    diff = normalized_balances[pk.I] - normalized_balances[pk.I ^ 1]\n",
    "    if diff < 1:\n",
    "        continue\n",
    "\n",
    "    diff = int(diff * 1e18 / spool.rates[pk.I ^ 1])  # convert to peg coin units\n",
    "    print(\n",
    "        f\"Swapping in {diff} {spool.coins[pk.I^1].symbol} for {spool.coins[pk.I].symbol}\"\n",
    "    )\n",
    "\n",
    "    amt_in, amt_out, fees = spool.trade(pk.I ^ 1, pk.I, diff)\n",
    "    assert amt_in == diff\n",
    "    print(f\"Received: {amt_out}, Fees: {fees}\")\n",
    "    normalized_balances = [b * r / 1e18 for b, r in zip(spool.balances, spool.rates)]\n",
    "    print(f\"Normalized balances after trade: {normalized_balances}\")\n",
    "\n",
    "    print()"
   ]
  },
  {
   "cell_type": "code",
   "execution_count": 7,
   "metadata": {},
   "outputs": [
    {
     "name": "stdout",
     "output_type": "stream",
     "text": [
      "New Aggregator Price: 1.0002764113935887\n"
     ]
    }
   ],
   "source": [
    "# Increment timestamps to update aggregator price\n",
    "# AND pk timestamps\n",
    "increment_timestamps(aggregator, pks)"
   ]
  },
  {
   "cell_type": "code",
   "execution_count": 8,
   "metadata": {},
   "outputs": [
    {
     "name": "stdout",
     "output_type": "stream",
     "text": [
      "Profit: 4.608109929655284, Count: 2\n"
     ]
    }
   ],
   "source": [
    "profit, count = keeper.update(pks)\n",
    "print(f\"Profit: {profit / 1e18}, Count: {count}\")"
   ]
  },
  {
   "cell_type": "code",
   "execution_count": 9,
   "metadata": {},
   "outputs": [
    {
     "name": "stdout",
     "output_type": "stream",
     "text": [
      "Curve.fi Factory Plain Pool: crvUSD/TUSD\n",
      "Normalized balances before trade: [2.762115253867853e+24, 1.7178067015455457e+24]\n",
      "\n",
      "Curve.fi Factory Plain Pool: crvUSD/USDP\n",
      "Normalized balances before trade: [2.300032420134736e+24, 1.9336417167308543e+24]\n",
      "\n",
      "Curve.fi Factory Plain Pool: crvUSD/USDC\n",
      "Normalized balances before trade: [1.9319568807374e+25, 1.796524087281051e+25]\n",
      "\n",
      "Curve.fi Factory Plain Pool: crvUSD/USDT\n",
      "Normalized balances before trade: [1.5021145364448999e+25, 1.2873925066796794e+25]\n",
      "\n"
     ]
    }
   ],
   "source": [
    "for pk in pks:\n",
    "    spool = pk.POOL\n",
    "    print(spool.name)\n",
    "\n",
    "    normalized_balances = [b * r / 1e18 for b, r in zip(spool.balances, spool.rates)]\n",
    "    print(f\"Normalized balances before trade: {normalized_balances}\")\n",
    "    print()"
   ]
  },
  {
   "cell_type": "code",
   "execution_count": 10,
   "metadata": {},
   "outputs": [
    {
     "name": "stdout",
     "output_type": "stream",
     "text": [
      "New Aggregator Price: 1.0002538788444169\n"
     ]
    }
   ],
   "source": [
    "# Increment timestamps to update aggregator price\n",
    "# AND pk timestamps\n",
    "increment_timestamps(aggregator, pks)"
   ]
  },
  {
   "cell_type": "code",
   "execution_count": 11,
   "metadata": {},
   "outputs": [
    {
     "name": "stdout",
     "output_type": "stream",
     "text": [
      "Profit: 2.399235690071639, Count: 2\n"
     ]
    }
   ],
   "source": [
    "# We can update again! Recall that the PK can only\n",
    "# deposit/withdraw 20% of the pool's imbalance at a time.\n",
    "profit, count = keeper.update(pks)\n",
    "print(f\"Profit: {profit / 1e18}, Count: {count}\")"
   ]
  },
  {
   "cell_type": "code",
   "execution_count": 12,
   "metadata": {},
   "outputs": [
    {
     "name": "stdout",
     "output_type": "stream",
     "text": [
      "New Aggregator Price: 1.000233227377818\n"
     ]
    }
   ],
   "source": [
    "# Increment timestamps to update aggregator price\n",
    "# AND pk timestamps\n",
    "increment_timestamps(aggregator, pks)"
   ]
  }
 ],
 "metadata": {
  "kernelspec": {
   "display_name": "venv",
   "language": "python",
   "name": "python3"
  },
  "language_info": {
   "codemirror_mode": {
    "name": "ipython",
    "version": 3
   },
   "file_extension": ".py",
   "mimetype": "text/x-python",
   "name": "python",
   "nbconvert_exporter": "python",
   "pygments_lexer": "ipython3",
   "version": "3.11.6"
  }
 },
 "nbformat": 4,
 "nbformat_minor": 2
}
