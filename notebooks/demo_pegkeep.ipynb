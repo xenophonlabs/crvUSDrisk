{
 "cells": [
  {
   "cell_type": "markdown",
   "metadata": {},
   "source": [
    "# Demo Peg Keeping Logic\n",
    "\n",
    "One of the agents in our simulation is the `Keeper`. The `Keeper` calls the `update` function on all Peg Keepers if doing so exceeds their profitability threshold (default 0). This notebook demos the `Keeper`'s `update` method."
   ]
  },
  {
   "cell_type": "code",
   "execution_count": 1,
   "metadata": {},
   "outputs": [],
   "source": [
    "from src.sim.scenario import Scenario"
   ]
  },
  {
   "cell_type": "code",
   "execution_count": 2,
   "metadata": {},
   "outputs": [],
   "source": [
    "def increment_timestamps(aggregator, pks):\n",
    "    ts = aggregator._block_timestamp + 60 * 60  # one hour\n",
    "    for pk in pks:\n",
    "        pk._increment_timestamp(ts)\n",
    "        pk.POOL._increment_timestamp(ts)\n",
    "        assert pk.last_change != pk._block_timestamp\n",
    "    aggregator._increment_timestamp(ts)\n",
    "    print(f\"New Aggregator Price: {aggregator.price() / 1e18}\")"
   ]
  },
  {
   "cell_type": "code",
   "execution_count": 3,
   "metadata": {},
   "outputs": [
    {
     "name": "stderr",
     "output_type": "stream",
     "text": [
      "[DEBUG][16:44:27][root]-761840: Using 614880 1Inch quotes.\n",
      "[INFO][16:44:27][root]-761840: Fetching sim_market from subgraph.\n",
      "[INFO][16:44:30][root]-761840: Found 20 valid cycles of length 3.\n"
     ]
    }
   ],
   "source": [
    "# Generate markets and prices\n",
    "scenario = Scenario(\"baseline\")\n",
    "scenario.prepare_for_run()"
   ]
  },
  {
   "cell_type": "code",
   "execution_count": 4,
   "metadata": {},
   "outputs": [
    {
     "data": {
      "text/plain": [
       "0.9953737870756432"
      ]
     },
     "execution_count": 4,
     "metadata": {},
     "output_type": "execute_result"
    }
   ],
   "source": [
    "aggregator = scenario.aggregator\n",
    "aggregator.price() / 1e18"
   ]
  },
  {
   "cell_type": "code",
   "execution_count": 5,
   "metadata": {},
   "outputs": [
    {
     "name": "stdout",
     "output_type": "stream",
     "text": [
      "Profit: 0.0, Count: 0\n"
     ]
    }
   ],
   "source": [
    "pks = scenario.peg_keepers\n",
    "keeper = scenario.keeper\n",
    "profit, count = keeper.update(pks)\n",
    "print(f\"Profit: {profit}, Count: {count}\")"
   ]
  },
  {
   "cell_type": "markdown",
   "metadata": {},
   "source": [
    "In all likelihood, no updates occured even though the pools are not balanced. This is because the balance of crvUSD exceeds the balance of the peg stablecoin (e.g. USDC), but the `PegKeeper` doesn't have any debt to withdraw. To test the `update` functionality, we trade against the stableswap pools such that the crvUSD balance is less than the peg stablecoin balance."
   ]
  },
  {
   "cell_type": "code",
   "execution_count": 6,
   "metadata": {},
   "outputs": [
    {
     "name": "stdout",
     "output_type": "stream",
     "text": [
      "Curve.fi Factory Plain Pool: crvUSD/TUSD\n",
      "Normalized balances before trade: [1.4000154639228428e+24, 3.203409055350148e+24]\n",
      "Swapping in 1803393591427305496903680 TUSD for crvUSD\n",
      "Received: 1803213252068162766449523, Fees: 180339359142730549699\n",
      "Normalized balances after trade: [3.203409055350148e+24, 1.4001056336024142e+24]\n",
      "\n",
      "Curve.fi Factory Plain Pool: crvUSD/USDP\n",
      "Normalized balances before trade: [1.1788968704809905e+24, 3.806845972337115e+24]\n",
      "Swapping in 2627949101856124221521920 USDP for crvUSD\n",
      "Received: 2627686306945938610252246, Fees: 262794910185612422267\n",
      "Normalized balances after trade: [3.806845972337115e+24, 1.1790282679360835e+24]\n",
      "\n",
      "Curve.fi Factory Plain Pool: crvUSD/USDC\n",
      "Normalized balances before trade: [7.766160753812e+24, 2.704459766574084e+25]\n",
      "Swapping in 19278436911928 USDC for crvUSD\n",
      "Received: 19276509068236811053122338, Fees: 1927843691192800385350\n",
      "Normalized balances after trade: [2.704459766574e+25, 7.767124675658436e+24]\n",
      "\n",
      "Curve.fi Factory Plain Pool: crvUSD/USDT\n",
      "Normalized balances before trade: [6.88177423539e+24, 2.4582240944105228e+25]\n",
      "Swapping in 17700466708715 USDT for crvUSD\n",
      "Received: 17698696662044129597187554, Fees: 1770046670871500109729\n",
      "Normalized balances after trade: [2.4582240944105e+25, 6.882659258725664e+24]\n",
      "\n"
     ]
    }
   ],
   "source": [
    "for pk in pks:\n",
    "    spool = pk.POOL\n",
    "    print(spool.name)\n",
    "\n",
    "    normalized_balances = [b * r / 1e18 for b, r in zip(spool.balances, spool.rates)]\n",
    "    print(f\"Normalized balances before trade: {normalized_balances}\")\n",
    "\n",
    "    diff = normalized_balances[pk.I] - normalized_balances[pk.I ^ 1]\n",
    "    diff = int(diff * 1e18 / spool.rates[pk.I ^ 1])  # convert to peg coin units\n",
    "    print(\n",
    "        f\"Swapping in {diff} {spool.coins[pk.I^1].symbol} for {spool.coins[pk.I].symbol}\"\n",
    "    )\n",
    "\n",
    "    amt_in, amt_out, fees = spool.trade(pk.I ^ 1, pk.I, diff)\n",
    "    assert amt_in == diff\n",
    "    print(f\"Received: {amt_out}, Fees: {fees}\")\n",
    "    normalized_balances = [b * r / 1e18 for b, r in zip(spool.balances, spool.rates)]\n",
    "    print(f\"Normalized balances after trade: {normalized_balances}\")\n",
    "\n",
    "    print()"
   ]
  },
  {
   "cell_type": "code",
   "execution_count": 7,
   "metadata": {},
   "outputs": [
    {
     "name": "stdout",
     "output_type": "stream",
     "text": [
      "New Aggregator Price: 1.0045022563045432\n"
     ]
    }
   ],
   "source": [
    "# Increment timestamps to update aggregator price\n",
    "# AND pk timestamps\n",
    "increment_timestamps(aggregator, pks)"
   ]
  },
  {
   "cell_type": "code",
   "execution_count": 8,
   "metadata": {},
   "outputs": [
    {
     "name": "stderr",
     "output_type": "stream",
     "text": [
      "[INFO][16:44:30][root]-761840: Updating crvUSD/TUSD Peg Keeper with profit 70.\n",
      "[INFO][16:44:30][root]-761840: Updating crvUSD/USDP Peg Keeper with profit 257.\n",
      "[INFO][16:44:30][root]-761840: Updating crvUSD/USDC Peg Keeper with profit 1810.\n",
      "[INFO][16:44:30][root]-761840: Updating crvUSD/USDT Peg Keeper with profit 3294.\n"
     ]
    },
    {
     "name": "stdout",
     "output_type": "stream",
     "text": [
      "Profit: 3294.3374815760258, Count: 4\n"
     ]
    }
   ],
   "source": [
    "profit, count = keeper.update(pks)\n",
    "print(f\"Profit: {profit / 1e18}, Count: {count}\")"
   ]
  },
  {
   "cell_type": "code",
   "execution_count": 9,
   "metadata": {},
   "outputs": [
    {
     "name": "stdout",
     "output_type": "stream",
     "text": [
      "Curve.fi Factory Plain Pool: crvUSD/TUSD\n",
      "Normalized balances before trade: [3.203402773435072e+24, 1.7607600470550763e+24]\n",
      "\n",
      "Curve.fi Factory Plain Pool: crvUSD/USDP\n",
      "Normalized balances before trade: [3.806835917819817e+24, 1.7045817837387366e+24]\n",
      "\n",
      "Curve.fi Factory Plain Pool: crvUSD/USDC\n",
      "Normalized balances before trade: [2.7044522594701e+25, 1.1622544446479758e+25]\n",
      "\n",
      "Curve.fi Factory Plain Pool: crvUSD/USDT\n",
      "Normalized balances before trade: [2.4582171622217e+25, 1.0422506506983606e+25]\n",
      "\n"
     ]
    }
   ],
   "source": [
    "for pk in pks:\n",
    "    spool = pk.POOL\n",
    "    print(spool.name)\n",
    "\n",
    "    normalized_balances = [b * r / 1e18 for b, r in zip(spool.balances, spool.rates)]\n",
    "    print(f\"Normalized balances before trade: {normalized_balances}\")\n",
    "    print()"
   ]
  },
  {
   "cell_type": "code",
   "execution_count": 10,
   "metadata": {},
   "outputs": [
    {
     "data": {
      "text/plain": [
       "{'address': '0xa920de414ea4ab66b97da1bfe9e6eca7d4219635',\n",
       " 'liquidation_discount': '0.06',\n",
       " 'loan_discount': '0.09',\n",
       " 'rate': '0.1488105338145901001357639503573224',\n",
       " 'minted': '1190864825.997993509049775384',\n",
       " 'redeemed': '1168085785.240306774993871077',\n",
       " 'future_rate': '0.144414516973859528894954455068666',\n",
       " 'n_loans': '250'}"
      ]
     },
     "execution_count": 10,
     "metadata": {},
     "output_type": "execute_result"
    }
   ],
   "source": [
    "scenario.llamma.metadata[\"controller_params\"]"
   ]
  },
  {
   "cell_type": "code",
   "execution_count": 11,
   "metadata": {},
   "outputs": [
    {
     "name": "stdout",
     "output_type": "stream",
     "text": [
      "New Aggregator Price: 1.002234942693108\n"
     ]
    }
   ],
   "source": [
    "# Increment timestamps to update aggregator price\n",
    "# AND pk timestamps\n",
    "increment_timestamps(aggregator, pks)"
   ]
  },
  {
   "cell_type": "code",
   "execution_count": 12,
   "metadata": {},
   "outputs": [
    {
     "name": "stderr",
     "output_type": "stream",
     "text": [
      "[INFO][16:44:30][root]-761840: Updating crvUSD/TUSD Peg Keeper with profit 35.\n",
      "[INFO][16:44:30][root]-761840: Updating crvUSD/USDP Peg Keeper with profit 113.\n",
      "[INFO][16:44:30][root]-761840: Updating crvUSD/USDC Peg Keeper with profit 736.\n",
      "[INFO][16:44:30][root]-761840: Updating crvUSD/USDT Peg Keeper with profit 1322.\n"
     ]
    },
    {
     "name": "stdout",
     "output_type": "stream",
     "text": [
      "Profit: 1321.8637026295173, Count: 4\n"
     ]
    }
   ],
   "source": [
    "# We can update again! Recall that the PK can only\n",
    "# deposit/withdraw 20% of the pool's imbalance at a time.\n",
    "profit, count = keeper.update(pks)\n",
    "print(f\"Profit: {profit / 1e18}, Count: {count}\")"
   ]
  },
  {
   "cell_type": "code",
   "execution_count": 13,
   "metadata": {},
   "outputs": [
    {
     "name": "stdout",
     "output_type": "stream",
     "text": [
      "New Aggregator Price: 1.0013994123408458\n"
     ]
    }
   ],
   "source": [
    "# Increment timestamps to update aggregator price\n",
    "# AND pk timestamps\n",
    "increment_timestamps(aggregator, pks)"
   ]
  }
 ],
 "metadata": {
  "kernelspec": {
   "display_name": "venv",
   "language": "python",
   "name": "python3"
  },
  "language_info": {
   "codemirror_mode": {
    "name": "ipython",
    "version": 3
   },
   "file_extension": ".py",
   "mimetype": "text/x-python",
   "name": "python",
   "nbconvert_exporter": "python",
   "pygments_lexer": "ipython3",
   "version": "3.11.3"
  }
 },
 "nbformat": 4,
 "nbformat_minor": 2
}
