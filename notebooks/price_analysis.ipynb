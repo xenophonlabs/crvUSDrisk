{
 "cells": [
  {
   "cell_type": "code",
   "execution_count": 43,
   "metadata": {},
   "outputs": [],
   "source": [
    "# Empirical slippage analysis\n",
    "import csv\n",
    "import pandas as pd\n",
    "import plotly.express as px\n",
    "import matplotlib.pyplot as plt\n",
    "import numpy as np\n",
    "\n",
    "def load_eth_price_data():\n",
    "    with open(\"../data/weth_usdc_005_tier_trades.csv\",\"r\") as infile:\n",
    "        data = pd.read_csv(infile)\n",
    "\n",
    "    with open(\"../data/weth_usdc_005_tier_trades2.csv\",\"r\") as infile:\n",
    "        data2 = pd.read_csv(infile)\n",
    "\n",
    "    data3 = pd.concat([data,data2]).drop_duplicates()\n",
    "    data3[\"WETH\"]=data3[\"amount1\"].apply(lambda x: int(x) / 1e18)\n",
    "    data3[\"USDC\"]=data3[\"amount0\"].apply(lambda x: int(x)/1e6)\n",
    "    data3[\"price_implied\"] = data3[\"price_implied\"]/1e18\n",
    "    data3[\"price_actual\"] = data3[\"price_actual\"]/1e18\n",
    "    data3[\"price_impact\"]=abs(data3[\"price_implied\"]-data3[\"price_actual\"])/data3[\"price_implied\"]\n",
    "    data3[\"evt_block_time\"] = pd.to_datetime(data3['evt_block_time'], utc=True)\n",
    "    data3[\"hourly_blocktime\"] = data3[\"evt_block_time\"].dt.floor(\"H\")\n",
    "    data3[\"daily_blocktime\"] = data3[\"evt_block_time\"].dt.floor(\"D\")\n",
    "    data3['unix_timestamp'] = data3['evt_block_time'].astype(int) // 10**9\n",
    "    data3.sort_values(by=\"unix_timestamp\", axis=0, ascending=True, inplace=True, kind='quicksort', na_position='last')\n",
    "    data3[\"hourly_timestamp\"] = data3[\"hourly_blocktime\"].astype(int) // 10**9\n",
    "    data3[\"daily_timestamp\"] = data3[\"daily_blocktime\"].astype(int) // 10**9\n",
    "    return(data3)"
   ]
  },
  {
   "cell_type": "code",
   "execution_count": null,
   "metadata": {},
   "outputs": [],
   "source": [
    "df = load_eth_price_data()\n",
    "\n",
    "daily_price_data = df.groupby(\"daily_timestamp\").agg({\"price_actual\": [\"min\",\"max\",\"mean\",\n",
    "    (\"first\", lambda x: x.iloc[0]),(\"last\", lambda x: x.iloc[-1])]})\n",
    "daily_price_data[\"drops\"]=(daily_price_data[\"price_actual\"][\"max\"]-daily_price_data[\"price_actual\"][\"min\"])/daily_price_data[\"price_actual\"][\"first\"]\n",
    "daily_price_data[\"drops_bin\"] = (daily_price_data[\"drops\"]*1000).astype(int)/1000\n",
    "\n",
    "counts,bin_edges = np.histogram(daily_price_data[\"drops\"],bins=100)\n",
    "hist_daily_df = pd.DataFrame({\"Bin_Left_Edge\":bin_edges[:-1],\"Bin_Reft_Edge\":bin_edges[1:],\"Count\":counts})\n",
    "\n",
    "hourly_price_data = df.groupby(\"hourly_timestamp\").agg({\"price_actual\": [\"min\",\"max\",\"mean\",\n",
    "    (\"first\", lambda x: x.iloc[0]),(\"last\", lambda x: x.iloc[-1])]})\n",
    "hourly_price_data[\"drops\"]=(hourly_price_data[\"price_actual\"][\"max\"]-hourly_price_data[\"price_actual\"][\"min\"])/hourly_price_data[\"price_actual\"][\"first\"]\n",
    "hourly_price_data[\"drops_bin\"] = (hourly_price_data[\"drops\"]*1000).astype(int)/1000\n",
    "\n",
    "counts,bin_edges = np.histogram(hourly_price_data[\"drops\"],bins=100)\n",
    "hist_hourly_df = pd.DataFrame({\"Bin_Left_Edge\":bin_edges[:-1],\"Bin_Reft_Edge\":bin_edges[1:],\"Count\":counts})\n",
    "\n",
    "print(hist_daily_df,hist_daily_df[\"Count\"].sum())\n",
    "fig = px.scatter(x=daily_price_data.index, y=daily_price_data[\"drops_bin\"], title=\"Daily Price Range\")\n",
    "fig.show()\n",
    "plt.hist(daily_price_data[\"drops\"],bins=10)\n",
    "plt.show()\n",
    "\n",
    "print(hist_hourly_df,hist_hourly_df[\"Count\"].sum())\n",
    "plt.hist(hourly_price_data[\"drops\"],bins=10)\n",
    "plt.show()\n",
    "fig = px.scatter(x=hourly_price_data.index, y=hourly_price_data[\"drops_bin\"], title=\"Hourly Price Range\")\n",
    "fig.show()\n"
   ]
  }
 ],
 "metadata": {
  "kernelspec": {
   "display_name": "Python 3",
   "language": "python",
   "name": "python3"
  },
  "language_info": {
   "codemirror_mode": {
    "name": "ipython",
    "version": 3
   },
   "file_extension": ".py",
   "mimetype": "text/x-python",
   "name": "python",
   "nbconvert_exporter": "python",
   "pygments_lexer": "ipython3",
   "version": "3.11.6"
  },
  "orig_nbformat": 4
 },
 "nbformat": 4,
 "nbformat_minor": 2
}
