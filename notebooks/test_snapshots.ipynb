{
 "cells": [
  {
   "cell_type": "code",
   "execution_count": 1,
   "metadata": {},
   "outputs": [],
   "source": [
    "from crvusdsim.pool import get\n",
    "\n",
    "ETH_POOL = \"weth\"\n",
    "sim_market = get(ETH_POOL, bands_data=\"controller\")\n",
    "pool = sim_market.pool\n",
    "stableswap_pools = sim_market.stableswap_pools"
   ]
  },
  {
   "cell_type": "code",
   "execution_count": 2,
   "metadata": {},
   "outputs": [
    {
     "name": "stdout",
     "output_type": "stream",
     "text": [
      "Pre Trade\n",
      "Balances (1343680871414493832282112, 14456000806805394703476)\n",
      "High 39685409476929496574424390\n",
      "Stablecoin 1343680871414493832282112\n",
      "Collateral 14456000806805394703476\n",
      "\n",
      "Amount in 39685409476929496574424390\n",
      "Amount out 11515479576562433339391\n",
      "\n",
      "Post Trade\n",
      "Balances (41029090348343990406468413, 2940521230242961364085)\n",
      "Stablecoin 41029090348343990406706502\n",
      "Collateral 2940521230242961364085\n",
      "\n",
      "After reversing snapshot context\n",
      "Balances (1343680871414493832282112, 14456000806805394703476)\n",
      "Stablecoin 1343680871414493832282112\n",
      "Collateral 14456000806805394703476\n"
     ]
    }
   ],
   "source": [
    "# Verify snapshot context works on LLAMMA pools\n",
    "i, j = 0, 1\n",
    "high = pool.get_max_trade_size(i, j)\n",
    "\n",
    "prev_bals = (sum(pool.bands_x.values()), sum(pool.bands_y.values()))\n",
    "\n",
    "print(\"Pre Trade\")\n",
    "print(\"Balances\", prev_bals)\n",
    "print(\"High\", high)\n",
    "print(\"Stablecoin\", pool.BORROWED_TOKEN.balanceOf[pool.address])\n",
    "print(\"Collateral\", pool.COLLATERAL_TOKEN.balanceOf[pool.address])\n",
    "print()\n",
    "\n",
    "with pool.use_snapshot_context():\n",
    "    amt_in, amt_out, _ = pool.trade(i, j, high)\n",
    "    swap_bals = (sum(pool.bands_x.values()), sum(pool.bands_y.values()))\n",
    "    print(\"Amount in\", high)\n",
    "    print(\"Amount out\", amt_out)\n",
    "    print()\n",
    "    print(\"Post Trade\")\n",
    "    print(\"Balances\", swap_bals)\n",
    "    print(\"Stablecoin\", pool.BORROWED_TOKEN.balanceOf[pool.address])\n",
    "    print(\"Collateral\", pool.COLLATERAL_TOKEN.balanceOf[pool.address])\n",
    "    print()\n",
    "\n",
    "new_bals = (sum(pool.bands_x.values()), sum(pool.bands_y.values()))\n",
    "print(\"After reversing snapshot context\")\n",
    "print(\"Balances\", new_bals)\n",
    "print(\"Stablecoin\", pool.BORROWED_TOKEN.balanceOf[pool.address])\n",
    "print(\"Collateral\", pool.COLLATERAL_TOKEN.balanceOf[pool.address])\n",
    "\n",
    "assert prev_bals == new_bals, (prev_bals, new_bals)\n",
    "assert swap_bals != new_bals"
   ]
  },
  {
   "cell_type": "code",
   "execution_count": 3,
   "metadata": {},
   "outputs": [
    {
     "name": "stdout",
     "output_type": "stream",
     "text": [
      "Pre Trade\n",
      "Balances [17626578665113, 19319573233956232808061670]\n",
      "High 19266994687812898330266888\n",
      "Allowance 17626578665113\n",
      "\n",
      "Post Trade\n",
      "Amount out (19266994687812898330266888, 17448567847174, 1745031287846187000545)\n",
      "Balances [177138302296, 38586567921769131138328558]\n",
      "Allowance 178010817939\n",
      "\n",
      "After reversing snapshot context\n",
      "Balances [17626578665113, 19319573233956232808061670]\n",
      "Allowance 17626578665113\n"
     ]
    }
   ],
   "source": [
    "# Verify snapshot context works on StableSwap pools from crvusdsim\n",
    "i, j = 1, 0\n",
    "\n",
    "stableswap_pool = stableswap_pools[2]\n",
    "high = stableswap_pool.get_max_trade_size(i, j)\n",
    "prev_bals = stableswap_pool.balances.copy()\n",
    "\n",
    "print(\"Pre Trade\")\n",
    "print(\"Balances\", prev_bals)\n",
    "print(\"High\", high)\n",
    "print(\"Allowance\", stableswap_pool.coins[0].balanceOf[stableswap_pool.address])\n",
    "print()\n",
    "\n",
    "with stableswap_pool.use_snapshot_context():\n",
    "    amt_out = stableswap_pool.trade(i, j, high)\n",
    "    swap_bals = stableswap_pool.balances.copy()\n",
    "    print(\"Post Trade\")\n",
    "    print(\"Amount out\", amt_out)\n",
    "    print(\"Balances\", swap_bals)\n",
    "    print(\"Allowance\", stableswap_pool.coins[0].balanceOf[stableswap_pool.address])\n",
    "    print()\n",
    "\n",
    "new_bals = stableswap_pool.balances.copy()\n",
    "print(\"After reversing snapshot context\")\n",
    "print(\"Balances\", new_bals)\n",
    "print(\"Allowance\", stableswap_pool.coins[0].balanceOf[stableswap_pool.address])\n",
    "\n",
    "assert prev_bals == new_bals, (prev_bals, new_bals)\n",
    "assert swap_bals != new_bals"
   ]
  },
  {
   "cell_type": "code",
   "execution_count": null,
   "metadata": {},
   "outputs": [],
   "source": []
  }
 ],
 "metadata": {
  "kernelspec": {
   "display_name": "venv",
   "language": "python",
   "name": "python3"
  },
  "language_info": {
   "codemirror_mode": {
    "name": "ipython",
    "version": 3
   },
   "file_extension": ".py",
   "mimetype": "text/x-python",
   "name": "python",
   "nbconvert_exporter": "python",
   "pygments_lexer": "ipython3",
   "version": "3.11.6"
  }
 },
 "nbformat": 4,
 "nbformat_minor": 2
}
