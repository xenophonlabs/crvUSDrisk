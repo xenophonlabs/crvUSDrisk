{
 "cells": [
  {
   "cell_type": "code",
   "execution_count": 1,
   "metadata": {},
   "outputs": [],
   "source": [
    "from crvusdsim.pool import get\n",
    "\n",
    "ETH_POOL = \"weth\"\n",
    "sim_market = get(ETH_POOL, bands_data=\"controller\")\n",
    "pool = sim_market.pool\n",
    "stableswap_pools = sim_market.stableswap_pools"
   ]
  },
  {
   "cell_type": "code",
   "execution_count": 2,
   "metadata": {},
   "outputs": [
    {
     "name": "stdout",
     "output_type": "stream",
     "text": [
      "Pre Trade\n",
      "Balances (0, 15971445880068407183360)\n",
      "High 40119568578427971526152911\n",
      "Stablecoin 0\n",
      "Collateral 15971445880068407183360\n",
      "\n",
      "Amount in 40119568578427971526152911\n",
      "Amount out 12702926360139514396671\n",
      "\n",
      "Post Trade\n",
      "Balances (40119568578427971525912220, 3268519519928892786689)\n",
      "Stablecoin 40119568578427971526152911\n",
      "Collateral 3268519519928892786689\n",
      "\n",
      "After reversing snapshot context\n",
      "Balances (0, 15971445880068407183360)\n",
      "Stablecoin 0\n",
      "Collateral 15971445880068407183360\n"
     ]
    }
   ],
   "source": [
    "# Verify snapshot context works on LLAMMA pools\n",
    "i, j = 0, 1\n",
    "high = pool.get_max_trade_size(i, j)\n",
    "\n",
    "prev_bals = (sum(pool.bands_x.values()), sum(pool.bands_y.values()))\n",
    "\n",
    "print(\"Pre Trade\")\n",
    "print(\"Balances\", prev_bals)\n",
    "print(\"High\", high)\n",
    "print(\"Stablecoin\", pool.BORROWED_TOKEN.balanceOf[pool.address])\n",
    "print(\"Collateral\", pool.COLLATERAL_TOKEN.balanceOf[pool.address])\n",
    "print()\n",
    "\n",
    "with pool.use_snapshot_context():\n",
    "    amt_in, amt_out, _ = pool.trade(i, j, high)\n",
    "    swap_bals = (sum(pool.bands_x.values()), sum(pool.bands_y.values()))\n",
    "    print(\"Amount in\", high)\n",
    "    print(\"Amount out\", amt_out)\n",
    "    print()\n",
    "    print(\"Post Trade\")\n",
    "    print(\"Balances\", swap_bals)\n",
    "    print(\"Stablecoin\", pool.BORROWED_TOKEN.balanceOf[pool.address])\n",
    "    print(\"Collateral\", pool.COLLATERAL_TOKEN.balanceOf[pool.address])\n",
    "    print()\n",
    "\n",
    "new_bals = (sum(pool.bands_x.values()), sum(pool.bands_y.values()))\n",
    "print(\"After reversing snapshot context\")\n",
    "print(\"Balances\", new_bals)\n",
    "print(\"Stablecoin\", pool.BORROWED_TOKEN.balanceOf[pool.address])\n",
    "print(\"Collateral\", pool.COLLATERAL_TOKEN.balanceOf[pool.address])\n",
    "\n",
    "assert prev_bals == new_bals, (prev_bals, new_bals)\n",
    "assert swap_bals != new_bals"
   ]
  },
  {
   "cell_type": "code",
   "execution_count": 3,
   "metadata": {},
   "outputs": [
    {
     "name": "stdout",
     "output_type": "stream",
     "text": [
      "Pre Trade\n",
      "Balances [10008658850325, 25873939907962300163632541]\n",
      "High 12842547157360454826337406\n",
      "Allowance 10008658850325\n",
      "\n",
      "Post Trade\n",
      "Amount out (12842547157360454826337406, 9907581404595, 990857226182175000850)\n",
      "Balances [100582017117, 38716487065322754989969947]\n",
      "Allowance 101077445730\n",
      "\n",
      "After reversing snapshot context\n",
      "Balances [10008658850325, 25873939907962300163632541]\n",
      "Allowance 10008658850325\n"
     ]
    }
   ],
   "source": [
    "# Verify snapshot context works on StableSwap pools from crvusdsim\n",
    "i, j = 1, 0\n",
    "\n",
    "stableswap_pool = stableswap_pools[2]\n",
    "high = stableswap_pool.get_max_trade_size(i, j)\n",
    "prev_bals = stableswap_pool.balances.copy()\n",
    "\n",
    "print(\"Pre Trade\")\n",
    "print(\"Balances\", prev_bals)\n",
    "print(\"High\", high)\n",
    "print(\"Allowance\", stableswap_pool.coins[0].balanceOf[stableswap_pool.address])\n",
    "print()\n",
    "\n",
    "with stableswap_pool.use_snapshot_context():\n",
    "    amt_out = stableswap_pool.trade(i, j, high)\n",
    "    swap_bals = stableswap_pool.balances.copy()\n",
    "    print(\"Post Trade\")\n",
    "    print(\"Amount out\", amt_out)\n",
    "    print(\"Balances\", swap_bals)\n",
    "    print(\"Allowance\", stableswap_pool.coins[0].balanceOf[stableswap_pool.address])\n",
    "    print()\n",
    "\n",
    "new_bals = stableswap_pool.balances.copy()\n",
    "print(\"After reversing snapshot context\")\n",
    "print(\"Balances\", new_bals)\n",
    "print(\"Allowance\", stableswap_pool.coins[0].balanceOf[stableswap_pool.address])\n",
    "\n",
    "assert prev_bals == new_bals, (prev_bals, new_bals)\n",
    "assert swap_bals != new_bals"
   ]
  },
  {
   "cell_type": "code",
   "execution_count": null,
   "metadata": {},
   "outputs": [],
   "source": []
  }
 ],
 "metadata": {
  "kernelspec": {
   "display_name": "venv",
   "language": "python",
   "name": "python3"
  },
  "language_info": {
   "codemirror_mode": {
    "name": "ipython",
    "version": 3
   },
   "file_extension": ".py",
   "mimetype": "text/x-python",
   "name": "python",
   "nbconvert_exporter": "python",
   "pygments_lexer": "ipython3",
   "version": "3.11.3"
  }
 },
 "nbformat": 4,
 "nbformat_minor": 2
}
