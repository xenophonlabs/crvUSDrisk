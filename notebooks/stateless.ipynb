{
 "cells": [
  {
   "cell_type": "code",
   "execution_count": 13,
   "metadata": {},
   "outputs": [],
   "source": [
    "from copy import deepcopy\n",
    "from src.sim import Scenario\n",
    "from src.trades import Swap\n",
    "import cProfile\n",
    "import pstats"
   ]
  },
  {
   "cell_type": "code",
   "execution_count": 2,
   "metadata": {},
   "outputs": [
    {
     "name": "stderr",
     "output_type": "stream",
     "text": [
      "[INFO][22:55:35][src.sim.scenario]-44298: Fetching sim_market from subgraph.\n",
      "[INFO][22:55:45][src.sim.scenario]-44298: Using 48800 1Inch quotes from 2023-12-07 21:55:42.199184 to 2023-12-14 21:55:42.199184\n",
      "[INFO][22:55:45][src.utils.poolgraph]-44298: Found 20 valid cycles of length 3.\n"
     ]
    }
   ],
   "source": [
    "scenario = Scenario(\"baseline\", \"weth\")\n",
    "sample = scenario.pricepaths[0]\n",
    "scenario.prepare_for_run()\n",
    "scenario.prepare_for_trades(sample)"
   ]
  },
  {
   "cell_type": "code",
   "execution_count": 3,
   "metadata": {},
   "outputs": [],
   "source": [
    "llamma = scenario.llamma\n",
    "i = 0\n",
    "j = 1\n",
    "size = llamma.get_max_trade_size(i, j)\n",
    "\n",
    "swap = Swap(llamma, i, j, None)\n",
    "\n",
    "with llamma.use_snapshot_context():\n",
    "    _, out_snapshot, _ = llamma.trade(i, j, size)\n",
    "\n",
    "before = llamma.get_snapshot()\n",
    "out_stateless, _ = swap.execute(size, use_snapshot_context=True)\n",
    "after = llamma.get_snapshot()\n",
    "\n",
    "assert out_snapshot == out_stateless\n",
    "\n",
    "for (k_before, v_before), (k_after, v_after) in zip(\n",
    "    before.__dict__.items(), after.__dict__.items()\n",
    "):\n",
    "    assert k_before == k_after\n",
    "    if hasattr(v_before, \"__dict__\"):\n",
    "        assert v_before.__dict__ == v_after.__dict__"
   ]
  },
  {
   "cell_type": "code",
   "execution_count": 4,
   "metadata": {},
   "outputs": [],
   "source": [
    "spool = scenario.stableswap_pools[0]\n",
    "i = 0\n",
    "j = 1\n",
    "size = spool.get_max_trade_size(i, j)\n",
    "\n",
    "swap = Swap(spool, i, j, None)\n",
    "\n",
    "with spool.use_snapshot_context():\n",
    "    _, out_snapshot, _ = spool.trade(i, j, size)\n",
    "\n",
    "before = spool.get_snapshot()\n",
    "out_stateless, _ = swap.execute(size, use_snapshot_context=True)\n",
    "after = spool.get_snapshot()\n",
    "\n",
    "assert out_snapshot == out_stateless\n",
    "\n",
    "for (k_before, v_before), (k_after, v_after) in zip(\n",
    "    before.__dict__.items(), after.__dict__.items()\n",
    "):\n",
    "    assert k_before == k_after\n",
    "    if hasattr(v_before, \"__dict__\"):\n",
    "        assert v_before.__dict__ == v_after.__dict__"
   ]
  },
  {
   "cell_type": "code",
   "execution_count": 14,
   "metadata": {},
   "outputs": [],
   "source": [
    "pool = deepcopy(scenario.stableswap_pools[0])\n",
    "i = 0\n",
    "j = 1\n",
    "amt_in = pool.get_max_trade_size(i, j)\n",
    "\n",
    "swap = Swap(pool, i, j, None)\n",
    "\n",
    "amt_out_stateless, _ = swap.execute(amt_in, use_snapshot_context=True)\n",
    "\n",
    "swap.amt = amt_in\n",
    "amt_out_statefull, _ = swap.execute(amt_in, use_snapshot_context=False)\n",
    "\n",
    "assert amt_out_stateless == amt_out_statefull"
   ]
  },
  {
   "cell_type": "code",
   "execution_count": 15,
   "metadata": {},
   "outputs": [
    {
     "name": "stdout",
     "output_type": "stream",
     "text": [
      "         12 function calls in 0.000 seconds\n",
      "\n",
      "   Ordered by: cumulative time\n",
      "\n",
      "   ncalls  tottime  percall  cumtime  percall filename:lineno(function)\n",
      "        1    0.000    0.000    0.000    0.000 /Users/tncintra/Desktop/root/xenophon/clients/curve/crvUSDrisk/src/trades/trade.py:67(execute)\n",
      "        1    0.000    0.000    0.000    0.000 /Users/tncintra/Desktop/root/xenophon/clients/curve/crvUSDrisk/venv/lib/python3.11/site-packages/crvusdsim/pool/crvusd/stableswap.py:403(get_dy)\n",
      "        1    0.000    0.000    0.000    0.000 /Users/tncintra/Desktop/root/xenophon/clients/curve/crvUSDrisk/venv/lib/python3.11/site-packages/crvusdsim/pool/crvusd/stableswap.py:328(get_y)\n",
      "        1    0.000    0.000    0.000    0.000 /Users/tncintra/Desktop/root/xenophon/clients/curve/crvUSDrisk/venv/lib/python3.11/site-packages/crvusdsim/pool/crvusd/stableswap.py:176(get_D)\n",
      "        1    0.000    0.000    0.000    0.000 /opt/homebrew/Cellar/python@3.11/3.11.6_1/Frameworks/Python.framework/Versions/3.11/lib/python3.11/cProfile.py:118(__exit__)\n",
      "        1    0.000    0.000    0.000    0.000 /Users/tncintra/Desktop/root/xenophon/clients/curve/crvUSDrisk/src/trades/trade.py:63(get_decimals)\n",
      "        1    0.000    0.000    0.000    0.000 /Users/tncintra/Desktop/root/xenophon/clients/curve/crvUSDrisk/venv/lib/python3.11/site-packages/crvusdsim/pool/crvusd/stableswap.py:165(_xp_mem)\n",
      "        1    0.000    0.000    0.000    0.000 /Users/tncintra/Desktop/root/xenophon/clients/curve/crvUSDrisk/venv/lib/python3.11/site-packages/crvusdsim/pool/crvusd/stableswap.py:160(coin_decimals)\n",
      "        1    0.000    0.000    0.000    0.000 /Users/tncintra/Desktop/root/xenophon/clients/curve/crvUSDrisk/venv/lib/python3.11/site-packages/crvusdsim/pool/crvusd/stableswap.py:163(<listcomp>)\n",
      "        2    0.000    0.000    0.000    0.000 {built-in method builtins.isinstance}\n",
      "        1    0.000    0.000    0.000    0.000 {method 'disable' of '_lsprof.Profiler' objects}\n",
      "\n",
      "\n"
     ]
    }
   ],
   "source": [
    "with cProfile.Profile() as pr:\n",
    "    swap.execute(amt_in, use_snapshot_context=True)\n",
    "\n",
    "stats = pstats.Stats(pr)\n",
    "stats.sort_stats(pstats.SortKey.CUMULATIVE)\n",
    "stats.print_stats()\n",
    "stats.dump_stats(\"spool.prof\")"
   ]
  },
  {
   "cell_type": "code",
   "execution_count": 16,
   "metadata": {},
   "outputs": [],
   "source": [
    "pool = deepcopy(scenario.llamma)\n",
    "i = 0\n",
    "j = 1\n",
    "amt_in = pool.get_max_trade_size(i, j)\n",
    "\n",
    "swap = Swap(pool, i, j, None)\n",
    "\n",
    "amt_out_stateless, _ = swap.execute(amt_in, use_snapshot_context=True)\n",
    "\n",
    "swap.amt = amt_in\n",
    "amt_out_statefull, _ = swap.execute(amt_in, use_snapshot_context=False)\n",
    "\n",
    "assert amt_out_stateless == amt_out_statefull"
   ]
  },
  {
   "cell_type": "code",
   "execution_count": 17,
   "metadata": {},
   "outputs": [
    {
     "name": "stdout",
     "output_type": "stream",
     "text": [
      "         127 function calls in 0.000 seconds\n",
      "\n",
      "   Ordered by: cumulative time\n",
      "\n",
      "   ncalls  tottime  percall  cumtime  percall filename:lineno(function)\n",
      "        1    0.000    0.000    0.000    0.000 /Users/tncintra/Desktop/root/xenophon/clients/curve/crvUSDrisk/src/trades/trade.py:67(execute)\n",
      "        1    0.000    0.000    0.000    0.000 /Users/tncintra/Desktop/root/xenophon/clients/curve/crvUSDrisk/venv/lib/python3.11/site-packages/crvusdsim/pool/crvusd/LLAMMA.py:1385(get_dy)\n",
      "        1    0.000    0.000    0.000    0.000 /Users/tncintra/Desktop/root/xenophon/clients/curve/crvUSDrisk/venv/lib/python3.11/site-packages/crvusdsim/pool/crvusd/LLAMMA.py:1342(_get_dxdy)\n",
      "        1    0.000    0.000    0.000    0.000 /Users/tncintra/Desktop/root/xenophon/clients/curve/crvUSDrisk/venv/lib/python3.11/site-packages/crvusdsim/pool/crvusd/LLAMMA.py:1132(calc_swap_out)\n",
      "        5    0.000    0.000    0.000    0.000 /Users/tncintra/Desktop/root/xenophon/clients/curve/crvUSDrisk/venv/lib/python3.11/site-packages/crvusdsim/pool/crvusd/LLAMMA.py:478(_get_y0)\n",
      "        1    0.000    0.000    0.000    0.000 /Users/tncintra/Desktop/root/xenophon/clients/curve/crvUSDrisk/venv/lib/python3.11/site-packages/crvusdsim/pool/crvusd/LLAMMA.py:311(_price_oracle_ro)\n",
      "       55    0.000    0.000    0.000    0.000 /Users/tncintra/Desktop/root/xenophon/clients/curve/crvUSDrisk/venv/lib/python3.11/site-packages/crvusdsim/pool/crvusd/vyper_func/__init__.py:29(unsafe_div)\n",
      "        1    0.000    0.000    0.000    0.000 /Users/tncintra/Desktop/root/xenophon/clients/curve/crvUSDrisk/venv/lib/python3.11/site-packages/crvusdsim/pool/crvusd/LLAMMA.py:249(limit_p_o)\n",
      "        1    0.000    0.000    0.000    0.000 /Users/tncintra/Desktop/root/xenophon/clients/curve/crvUSDrisk/venv/lib/python3.11/site-packages/crvusdsim/pool/crvusd/LLAMMA.py:374(_p_oracle_up)\n",
      "        1    0.000    0.000    0.000    0.000 /Users/tncintra/Desktop/root/xenophon/clients/curve/crvUSDrisk/src/trades/trade.py:63(get_decimals)\n",
      "        1    0.000    0.000    0.000    0.000 /Users/tncintra/Desktop/root/xenophon/clients/curve/crvUSDrisk/venv/lib/python3.11/site-packages/crvusdsim/pool/crvusd/LLAMMA.py:355(_base_price)\n",
      "        1    0.000    0.000    0.000    0.000 {built-in method math.isqrt}\n",
      "        1    0.000    0.000    0.000    0.000 /Users/tncintra/Desktop/root/xenophon/clients/curve/crvUSDrisk/venv/lib/python3.11/site-packages/curvesim/pool/base.py:56(coin_decimals)\n",
      "        2    0.000    0.000    0.000    0.000 /Users/tncintra/Desktop/root/xenophon/clients/curve/crvUSDrisk/venv/lib/python3.11/site-packages/crvusdsim/pool/crvusd/LLAMMA.py:42(__init__)\n",
      "        1    0.000    0.000    0.000    0.000 /Users/tncintra/Desktop/root/xenophon/clients/curve/crvUSDrisk/venv/lib/python3.11/site-packages/crvusdsim/pool/crvusd/price_oracle/price_oracle.py:24(price)\n",
      "        1    0.000    0.000    0.000    0.000 /Users/tncintra/Desktop/root/xenophon/clients/curve/crvUSDrisk/venv/lib/python3.11/site-packages/crvusdsim/pool/crvusd/LLAMMA.py:333(_rate_mul)\n",
      "        1    0.000    0.000    0.000    0.000 /opt/homebrew/Cellar/python@3.11/3.11.6_1/Frameworks/Python.framework/Versions/3.11/lib/python3.11/cProfile.py:118(__exit__)\n",
      "        2    0.000    0.000    0.000    0.000 {built-in method builtins.isinstance}\n",
      "       11    0.000    0.000    0.000    0.000 /Users/tncintra/Desktop/root/xenophon/clients/curve/crvUSDrisk/venv/lib/python3.11/site-packages/crvusdsim/pool/crvusd/vyper_func/__init__.py:17(unsafe_add)\n",
      "        1    0.000    0.000    0.000    0.000 /Users/tncintra/Desktop/root/xenophon/clients/curve/crvUSDrisk/venv/lib/python3.11/site-packages/crvusdsim/pool/crvusd/vyper_func/__init__.py:34(pow_mod256)\n",
      "        8    0.000    0.000    0.000    0.000 /Users/tncintra/Desktop/root/xenophon/clients/curve/crvUSDrisk/venv/lib/python3.11/site-packages/crvusdsim/pool/crvusd/vyper_func/__init__.py:25(unsafe_mul)\n",
      "        6    0.000    0.000    0.000    0.000 {built-in method builtins.max}\n",
      "        1    0.000    0.000    0.000    0.000 /Users/tncintra/Desktop/root/xenophon/clients/curve/crvUSDrisk/venv/lib/python3.11/site-packages/crvusdsim/pool/crvusd/price_oracle/price_oracle.py:27(_price)\n",
      "        9    0.000    0.000    0.000    0.000 /Users/tncintra/Desktop/root/xenophon/clients/curve/crvUSDrisk/venv/lib/python3.11/site-packages/crvusdsim/pool/crvusd/vyper_func/__init__.py:21(unsafe_sub)\n",
      "       10    0.000    0.000    0.000    0.000 {method 'append' of 'list' objects}\n",
      "        1    0.000    0.000    0.000    0.000 {built-in method builtins.min}\n",
      "        1    0.000    0.000    0.000    0.000 {built-in method builtins.hasattr}\n",
      "        1    0.000    0.000    0.000    0.000 {method 'disable' of '_lsprof.Profiler' objects}\n",
      "\n",
      "\n"
     ]
    }
   ],
   "source": [
    "with cProfile.Profile() as pr:\n",
    "    swap.execute(amt_in, use_snapshot_context=True)\n",
    "\n",
    "stats = pstats.Stats(pr)\n",
    "stats.sort_stats(pstats.SortKey.CUMULATIVE)\n",
    "stats.print_stats()\n",
    "stats.dump_stats(\"llamma.prof\")"
   ]
  },
  {
   "cell_type": "code",
   "execution_count": 18,
   "metadata": {},
   "outputs": [],
   "source": [
    "pool = list(scenario.markets.values())[0]\n",
    "i = 0\n",
    "j = 1\n",
    "amt_in = pool.get_max_trade_size(i, j)\n",
    "\n",
    "swap = Swap(pool, i, j, None)\n",
    "\n",
    "amt_out_stateless, _ = swap.execute(amt_in, use_snapshot_context=True)\n",
    "\n",
    "swap.amt = amt_in\n",
    "amt_out_statefull, _ = swap.execute(amt_in, use_snapshot_context=False)\n",
    "\n",
    "assert amt_out_stateless == amt_out_statefull"
   ]
  },
  {
   "cell_type": "code",
   "execution_count": 19,
   "metadata": {},
   "outputs": [
    {
     "name": "stdout",
     "output_type": "stream",
     "text": [
      "         45 function calls in 0.000 seconds\n",
      "\n",
      "   Ordered by: cumulative time\n",
      "\n",
      "   ncalls  tottime  percall  cumtime  percall filename:lineno(function)\n",
      "        1    0.000    0.000    0.000    0.000 /Users/tncintra/Desktop/root/xenophon/clients/curve/crvUSDrisk/src/trades/trade.py:67(execute)\n",
      "        1    0.000    0.000    0.000    0.000 /Users/tncintra/Desktop/root/xenophon/clients/curve/crvUSDrisk/src/modules/market.py:122(trade)\n",
      "        1    0.000    0.000    0.000    0.000 /Users/tncintra/Desktop/root/xenophon/clients/curve/crvUSDrisk/src/modules/market.py:152(price_impact)\n",
      "        1    0.000    0.000    0.000    0.000 /Users/tncintra/Desktop/root/xenophon/clients/curve/crvUSDrisk/venv/lib/python3.11/site-packages/scipy/interpolate/_polyint.py:58(__call__)\n",
      "        1    0.000    0.000    0.000    0.000 /Users/tncintra/Desktop/root/xenophon/clients/curve/crvUSDrisk/venv/lib/python3.11/site-packages/scipy/interpolate/_interpolate.py:748(_evaluate)\n",
      "        1    0.000    0.000    0.000    0.000 /Users/tncintra/Desktop/root/xenophon/clients/curve/crvUSDrisk/venv/lib/python3.11/site-packages/scipy/interpolate/_polyint.py:89(_prepare_x)\n",
      "        1    0.000    0.000    0.000    0.000 /Users/tncintra/Desktop/root/xenophon/clients/curve/crvUSDrisk/venv/lib/python3.11/site-packages/numpy/core/fromnumeric.py:2100(clip)\n",
      "        1    0.000    0.000    0.000    0.000 /Users/tncintra/Desktop/root/xenophon/clients/curve/crvUSDrisk/venv/lib/python3.11/site-packages/scipy/_lib/_util.py:194(_asarray_validated)\n",
      "        1    0.000    0.000    0.000    0.000 /Users/tncintra/Desktop/root/xenophon/clients/curve/crvUSDrisk/venv/lib/python3.11/site-packages/scipy/interpolate/_interpolate.py:675(_call_linear_np)\n",
      "        1    0.000    0.000    0.000    0.000 /Users/tncintra/Desktop/root/xenophon/clients/curve/crvUSDrisk/venv/lib/python3.11/site-packages/numpy/core/fromnumeric.py:53(_wrapfunc)\n",
      "        1    0.000    0.000    0.000    0.000 {method 'clip' of 'numpy.ndarray' objects}\n",
      "        1    0.000    0.000    0.000    0.000 /Users/tncintra/Desktop/root/xenophon/clients/curve/crvUSDrisk/venv/lib/python3.11/site-packages/numpy/core/_methods.py:90(_clip)\n",
      "        1    0.000    0.000    0.000    0.000 /Users/tncintra/Desktop/root/xenophon/clients/curve/crvUSDrisk/venv/lib/python3.11/site-packages/numpy/lib/function_base.py:1461(interp)\n",
      "        1    0.000    0.000    0.000    0.000 /Users/tncintra/Desktop/root/xenophon/clients/curve/crvUSDrisk/venv/lib/python3.11/site-packages/scipy/interpolate/_interpolate.py:763(_check_bounds)\n",
      "        1    0.000    0.000    0.000    0.000 {method 'astype' of 'numpy.ndarray' objects}\n",
      "        1    0.000    0.000    0.000    0.000 {built-in method numpy.array}\n",
      "        1    0.000    0.000    0.000    0.000 /Users/tncintra/Desktop/root/xenophon/clients/curve/crvUSDrisk/venv/lib/python3.11/site-packages/numpy/core/numerictypes.py:357(issubdtype)\n",
      "        1    0.000    0.000    0.000    0.000 {built-in method numpy.core._multiarray_umath.interp}\n",
      "        2    0.000    0.000    0.000    0.000 /Users/tncintra/Desktop/root/xenophon/clients/curve/crvUSDrisk/venv/lib/python3.11/site-packages/numpy/core/numerictypes.py:283(issubclass_)\n",
      "        2    0.000    0.000    0.000    0.000 {method 'reshape' of 'numpy.ndarray' objects}\n",
      "        1    0.000    0.000    0.000    0.000 /Users/tncintra/Desktop/root/xenophon/clients/curve/crvUSDrisk/venv/lib/python3.11/site-packages/scipy/interpolate/_polyint.py:95(_finish_y)\n",
      "        1    0.000    0.000    0.000    0.000 /Users/tncintra/Desktop/root/xenophon/clients/curve/crvUSDrisk/venv/lib/python3.11/site-packages/numpy/lib/type_check.py:302(iscomplexobj)\n",
      "        1    0.000    0.000    0.000    0.000 /opt/homebrew/Cellar/python@3.11/3.11.6_1/Frameworks/Python.framework/Versions/3.11/lib/python3.11/cProfile.py:118(__exit__)\n",
      "        1    0.000    0.000    0.000    0.000 /Users/tncintra/Desktop/root/xenophon/clients/curve/crvUSDrisk/venv/lib/python3.11/site-packages/numpy/ma/core.py:6485(isMaskedArray)\n",
      "        1    0.000    0.000    0.000    0.000 /Users/tncintra/Desktop/root/xenophon/clients/curve/crvUSDrisk/venv/lib/python3.11/site-packages/scipy/sparse/_base.py:1461(issparse)\n",
      "        1    0.000    0.000    0.000    0.000 {method 'ravel' of 'numpy.ndarray' objects}\n",
      "        4    0.000    0.000    0.000    0.000 {built-in method builtins.issubclass}\n",
      "        3    0.000    0.000    0.000    0.000 {built-in method builtins.isinstance}\n",
      "        3    0.000    0.000    0.000    0.000 {built-in method numpy.asarray}\n",
      "        1    0.000    0.000    0.000    0.000 {built-in method builtins.getattr}\n",
      "        1    0.000    0.000    0.000    0.000 /Users/tncintra/Desktop/root/xenophon/clients/curve/crvUSDrisk/src/trades/trade.py:63(get_decimals)\n",
      "        1    0.000    0.000    0.000    0.000 {built-in method builtins.len}\n",
      "        1    0.000    0.000    0.000    0.000 {method 'disable' of '_lsprof.Profiler' objects}\n",
      "        1    0.000    0.000    0.000    0.000 /Users/tncintra/Desktop/root/xenophon/clients/curve/crvUSDrisk/venv/lib/python3.11/site-packages/numpy/core/fromnumeric.py:2096(_clip_dispatcher)\n",
      "        1    0.000    0.000    0.000    0.000 /Users/tncintra/Desktop/root/xenophon/clients/curve/crvUSDrisk/venv/lib/python3.11/site-packages/numpy/lib/type_check.py:205(_is_type_dispatcher)\n",
      "        1    0.000    0.000    0.000    0.000 /Users/tncintra/Desktop/root/xenophon/clients/curve/crvUSDrisk/venv/lib/python3.11/site-packages/numpy/lib/function_base.py:1457(_interp_dispatcher)\n",
      "\n",
      "\n"
     ]
    }
   ],
   "source": [
    "with cProfile.Profile() as pr:\n",
    "    swap.execute(amt_in, use_snapshot_context=True)\n",
    "\n",
    "stats = pstats.Stats(pr)\n",
    "stats.sort_stats(pstats.SortKey.CUMULATIVE)\n",
    "stats.print_stats()\n",
    "stats.dump_stats(\"market.prof\")"
   ]
  },
  {
   "cell_type": "code",
   "execution_count": null,
   "metadata": {},
   "outputs": [],
   "source": []
  }
 ],
 "metadata": {
  "kernelspec": {
   "display_name": "venv",
   "language": "python",
   "name": "python3"
  },
  "language_info": {
   "codemirror_mode": {
    "name": "ipython",
    "version": 3
   },
   "file_extension": ".py",
   "mimetype": "text/x-python",
   "name": "python",
   "nbconvert_exporter": "python",
   "pygments_lexer": "ipython3",
   "version": "3.11.6"
  }
 },
 "nbformat": 4,
 "nbformat_minor": 2
}
