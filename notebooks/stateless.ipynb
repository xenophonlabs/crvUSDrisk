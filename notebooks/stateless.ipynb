{
 "cells": [
  {
   "cell_type": "code",
   "execution_count": 1,
   "metadata": {},
   "outputs": [],
   "source": [
    "from copy import deepcopy\n",
    "from src.sim import Scenario\n",
    "from src.trades import Swap, Cycle\n",
    "from src.configs import TOKEN_DTOs\n",
    "from src.utils import get_crvusd_index\n",
    "from src.agents.arbitrageur import optimize_cycle"
   ]
  },
  {
   "cell_type": "code",
   "execution_count": 2,
   "metadata": {},
   "outputs": [
    {
     "name": "stderr",
     "output_type": "stream",
     "text": [
      "[INFO][16:53:17][src.sim.scenario]-75793: Fetching sim_market from subgraph.\n",
      "[INFO][16:53:41][src.sim.scenario]-75793: Using 168480 1Inch quotes from 2023-12-07 15:53:29.509202 to 2023-12-14 15:53:29.509202\n",
      "[INFO][16:53:41][src.utils.poolgraph]-75793: Found 20 valid cycles of length 3.\n"
     ]
    }
   ],
   "source": [
    "scenario = Scenario(\"baseline\", \"weth\")\n",
    "sample = scenario.pricepaths[0]\n",
    "scenario.prepare_for_run()\n",
    "scenario.prepare_for_trades(sample)"
   ]
  },
  {
   "cell_type": "code",
   "execution_count": 3,
   "metadata": {},
   "outputs": [],
   "source": [
    "llamma = scenario.llamma\n",
    "i = 0\n",
    "j = 1\n",
    "size = llamma.get_max_trade_size(i, j)\n",
    "\n",
    "swap = Swap(llamma, i, j, None)\n",
    "\n",
    "with llamma.use_snapshot_context():\n",
    "    _, out_snapshot, _ = llamma.trade(i, j, size)\n",
    "\n",
    "before = llamma.get_snapshot()\n",
    "out_stateless, _ = swap.execute(size, use_snapshot_context=True)\n",
    "after = llamma.get_snapshot()\n",
    "\n",
    "assert out_snapshot == out_stateless\n",
    "\n",
    "for (k_before, v_before), (k_after, v_after) in zip(\n",
    "    before.__dict__.items(), after.__dict__.items()\n",
    "):\n",
    "    assert k_before == k_after\n",
    "    if hasattr(v_before, \"__dict__\"):\n",
    "        assert v_before.__dict__ == v_after.__dict__"
   ]
  },
  {
   "cell_type": "code",
   "execution_count": 4,
   "metadata": {},
   "outputs": [],
   "source": [
    "spool = scenario.stableswap_pools[0]\n",
    "i = 0\n",
    "j = 1\n",
    "size = spool.get_max_trade_size(i, j)\n",
    "\n",
    "swap = Swap(spool, i, j, None)\n",
    "\n",
    "with spool.use_snapshot_context():\n",
    "    _, out_snapshot, _ = spool.trade(i, j, size)\n",
    "\n",
    "before = spool.get_snapshot()\n",
    "out_stateless, _ = swap.execute(size, use_snapshot_context=True)\n",
    "after = spool.get_snapshot()\n",
    "\n",
    "assert out_snapshot == out_stateless\n",
    "\n",
    "for (k_before, v_before), (k_after, v_after) in zip(\n",
    "    before.__dict__.items(), after.__dict__.items()\n",
    "):\n",
    "    assert k_before == k_after\n",
    "    if hasattr(v_before, \"__dict__\"):\n",
    "        assert v_before.__dict__ == v_after.__dict__"
   ]
  },
  {
   "cell_type": "code",
   "execution_count": 5,
   "metadata": {},
   "outputs": [],
   "source": [
    "pool = deepcopy(scenario.stableswap_pools[0])\n",
    "i = 0\n",
    "j = 1\n",
    "amt_in = pool.get_max_trade_size(i, j)\n",
    "\n",
    "swap = Swap(pool, i, j, None)\n",
    "\n",
    "amt_out_stateless, _ = swap.execute(amt_in, use_snapshot_context=True)\n",
    "\n",
    "swap.amt = amt_in\n",
    "amt_out_statefull, _ = swap.execute(amt_in, use_snapshot_context=False)\n",
    "\n",
    "assert amt_out_stateless == amt_out_statefull"
   ]
  },
  {
   "cell_type": "code",
   "execution_count": 6,
   "metadata": {},
   "outputs": [],
   "source": [
    "pool = deepcopy(scenario.llamma)\n",
    "i = 0\n",
    "j = 1\n",
    "amt_in = pool.get_max_trade_size(i, j)\n",
    "\n",
    "swap = Swap(pool, i, j, None)\n",
    "\n",
    "amt_out_stateless, _ = swap.execute(amt_in, use_snapshot_context=True)\n",
    "\n",
    "swap.amt = amt_in\n",
    "amt_out_statefull, _ = swap.execute(amt_in, use_snapshot_context=False)\n",
    "\n",
    "assert amt_out_stateless == amt_out_statefull"
   ]
  },
  {
   "cell_type": "code",
   "execution_count": 7,
   "metadata": {},
   "outputs": [],
   "source": [
    "llamma = deepcopy(scenario.llamma)\n",
    "spool = deepcopy(scenario.stableswap_pools[2])\n",
    "\n",
    "trade3_token_in = TOKEN_DTOs[spool.coin_addresses[0]]\n",
    "trade3_token_out = TOKEN_DTOs[llamma.COLLATERAL_TOKEN.address]\n",
    "key = tuple(sorted([trade3_token_in, trade3_token_out]))\n",
    "i3, j3 = key.index(trade3_token_in), key.index(trade3_token_out)\n",
    "market = scenario.markets[key]\n",
    "\n",
    "trade1 = Swap(llamma, 1, 0, None)  # weth -> crvusd\n",
    "trade2 = Swap(spool, 1, 0, None)  # crvusd -> stablecoin\n",
    "trade3 = Swap(market, i3, j3, None)\n",
    "\n",
    "cycle = Cycle([trade1, trade2, trade3])"
   ]
  },
  {
   "cell_type": "code",
   "execution_count": 8,
   "metadata": {},
   "outputs": [],
   "source": [
    "amt, profit = optimize_cycle(cycle, sample)\n",
    "profit_ = cycle.populate(amt) * sample.prices_usd[cycle.basis_address]\n",
    "assert profit == profit_"
   ]
  },
  {
   "cell_type": "code",
   "execution_count": 9,
   "metadata": {},
   "outputs": [],
   "source": [
    "# TODO Test execute"
   ]
  },
  {
   "cell_type": "code",
   "execution_count": null,
   "metadata": {},
   "outputs": [],
   "source": [
    "# TODO Test for liquidations too"
   ]
  }
 ],
 "metadata": {
  "kernelspec": {
   "display_name": "venv",
   "language": "python",
   "name": "python3"
  },
  "language_info": {
   "codemirror_mode": {
    "name": "ipython",
    "version": 3
   },
   "file_extension": ".py",
   "mimetype": "text/x-python",
   "name": "python",
   "nbconvert_exporter": "python",
   "pygments_lexer": "ipython3",
   "version": "3.11.6"
  }
 },
 "nbformat": 4,
 "nbformat_minor": 2
}
