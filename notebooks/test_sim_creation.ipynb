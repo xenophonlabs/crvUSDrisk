{
 "cells": [
  {
   "cell_type": "code",
   "execution_count": 1,
   "metadata": {},
   "outputs": [],
   "source": [
    "import numpy as np\n",
    "from copy import deepcopy\n",
    "from src.sim.scenario import Scenario\n",
    "from src.logging import get_logger\n",
    "\n",
    "logger = get_logger(__name__)\n",
    "\n",
    "%load_ext autoreload\n",
    "%autoreload 2"
   ]
  },
  {
   "cell_type": "code",
   "execution_count": 2,
   "metadata": {},
   "outputs": [
    {
     "name": "stderr",
     "output_type": "stream",
     "text": [
      "[INFO][17:05:29][src.sim.scenario]-62943: Fetching sim_market from subgraph.\n",
      "[INFO][17:05:35][src.sim.scenario]-62943: Market snapshot as 2023-12-26 16:26:11\n",
      "[INFO][17:05:35][src.sim.scenario]-62943: Bands snapshot as 2023-12-25 21:27:35\n",
      "[INFO][17:05:35][src.sim.scenario]-62943: Users snapshot as 2023-12-26 13:17:47\n",
      "[INFO][17:05:38][src.utils.poolgraph]-62943: Found 20 valid trading cycles of length 3.\n"
     ]
    },
    {
     "name": "stdout",
     "output_type": "stream",
     "text": [
      "Running 168 steps with frequency 1h.\n"
     ]
    }
   ],
   "source": [
    "# Generate markets and prices\n",
    "market_name = \"wbtc\"\n",
    "scenario = Scenario(\"baseline\", market_name)\n",
    "print(\n",
    "    f\"Running {scenario.num_steps} steps with frequency {scenario.pricepaths.config['freq']}.\"\n",
    ")"
   ]
  },
  {
   "cell_type": "code",
   "execution_count": 3,
   "metadata": {},
   "outputs": [],
   "source": [
    "METADATA = scenario.llamma.metadata\n",
    "\n",
    "\n",
    "def approx_equal(a, b, tol=1e-6):\n",
    "    \"\"\"Returns True if a and b are approximately equal.\"\"\"\n",
    "    if a == 0:\n",
    "        return b == 0\n",
    "    return abs(a - b) / a < tol\n",
    "\n",
    "\n",
    "def find_state(user):\n",
    "    for user_state in METADATA[\"userStates\"]:\n",
    "        if user_state[\"user\"][\"id\"] == user:\n",
    "            return user_state\n",
    "    return None\n",
    "\n",
    "\n",
    "llamma = scenario.llamma\n",
    "controller = scenario.controller"
   ]
  },
  {
   "cell_type": "code",
   "execution_count": 4,
   "metadata": {},
   "outputs": [
    {
     "name": "stderr",
     "output_type": "stream",
     "text": [
      "[INFO][17:05:38][__main__]-62943: Active band is -33\n"
     ]
    }
   ],
   "source": [
    "# Check bands were correctly initialized\n",
    "for band in llamma.metadata[\"bands\"]:\n",
    "    i = int(band[\"index\"])\n",
    "    x = llamma.bands_x[i] / 1e18\n",
    "    y = llamma.bands_y[i] / 1e18\n",
    "    assert approx_equal(float(band[\"stableCoin\"]), x), i\n",
    "    assert approx_equal(float(band[\"collateral\"]), y), i\n",
    "    assert approx_equal(\n",
    "        float(band[\"priceOracleUp\"]), llamma.p_oracle_up(i) / 1e18, tol=1e-3\n",
    "    ), i\n",
    "    assert approx_equal(\n",
    "        float(band[\"priceOracleDown\"]), llamma.p_oracle_down(i) / 1e18, tol=1e-3\n",
    "    ), i\n",
    "    if x > 0 and y > 0:\n",
    "        assert i == llamma.active_band\n",
    "        logger.info(\"Active band is %d\", i)"
   ]
  },
  {
   "cell_type": "code",
   "execution_count": 5,
   "metadata": {},
   "outputs": [
    {
     "name": "stderr",
     "output_type": "stream",
     "text": [
      "[INFO][17:05:38][__main__]-62943: 23 users were loaded underwater.\n"
     ]
    }
   ],
   "source": [
    "to_liquidate = controller.users_to_liquidate()\n",
    "users_to_liquidate = [user.user for user in to_liquidate]\n",
    "logger.info(\"%d users were loaded underwater.\", len(to_liquidate))"
   ]
  },
  {
   "cell_type": "code",
   "execution_count": 6,
   "metadata": {},
   "outputs": [
    {
     "name": "stderr",
     "output_type": "stream",
     "text": [
      "[INFO][17:05:38][__main__]-62943: 48 out of 259 user healths matched snapshot to 2dps.\n"
     ]
    }
   ],
   "source": [
    "# Compare loaded users to expected users\n",
    "good_users = 0\n",
    "for user_state in llamma.metadata[\"userStates\"]:\n",
    "    user = user_state[\"user\"][\"id\"]\n",
    "    assert controller.loan_exists(user)\n",
    "    loaded_state = controller.user_state(user)\n",
    "    collateral, stablecoin, debt, N = loaded_state\n",
    "    success = approx_equal(\n",
    "        float(user_state[\"health\"]), controller.health(user) / 1e18, tol=0.01\n",
    "    )\n",
    "    if float(user_state[\"health\"]) < 0:\n",
    "        assert controller.health(user) < 0\n",
    "        if controller.health(user, full=True) < 0:\n",
    "            assert user in users_to_liquidate\n",
    "    good_users += success\n",
    "\n",
    "logger.info(\n",
    "    \"%d out of %d user healths matched snapshot to 2dps.\",\n",
    "    good_users,\n",
    "    len(controller.loan),\n",
    ")"
   ]
  },
  {
   "cell_type": "code",
   "execution_count": 7,
   "metadata": {},
   "outputs": [],
   "source": [
    "# Test that user states were correctly loaded into LLAMMA\n",
    "for tick in range(llamma.min_band, llamma.max_band + 1):\n",
    "    total = 0\n",
    "    total_y = 0\n",
    "    total_x = 0\n",
    "    at_least_one_user = False\n",
    "    for user, shares in llamma.user_shares.items():\n",
    "        dep = float(find_state(user)[\"collateralUp\"]) * 1e18\n",
    "        assert approx_equal(sum(shares.ticks), dep, 0.01), (sum(shares.ticks), dep)\n",
    "        n1, n2 = shares.n1, shares.n2\n",
    "        if n1 <= tick <= n2:\n",
    "            i = tick - n1\n",
    "            total += shares.ticks[i]\n",
    "            xy = llamma._get_xy(user, False)\n",
    "            total_y += xy[1][i]\n",
    "            total_x += xy[0][i]\n",
    "            at_least_one_user = True\n",
    "    if at_least_one_user:\n",
    "        assert approx_equal(\n",
    "            llamma.bands_y[tick], total_y * llamma.COLLATERAL_PRECISION, 0.01\n",
    "        )  # rounding errors\n",
    "        assert approx_equal(llamma.bands_x[tick], total_x)\n",
    "        assert approx_equal(llamma.total_shares[tick], total)"
   ]
  },
  {
   "cell_type": "code",
   "execution_count": 8,
   "metadata": {},
   "outputs": [
    {
     "name": "stderr",
     "output_type": "stream",
     "text": [
      "[INFO][17:05:40][__main__]-62943: 23 users were loaded underwater.\n",
      "[INFO][17:05:40][__main__]-62943: Liquidating 0xec263efe3df2b0a5148df59b2551cf46ce8c763e: n1: -27, n2: -24, original health: 0.041001, debt: 125998.166012, lossPct: 0.000002\n",
      "[INFO][17:05:40][__main__]-62943: Liquidating 0xe3cf28f4c11b6ef4313e7c23df526f75bab0bc64: n1: -23, n2: -20, original health: 0.040781, debt: 25286.610226, lossPct: 3.408796\n",
      "[INFO][17:05:40][__main__]-62943: Liquidating 0xce1a34fccb14d13f8f6b6dcb0f3df2d140618c16: n1: -30, n2: -21, original health: 0.013698, debt: 120698.969825, lossPct: 2.336679\n",
      "[INFO][17:05:40][__main__]-62943: Liquidating 0xbb482f13749eccabdaa3f923e133c9abcbbdfab3: n1: -27, n2: -18, original health: 0.041755, debt: 34819.026542, lossPct: 2.764514\n",
      "[INFO][17:05:40][__main__]-62943: Liquidating 0xae5c67ceb16b4851f169ec1c65f405d7e6308b90: n1: -33, n2: -18, original health: 0.038092, debt: 300558.595163, lossPct: 0.742809\n",
      "[INFO][17:05:40][__main__]-62943: Liquidating 0xa05fe74fb4fbb6c0dfb213c8af532286f473e0c4: n1: -27, n2: -24, original health: 0.036117, debt: 34884.171266, lossPct: 3.877215\n",
      "[INFO][17:05:40][__main__]-62943: Liquidating 0x9f9fb5f0effd173591fab67348d5db77389f12cc: n1: -34, n2: -31, original health: 0.041180, debt: 4545.811098, lossPct: 8.313379\n",
      "[INFO][17:05:40][__main__]-62943: Liquidating 0x9b193f070757bb02cde3c1a8dad16994877796b2: n1: -30, n2: -21, original health: 0.035632, debt: 92957.467358, lossPct: 1.142620\n",
      "[INFO][17:05:40][__main__]-62943: Liquidating 0x8ebed85c2969f37d0c2f102fa5f54e9408bef894: n1: -25, n2: -22, original health: 0.043399, debt: 88705.431248, lossPct: 0.000001\n",
      "[INFO][17:05:40][__main__]-62943: Liquidating 0x84f8f8dcdcd68afc6659b54454b428721e95df2e: n1: 1, n2: 4, original health: 0.038750, debt: 25405.782699, lossPct: 2.158430\n",
      "[INFO][17:05:40][__main__]-62943: Liquidating 0x7e5fefc8df089ab6feda974355b72e7dffe4903d: n1: -27, n2: -24, original health: 0.043842, debt: 53274.701384, lossPct: 9.302989\n",
      "[INFO][17:05:40][__main__]-62943: Liquidating 0x6d85a91f060c8061035d62bc0146a607586b91ac: n1: -27, n2: -24, original health: 0.042005, debt: 86803.968112, lossPct: 5.939078\n",
      "[INFO][17:05:40][__main__]-62943: Liquidating 0x653aed4503e3a3f060c744fe85dc780ce549d3c3: n1: -33, n2: -30, original health: 0.033363, debt: 742704.992411, lossPct: 16.260312\n",
      "[INFO][17:05:40][__main__]-62943: Liquidating 0x5eae7cdc3a9f357b1ca1f4918db664a9e7cd5ff6: n1: -33, n2: -30, original health: 0.025976, debt: 71223.126208, lossPct: 8.893814\n",
      "[INFO][17:05:40][__main__]-62943: Liquidating 0x459227ac5bf0595183b6d4225efd44f03bd7c9fa: n1: -23, n2: -20, original health: 0.037374, debt: 143891.499772, lossPct: 0.000000\n",
      "[INFO][17:05:40][__main__]-62943: Liquidating 0x3f71c4780adb7167cc4a9c31b9abc145cb539b27: n1: -25, n2: -22, original health: 0.037669, debt: 179074.541845, lossPct: 4.199206\n",
      "[INFO][17:05:40][__main__]-62943: Liquidating 0x2cadfe3039f8e7d95cb142bd54e4a54ff3f5eef5: n1: -23, n2: -20, original health: 0.032990, debt: 11665.978733, lossPct: 0.000000\n",
      "[INFO][17:05:40][__main__]-62943: Liquidating 0x1ded90d853ce0de60450357d22ea5ca5c4411224: n1: -23, n2: -20, original health: 0.042874, debt: 16965.615267, lossPct: 43.997085\n",
      "[INFO][17:05:40][__main__]-62943: Liquidating 0x198459dbe4d59af296082e6d506633519e5dcd0b: n1: -24, n2: -21, original health: 0.043273, debt: 22624.374661, lossPct: 51.692376\n",
      "[INFO][17:05:40][__main__]-62943: Liquidating 0x16fa6b8fcc2d5f459600713cf961e349067a278c: n1: -33, n2: -30, original health: 0.032202, debt: 163723.972524, lossPct: 16.821606\n",
      "[INFO][17:05:40][__main__]-62943: Liquidating 0x156b4a5d4240d4f4c9937f96ea5fc2d318f28d96: n1: -33, n2: -30, original health: 0.037181, debt: 168375.277065, lossPct: 16.475662\n",
      "[INFO][17:05:40][__main__]-62943: Liquidating 0x101627601427770aed741f90dc160689d583f8fa: n1: -25, n2: -22, original health: 0.043028, debt: 17747.387645, lossPct: 12.752306\n",
      "[INFO][17:05:40][__main__]-62943: Liquidating 0x00edcd653d9c6f0296557273027e4b2320e044d4: n1: -25, n2: -16, original health: 0.040699, debt: 464646.763778, lossPct: 0.000000\n",
      "[INFO][17:05:40][__main__]-62943: 9.32% of debt was incorrectly loaded with sub-zero health (2996582 crvUSD)\n"
     ]
    }
   ],
   "source": [
    "# ts = scenario.price_oracle._block_timestamp + 60*60\n",
    "# sample = 1_000_000\n",
    "# _p = int(\n",
    "#     sample\n",
    "#     * 10**18\n",
    "# )\n",
    "# scenario.price_oracle.set_price(_p)\n",
    "# scenario._increment_timestamp(ts)\n",
    "# scenario.llamma._price_oracle_w()\n",
    "\n",
    "to_liquidate = controller.users_to_liquidate()\n",
    "users_to_liquidate = [user.user for user in to_liquidate]\n",
    "logger.info(\"%d users were loaded underwater.\", len(to_liquidate))\n",
    "\n",
    "# Test that only a small portion of debt is liquidatable at start\n",
    "damage = 0\n",
    "for pos in to_liquidate:\n",
    "    damage += pos.debt\n",
    "    state = find_state(pos.user)\n",
    "    logger.info(\n",
    "        \"Liquidating %s: n1: %d, n2: %d, original health: %f, debt: %f, lossPct: %f\",\n",
    "        pos.user,\n",
    "        int(state[\"n1\"]),\n",
    "        int(state[\"n2\"]),\n",
    "        float(state[\"health\"]),\n",
    "        float(state[\"debt\"]),\n",
    "        float(state[\"lossPct\"]),\n",
    "    )\n",
    "logger.info(\n",
    "    \"%.2f%% of debt was incorrectly loaded with sub-zero health (%d crvUSD)\",\n",
    "    round(damage / controller.total_debt() * 100, 2),\n",
    "    damage / 1e18,\n",
    ")"
   ]
  },
  {
   "cell_type": "code",
   "execution_count": 14,
   "metadata": {},
   "outputs": [
    {
     "name": "stderr",
     "output_type": "stream",
     "text": [
      "[INFO][17:10:25][__main__]-62943: 14 users were loaded underwater.\n",
      "[INFO][17:10:25][__main__]-62943: Liquidating 0xe3cf28f4c11b6ef4313e7c23df526f75bab0bc64: n1: -23, n2: -20, original health: 0.040781, debt: 25286.610226, lossPct: 3.408796\n",
      "[INFO][17:10:25][__main__]-62943: Liquidating 0xce1a34fccb14d13f8f6b6dcb0f3df2d140618c16: n1: -30, n2: -21, original health: 0.013698, debt: 120698.969825, lossPct: 2.336679\n",
      "[INFO][17:10:25][__main__]-62943: Liquidating 0xbb482f13749eccabdaa3f923e133c9abcbbdfab3: n1: -27, n2: -18, original health: 0.041755, debt: 34819.026542, lossPct: 2.764514\n",
      "[INFO][17:10:25][__main__]-62943: Liquidating 0xae5c67ceb16b4851f169ec1c65f405d7e6308b90: n1: -33, n2: -18, original health: 0.038092, debt: 300558.595163, lossPct: 0.742809\n",
      "[INFO][17:10:25][__main__]-62943: Liquidating 0xa05fe74fb4fbb6c0dfb213c8af532286f473e0c4: n1: -27, n2: -24, original health: 0.036117, debt: 34884.171266, lossPct: 3.877215\n",
      "[INFO][17:10:25][__main__]-62943: Liquidating 0x9b193f070757bb02cde3c1a8dad16994877796b2: n1: -30, n2: -21, original health: 0.035632, debt: 92957.467358, lossPct: 1.142620\n",
      "[INFO][17:10:25][__main__]-62943: Liquidating 0x8ebed85c2969f37d0c2f102fa5f54e9408bef894: n1: -25, n2: -22, original health: 0.043399, debt: 88705.431248, lossPct: 0.000001\n",
      "[INFO][17:10:25][__main__]-62943: Liquidating 0x84f8f8dcdcd68afc6659b54454b428721e95df2e: n1: 1, n2: 4, original health: 0.038750, debt: 25405.782699, lossPct: 2.158430\n",
      "[INFO][17:10:25][__main__]-62943: Liquidating 0x459227ac5bf0595183b6d4225efd44f03bd7c9fa: n1: -23, n2: -20, original health: 0.037374, debt: 143891.499772, lossPct: 0.000000\n",
      "[INFO][17:10:25][__main__]-62943: Liquidating 0x3f71c4780adb7167cc4a9c31b9abc145cb539b27: n1: -25, n2: -22, original health: 0.037669, debt: 179074.541845, lossPct: 4.199206\n",
      "[INFO][17:10:25][__main__]-62943: Liquidating 0x2cadfe3039f8e7d95cb142bd54e4a54ff3f5eef5: n1: -23, n2: -20, original health: 0.032990, debt: 11665.978733, lossPct: 0.000000\n",
      "[INFO][17:10:25][__main__]-62943: Liquidating 0x1ded90d853ce0de60450357d22ea5ca5c4411224: n1: -23, n2: -20, original health: 0.042874, debt: 16965.615267, lossPct: 43.997085\n",
      "[INFO][17:10:25][__main__]-62943: Liquidating 0x198459dbe4d59af296082e6d506633519e5dcd0b: n1: -24, n2: -21, original health: 0.043273, debt: 22624.374661, lossPct: 51.692376\n",
      "[INFO][17:10:25][__main__]-62943: Liquidating 0x101627601427770aed741f90dc160689d583f8fa: n1: -25, n2: -22, original health: 0.043028, debt: 17747.387645, lossPct: 12.752306\n",
      "[INFO][17:10:25][__main__]-62943: 3.47% of debt was incorrectly loaded with sub-zero health (1115343 crvUSD)\n"
     ]
    }
   ],
   "source": [
    "ts = scenario.price_oracle._block_timestamp + 60 * 60\n",
    "sample = 42371\n",
    "_p = int(sample * 10**18)\n",
    "scenario.price_oracle.set_price(_p)\n",
    "scenario._increment_timestamp(ts)\n",
    "scenario.llamma._price_oracle_w()\n",
    "\n",
    "to_liquidate = controller.users_to_liquidate()\n",
    "users_to_liquidate = [user.user for user in to_liquidate]\n",
    "logger.info(\"%d users were loaded underwater.\", len(to_liquidate))\n",
    "\n",
    "# Test that only a small portion of debt is liquidatable at start\n",
    "damage = 0\n",
    "for pos in to_liquidate:\n",
    "    damage += pos.debt\n",
    "    state = find_state(pos.user)\n",
    "    logger.info(\n",
    "        \"Liquidating %s: n1: %d, n2: %d, original health: %f, debt: %f, lossPct: %f\",\n",
    "        pos.user,\n",
    "        int(state[\"n1\"]),\n",
    "        int(state[\"n2\"]),\n",
    "        float(state[\"health\"]),\n",
    "        float(state[\"debt\"]),\n",
    "        float(state[\"lossPct\"]),\n",
    "    )\n",
    "logger.info(\n",
    "    \"%.2f%% of debt was incorrectly loaded with sub-zero health (%d crvUSD)\",\n",
    "    round(damage / controller.total_debt() * 100, 2),\n",
    "    damage / 1e18,\n",
    ")"
   ]
  },
  {
   "cell_type": "code",
   "execution_count": 15,
   "metadata": {},
   "outputs": [
    {
     "data": {
      "text/plain": [
       "42374.61575764005"
      ]
     },
     "execution_count": 15,
     "metadata": {},
     "output_type": "execute_result"
    }
   ],
   "source": [
    "llamma.price_oracle() / 1e18"
   ]
  },
  {
   "cell_type": "code",
   "execution_count": 9,
   "metadata": {},
   "outputs": [
    {
     "data": {
      "text/plain": [
       "[[0, 0, 0, 0], [23143122, 12388167, 12339377, 11703288]]"
      ]
     },
     "execution_count": 9,
     "metadata": {},
     "output_type": "execute_result"
    }
   ],
   "source": [
    "suspect = \"0x84f8f8dcdcd68afc6659b54454b428721e95df2e\"\n",
    "llamma.get_xy(suspect)"
   ]
  },
  {
   "cell_type": "code",
   "execution_count": 19,
   "metadata": {},
   "outputs": [
    {
     "data": {
      "text/plain": [
       "10.600326074308244"
      ]
     },
     "execution_count": 19,
     "metadata": {},
     "output_type": "execute_result"
    }
   ],
   "source": [
    "llamma.bands_y[-28] / 1e18"
   ]
  },
  {
   "cell_type": "code",
   "execution_count": 9,
   "metadata": {},
   "outputs": [
    {
     "data": {
      "text/plain": [
       "39191.27588540292"
      ]
     },
     "execution_count": 9,
     "metadata": {},
     "output_type": "execute_result"
    }
   ],
   "source": [
    "llamma.get_p() / 1e18"
   ]
  },
  {
   "cell_type": "code",
   "execution_count": 10,
   "metadata": {},
   "outputs": [
    {
     "name": "stderr",
     "output_type": "stream",
     "text": [
      "[INFO][16:25:48][src.sim.scenario]-61933: Equilibrated prices with 4 arbitrages with total profit 91159\n",
      "[WARNING][16:25:48][src.sim.scenario]-61933: 22 users were loaded underwater.\n",
      "[INFO][16:25:48][src.sim.scenario]-61933: Liquidating 0xec263efe3df2b0a5148df59b2551cf46ce8c763e: with debt 125998166012188247746558.\n",
      "[INFO][16:25:48][src.sim.scenario]-61933: Liquidating 0xe3cf28f4c11b6ef4313e7c23df526f75bab0bc64: with debt 25286610225724004201114.\n",
      "[INFO][16:25:48][src.sim.scenario]-61933: Liquidating 0xce1a34fccb14d13f8f6b6dcb0f3df2d140618c16: with debt 120698969824681607785994.\n",
      "[INFO][16:25:48][src.sim.scenario]-61933: Liquidating 0xbb482f13749eccabdaa3f923e133c9abcbbdfab3: with debt 34819026542240597071858.\n",
      "[INFO][16:25:48][src.sim.scenario]-61933: Liquidating 0xae5c67ceb16b4851f169ec1c65f405d7e6308b90: with debt 300558595163070908617553.\n",
      "[INFO][16:25:48][src.sim.scenario]-61933: Liquidating 0xa05fe74fb4fbb6c0dfb213c8af532286f473e0c4: with debt 34884171266382455395327.\n",
      "[INFO][16:25:48][src.sim.scenario]-61933: Liquidating 0x9b193f070757bb02cde3c1a8dad16994877796b2: with debt 92957467357507434134335.\n",
      "[INFO][16:25:48][src.sim.scenario]-61933: Liquidating 0x8ebed85c2969f37d0c2f102fa5f54e9408bef894: with debt 88705431247961839542629.\n",
      "[INFO][16:25:48][src.sim.scenario]-61933: Liquidating 0x84f8f8dcdcd68afc6659b54454b428721e95df2e: with debt 25405782699473948624144.\n",
      "[INFO][16:25:48][src.sim.scenario]-61933: Liquidating 0x7e5fefc8df089ab6feda974355b72e7dffe4903d: with debt 53274701383582974084870.\n",
      "[INFO][16:25:48][src.sim.scenario]-61933: Liquidating 0x6d85a91f060c8061035d62bc0146a607586b91ac: with debt 86803968112401922319001.\n",
      "[INFO][16:25:48][src.sim.scenario]-61933: Liquidating 0x653aed4503e3a3f060c744fe85dc780ce549d3c3: with debt 742704992411276920819859.\n",
      "[INFO][16:25:48][src.sim.scenario]-61933: Liquidating 0x5eae7cdc3a9f357b1ca1f4918db664a9e7cd5ff6: with debt 71223126208405725511990.\n",
      "[INFO][16:25:48][src.sim.scenario]-61933: Liquidating 0x459227ac5bf0595183b6d4225efd44f03bd7c9fa: with debt 143891499772225152171282.\n",
      "[INFO][16:25:48][src.sim.scenario]-61933: Liquidating 0x3f71c4780adb7167cc4a9c31b9abc145cb539b27: with debt 179074541845454897814861.\n",
      "[INFO][16:25:48][src.sim.scenario]-61933: Liquidating 0x2cadfe3039f8e7d95cb142bd54e4a54ff3f5eef5: with debt 11665978733180900568966.\n",
      "[INFO][16:25:48][src.sim.scenario]-61933: Liquidating 0x1ded90d853ce0de60450357d22ea5ca5c4411224: with debt 16965615266766714779738.\n",
      "[INFO][16:25:48][src.sim.scenario]-61933: Liquidating 0x198459dbe4d59af296082e6d506633519e5dcd0b: with debt 22624374660785113696008.\n",
      "[INFO][16:25:48][src.sim.scenario]-61933: Liquidating 0x16fa6b8fcc2d5f459600713cf961e349067a278c: with debt 163723972523505273796506.\n",
      "[INFO][16:25:48][src.sim.scenario]-61933: Liquidating 0x156b4a5d4240d4f4c9937f96ea5fc2d318f28d96: with debt 168375277064517640535300.\n",
      "[INFO][16:25:48][src.sim.scenario]-61933: Liquidating 0x101627601427770aed741f90dc160689d583f8fa: with debt 17747387644956745919026.\n",
      "[INFO][16:25:48][src.sim.scenario]-61933: Liquidating 0x00edcd653d9c6f0296557273027e4b2320e044d4: with debt 464646763777940513763188.\n",
      "[WARNING][16:25:48][src.sim.scenario]-61933: 9.30% of debt was incorrectly loaded with sub-zero health (2992036 crvUSD)\n"
     ]
    }
   ],
   "source": [
    "scenario.prepare_for_run()"
   ]
  },
  {
   "cell_type": "code",
   "execution_count": 21,
   "metadata": {},
   "outputs": [
    {
     "data": {
      "text/plain": [
       "42254.82875562195"
      ]
     },
     "execution_count": 21,
     "metadata": {},
     "output_type": "execute_result"
    }
   ],
   "source": [
    "llamma.p_oracle_up(-30) / 1e18"
   ]
  },
  {
   "cell_type": "code",
   "execution_count": 35,
   "metadata": {},
   "outputs": [
    {
     "data": {
      "text/plain": [
       "24.1472326147092"
      ]
     },
     "execution_count": 35,
     "metadata": {},
     "output_type": "execute_result"
    }
   ],
   "source": [
    "controller.health(\"0xec263efe3df2b0a5148df59b2551cf46ce8c763e\", full=True) / 1e18"
   ]
  },
  {
   "cell_type": "code",
   "execution_count": 33,
   "metadata": {},
   "outputs": [
    {
     "data": {
      "text/plain": [
       "42064902914593603452928"
      ]
     },
     "execution_count": 33,
     "metadata": {},
     "output_type": "execute_result"
    }
   ],
   "source": [
    "llamma.price_oracle()"
   ]
  },
  {
   "cell_type": "code",
   "execution_count": null,
   "metadata": {},
   "outputs": [],
   "source": []
  }
 ],
 "metadata": {
  "kernelspec": {
   "display_name": "venv",
   "language": "python",
   "name": "python3"
  },
  "language_info": {
   "codemirror_mode": {
    "name": "ipython",
    "version": 3
   },
   "file_extension": ".py",
   "mimetype": "text/x-python",
   "name": "python",
   "nbconvert_exporter": "python",
   "pygments_lexer": "ipython3",
   "version": "3.11.6"
  }
 },
 "nbformat": 4,
 "nbformat_minor": 2
}
