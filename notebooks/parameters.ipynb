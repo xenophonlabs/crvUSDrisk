{
 "cells": [
  {
   "cell_type": "code",
   "execution_count": 1,
   "metadata": {},
   "outputs": [],
   "source": [
    "from copy import deepcopy\n",
    "import pandas as pd\n",
    "from src.sim.scenario import Scenario\n",
    "from src.configs import MODELLED_MARKETS\n",
    "\n",
    "pd.set_option(\"display.max_columns\", None)\n",
    "pd.set_option(\"display.max_rows\", None)\n",
    "\n",
    "%load_ext autoreload\n",
    "%autoreload 2"
   ]
  },
  {
   "cell_type": "code",
   "execution_count": 2,
   "metadata": {},
   "outputs": [
    {
     "name": "stderr",
     "output_type": "stream",
     "text": [
      "[INFO][18:58:15][src.sim.scenario]-57094: Fetching wbtc market from subgraph\n",
      "[INFO][18:58:18][src.sim.scenario]-57094: Market snapshot as 2024-01-17 18:00:11\n",
      "[INFO][18:58:18][src.sim.scenario]-57094: Bands snapshot as 2024-01-16 19:52:35\n",
      "[INFO][18:58:18][src.sim.scenario]-57094: Users snapshot as 2024-01-17 15:43:35\n",
      "[INFO][18:58:18][src.sim.scenario]-57094: Fetching weth market from subgraph\n",
      "[INFO][18:58:20][src.sim.scenario]-57094: Market snapshot as 2024-01-17 18:00:11\n",
      "[INFO][18:58:20][src.sim.scenario]-57094: Bands snapshot as 2024-01-16 19:52:35\n",
      "[INFO][18:58:20][src.sim.scenario]-57094: Users snapshot as 2024-01-17 15:43:35\n",
      "[INFO][18:58:20][src.sim.scenario]-57094: Fetching sfrxeth market from subgraph\n",
      "[INFO][18:58:23][src.sim.scenario]-57094: Market snapshot as 2024-01-17 18:00:11\n",
      "[INFO][18:58:23][src.sim.scenario]-57094: Bands snapshot as 2024-01-16 19:52:35\n",
      "[INFO][18:58:23][src.sim.scenario]-57094: Users snapshot as 2024-01-17 15:43:35\n",
      "[INFO][18:58:23][src.sim.scenario]-57094: Fetching wsteth market from subgraph\n",
      "[INFO][18:58:26][src.sim.scenario]-57094: Market snapshot as 2024-01-17 18:00:11\n",
      "[INFO][18:58:26][src.sim.scenario]-57094: Bands snapshot as 2024-01-16 19:52:35\n",
      "[INFO][18:58:26][src.sim.scenario]-57094: Users snapshot as 2024-01-17 15:43:35\n",
      "[INFO][18:58:50][src.sim.scenario]-57094: Using 687680 1Inch quotes from 2023-11-19 19:00:00 to 2023-12-19 19:00:00\n",
      "[INFO][18:58:50][src.utils.poolgraph]-57094: Found 56 valid trading cycles of length 3.\n"
     ]
    }
   ],
   "source": [
    "scenario_ = Scenario(\"baseline\", MODELLED_MARKETS)"
   ]
  },
  {
   "cell_type": "code",
   "execution_count": 3,
   "metadata": {},
   "outputs": [],
   "source": [
    "scenario = deepcopy(scenario_)"
   ]
  },
  {
   "cell_type": "code",
   "execution_count": 4,
   "metadata": {},
   "outputs": [
    {
     "name": "stdout",
     "output_type": "stream",
     "text": [
      "Curve.fi Stablecoin WBTC Debt Ceiling: 200,000,000\n",
      "Curve.fi Stablecoin WBTC Balance: 172,554,605\n",
      "Curve.fi Stablecoin WBTC Debt: 27,445,395\n",
      "Curve.fi Stablecoin WETH Debt Ceiling: 200,000,000\n",
      "Curve.fi Stablecoin WETH Balance: 181,731,813\n",
      "Curve.fi Stablecoin WETH Debt: 18,268,187\n",
      "Curve.fi Stablecoin sfrxETH Debt Ceiling: 50,000,000\n",
      "Curve.fi Stablecoin sfrxETH Balance: 40,386,514\n",
      "Curve.fi Stablecoin sfrxETH Debt: 9,613,486\n",
      "Curve.fi Stablecoin wstETH Debt Ceiling: 150,000,000\n",
      "Curve.fi Stablecoin wstETH Balance: 116,464,895\n",
      "Curve.fi Stablecoin wstETH Debt: 33,535,105\n"
     ]
    }
   ],
   "source": [
    "for controller in scenario.controllers:\n",
    "    print(\n",
    "        f\"{controller.AMM.name} Debt Ceiling: {(scenario.factory.debt_ceiling[controller.address] / 1e18):,.0f}\"\n",
    "    )\n",
    "    print(\n",
    "        f\"{controller.AMM.name} Balance: {(scenario.stablecoin.balanceOf[controller.address] / 1e18):,.0f}\"\n",
    "    )\n",
    "    print(f\"{controller.AMM.name} Debt: {(controller.total_debt() / 1e18):,.0f}\")"
   ]
  },
  {
   "cell_type": "code",
   "execution_count": 10,
   "metadata": {},
   "outputs": [
    {
     "name": "stdout",
     "output_type": "stream",
     "text": [
      "0.5\n",
      "0.125\n",
      "0.275\n",
      "0.3\n"
     ]
    }
   ],
   "source": [
    "print(75_000_000 / 150_000_000)\n",
    "print(25_000_000 / 200_000_000)\n",
    "print(55_000_000 / 200_000_000)\n",
    "print(15_000_000 / 50_000_000)"
   ]
  },
  {
   "cell_type": "code",
   "execution_count": 5,
   "metadata": {},
   "outputs": [],
   "source": [
    "# Total is 600M\n",
    "# Historically has been around 50 - 150M, which is 10 - 25% of the ceiling"
   ]
  },
  {
   "cell_type": "code",
   "execution_count": 6,
   "metadata": {},
   "outputs": [
    {
     "data": {
      "text/plain": [
       "defaultdict(int,\n",
       "            {'0xe0438eb3703bf871e31ce639bd351109c88666ea': 942177382485922473312256,\n",
       "             '0x34d655069f4cac1547e4c8ca284ffff5ad4a8db0': 210315854139602020872625,\n",
       "             '0xca978a0528116dda3cba9acd3e68bc6191ca53d0': 1660965740549323783729841,\n",
       "             '0x4dece678ceceb27446b35c672dc7d61f30bad69e': 14414404587901319005533571,\n",
       "             '0x390f3595bca2df7d23783dfd126427cceb997bf4': 11909010170102527529024337,\n",
       "             '0x1ef89ed0edd93d1ec09e4c07373f69c49f4dccae': 5000000000000000000000000,\n",
       "             '0x6b765d07cf966c745b340adca67749fe75b5c345': 25000000000000000000000000,\n",
       "             '0xaa346781ddd7009caa644a4980f044c50cd2ae22': 25000000000000000000000000,\n",
       "             '0xe7cd2b4eb1d98cd6a4a48b6071d46401ac7dc5c8': 25000000000000000000000000,\n",
       "             '0x4e59541306910ad6dc1dac0ac9dfb29bd9f15c67': 172554605495736594669104511,\n",
       "             '0x1681195c176239ac5e72d9aebacf5b2492e0c4ee': 55844373649751099310080,\n",
       "             '0xa920de414ea4ab66b97da1bfe9e6eca7d4219635': 181731812504979324684825540,\n",
       "             '0xfa96ad0a9e64261db86950e2da362f5572c5c6fd': 160443490207007047680,\n",
       "             '0xec0820efafc41d8943ee8de495fc9ba8495b15cf': 40386514495873032764746692,\n",
       "             '0x37417b2238aa52d0dd2d6252d989e728e8f706e4': 19440293663463304069120,\n",
       "             '0x100daa78fc509db39ef7d04de0c1abd299f4c6ce': 116464894657865840992835488})"
      ]
     },
     "execution_count": 6,
     "metadata": {},
     "output_type": "execute_result"
    }
   ],
   "source": [
    "scenario.stablecoin.balanceOf"
   ]
  },
  {
   "cell_type": "code",
   "execution_count": 7,
   "metadata": {},
   "outputs": [
    {
     "ename": "SyntaxError",
     "evalue": "illegal target for annotation (1550379188.py, line 3)",
     "output_type": "error",
     "traceback": [
      "\u001b[0;36m  Cell \u001b[0;32mIn[7], line 3\u001b[0;36m\u001b[0m\n\u001b[0;31m    \"wsteth\": 500_000_000\u001b[0m\n\u001b[0m    ^\u001b[0m\n\u001b[0;31mSyntaxError\u001b[0m\u001b[0;31m:\u001b[0m illegal target for annotation\n"
     ]
    }
   ],
   "source": [
    "# The SEVERE Growth scenario considers debts of:\n",
    "\n",
    "\"wsteth\": 500_000_000\n",
    "\"weth\": 150_000_000\n",
    "\"wbtc\": 400_000_000\n",
    "\"sfrxeth\": 100_000_000"
   ]
  }
 ],
 "metadata": {
  "kernelspec": {
   "display_name": "venv",
   "language": "python",
   "name": "python3"
  },
  "language_info": {
   "codemirror_mode": {
    "name": "ipython",
    "version": 3
   },
   "file_extension": ".py",
   "mimetype": "text/x-python",
   "name": "python",
   "nbconvert_exporter": "python",
   "pygments_lexer": "ipython3",
   "version": "3.11.6"
  }
 },
 "nbformat": 4,
 "nbformat_minor": 2
}
