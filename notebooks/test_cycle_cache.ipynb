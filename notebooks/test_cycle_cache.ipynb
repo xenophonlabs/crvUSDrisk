{
 "cells": [
  {
   "cell_type": "markdown",
   "metadata": {},
   "source": [
    "# Testing our LRU Cache for Arbitrage Optimization\n",
    "\n",
    "The biggest bottleneck in our code is finding the optimal arbitrage for our trades. One way we have optimized this is by implementing an LRU cache on the `cycle.optimize()` method. Here, we test that it works."
   ]
  },
  {
   "cell_type": "code",
   "execution_count": 1,
   "metadata": {},
   "outputs": [],
   "source": [
    "import time\n",
    "from src.sim.scenario import Scenario\n",
    "from src.trades.cycle import _optimize_mem"
   ]
  },
  {
   "cell_type": "code",
   "execution_count": 2,
   "metadata": {},
   "outputs": [
    {
     "name": "stderr",
     "output_type": "stream",
     "text": [
      "[INFO][01:05:48][src.sim.scenario]-890948: Using 658080 1Inch quotes.\n",
      "[INFO][01:05:48][src.sim.scenario]-890948: Fetching sim_market from subgraph.\n",
      "[INFO][01:05:51][src.utils.poolgraph]-890948: Found 20 valid cycles of length 3.\n"
     ]
    }
   ],
   "source": [
    "# Generate markets and prices\n",
    "scenario = Scenario(\"baseline\")\n",
    "sample = scenario.pricepaths[0]\n",
    "scenario.prepare_for_run()  # Set block timestamps\n",
    "scenario.prepare_for_trades(sample)  # Set External Market Price"
   ]
  },
  {
   "cell_type": "code",
   "execution_count": 3,
   "metadata": {},
   "outputs": [],
   "source": [
    "# Unpack\n",
    "cycles = scenario.cycles\n",
    "cycle = cycles[0]\n",
    "trade = cycle.trades[0]\n",
    "decimals = trade.pool.coin_decimals[trade.i]\n",
    "address = trade.pool.coin_addresses[trade.i].lower()\n",
    "\n",
    "# Set xatol\n",
    "xatol = int(10**decimals / sample.prices_usd[address])"
   ]
  },
  {
   "cell_type": "code",
   "execution_count": 4,
   "metadata": {},
   "outputs": [
    {
     "name": "stdout",
     "output_type": "stream",
     "text": [
      "Before caching: 0.0062906742095947266\n",
      "After caching: 6.556510925292969e-05\n"
     ]
    },
    {
     "data": {
      "text/plain": [
       "CacheInfo(hits=1, misses=1, maxsize=1000, currsize=1)"
      ]
     },
     "execution_count": 4,
     "metadata": {},
     "output_type": "execute_result"
    }
   ],
   "source": [
    "# Check single cycle caching\n",
    "start = time.time()\n",
    "cycle.optimize(xatol)\n",
    "end = time.time()\n",
    "print(f\"Before caching: {end - start}\")\n",
    "start = time.time()\n",
    "cycle.optimize(xatol)\n",
    "end = time.time()\n",
    "print(f\"After caching: {end - start}\")\n",
    "_optimize_mem.cache_info()  # Ensure there was one hit and one miss!"
   ]
  },
  {
   "cell_type": "code",
   "execution_count": 5,
   "metadata": {},
   "outputs": [
    {
     "name": "stderr",
     "output_type": "stream",
     "text": [
      "[INFO][01:05:51][src.trades.cycle]-890948: Executing cycle Cycle(Trades: [Swap(pool=Curve.fi Factory Plain Pool: crvUSD/TUSD, in=TUSD, out=crvUSD, amt=363672183276034688), Swap(pool=Curve.fi Factory Plain Pool: crvUSD/USDP, in=crvUSD, out=USDP, amt=364486001351475391), Swap(pool=External Market (TUSD, USDP), in=Pax Dollar, out=TrueUSD, amt=362907044194404510)], Expected Profit: -0.000280738285457792).\n",
      "[INFO][01:05:51][src.trades.cycle]-890948: Executing trade Swap(pool=Curve.fi Factory Plain Pool: crvUSD/TUSD, in=TUSD, out=crvUSD, amt=363672183276034688).\n",
      "[INFO][01:05:51][src.trades.cycle]-890948: Executing trade Swap(pool=Curve.fi Factory Plain Pool: crvUSD/USDP, in=crvUSD, out=USDP, amt=364486001351475391).\n",
      "[INFO][01:05:51][src.trades.cycle]-890948: Executing trade Swap(pool=External Market (TUSD, USDP), in=Pax Dollar, out=TrueUSD, amt=362907044194404510).\n"
     ]
    },
    {
     "data": {
      "text/plain": [
       "CacheInfo(hits=1, misses=2, maxsize=1000, currsize=2)"
      ]
     },
     "execution_count": 5,
     "metadata": {},
     "output_type": "execute_result"
    }
   ],
   "source": [
    "cycle.execute()\n",
    "cycle.optimize(xatol)\n",
    "_optimize_mem.cache_info()  # Ensure the cache wasn't hit this time"
   ]
  },
  {
   "cell_type": "code",
   "execution_count": 6,
   "metadata": {},
   "outputs": [
    {
     "data": {
      "text/plain": [
       "CacheInfo(hits=2, misses=2, maxsize=1000, currsize=2)"
      ]
     },
     "execution_count": 6,
     "metadata": {},
     "output_type": "execute_result"
    }
   ],
   "source": [
    "cycle.optimize(xatol)\n",
    "_optimize_mem.cache_info()  # Ensure the cache was hit this time"
   ]
  },
  {
   "cell_type": "code",
   "execution_count": 7,
   "metadata": {},
   "outputs": [
    {
     "data": {
      "text/plain": [
       "CacheInfo(hits=2, misses=3, maxsize=1000, currsize=3)"
      ]
     },
     "execution_count": 7,
     "metadata": {},
     "output_type": "execute_result"
    }
   ],
   "source": [
    "sample = scenario.pricepaths[1]\n",
    "xatol = int(10**decimals / sample.prices_usd[address])\n",
    "scenario.prepare_for_trades(sample)  # Update External Market Price\n",
    "cycle.optimize(xatol)\n",
    "_optimize_mem.cache_info()  # Ensure the cache wasn't hit this time because prices changed"
   ]
  },
  {
   "cell_type": "code",
   "execution_count": 8,
   "metadata": {},
   "outputs": [],
   "source": [
    "# Nice!"
   ]
  }
 ],
 "metadata": {
  "kernelspec": {
   "display_name": "venv",
   "language": "python",
   "name": "python3"
  },
  "language_info": {
   "codemirror_mode": {
    "name": "ipython",
    "version": 3
   },
   "file_extension": ".py",
   "mimetype": "text/x-python",
   "name": "python",
   "nbconvert_exporter": "python",
   "pygments_lexer": "ipython3",
   "version": "3.11.3"
  }
 },
 "nbformat": 4,
 "nbformat_minor": 2
}
