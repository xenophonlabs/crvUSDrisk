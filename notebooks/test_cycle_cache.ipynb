{
 "cells": [
  {
   "cell_type": "markdown",
   "metadata": {},
   "source": [
    "# Testing our LRU Cache for Arbitrage Optimization\n",
    "\n",
    "The biggest bottleneck in our code is finding the optimal arbitrage for our trades. One way we have optimized this is by implementing an LRU cache on the `cycle.optimize()` method. Here, we test that it works."
   ]
  },
  {
   "cell_type": "code",
   "execution_count": 1,
   "metadata": {},
   "outputs": [],
   "source": [
    "import time\n",
    "from src.sim.scenario import Scenario\n",
    "from src.trades.cycle import _optimize_mem"
   ]
  },
  {
   "cell_type": "code",
   "execution_count": 2,
   "metadata": {},
   "outputs": [
    {
     "name": "stderr",
     "output_type": "stream",
     "text": [
      "[INFO][22:33:54][src.sim.scenario]-833863: Fetching sim_market from subgraph.\n",
      "[INFO][22:33:56][src.utils.poolgraph]-833863: Found 20 valid cycles of length 3.\n"
     ]
    }
   ],
   "source": [
    "# Generate markets and prices\n",
    "scenario = Scenario(\"baseline\")\n",
    "sample = scenario.pricepaths[0]\n",
    "scenario.prepare_for_run()  # Set block timestamps\n",
    "scenario.prepare_for_trades(sample)  # Set External Market Price"
   ]
  },
  {
   "cell_type": "code",
   "execution_count": 3,
   "metadata": {},
   "outputs": [
    {
     "data": {
      "text/plain": [
       "Cycle(Trades: [Swap(pool=Curve.fi Factory Plain Pool: crvUSD/TUSD, in=TUSD, out=crvUSD, amt=0), Swap(pool=Curve.fi Factory Plain Pool: crvUSD/USDP, in=crvUSD, out=USDP, amt=0), Swap(pool=External Market (TUSD, USDP), in=Pax Dollar, out=TrueUSD, amt=0)], Expected Profit: None)"
      ]
     },
     "execution_count": 3,
     "metadata": {},
     "output_type": "execute_result"
    }
   ],
   "source": [
    "# Unpack\n",
    "cycles = scenario.cycles\n",
    "cycle = cycles[0]\n",
    "cycle"
   ]
  },
  {
   "cell_type": "code",
   "execution_count": 4,
   "metadata": {},
   "outputs": [
    {
     "name": "stdout",
     "output_type": "stream",
     "text": [
      "Before caching: 0.048227548599243164\n",
      "After caching: 7.176399230957031e-05\n"
     ]
    },
    {
     "data": {
      "text/plain": [
       "CacheInfo(hits=1, misses=1, maxsize=None, currsize=1)"
      ]
     },
     "execution_count": 4,
     "metadata": {},
     "output_type": "execute_result"
    }
   ],
   "source": [
    "# Check single cycle caching\n",
    "start = time.time()\n",
    "cycle.optimize()\n",
    "end = time.time()\n",
    "print(f\"Before caching: {end - start}\")\n",
    "start = time.time()\n",
    "cycle.optimize()\n",
    "end = time.time()\n",
    "print(f\"After caching: {end - start}\")\n",
    "_optimize_mem.cache_info()  # Ensure there was one hit and one miss!"
   ]
  },
  {
   "cell_type": "code",
   "execution_count": 5,
   "metadata": {},
   "outputs": [
    {
     "name": "stderr",
     "output_type": "stream",
     "text": [
      "[INFO][22:33:57][src.trades.cycle]-833863: Executing cycle Cycle(Trades: [Swap(pool=Curve.fi Factory Plain Pool: crvUSD/TUSD, in=TUSD, out=crvUSD, amt=789), Swap(pool=Curve.fi Factory Plain Pool: crvUSD/USDP, in=crvUSD, out=USDP, amt=791), Swap(pool=External Market (TUSD, USDP), in=Pax Dollar, out=TrueUSD, amt=787)], Expected Profit: -1e-18).\n",
      "[INFO][22:33:57][src.trades.cycle]-833863: Executing trade Swap(pool=Curve.fi Factory Plain Pool: crvUSD/TUSD, in=TUSD, out=crvUSD, amt=789).\n",
      "[INFO][22:33:57][src.trades.cycle]-833863: Executing trade Swap(pool=Curve.fi Factory Plain Pool: crvUSD/USDP, in=crvUSD, out=USDP, amt=791).\n",
      "[INFO][22:33:57][src.trades.cycle]-833863: Executing trade Swap(pool=External Market (TUSD, USDP), in=Pax Dollar, out=TrueUSD, amt=787).\n"
     ]
    },
    {
     "data": {
      "text/plain": [
       "CacheInfo(hits=1, misses=2, maxsize=None, currsize=2)"
      ]
     },
     "execution_count": 5,
     "metadata": {},
     "output_type": "execute_result"
    }
   ],
   "source": [
    "cycle.execute()\n",
    "cycle.optimize()\n",
    "_optimize_mem.cache_info()  # Ensure the cache wasn't hit this time"
   ]
  },
  {
   "cell_type": "code",
   "execution_count": 6,
   "metadata": {},
   "outputs": [
    {
     "data": {
      "text/plain": [
       "CacheInfo(hits=2, misses=2, maxsize=None, currsize=2)"
      ]
     },
     "execution_count": 6,
     "metadata": {},
     "output_type": "execute_result"
    }
   ],
   "source": [
    "cycle.optimize()\n",
    "_optimize_mem.cache_info()  # Ensure the cache was hit this time"
   ]
  },
  {
   "cell_type": "code",
   "execution_count": 7,
   "metadata": {},
   "outputs": [
    {
     "data": {
      "text/plain": [
       "CacheInfo(hits=2, misses=3, maxsize=None, currsize=3)"
      ]
     },
     "execution_count": 7,
     "metadata": {},
     "output_type": "execute_result"
    }
   ],
   "source": [
    "sample = scenario.pricepaths[1]\n",
    "scenario.prepare_for_trades(sample)  # Update External Market Price\n",
    "cycle.optimize()\n",
    "_optimize_mem.cache_info()  # Ensure the cache wasn't hit this time because prices changed"
   ]
  },
  {
   "cell_type": "code",
   "execution_count": 8,
   "metadata": {},
   "outputs": [],
   "source": [
    "# Nice!"
   ]
  }
 ],
 "metadata": {
  "kernelspec": {
   "display_name": "venv",
   "language": "python",
   "name": "python3"
  },
  "language_info": {
   "codemirror_mode": {
    "name": "ipython",
    "version": 3
   },
   "file_extension": ".py",
   "mimetype": "text/x-python",
   "name": "python",
   "nbconvert_exporter": "python",
   "pygments_lexer": "ipython3",
   "version": "3.11.3"
  }
 },
 "nbformat": 4,
 "nbformat_minor": 2
}
