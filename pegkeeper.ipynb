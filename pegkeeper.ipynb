{
 "cells": [
  {
   "attachments": {},
   "cell_type": "markdown",
   "metadata": {},
   "source": [
    "# Peg Keeper Death Spiral Simulation\n",
    "\n",
    "Here we create a Peg Keeper object for each existing Peg Keeper, and hook it on to an existing StableSwap pool using Curvesim. Then we simulate agents acting against these Peg Keepers and pools based on some input market prices.\n",
    "\n",
    "The specific input we are studying in this notebook is if the market price for one of the four peg keeper tokens depegs."
   ]
  },
  {
   "cell_type": "code",
   "execution_count": 6,
   "metadata": {},
   "outputs": [],
   "source": [
    "from curvesim.pool import get_pool\n",
    "from src.modules.pegkeeperv1 import PegKeeperV1"
   ]
  },
  {
   "cell_type": "code",
   "execution_count": 2,
   "metadata": {},
   "outputs": [
    {
     "data": {
      "text/plain": [
       "{'metadata': {'name': 'Curve.fi Factory Plain Pool: crvUSD/USDC',\n",
       "  'address': '0x4DEcE678ceceb27446b35C672dC7d61F30bAD69E',\n",
       "  'chain': 'mainnet',\n",
       "  'symbol': 'crvUSDUSDC-f',\n",
       "  'version': 1,\n",
       "  'pool_type': 'CRVUSD',\n",
       "  'params': {'A': 500,\n",
       "   'fee': 1000000,\n",
       "   'fee_mul': None,\n",
       "   'admin_fee': 5000000000},\n",
       "  'coins': {'names': ['USDC', 'crvUSD'],\n",
       "   'addresses': ['0xA0b86991c6218b36c1d19D4a2e9Eb0cE3606eB48',\n",
       "    '0xf939E0A03FB07F59A73314E73794Be0E57ac1b4E'],\n",
       "   'decimals': [6, 18]},\n",
       "  'reserves': {'D': 29745177286209197397379416,\n",
       "   'by_coin': [15388693725004000000000000, 14356483632858649181641937],\n",
       "   'unnormalized_by_coin': [15388693725004, 14356483632858649181641937],\n",
       "   'virtual_price': 1004239646419754724,\n",
       "   'tokens': 29619600652348901688912690},\n",
       "  'basepool': None,\n",
       "  'timestamp': 1697760000}}"
      ]
     },
     "execution_count": 2,
     "metadata": {},
     "output_type": "execute_result"
    }
   ],
   "source": [
    "pool_metadata = \"0x4DEcE678ceceb27446b35C672dC7d61F30bAD69E\" # USDC/crvUSD\n",
    "pool = get_pool(pool_metadata) # TODO specify end_ts\n",
    "pool.__dict__"
   ]
  },
  {
   "cell_type": "code",
   "execution_count": null,
   "metadata": {},
   "outputs": [],
   "source": []
  }
 ],
 "metadata": {
  "kernelspec": {
   "display_name": "Python 3",
   "language": "python",
   "name": "python3"
  },
  "language_info": {
   "codemirror_mode": {
    "name": "ipython",
    "version": 3
   },
   "file_extension": ".py",
   "mimetype": "text/x-python",
   "name": "python",
   "nbconvert_exporter": "python",
   "pygments_lexer": "ipython3",
   "version": "3.11.5"
  },
  "orig_nbformat": 4
 },
 "nbformat": 4,
 "nbformat_minor": 2
}
