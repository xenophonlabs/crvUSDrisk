{
 "cells": [
  {
   "attachments": {},
   "cell_type": "markdown",
   "metadata": {},
   "source": [
    "# Peg Keeper Death Spiral Simulation\n",
    "\n",
    "Here we create a Peg Keeper object for each existing Peg Keeper, and hook it on to an existing StableSwap pool using Curvesim. Then we simulate agents acting against these Peg Keepers and pools based on some input market prices.\n",
    "\n",
    "The specific input we are studying in this notebook is if the market price for one of the four peg keeper tokens depegs."
   ]
  },
  {
   "cell_type": "code",
   "execution_count": 1,
   "metadata": {},
   "outputs": [],
   "source": [
    "%load_ext autoreload\n",
    "%autoreload 2"
   ]
  },
  {
   "cell_type": "code",
   "execution_count": 2,
   "metadata": {},
   "outputs": [],
   "source": [
    "from curvesim.pool import get_pool\n",
    "from src.modules.pegkeeperv1 import PegKeeperV1\n",
    "from src.modules.aggregator import AggregateStablePrice"
   ]
  },
  {
   "cell_type": "code",
   "execution_count": 3,
   "metadata": {},
   "outputs": [],
   "source": [
    "USDC_POOL = \"0x4DEcE678ceceb27446b35C672dC7d61F30bAD69E\"\n",
    "USDT_POOL = \"0x390f3595bca2df7d23783dfd126427cceb997bf4\"\n",
    "USDP_POOL = \"0xca978a0528116dda3cba9acd3e68bc6191ca53d0\"\n",
    "TUSD_POOL = \"0x34d655069f4cac1547e4c8ca284ffff5ad4a8db0\"\n",
    "\n",
    "# Aggregator Params\n",
    "SIGMA = 0.001\n",
    "\n",
    "# PegKeeper Params\n",
    "CALLER_SHARE = 0.2\n",
    "CEILING = 25_000_000 # For USDC/USDT"
   ]
  },
  {
   "cell_type": "code",
   "execution_count": 4,
   "metadata": {},
   "outputs": [],
   "source": [
    "pools = {address:get_pool(address) for address in [USDC_POOL, USDT_POOL, USDP_POOL, TUSD_POOL]}\n",
    "agg = AggregateStablePrice(pools.values(), SIGMA)"
   ]
  },
  {
   "attachments": {},
   "cell_type": "markdown",
   "metadata": {},
   "source": [
    "## Drilling into USDC Peg Keeper"
   ]
  },
  {
   "cell_type": "code",
   "execution_count": 5,
   "metadata": {},
   "outputs": [],
   "source": [
    "pk = PegKeeperV1(pools[USDC_POOL], agg, CALLER_SHARE, CEILING)"
   ]
  },
  {
   "cell_type": "code",
   "execution_count": 6,
   "metadata": {},
   "outputs": [
    {
     "data": {
      "text/plain": [
       "(15870994.85236529, 12374530.328004)"
      ]
     },
     "execution_count": 6,
     "metadata": {},
     "output_type": "execute_result"
    }
   ],
   "source": [
    "import time\n",
    "pools[USDC_POOL].balances\n",
    "balance_pegged = pk.pool.balances[pk.I] / pk.precisions[pk.I]\n",
    "balance_peg = pk.pool.balances[1 - pk.I] / pk.precisions[1 - pk.I]\n",
    "balance_pegged, balance_peg"
   ]
  },
  {
   "cell_type": "code",
   "execution_count": 28,
   "metadata": {},
   "outputs": [
    {
     "data": {
      "text/plain": [
       "True"
      ]
     },
     "execution_count": 28,
     "metadata": {},
     "output_type": "execute_result"
    }
   ],
   "source": [
    "pk.update_allowed(balance_peg, balance_pegged, int(time.time()))"
   ]
  },
  {
   "cell_type": "code",
   "execution_count": 69,
   "metadata": {},
   "outputs": [
    {
     "data": {
      "text/plain": [
       "4.501042205617978e-10"
      ]
     },
     "execution_count": 69,
     "metadata": {},
     "output_type": "execute_result"
    }
   ],
   "source": [
    "pk.estimate_caller_profit(int(time.time()))"
   ]
  },
  {
   "cell_type": "code",
   "execution_count": 50,
   "metadata": {},
   "outputs": [
    {
     "data": {
      "text/plain": [
       "2.250521129e-09"
      ]
     },
     "execution_count": 50,
     "metadata": {},
     "output_type": "execute_result"
    }
   ],
   "source": [
    "pk.pool.calc_token_amount([0, 0])"
   ]
  },
  {
   "cell_type": "code",
   "execution_count": 41,
   "metadata": {},
   "outputs": [
    {
     "data": {
      "text/plain": [
       "-699292.9048722581"
      ]
     },
     "execution_count": 41,
     "metadata": {},
     "output_type": "execute_result"
    }
   ],
   "source": [
    "pk.calc_change(balance_peg, balance_pegged)"
   ]
  },
  {
   "cell_type": "code",
   "execution_count": 70,
   "metadata": {},
   "outputs": [
    {
     "data": {
      "text/plain": [
       "0.9993217014262806"
      ]
     },
     "execution_count": 70,
     "metadata": {},
     "output_type": "execute_result"
    }
   ],
   "source": [
    "agg.price()"
   ]
  },
  {
   "attachments": {},
   "cell_type": "markdown",
   "metadata": {},
   "source": [
    "Goal: Implement a function that determines the profit from moving pool price to some target price, then use scipy's optimize to find the most profitable trade. This should account for external market slippage.\n",
    "\n",
    "Would be cool to then incorporate this into `curvesim` as a `LiquidityLimitedArbitrage`! However, this would likely result in a surprising amount of work, so let's keep things simple for now."
   ]
  },
  {
   "cell_type": "code",
   "execution_count": null,
   "metadata": {},
   "outputs": [],
   "source": [
    "from scipy.optimize import minimize_scalar, OptimizeResult\n",
    "\n",
    "\n",
    "def get_trade():\n",
    "    pass\n",
    "\n",
    "def profit():\n",
    "    \"\"\"\n",
    "    Calculate profit from trade. Accounts for external slippage\n",
    "    \"\"\"\n",
    "    trade = get_trade()\n",
    "    pass\n",
    "\n",
    "def search():\n",
    "    \"\"\"\n",
    "    Find the optimal liquidity-constrained arbitrage.\n",
    "    \"\"\"\n",
    "    p_min, p_max = 0 # FIXME\n",
    "    res = minimize_scalar(profit, bounds=(p_min, p_max), method='bounded') # TODO which bounds, method?\n",
    "    if res.success:\n",
    "        return res.x\n",
    "    else:\n",
    "        raise RuntimeError(res.message) # Could make a minimization failed error class"
   ]
  },
  {
   "cell_type": "code",
   "execution_count": null,
   "metadata": {},
   "outputs": [],
   "source": [
    "# TODO Create classes for metrics like in curvesim?\n",
    "# TODO Determine metrics for PK depeg (i.e., minted crvUSD, burned crvUSD, net unbacked crvUSD, PK profits, liquidity weighted price)\n",
    "# Definitely want to track p_agg throughout the run.\n",
    "# Currently assuming LPs don't pull liquidity"
   ]
  },
  {
   "cell_type": "code",
   "execution_count": null,
   "metadata": {},
   "outputs": [],
   "source": [
    "# Generate correlated prices using Cholesky decomposition\n",
    "\n",
    "# Generate reasonable liquidity curve f(x, sigma)\n",
    "\n",
    "# Loop through prices:\n",
    "\n",
    "    # Update oracle prices/aggregator\n",
    "\n",
    "    # Update external liquidity curve\n",
    "\n",
    "    # Check update\n",
    "\n",
    "    # Check arbitrage\n",
    "\n",
    "    # Update metrics"
   ]
  }
 ],
 "metadata": {
  "kernelspec": {
   "display_name": "Python 3",
   "language": "python",
   "name": "python3"
  },
  "language_info": {
   "codemirror_mode": {
    "name": "ipython",
    "version": 3
   },
   "file_extension": ".py",
   "mimetype": "text/x-python",
   "name": "python",
   "nbconvert_exporter": "python",
   "pygments_lexer": "ipython3",
   "version": "3.11.5"
  },
  "orig_nbformat": 4
 },
 "nbformat": 4,
 "nbformat_minor": 2
}
